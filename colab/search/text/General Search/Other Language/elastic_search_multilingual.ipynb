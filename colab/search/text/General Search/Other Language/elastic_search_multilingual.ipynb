{
  "nbformat": 4,
  "nbformat_minor": 0,
  "metadata": {
    "colab": {
      "provenance": [],
      "machine_shape": "hm",
      "collapsed_sections": [
        "uGRD8a9sKacB",
        "D_UJlmcgZNBc",
        "BxdUlWUkYBqk",
        "5rRwgqgbYNsF",
        "vFutAZJn0gvs"
      ]
    },
    "kernelspec": {
      "name": "python3",
      "display_name": "Python 3"
    },
    "language_info": {
      "name": "python"
    },
    "accelerator": "GPU",
    "gpuClass": "standard"
  },
  "cells": [
    {
      "cell_type": "markdown",
      "metadata": {
        "id": "uGRD8a9sKacB"
      },
      "source": [
        "# Setup and Load dataset\n",
        "\n"
      ]
    },
    {
      "cell_type": "code",
      "source": [
        "!pip install --upgrade --no-cache-dir gdown"
      ],
      "metadata": {
        "colab": {
          "base_uri": "https://localhost:8080/"
        },
        "id": "C1r8Sraf7rPj",
        "outputId": "f5c556c2-4dd8-4a66-c6e7-997d107b257d"
      },
      "execution_count": null,
      "outputs": [
        {
          "output_type": "stream",
          "name": "stdout",
          "text": [
            "Looking in indexes: https://pypi.org/simple, https://us-python.pkg.dev/colab-wheels/public/simple/\n",
            "Requirement already satisfied: gdown in /usr/local/lib/python3.8/dist-packages (4.4.0)\n",
            "Collecting gdown\n",
            "  Downloading gdown-4.6.4-py3-none-any.whl (14 kB)\n",
            "Requirement already satisfied: tqdm in /usr/local/lib/python3.8/dist-packages (from gdown) (4.64.1)\n",
            "Requirement already satisfied: filelock in /usr/local/lib/python3.8/dist-packages (from gdown) (3.9.0)\n",
            "Requirement already satisfied: beautifulsoup4 in /usr/local/lib/python3.8/dist-packages (from gdown) (4.6.3)\n",
            "Requirement already satisfied: requests[socks] in /usr/local/lib/python3.8/dist-packages (from gdown) (2.25.1)\n",
            "Requirement already satisfied: six in /usr/local/lib/python3.8/dist-packages (from gdown) (1.15.0)\n",
            "Requirement already satisfied: chardet<5,>=3.0.2 in /usr/local/lib/python3.8/dist-packages (from requests[socks]->gdown) (4.0.0)\n",
            "Requirement already satisfied: urllib3<1.27,>=1.21.1 in /usr/local/lib/python3.8/dist-packages (from requests[socks]->gdown) (1.24.3)\n",
            "Requirement already satisfied: certifi>=2017.4.17 in /usr/local/lib/python3.8/dist-packages (from requests[socks]->gdown) (2022.12.7)\n",
            "Requirement already satisfied: idna<3,>=2.5 in /usr/local/lib/python3.8/dist-packages (from requests[socks]->gdown) (2.10)\n",
            "Requirement already satisfied: PySocks!=1.5.7,>=1.5.6 in /usr/local/lib/python3.8/dist-packages (from requests[socks]->gdown) (1.7.1)\n",
            "Installing collected packages: gdown\n",
            "  Attempting uninstall: gdown\n",
            "    Found existing installation: gdown 4.4.0\n",
            "    Uninstalling gdown-4.4.0:\n",
            "      Successfully uninstalled gdown-4.4.0\n",
            "Successfully installed gdown-4.6.4\n"
          ]
        }
      ]
    },
    {
      "cell_type": "code",
      "source": [
        "!gdown --id 1EvuYBN9lIK8llpbUciP5jIOYgh0dpFHB"
      ],
      "metadata": {
        "id": "JN6L-XVUpDB3",
        "colab": {
          "base_uri": "https://localhost:8080/"
        },
        "outputId": "6507b784-805d-4029-dcc9-401904c1d23d"
      },
      "execution_count": null,
      "outputs": [
        {
          "output_type": "stream",
          "name": "stdout",
          "text": [
            "/usr/local/lib/python3.8/dist-packages/gdown/cli.py:121: FutureWarning: Option `--id` was deprecated in version 4.3.1 and will be removed in 5.0. You don't need to pass it anymore to use a file ID.\n",
            "  warnings.warn(\n",
            "Downloading...\n",
            "From: https://drive.google.com/uc?id=1EvuYBN9lIK8llpbUciP5jIOYgh0dpFHB\n",
            "To: /content/bengali.zip\n",
            "100% 13.5M/13.5M [00:00<00:00, 71.0MB/s]\n"
          ]
        }
      ]
    },
    {
      "cell_type": "code",
      "source": [
        "!unzip -o \"bengali.zip\"  -d  \"/content\""
      ],
      "metadata": {
        "id": "TtZEDi2_JS0Z",
        "colab": {
          "base_uri": "https://localhost:8080/"
        },
        "outputId": "3eaf018d-e28b-4831-a8f4-deb542f8282b"
      },
      "execution_count": null,
      "outputs": [
        {
          "output_type": "stream",
          "name": "stdout",
          "text": [
            "Archive:  bengali.zip\n",
            "  inflating: /content/train.csv      \n",
            "  inflating: /content/valid.csv      \n"
          ]
        }
      ]
    },
    {
      "cell_type": "markdown",
      "source": [
        "## Data Loading"
      ],
      "metadata": {
        "id": "HDz_Qe5KHFho"
      }
    },
    {
      "cell_type": "code",
      "execution_count": null,
      "metadata": {
        "id": "84eddad3"
      },
      "outputs": [],
      "source": [
        "from datetime import datetime\n",
        "import os\n",
        "import matplotlib\n",
        "import pandas as pd\n",
        "import numpy as np\n",
        "import matplotlib.pyplot as plt\n",
        "import seaborn as sns\n",
        "sns.set_style('whitegrid')\n",
        "\n",
        "from scipy import sparse\n",
        "from scipy.sparse import csc_matrix\n",
        "from sklearn.decomposition import TruncatedSVD\n",
        "\n",
        "np.random.seed(0)"
      ]
    },
    {
      "cell_type": "markdown",
      "source": [
        "#### Name of the file which contain all the item properties"
      ],
      "metadata": {
        "id": "lHG3Yw4EHJbO"
      }
    },
    {
      "cell_type": "code",
      "source": [
        "file=\"train.csv\""
      ],
      "metadata": {
        "id": "4zX5cx_NHQNv"
      },
      "execution_count": null,
      "outputs": []
    },
    {
      "cell_type": "markdown",
      "source": [
        "###### Run below cell"
      ],
      "metadata": {
        "id": "r2ef3FxJHYkQ"
      }
    },
    {
      "cell_type": "code",
      "execution_count": null,
      "metadata": {
        "id": "7e7fee79"
      },
      "outputs": [],
      "source": [
        "content_df  = pd.read_csv( file)"
      ]
    },
    {
      "cell_type": "code",
      "execution_count": null,
      "metadata": {
        "id": "af507f93",
        "colab": {
          "base_uri": "https://localhost:8080/"
        },
        "outputId": "ec8a5c5d-27cd-4b5a-b06c-33e21a4b6adf"
      },
      "outputs": [
        {
          "output_type": "execute_result",
          "data": {
            "text/plain": [
              "                                               title  \\\n",
              "0  এই অভিনেতার ‘প্রস্তাব’ মানলে ভারতীয় সিনেমার খো...   \n",
              "1      সচিন সাংসদ হয়েছেন, তাই চিন্তা কম জেটলির। কেন?   \n",
              "2  ক্রিকেটার থেকে গাইড! জাতীয় দলের ক্রিকেটারের অব...   \n",
              "3  দুষ্কৃতীদের নজরে এটিএম, হাল হকিকত্ ঘুরে দেখলেন...   \n",
              "4    সৌজন্যের বালাই নেই, দিনভর আকচা আকচি কং-বিজেপি’র   \n",
              "5              নোট বদলের ধাক্কায় কেমন হল বিয়ে? জানুন   \n",
              "6                                    সিপিএমের মুখিয়া   \n",
              "7  গড়িয়ায় দফায় দফায় গণধর্ষণের শিকার অষ্টম শ্রেণির...   \n",
              "8  বামেদের ধর্মঘটকে সমর্থন! নবান্ন অভিযানে বামেরা...   \n",
              "9                                 আকাশবাড়ির হাতছানি   \n",
              "\n",
              "                                             article          label  \n",
              "0   স্রেফ দু’টি টুইটেই সোশ্যাল মিডিয়ায় তোলপাড় ফে...  entertainment  \n",
              "1   একবার রেল বাজেট। একবার সাধারণ বাজেট। খবরের শি...       national  \n",
              "2   কিছুদিন আগেই রাজ্যের গাইড বনে গিয়েছিলেন চেতেশ...         sports  \n",
              "3  কলকাতায় দুষ্কৃতীদের নজরে এখন বিভিন্ন ব্যাঙ্কের...        kolkata  \n",
              "4  সারা দিন আকচা আকচিতেই কাটিয়ে দিল দেশের দুই বৃহ...       national  \n",
              "5   বিরিয়নিটা আর হোল না। ইচ্ছে ছিল বিয়েতে বিরায়ান...        kolkata  \n",
              "6   এস কে এম কি আছেন?\\nএ খোঁজ যে রাজ্য সিপিএমের ম...          state  \n",
              "7   মহানগরের বুকে এবার  দফায় দফায় গণধর্ষণের শিকার...        kolkata  \n",
              "8   আগামী বুধবার, ২ সেপ্টেম্বর বামেদের ডাকা বনধকে...        kolkata  \n",
              "9   পেরুতে গিয়ে যদি হোটেলের ঘরে বসে সময় কাটান, তা...  international  "
            ],
            "text/html": [
              "\n",
              "  <div id=\"df-82308bbb-3c8d-4149-840c-e16530e4b6f0\">\n",
              "    <div class=\"colab-df-container\">\n",
              "      <div>\n",
              "<style scoped>\n",
              "    .dataframe tbody tr th:only-of-type {\n",
              "        vertical-align: middle;\n",
              "    }\n",
              "\n",
              "    .dataframe tbody tr th {\n",
              "        vertical-align: top;\n",
              "    }\n",
              "\n",
              "    .dataframe thead th {\n",
              "        text-align: right;\n",
              "    }\n",
              "</style>\n",
              "<table border=\"1\" class=\"dataframe\">\n",
              "  <thead>\n",
              "    <tr style=\"text-align: right;\">\n",
              "      <th></th>\n",
              "      <th>title</th>\n",
              "      <th>article</th>\n",
              "      <th>label</th>\n",
              "    </tr>\n",
              "  </thead>\n",
              "  <tbody>\n",
              "    <tr>\n",
              "      <th>0</th>\n",
              "      <td>এই অভিনেতার ‘প্রস্তাব’ মানলে ভারতীয় সিনেমার খো...</td>\n",
              "      <td>স্রেফ দু’টি টুইটেই সোশ্যাল মিডিয়ায় তোলপাড় ফে...</td>\n",
              "      <td>entertainment</td>\n",
              "    </tr>\n",
              "    <tr>\n",
              "      <th>1</th>\n",
              "      <td>সচিন সাংসদ হয়েছেন, তাই চিন্তা কম জেটলির। কেন?</td>\n",
              "      <td>একবার রেল বাজেট। একবার সাধারণ বাজেট। খবরের শি...</td>\n",
              "      <td>national</td>\n",
              "    </tr>\n",
              "    <tr>\n",
              "      <th>2</th>\n",
              "      <td>ক্রিকেটার থেকে গাইড! জাতীয় দলের ক্রিকেটারের অব...</td>\n",
              "      <td>কিছুদিন আগেই রাজ্যের গাইড বনে গিয়েছিলেন চেতেশ...</td>\n",
              "      <td>sports</td>\n",
              "    </tr>\n",
              "    <tr>\n",
              "      <th>3</th>\n",
              "      <td>দুষ্কৃতীদের নজরে এটিএম, হাল হকিকত্ ঘুরে দেখলেন...</td>\n",
              "      <td>কলকাতায় দুষ্কৃতীদের নজরে এখন বিভিন্ন ব্যাঙ্কের...</td>\n",
              "      <td>kolkata</td>\n",
              "    </tr>\n",
              "    <tr>\n",
              "      <th>4</th>\n",
              "      <td>সৌজন্যের বালাই নেই, দিনভর আকচা আকচি কং-বিজেপি’র</td>\n",
              "      <td>সারা দিন আকচা আকচিতেই কাটিয়ে দিল দেশের দুই বৃহ...</td>\n",
              "      <td>national</td>\n",
              "    </tr>\n",
              "    <tr>\n",
              "      <th>5</th>\n",
              "      <td>নোট বদলের ধাক্কায় কেমন হল বিয়ে? জানুন</td>\n",
              "      <td>বিরিয়নিটা আর হোল না। ইচ্ছে ছিল বিয়েতে বিরায়ান...</td>\n",
              "      <td>kolkata</td>\n",
              "    </tr>\n",
              "    <tr>\n",
              "      <th>6</th>\n",
              "      <td>সিপিএমের মুখিয়া</td>\n",
              "      <td>এস কে এম কি আছেন?\\nএ খোঁজ যে রাজ্য সিপিএমের ম...</td>\n",
              "      <td>state</td>\n",
              "    </tr>\n",
              "    <tr>\n",
              "      <th>7</th>\n",
              "      <td>গড়িয়ায় দফায় দফায় গণধর্ষণের শিকার অষ্টম শ্রেণির...</td>\n",
              "      <td>মহানগরের বুকে এবার  দফায় দফায় গণধর্ষণের শিকার...</td>\n",
              "      <td>kolkata</td>\n",
              "    </tr>\n",
              "    <tr>\n",
              "      <th>8</th>\n",
              "      <td>বামেদের ধর্মঘটকে সমর্থন! নবান্ন অভিযানে বামেরা...</td>\n",
              "      <td>আগামী বুধবার, ২ সেপ্টেম্বর বামেদের ডাকা বনধকে...</td>\n",
              "      <td>kolkata</td>\n",
              "    </tr>\n",
              "    <tr>\n",
              "      <th>9</th>\n",
              "      <td>আকাশবাড়ির হাতছানি</td>\n",
              "      <td>পেরুতে গিয়ে যদি হোটেলের ঘরে বসে সময় কাটান, তা...</td>\n",
              "      <td>international</td>\n",
              "    </tr>\n",
              "  </tbody>\n",
              "</table>\n",
              "</div>\n",
              "      <button class=\"colab-df-convert\" onclick=\"convertToInteractive('df-82308bbb-3c8d-4149-840c-e16530e4b6f0')\"\n",
              "              title=\"Convert this dataframe to an interactive table.\"\n",
              "              style=\"display:none;\">\n",
              "        \n",
              "  <svg xmlns=\"http://www.w3.org/2000/svg\" height=\"24px\"viewBox=\"0 0 24 24\"\n",
              "       width=\"24px\">\n",
              "    <path d=\"M0 0h24v24H0V0z\" fill=\"none\"/>\n",
              "    <path d=\"M18.56 5.44l.94 2.06.94-2.06 2.06-.94-2.06-.94-.94-2.06-.94 2.06-2.06.94zm-11 1L8.5 8.5l.94-2.06 2.06-.94-2.06-.94L8.5 2.5l-.94 2.06-2.06.94zm10 10l.94 2.06.94-2.06 2.06-.94-2.06-.94-.94-2.06-.94 2.06-2.06.94z\"/><path d=\"M17.41 7.96l-1.37-1.37c-.4-.4-.92-.59-1.43-.59-.52 0-1.04.2-1.43.59L10.3 9.45l-7.72 7.72c-.78.78-.78 2.05 0 2.83L4 21.41c.39.39.9.59 1.41.59.51 0 1.02-.2 1.41-.59l7.78-7.78 2.81-2.81c.8-.78.8-2.07 0-2.86zM5.41 20L4 18.59l7.72-7.72 1.47 1.35L5.41 20z\"/>\n",
              "  </svg>\n",
              "      </button>\n",
              "      \n",
              "  <style>\n",
              "    .colab-df-container {\n",
              "      display:flex;\n",
              "      flex-wrap:wrap;\n",
              "      gap: 12px;\n",
              "    }\n",
              "\n",
              "    .colab-df-convert {\n",
              "      background-color: #E8F0FE;\n",
              "      border: none;\n",
              "      border-radius: 50%;\n",
              "      cursor: pointer;\n",
              "      display: none;\n",
              "      fill: #1967D2;\n",
              "      height: 32px;\n",
              "      padding: 0 0 0 0;\n",
              "      width: 32px;\n",
              "    }\n",
              "\n",
              "    .colab-df-convert:hover {\n",
              "      background-color: #E2EBFA;\n",
              "      box-shadow: 0px 1px 2px rgba(60, 64, 67, 0.3), 0px 1px 3px 1px rgba(60, 64, 67, 0.15);\n",
              "      fill: #174EA6;\n",
              "    }\n",
              "\n",
              "    [theme=dark] .colab-df-convert {\n",
              "      background-color: #3B4455;\n",
              "      fill: #D2E3FC;\n",
              "    }\n",
              "\n",
              "    [theme=dark] .colab-df-convert:hover {\n",
              "      background-color: #434B5C;\n",
              "      box-shadow: 0px 1px 3px 1px rgba(0, 0, 0, 0.15);\n",
              "      filter: drop-shadow(0px 1px 2px rgba(0, 0, 0, 0.3));\n",
              "      fill: #FFFFFF;\n",
              "    }\n",
              "  </style>\n",
              "\n",
              "      <script>\n",
              "        const buttonEl =\n",
              "          document.querySelector('#df-82308bbb-3c8d-4149-840c-e16530e4b6f0 button.colab-df-convert');\n",
              "        buttonEl.style.display =\n",
              "          google.colab.kernel.accessAllowed ? 'block' : 'none';\n",
              "\n",
              "        async function convertToInteractive(key) {\n",
              "          const element = document.querySelector('#df-82308bbb-3c8d-4149-840c-e16530e4b6f0');\n",
              "          const dataTable =\n",
              "            await google.colab.kernel.invokeFunction('convertToInteractive',\n",
              "                                                     [key], {});\n",
              "          if (!dataTable) return;\n",
              "\n",
              "          const docLinkHtml = 'Like what you see? Visit the ' +\n",
              "            '<a target=\"_blank\" href=https://colab.research.google.com/notebooks/data_table.ipynb>data table notebook</a>'\n",
              "            + ' to learn more about interactive tables.';\n",
              "          element.innerHTML = '';\n",
              "          dataTable['output_type'] = 'display_data';\n",
              "          await google.colab.output.renderOutput(dataTable, element);\n",
              "          const docLink = document.createElement('div');\n",
              "          docLink.innerHTML = docLinkHtml;\n",
              "          element.appendChild(docLink);\n",
              "        }\n",
              "      </script>\n",
              "    </div>\n",
              "  </div>\n",
              "  "
            ]
          },
          "metadata": {},
          "execution_count": 22
        }
      ],
      "source": [
        "content_df.head(10)"
      ]
    },
    {
      "cell_type": "markdown",
      "metadata": {
        "id": "sjJpU6lTGK51"
      },
      "source": [
        "## Details about dataset"
      ]
    },
    {
      "cell_type": "code",
      "source": [
        "itemid=\"title\""
      ],
      "metadata": {
        "id": "4u2f4NWQa14z"
      },
      "execution_count": null,
      "outputs": []
    },
    {
      "cell_type": "code",
      "execution_count": null,
      "metadata": {
        "id": "LpnvsLU_U-7O"
      },
      "outputs": [],
      "source": [
        "features=['title','article']"
      ]
    },
    {
      "cell_type": "code",
      "source": [
        "allcols=[itemid]\n",
        "for i in features:\n",
        "  allcols.append(i)"
      ],
      "metadata": {
        "id": "eyCiKMqygxVk"
      },
      "execution_count": null,
      "outputs": []
    },
    {
      "cell_type": "markdown",
      "metadata": {
        "id": "D_UJlmcgZNBc"
      },
      "source": [
        "# Setup"
      ]
    },
    {
      "cell_type": "code",
      "source": [
        "from nltk.stem import WordNetLemmatizer\n",
        "from nltk.corpus import stopwords\n",
        "from nltk.tokenize import word_tokenize\n",
        "import re"
      ],
      "metadata": {
        "id": "VAXhYHfLuugD"
      },
      "execution_count": null,
      "outputs": []
    },
    {
      "cell_type": "code",
      "source": [
        "content_df['NewTag']=\"\"\n",
        "for i in features:\n",
        "  content_df[i] = content_df[i].fillna(' ')\n",
        "for i in features:\n",
        "  content_df['NewTag']+=(\" \"+content_df[i])\n",
        "content_df['NewTag']=content_df['NewTag'].astype(str)"
      ],
      "metadata": {
        "id": "QxJnf-lrLdm2"
      },
      "execution_count": null,
      "outputs": []
    },
    {
      "cell_type": "code",
      "source": [
        "content_df['clean'] = content_df['NewTag']\n"
      ],
      "metadata": {
        "id": "HDh1rTXeuKzi"
      },
      "execution_count": null,
      "outputs": []
    },
    {
      "cell_type": "code",
      "source": [
        "content_df['clean'] =content_df['clean'].astype(str)"
      ],
      "metadata": {
        "id": "da8aXKUppnZe"
      },
      "execution_count": null,
      "outputs": []
    },
    {
      "cell_type": "code",
      "source": [],
      "metadata": {
        "id": "mEXR2ajdWktC"
      },
      "execution_count": null,
      "outputs": []
    },
    {
      "cell_type": "markdown",
      "source": [
        "# Elastic search set up"
      ],
      "metadata": {
        "id": "BqcS7-RMBY3k"
      }
    },
    {
      "cell_type": "code",
      "source": [
        "%%capture\n",
        "!pip install elasticsearch==7.14.0\n",
        "!apt install default-jdk > /dev/null"
      ],
      "metadata": {
        "id": "6E3R0H6EWuvT"
      },
      "execution_count": null,
      "outputs": []
    },
    {
      "cell_type": "code",
      "source": [
        "import elasticsearch\n",
        "from elasticsearch import Elasticsearch\n",
        "from elasticsearch import helpers\n"
      ],
      "metadata": {
        "id": "EudM56AgBeLr"
      },
      "execution_count": null,
      "outputs": []
    },
    {
      "cell_type": "code",
      "execution_count": null,
      "metadata": {
        "id": "k4idJB7WEjY5"
      },
      "outputs": [],
      "source": [
        "# Download & extract Elasticsearch 7.0.0\n",
        "\n",
        "!wget https://artifacts.elastic.co/downloads/elasticsearch/elasticsearch-7.0.0-linux-x86_64.tar.gz -q\n",
        "!tar -xzf elasticsearch-7.0.0-linux-x86_64.tar.gz\n",
        "!chown -R daemon:daemon elasticsearch-7.0.0"
      ]
    },
    {
      "cell_type": "code",
      "execution_count": null,
      "metadata": {
        "id": "dTFy3CkDKk2j"
      },
      "outputs": [],
      "source": [
        "# Creating daemon instance of elasticsearch\n",
        "import os\n",
        "from subprocess import Popen, PIPE, STDOUT\n",
        "es_server = Popen(['elasticsearch-7.0.0/bin/elasticsearch'], \n",
        "                  stdout=PIPE, stderr=STDOUT,\n",
        "                  preexec_fn=lambda: os.setuid(1)  # as daemon\n",
        "                 )"
      ]
    },
    {
      "cell_type": "code",
      "execution_count": null,
      "metadata": {
        "id": "r0ye1uYoLC4b"
      },
      "outputs": [],
      "source": [
        "# This part is important, since it takes a little amount of time for instance to load\n",
        "import time\n",
        "time.sleep(20)"
      ]
    },
    {
      "cell_type": "code",
      "execution_count": null,
      "metadata": {
        "colab": {
          "base_uri": "https://localhost:8080/"
        },
        "id": "_M4c4HNvLOvy",
        "outputId": "78f1a0c9-7621-42ec-fdfc-69e33746e87c"
      },
      "outputs": [
        {
          "output_type": "stream",
          "name": "stdout",
          "text": [
            "daemon      1226     857 99 06:55 ?        00:00:32 /content/elasticsearch-7.0.0/jdk/bin/java -Xms1g -Xmx1g -XX:+UseConcMarkSweepGC -XX:CMSInitiatingOccupancyFraction=75 -XX:+UseCMSInitiatingOccupancyOnly -Des.networkaddress.cache.ttl=60 -Des.networkaddress.cache.negative.ttl=10 -XX:+AlwaysPreTouch -Xss1m -Djava.awt.headless=true -Dfile.encoding=UTF-8 -Djna.nosys=true -XX:-OmitStackTraceInFastThrow -Dio.netty.noUnsafe=true -Dio.netty.noKeySetOptimization=true -Dio.netty.recycler.maxCapacityPerThread=0 -Dlog4j.shutdownHookEnabled=false -Dlog4j2.disable.jmx=true -Djava.io.tmpdir=/tmp/elasticsearch-7620800406798313423 -XX:+HeapDumpOnOutOfMemoryError -XX:HeapDumpPath=data -XX:ErrorFile=logs/hs_err_pid%p.log -Xlog:gc*,gc+age=trace,safepoint:file=logs/gc.log:utctime,pid,tags:filecount=32,filesize=64m -Djava.locale.providers=COMPAT -Dio.netty.allocator.type=unpooled -Des.path.home=/content/elasticsearch-7.0.0 -Des.path.conf=/content/elasticsearch-7.0.0/config -Des.distribution.flavor=default -Des.distribution.type=tar -Des.bundled_jdk=true -cp /content/elasticsearch-7.0.0/lib/* org.elasticsearch.bootstrap.Elasticsearch\n",
            "daemon      1316    1226  0 06:55 ?        00:00:00 /content/elasticsearch-7.0.0/modules/x-pack-ml/platform/linux-x86_64/bin/controller\n",
            "root        1436    1434  0 06:56 ?        00:00:00 grep elasticsearch\n"
          ]
        }
      ],
      "source": [
        "%%bash\n",
        "# If you get 1 root & 2 daemon process then Elasticsearch instance has started successfully\n",
        "ps -ef | grep elasticsearch"
      ]
    },
    {
      "cell_type": "code",
      "execution_count": null,
      "metadata": {
        "id": "z-q-WRLiLSqR",
        "colab": {
          "base_uri": "https://localhost:8080/"
        },
        "outputId": "5270f0de-db8e-4d5b-daad-f63cd10056ba"
      },
      "outputs": [
        {
          "output_type": "stream",
          "name": "stdout",
          "text": [
            "{\n",
            "  \"name\" : \"4e6ba3259808\",\n",
            "  \"cluster_name\" : \"elasticsearch\",\n",
            "  \"cluster_uuid\" : \"QoYrwjjNQzOab0BfaAL7gA\",\n",
            "  \"version\" : {\n",
            "    \"number\" : \"7.0.0\",\n",
            "    \"build_flavor\" : \"default\",\n",
            "    \"build_type\" : \"tar\",\n",
            "    \"build_hash\" : \"b7e28a7\",\n",
            "    \"build_date\" : \"2019-04-05T22:55:32.697037Z\",\n",
            "    \"build_snapshot\" : false,\n",
            "    \"lucene_version\" : \"8.0.0\",\n",
            "    \"minimum_wire_compatibility_version\" : \"6.7.0\",\n",
            "    \"minimum_index_compatibility_version\" : \"6.0.0-beta1\"\n",
            "  },\n",
            "  \"tagline\" : \"You Know, for Search\"\n",
            "}\n"
          ]
        }
      ],
      "source": [
        "# Check if elasticsearch is running\n",
        "!curl -sX GET \"localhost:9200/\""
      ]
    },
    {
      "cell_type": "code",
      "source": [
        "es = Elasticsearch(hosts = [{\"host\":\"localhost\", \"port\":9200}])\n",
        "# Check if python is connected to elasticsearch\n",
        "es.ping()"
      ],
      "metadata": {
        "colab": {
          "base_uri": "https://localhost:8080/"
        },
        "id": "UFjSmLBYgQuY",
        "outputId": "a460c5f5-9b2a-45bf-cc83-f445b6583565"
      },
      "execution_count": null,
      "outputs": [
        {
          "output_type": "execute_result",
          "data": {
            "text/plain": [
              "True"
            ]
          },
          "metadata": {},
          "execution_count": 9
        }
      ]
    },
    {
      "cell_type": "markdown",
      "source": [
        "# Search BM25"
      ],
      "metadata": {
        "id": "m8ubKUBhEHkL"
      }
    },
    {
      "cell_type": "code",
      "source": [
        "# Define settings & mappings of Elasticsearch index\n",
        "Settings = {\n",
        "    \"settings\":{\n",
        "        \"number_of_shards\":1,\n",
        "        \"number_of_replicas\":0,    \n",
        "    \"analysis\": {\n",
        "      \"filter\": {\n",
        "        \"bengali_stop\": {\n",
        "          \"type\":       \"stop\",\n",
        "          \"stopwords\":  \"_bengali_\" \n",
        "        },\n",
        "        \"bengali_keywords\": {\n",
        "          \"type\":       \"keyword_marker\",\n",
        "          \"keywords\":   [\"উদাহরণ\"] \n",
        "        },\n",
        "        \"bengali_stemmer\": {\n",
        "          \"type\":       \"stemmer\",\n",
        "          \"language\":   \"bengali\"\n",
        "        }\n",
        "      },\n",
        "      \"analyzer\": {\n",
        "        \"rebuilt_bengali\": {\n",
        "          \"tokenizer\":  \"standard\",\n",
        "          \"filter\": [\n",
        "            \"lowercase\",\n",
        "            \"decimal_digit\",\n",
        "            \"bengali_keywords\",\n",
        "            \"indic_normalization\",\n",
        "            \"bengali_normalization\",\n",
        "            \"bengali_stop\",\n",
        "            \"bengali_stemmer\"\n",
        "          ]\n",
        "        }\n",
        "      }\n",
        "    }\n",
        "  }\n",
        "    ,\n",
        "    \"mappings\":{\n",
        "        \"properties\":{\n",
        "            \"id\":{\n",
        "                \"type\":\"text\"\n",
        "            },\n",
        "            \"longtext\":{\n",
        "                \"type\":\"text\"\n",
        "            }\n",
        "        }\n",
        "    }\n",
        "}"
      ],
      "metadata": {
        "id": "76uJha6vCcLP"
      },
      "execution_count": null,
      "outputs": []
    },
    {
      "cell_type": "code",
      "source": [
        "indexname='new_index1'\n",
        "index_type='_doc'"
      ],
      "metadata": {
        "id": "P7U8LHFJDk4c"
      },
      "execution_count": null,
      "outputs": []
    },
    {
      "cell_type": "code",
      "source": [
        "\n",
        "index = es.indices.create(index=indexname, ignore=[400,404], body=Settings)\n"
      ],
      "metadata": {
        "id": "EkyI1TKjDIiU"
      },
      "execution_count": null,
      "outputs": []
    },
    {
      "cell_type": "code",
      "source": [
        "json_list = []\n",
        "\n",
        "for idx, row in content_df.iterrows():\n",
        "            dic = {}\n",
        "            dic['_index'] = indexname\n",
        "            dic['_type'] = index_type\n",
        "            source = {}\n",
        "            source[itemid] = row[itemid]\n",
        "            source['longtext'] = row['clean']\n",
        "            dic['_source'] = source\n",
        "            json_list.append(dic)"
      ],
      "metadata": {
        "id": "qUcSBlM0CuI2"
      },
      "execution_count": null,
      "outputs": []
    },
    {
      "cell_type": "code",
      "source": [
        "# For importing Data to elasticsearch we use elasticsearch's bulk API from elasticsearch.helpers\n",
        "try:\n",
        "    res = helpers.bulk(es, json_list)\n",
        "    print(\"successfully imported to elasticsearch.\")\n",
        "except Exception as e:\n",
        "    print(f\"error: {e}\")"
      ],
      "metadata": {
        "colab": {
          "base_uri": "https://localhost:8080/"
        },
        "id": "N0icW1PuD4uD",
        "outputId": "ee4c4ac7-56db-44c4-ea28-dbf6a601931f"
      },
      "execution_count": null,
      "outputs": [
        {
          "output_type": "stream",
          "name": "stderr",
          "text": [
            "/usr/local/lib/python3.8/dist-packages/elasticsearch/connection/base.py:208: ElasticsearchWarning: [types removal] Specifying types in bulk requests is deprecated.\n",
            "  warnings.warn(message, category=ElasticsearchWarning)\n"
          ]
        },
        {
          "output_type": "stream",
          "name": "stdout",
          "text": [
            "successfully imported to elasticsearch.\n"
          ]
        }
      ]
    },
    {
      "cell_type": "code",
      "source": [
        "search_query=\"ক্রিকেটার থেকে গাইড\""
      ],
      "metadata": {
        "id": "OdFHEzrcESSU"
      },
      "execution_count": null,
      "outputs": []
    },
    {
      "cell_type": "code",
      "source": [
        "# Complicated query\n",
        "query = es.search(\n",
        "    index=indexname,\n",
        "    body={\n",
        "        \"size\":20,\n",
        "        \"query\":{\n",
        "            \"bool\":{\n",
        "                \"must\":[\n",
        "                        {\"match\":{\"longtext\":search_query}}\n",
        "                ],\n",
        "                # \"should\":[\n",
        "                #         {\"match\":{\"\":\"\"}}\n",
        "                # ]\n",
        "            }\n",
        "        }\n",
        "    }\n",
        ")\n",
        "\n",
        "output = pd.json_normalize((query['hits']['hits']))\n",
        "output"
      ],
      "metadata": {
        "colab": {
          "base_uri": "https://localhost:8080/",
          "height": 676
        },
        "id": "SGJ6gxy2EJOE",
        "outputId": "24ae428b-1bef-437c-bf53-78f95db9be75"
      },
      "execution_count": null,
      "outputs": [
        {
          "output_type": "execute_result",
          "data": {
            "text/plain": [
              "        _index _type                   _id     _score  \\\n",
              "0   new_index1  _doc  t9Zeh4YBbS-hUYFRXEE2  18.160336   \n",
              "1   new_index1  _doc  z9Zeh4YBbS-hUYFRbFX7  12.478073   \n",
              "2   new_index1  _doc  TtZeh4YBbS-hUYFRdGd1  12.040806   \n",
              "3   new_index1  _doc  ddZeh4YBbS-hUYFRcmEA  11.558689   \n",
              "4   new_index1  _doc  E9Zeh4YBbS-hUYFRdGh1  10.432931   \n",
              "5   new_index1  _doc  39Zeh4YBbS-hUYFRc2TH   8.322492   \n",
              "6   new_index1  _doc  TdZeh4YBbS-hUYFRZkqr   7.207029   \n",
              "7   new_index1  _doc  6dZeh4YBbS-hUYFRZ0zW   7.189875   \n",
              "8   new_index1  _doc  G9Zeh4YBbS-hUYFRblqP   7.064561   \n",
              "9   new_index1  _doc  DdZeh4YBbS-hUYFRbFb7   7.046682   \n",
              "10  new_index1  _doc  3dZeh4YBbS-hUYFRYkb1   6.901064   \n",
              "11  new_index1  _doc  ydZeh4YBbS-hUYFRdm2G   6.874752   \n",
              "12  new_index1  _doc  0dZeh4YBbS-hUYFRa1E7   6.709563   \n",
              "13  new_index1  _doc  YdZeh4YBbS-hUYFRblmP   6.709563   \n",
              "14  new_index1  _doc  D9Zeh4YBbS-hUYFRZ03W   6.698141   \n",
              "15  new_index1  _doc  K9Zeh4YBbS-hUYFRcmP1   6.657557   \n",
              "16  new_index1  _doc  HtZeh4YBbS-hUYFRcmIA   6.639692   \n",
              "17  new_index1  _doc  mNZeh4YBbS-hUYFRak9K   6.625148   \n",
              "18  new_index1  _doc  btZeh4YBbS-hUYFRb1yt   6.599289   \n",
              "19  new_index1  _doc  NdZeh4YBbS-hUYFRalFL   6.577414   \n",
              "\n",
              "                                        _source.title  \\\n",
              "0   ক্রিকেটার থেকে গাইড! জাতীয় দলের ক্রিকেটারের অব...   \n",
              "1   তোলাবাজদের এবার দলেও জায়গা নেই, হুঁশিয়ারি মমতা...   \n",
              "2                   আজ হাইকোর্টে টেট মামলার রায় ঘোষণা   \n",
              "3   হুগলীতে তৃণমূলের 'মাথাব্যাথা' গোষ্ঠী দ্বন্দ্ব...   \n",
              "4            তালিবানের আতঙ্ক দূর হয়ে ক্রিকেট এখন কবুল   \n",
              "5   সা রে গা মা পা মঞ্চে নজিরবিহীন সিদ্ধান্ত! জিত ...   \n",
              "6   বিরাট-ধোনি নন! সুন্দরী সোনাক্ষীর হৃদয়ে কোন ক্র...   \n",
              "7   কী কাণ্ড! ক্রিকেটার থেকে খুনি হয়ে গেলেন মহম্মদ...   \n",
              "8   ক্রিকেট ছেড়ে পাকিস্তানের সেনাবাহিনীতে কাজ খুঁ...   \n",
              "9              আইসিসি-র সেরার তালিকায় কোনও ভারতীয় নেই   \n",
              "10  যৌনতার সুড়সুড়ি দেওয়া দিওয়ালির শুভেচ্ছা জানিয়...   \n",
              "11     বিরাটের মুকুটে এ বার কোহিনুর। আর কী অধরা তাঁর    \n",
              "12  মাঠেই মৃত্যু প্রাক্তন ভারতীয় ক্রিকেটারের, অকাল...   \n",
              "13  পাণ্ড্যকে নিয়ে জোন্সের মন্তব্য, তার পরেই তাঁকে...   \n",
              "14  দক্ষিণ আফ্রিকার এই তারকা ক্রিকেটার এখন কী করেন...   \n",
              "15  ধোনির খারাপ ফর্ম নিয়ে এবার মুখ খুললেন স্বয়ং স্...   \n",
              "16  কোহলির হাতে বিশ্বকাপ দেখতে বাজি দুই তারকা ক্রি...   \n",
              "17  ২০১৬ বিধানসভায় তৃণমূলের প্রার্থী তালিকায় ফুটবল...   \n",
              "18  বিরুষ্কার বিয়ের কার্ডে চারাগাছ! গোটা দেশকে চমক...   \n",
              "19   গোটা দেশ ধোনির জন্য জয়ধ্বনি করছে। করিনার পছন্...   \n",
              "\n",
              "                                     _source.longtext  \n",
              "0    ক্রিকেটার থেকে গাইড! জাতীয় দলের ক্রিকেটারের অ...  \n",
              "1    তোলাবাজদের এবার দলেও জায়গা নেই, হুঁশিয়ারি মমত...  \n",
              "2    আজ হাইকোর্টে টেট মামলার রায় ঘোষণা  আজ হাইকোর্...  \n",
              "3    হুগলীতে তৃণমূলের 'মাথাব্যাথা' গোষ্ঠী দ্বন্দ্...  \n",
              "4    তালিবানের আতঙ্ক দূর হয়ে ক্রিকেট এখন কবুল  ইডে...  \n",
              "5    সা রে গা মা পা মঞ্চে নজিরবিহীন সিদ্ধান্ত! জিত...  \n",
              "6    বিরাট-ধোনি নন! সুন্দরী সোনাক্ষীর হৃদয়ে কোন ক্...  \n",
              "7    কী কাণ্ড! ক্রিকেটার থেকে খুনি হয়ে গেলেন মহম্ম...  \n",
              "8    ক্রিকেট ছেড়ে পাকিস্তানের সেনাবাহিনীতে কাজ খু...  \n",
              "9    আইসিসি-র সেরার তালিকায় কোনও ভারতীয় নেই  আইসিস...  \n",
              "10   যৌনতার সুড়সুড়ি দেওয়া দিওয়ালির শুভেচ্ছা জানি...  \n",
              "11   বিরাটের মুকুটে এ বার কোহিনুর। আর কী অধরা তাঁর...  \n",
              "12   মাঠেই মৃত্যু প্রাক্তন ভারতীয় ক্রিকেটারের, অকা...  \n",
              "13   পাণ্ড্যকে নিয়ে জোন্সের মন্তব্য, তার পরেই তাঁক...  \n",
              "14   দক্ষিণ আফ্রিকার এই তারকা ক্রিকেটার এখন কী করে...  \n",
              "15   ধোনির খারাপ ফর্ম নিয়ে এবার মুখ খুললেন স্বয়ং স...  \n",
              "16   কোহলির হাতে বিশ্বকাপ দেখতে বাজি দুই তারকা ক্র...  \n",
              "17   ২০১৬ বিধানসভায় তৃণমূলের প্রার্থী তালিকায় ফুটব...  \n",
              "18   বিরুষ্কার বিয়ের কার্ডে চারাগাছ! গোটা দেশকে চম...  \n",
              "19    গোটা দেশ ধোনির জন্য জয়ধ্বনি করছে। করিনার পছন...  "
            ],
            "text/html": [
              "\n",
              "  <div id=\"df-f5ebc1ae-80dc-43b0-afb2-715d7830b32f\">\n",
              "    <div class=\"colab-df-container\">\n",
              "      <div>\n",
              "<style scoped>\n",
              "    .dataframe tbody tr th:only-of-type {\n",
              "        vertical-align: middle;\n",
              "    }\n",
              "\n",
              "    .dataframe tbody tr th {\n",
              "        vertical-align: top;\n",
              "    }\n",
              "\n",
              "    .dataframe thead th {\n",
              "        text-align: right;\n",
              "    }\n",
              "</style>\n",
              "<table border=\"1\" class=\"dataframe\">\n",
              "  <thead>\n",
              "    <tr style=\"text-align: right;\">\n",
              "      <th></th>\n",
              "      <th>_index</th>\n",
              "      <th>_type</th>\n",
              "      <th>_id</th>\n",
              "      <th>_score</th>\n",
              "      <th>_source.title</th>\n",
              "      <th>_source.longtext</th>\n",
              "    </tr>\n",
              "  </thead>\n",
              "  <tbody>\n",
              "    <tr>\n",
              "      <th>0</th>\n",
              "      <td>new_index1</td>\n",
              "      <td>_doc</td>\n",
              "      <td>t9Zeh4YBbS-hUYFRXEE2</td>\n",
              "      <td>18.160336</td>\n",
              "      <td>ক্রিকেটার থেকে গাইড! জাতীয় দলের ক্রিকেটারের অব...</td>\n",
              "      <td>ক্রিকেটার থেকে গাইড! জাতীয় দলের ক্রিকেটারের অ...</td>\n",
              "    </tr>\n",
              "    <tr>\n",
              "      <th>1</th>\n",
              "      <td>new_index1</td>\n",
              "      <td>_doc</td>\n",
              "      <td>z9Zeh4YBbS-hUYFRbFX7</td>\n",
              "      <td>12.478073</td>\n",
              "      <td>তোলাবাজদের এবার দলেও জায়গা নেই, হুঁশিয়ারি মমতা...</td>\n",
              "      <td>তোলাবাজদের এবার দলেও জায়গা নেই, হুঁশিয়ারি মমত...</td>\n",
              "    </tr>\n",
              "    <tr>\n",
              "      <th>2</th>\n",
              "      <td>new_index1</td>\n",
              "      <td>_doc</td>\n",
              "      <td>TtZeh4YBbS-hUYFRdGd1</td>\n",
              "      <td>12.040806</td>\n",
              "      <td>আজ হাইকোর্টে টেট মামলার রায় ঘোষণা</td>\n",
              "      <td>আজ হাইকোর্টে টেট মামলার রায় ঘোষণা  আজ হাইকোর্...</td>\n",
              "    </tr>\n",
              "    <tr>\n",
              "      <th>3</th>\n",
              "      <td>new_index1</td>\n",
              "      <td>_doc</td>\n",
              "      <td>ddZeh4YBbS-hUYFRcmEA</td>\n",
              "      <td>11.558689</td>\n",
              "      <td>হুগলীতে তৃণমূলের 'মাথাব্যাথা' গোষ্ঠী দ্বন্দ্ব...</td>\n",
              "      <td>হুগলীতে তৃণমূলের 'মাথাব্যাথা' গোষ্ঠী দ্বন্দ্...</td>\n",
              "    </tr>\n",
              "    <tr>\n",
              "      <th>4</th>\n",
              "      <td>new_index1</td>\n",
              "      <td>_doc</td>\n",
              "      <td>E9Zeh4YBbS-hUYFRdGh1</td>\n",
              "      <td>10.432931</td>\n",
              "      <td>তালিবানের আতঙ্ক দূর হয়ে ক্রিকেট এখন কবুল</td>\n",
              "      <td>তালিবানের আতঙ্ক দূর হয়ে ক্রিকেট এখন কবুল  ইডে...</td>\n",
              "    </tr>\n",
              "    <tr>\n",
              "      <th>5</th>\n",
              "      <td>new_index1</td>\n",
              "      <td>_doc</td>\n",
              "      <td>39Zeh4YBbS-hUYFRc2TH</td>\n",
              "      <td>8.322492</td>\n",
              "      <td>সা রে গা মা পা মঞ্চে নজিরবিহীন সিদ্ধান্ত! জিত ...</td>\n",
              "      <td>সা রে গা মা পা মঞ্চে নজিরবিহীন সিদ্ধান্ত! জিত...</td>\n",
              "    </tr>\n",
              "    <tr>\n",
              "      <th>6</th>\n",
              "      <td>new_index1</td>\n",
              "      <td>_doc</td>\n",
              "      <td>TdZeh4YBbS-hUYFRZkqr</td>\n",
              "      <td>7.207029</td>\n",
              "      <td>বিরাট-ধোনি নন! সুন্দরী সোনাক্ষীর হৃদয়ে কোন ক্র...</td>\n",
              "      <td>বিরাট-ধোনি নন! সুন্দরী সোনাক্ষীর হৃদয়ে কোন ক্...</td>\n",
              "    </tr>\n",
              "    <tr>\n",
              "      <th>7</th>\n",
              "      <td>new_index1</td>\n",
              "      <td>_doc</td>\n",
              "      <td>6dZeh4YBbS-hUYFRZ0zW</td>\n",
              "      <td>7.189875</td>\n",
              "      <td>কী কাণ্ড! ক্রিকেটার থেকে খুনি হয়ে গেলেন মহম্মদ...</td>\n",
              "      <td>কী কাণ্ড! ক্রিকেটার থেকে খুনি হয়ে গেলেন মহম্ম...</td>\n",
              "    </tr>\n",
              "    <tr>\n",
              "      <th>8</th>\n",
              "      <td>new_index1</td>\n",
              "      <td>_doc</td>\n",
              "      <td>G9Zeh4YBbS-hUYFRblqP</td>\n",
              "      <td>7.064561</td>\n",
              "      <td>ক্রিকেট ছেড়ে পাকিস্তানের সেনাবাহিনীতে কাজ খুঁ...</td>\n",
              "      <td>ক্রিকেট ছেড়ে পাকিস্তানের সেনাবাহিনীতে কাজ খু...</td>\n",
              "    </tr>\n",
              "    <tr>\n",
              "      <th>9</th>\n",
              "      <td>new_index1</td>\n",
              "      <td>_doc</td>\n",
              "      <td>DdZeh4YBbS-hUYFRbFb7</td>\n",
              "      <td>7.046682</td>\n",
              "      <td>আইসিসি-র সেরার তালিকায় কোনও ভারতীয় নেই</td>\n",
              "      <td>আইসিসি-র সেরার তালিকায় কোনও ভারতীয় নেই  আইসিস...</td>\n",
              "    </tr>\n",
              "    <tr>\n",
              "      <th>10</th>\n",
              "      <td>new_index1</td>\n",
              "      <td>_doc</td>\n",
              "      <td>3dZeh4YBbS-hUYFRYkb1</td>\n",
              "      <td>6.901064</td>\n",
              "      <td>যৌনতার সুড়সুড়ি দেওয়া দিওয়ালির শুভেচ্ছা জানিয়...</td>\n",
              "      <td>যৌনতার সুড়সুড়ি দেওয়া দিওয়ালির শুভেচ্ছা জানি...</td>\n",
              "    </tr>\n",
              "    <tr>\n",
              "      <th>11</th>\n",
              "      <td>new_index1</td>\n",
              "      <td>_doc</td>\n",
              "      <td>ydZeh4YBbS-hUYFRdm2G</td>\n",
              "      <td>6.874752</td>\n",
              "      <td>বিরাটের মুকুটে এ বার কোহিনুর। আর কী অধরা তাঁর</td>\n",
              "      <td>বিরাটের মুকুটে এ বার কোহিনুর। আর কী অধরা তাঁর...</td>\n",
              "    </tr>\n",
              "    <tr>\n",
              "      <th>12</th>\n",
              "      <td>new_index1</td>\n",
              "      <td>_doc</td>\n",
              "      <td>0dZeh4YBbS-hUYFRa1E7</td>\n",
              "      <td>6.709563</td>\n",
              "      <td>মাঠেই মৃত্যু প্রাক্তন ভারতীয় ক্রিকেটারের, অকাল...</td>\n",
              "      <td>মাঠেই মৃত্যু প্রাক্তন ভারতীয় ক্রিকেটারের, অকা...</td>\n",
              "    </tr>\n",
              "    <tr>\n",
              "      <th>13</th>\n",
              "      <td>new_index1</td>\n",
              "      <td>_doc</td>\n",
              "      <td>YdZeh4YBbS-hUYFRblmP</td>\n",
              "      <td>6.709563</td>\n",
              "      <td>পাণ্ড্যকে নিয়ে জোন্সের মন্তব্য, তার পরেই তাঁকে...</td>\n",
              "      <td>পাণ্ড্যকে নিয়ে জোন্সের মন্তব্য, তার পরেই তাঁক...</td>\n",
              "    </tr>\n",
              "    <tr>\n",
              "      <th>14</th>\n",
              "      <td>new_index1</td>\n",
              "      <td>_doc</td>\n",
              "      <td>D9Zeh4YBbS-hUYFRZ03W</td>\n",
              "      <td>6.698141</td>\n",
              "      <td>দক্ষিণ আফ্রিকার এই তারকা ক্রিকেটার এখন কী করেন...</td>\n",
              "      <td>দক্ষিণ আফ্রিকার এই তারকা ক্রিকেটার এখন কী করে...</td>\n",
              "    </tr>\n",
              "    <tr>\n",
              "      <th>15</th>\n",
              "      <td>new_index1</td>\n",
              "      <td>_doc</td>\n",
              "      <td>K9Zeh4YBbS-hUYFRcmP1</td>\n",
              "      <td>6.657557</td>\n",
              "      <td>ধোনির খারাপ ফর্ম নিয়ে এবার মুখ খুললেন স্বয়ং স্...</td>\n",
              "      <td>ধোনির খারাপ ফর্ম নিয়ে এবার মুখ খুললেন স্বয়ং স...</td>\n",
              "    </tr>\n",
              "    <tr>\n",
              "      <th>16</th>\n",
              "      <td>new_index1</td>\n",
              "      <td>_doc</td>\n",
              "      <td>HtZeh4YBbS-hUYFRcmIA</td>\n",
              "      <td>6.639692</td>\n",
              "      <td>কোহলির হাতে বিশ্বকাপ দেখতে বাজি দুই তারকা ক্রি...</td>\n",
              "      <td>কোহলির হাতে বিশ্বকাপ দেখতে বাজি দুই তারকা ক্র...</td>\n",
              "    </tr>\n",
              "    <tr>\n",
              "      <th>17</th>\n",
              "      <td>new_index1</td>\n",
              "      <td>_doc</td>\n",
              "      <td>mNZeh4YBbS-hUYFRak9K</td>\n",
              "      <td>6.625148</td>\n",
              "      <td>২০১৬ বিধানসভায় তৃণমূলের প্রার্থী তালিকায় ফুটবল...</td>\n",
              "      <td>২০১৬ বিধানসভায় তৃণমূলের প্রার্থী তালিকায় ফুটব...</td>\n",
              "    </tr>\n",
              "    <tr>\n",
              "      <th>18</th>\n",
              "      <td>new_index1</td>\n",
              "      <td>_doc</td>\n",
              "      <td>btZeh4YBbS-hUYFRb1yt</td>\n",
              "      <td>6.599289</td>\n",
              "      <td>বিরুষ্কার বিয়ের কার্ডে চারাগাছ! গোটা দেশকে চমক...</td>\n",
              "      <td>বিরুষ্কার বিয়ের কার্ডে চারাগাছ! গোটা দেশকে চম...</td>\n",
              "    </tr>\n",
              "    <tr>\n",
              "      <th>19</th>\n",
              "      <td>new_index1</td>\n",
              "      <td>_doc</td>\n",
              "      <td>NdZeh4YBbS-hUYFRalFL</td>\n",
              "      <td>6.577414</td>\n",
              "      <td>গোটা দেশ ধোনির জন্য জয়ধ্বনি করছে। করিনার পছন্...</td>\n",
              "      <td>গোটা দেশ ধোনির জন্য জয়ধ্বনি করছে। করিনার পছন...</td>\n",
              "    </tr>\n",
              "  </tbody>\n",
              "</table>\n",
              "</div>\n",
              "      <button class=\"colab-df-convert\" onclick=\"convertToInteractive('df-f5ebc1ae-80dc-43b0-afb2-715d7830b32f')\"\n",
              "              title=\"Convert this dataframe to an interactive table.\"\n",
              "              style=\"display:none;\">\n",
              "        \n",
              "  <svg xmlns=\"http://www.w3.org/2000/svg\" height=\"24px\"viewBox=\"0 0 24 24\"\n",
              "       width=\"24px\">\n",
              "    <path d=\"M0 0h24v24H0V0z\" fill=\"none\"/>\n",
              "    <path d=\"M18.56 5.44l.94 2.06.94-2.06 2.06-.94-2.06-.94-.94-2.06-.94 2.06-2.06.94zm-11 1L8.5 8.5l.94-2.06 2.06-.94-2.06-.94L8.5 2.5l-.94 2.06-2.06.94zm10 10l.94 2.06.94-2.06 2.06-.94-2.06-.94-.94-2.06-.94 2.06-2.06.94z\"/><path d=\"M17.41 7.96l-1.37-1.37c-.4-.4-.92-.59-1.43-.59-.52 0-1.04.2-1.43.59L10.3 9.45l-7.72 7.72c-.78.78-.78 2.05 0 2.83L4 21.41c.39.39.9.59 1.41.59.51 0 1.02-.2 1.41-.59l7.78-7.78 2.81-2.81c.8-.78.8-2.07 0-2.86zM5.41 20L4 18.59l7.72-7.72 1.47 1.35L5.41 20z\"/>\n",
              "  </svg>\n",
              "      </button>\n",
              "      \n",
              "  <style>\n",
              "    .colab-df-container {\n",
              "      display:flex;\n",
              "      flex-wrap:wrap;\n",
              "      gap: 12px;\n",
              "    }\n",
              "\n",
              "    .colab-df-convert {\n",
              "      background-color: #E8F0FE;\n",
              "      border: none;\n",
              "      border-radius: 50%;\n",
              "      cursor: pointer;\n",
              "      display: none;\n",
              "      fill: #1967D2;\n",
              "      height: 32px;\n",
              "      padding: 0 0 0 0;\n",
              "      width: 32px;\n",
              "    }\n",
              "\n",
              "    .colab-df-convert:hover {\n",
              "      background-color: #E2EBFA;\n",
              "      box-shadow: 0px 1px 2px rgba(60, 64, 67, 0.3), 0px 1px 3px 1px rgba(60, 64, 67, 0.15);\n",
              "      fill: #174EA6;\n",
              "    }\n",
              "\n",
              "    [theme=dark] .colab-df-convert {\n",
              "      background-color: #3B4455;\n",
              "      fill: #D2E3FC;\n",
              "    }\n",
              "\n",
              "    [theme=dark] .colab-df-convert:hover {\n",
              "      background-color: #434B5C;\n",
              "      box-shadow: 0px 1px 3px 1px rgba(0, 0, 0, 0.15);\n",
              "      filter: drop-shadow(0px 1px 2px rgba(0, 0, 0, 0.3));\n",
              "      fill: #FFFFFF;\n",
              "    }\n",
              "  </style>\n",
              "\n",
              "      <script>\n",
              "        const buttonEl =\n",
              "          document.querySelector('#df-f5ebc1ae-80dc-43b0-afb2-715d7830b32f button.colab-df-convert');\n",
              "        buttonEl.style.display =\n",
              "          google.colab.kernel.accessAllowed ? 'block' : 'none';\n",
              "\n",
              "        async function convertToInteractive(key) {\n",
              "          const element = document.querySelector('#df-f5ebc1ae-80dc-43b0-afb2-715d7830b32f');\n",
              "          const dataTable =\n",
              "            await google.colab.kernel.invokeFunction('convertToInteractive',\n",
              "                                                     [key], {});\n",
              "          if (!dataTable) return;\n",
              "\n",
              "          const docLinkHtml = 'Like what you see? Visit the ' +\n",
              "            '<a target=\"_blank\" href=https://colab.research.google.com/notebooks/data_table.ipynb>data table notebook</a>'\n",
              "            + ' to learn more about interactive tables.';\n",
              "          element.innerHTML = '';\n",
              "          dataTable['output_type'] = 'display_data';\n",
              "          await google.colab.output.renderOutput(dataTable, element);\n",
              "          const docLink = document.createElement('div');\n",
              "          docLink.innerHTML = docLinkHtml;\n",
              "          element.appendChild(docLink);\n",
              "        }\n",
              "      </script>\n",
              "    </div>\n",
              "  </div>\n",
              "  "
            ]
          },
          "metadata": {},
          "execution_count": 33
        }
      ]
    },
    {
      "cell_type": "code",
      "source": [],
      "metadata": {
        "id": "4x--wS5PF018"
      },
      "execution_count": null,
      "outputs": []
    }
  ]
}