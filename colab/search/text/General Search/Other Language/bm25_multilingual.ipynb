{
  "nbformat": 4,
  "nbformat_minor": 0,
  "metadata": {
    "colab": {
      "provenance": [],
      "machine_shape": "hm"
    },
    "kernelspec": {
      "name": "python3",
      "display_name": "Python 3"
    },
    "language_info": {
      "name": "python"
    },
    "accelerator": "GPU",
    "gpuClass": "standard"
  },
  "cells": [
    {
      "cell_type": "markdown",
      "metadata": {
        "id": "uGRD8a9sKacB"
      },
      "source": [
        "# Setup and Load dataset\n",
        "\n"
      ]
    },
    {
      "cell_type": "code",
      "execution_count": null,
      "metadata": {
        "id": "IsDqz0tsLwZc",
        "colab": {
          "base_uri": "https://localhost:8080/"
        },
        "outputId": "f1356d09-ebab-4e7c-e3d0-ba2e2e93522e"
      },
      "outputs": [
        {
          "output_type": "stream",
          "name": "stdout",
          "text": [
            "Looking in indexes: https://pypi.org/simple, https://us-python.pkg.dev/colab-wheels/public/simple/\n",
            "Collecting rank_bm25\n",
            "  Downloading rank_bm25-0.2.2-py3-none-any.whl (8.6 kB)\n",
            "Requirement already satisfied: numpy in /usr/local/lib/python3.8/dist-packages (from rank_bm25) (1.22.4)\n",
            "Installing collected packages: rank_bm25\n",
            "Successfully installed rank_bm25-0.2.2\n"
          ]
        }
      ],
      "source": [
        "!pip install rank_bm25 "
      ]
    },
    {
      "cell_type": "code",
      "source": [
        "!pip install --upgrade --no-cache-dir gdown"
      ],
      "metadata": {
        "colab": {
          "base_uri": "https://localhost:8080/"
        },
        "id": "C1r8Sraf7rPj",
        "outputId": "814fcb2d-b0bb-49fc-d856-a7ffca785db9"
      },
      "execution_count": null,
      "outputs": [
        {
          "output_type": "stream",
          "name": "stdout",
          "text": [
            "Looking in indexes: https://pypi.org/simple, https://us-python.pkg.dev/colab-wheels/public/simple/\n",
            "Requirement already satisfied: gdown in /usr/local/lib/python3.8/dist-packages (4.4.0)\n",
            "Collecting gdown\n",
            "  Downloading gdown-4.6.4-py3-none-any.whl (14 kB)\n",
            "Requirement already satisfied: tqdm in /usr/local/lib/python3.8/dist-packages (from gdown) (4.64.1)\n",
            "Requirement already satisfied: requests[socks] in /usr/local/lib/python3.8/dist-packages (from gdown) (2.25.1)\n",
            "Requirement already satisfied: beautifulsoup4 in /usr/local/lib/python3.8/dist-packages (from gdown) (4.6.3)\n",
            "Requirement already satisfied: filelock in /usr/local/lib/python3.8/dist-packages (from gdown) (3.9.0)\n",
            "Requirement already satisfied: six in /usr/local/lib/python3.8/dist-packages (from gdown) (1.15.0)\n",
            "Requirement already satisfied: urllib3<1.27,>=1.21.1 in /usr/local/lib/python3.8/dist-packages (from requests[socks]->gdown) (1.24.3)\n",
            "Requirement already satisfied: idna<3,>=2.5 in /usr/local/lib/python3.8/dist-packages (from requests[socks]->gdown) (2.10)\n",
            "Requirement already satisfied: certifi>=2017.4.17 in /usr/local/lib/python3.8/dist-packages (from requests[socks]->gdown) (2022.12.7)\n",
            "Requirement already satisfied: chardet<5,>=3.0.2 in /usr/local/lib/python3.8/dist-packages (from requests[socks]->gdown) (4.0.0)\n",
            "Requirement already satisfied: PySocks!=1.5.7,>=1.5.6 in /usr/local/lib/python3.8/dist-packages (from requests[socks]->gdown) (1.7.1)\n",
            "Installing collected packages: gdown\n",
            "  Attempting uninstall: gdown\n",
            "    Found existing installation: gdown 4.4.0\n",
            "    Uninstalling gdown-4.4.0:\n",
            "      Successfully uninstalled gdown-4.4.0\n",
            "Successfully installed gdown-4.6.4\n"
          ]
        }
      ]
    },
    {
      "cell_type": "code",
      "source": [
        "!gdown --id 1EvuYBN9lIK8llpbUciP5jIOYgh0dpFHB"
      ],
      "metadata": {
        "id": "JN6L-XVUpDB3",
        "colab": {
          "base_uri": "https://localhost:8080/"
        },
        "outputId": "a85c7f1c-c37d-43df-c2e3-3748b4a55a3f"
      },
      "execution_count": null,
      "outputs": [
        {
          "output_type": "stream",
          "name": "stdout",
          "text": [
            "/usr/local/lib/python3.8/dist-packages/gdown/cli.py:121: FutureWarning: Option `--id` was deprecated in version 4.3.1 and will be removed in 5.0. You don't need to pass it anymore to use a file ID.\n",
            "  warnings.warn(\n",
            "Downloading...\n",
            "From: https://drive.google.com/uc?id=1EvuYBN9lIK8llpbUciP5jIOYgh0dpFHB\n",
            "To: /content/bengali.zip\n",
            "100% 13.5M/13.5M [00:00<00:00, 127MB/s]\n"
          ]
        }
      ]
    },
    {
      "cell_type": "code",
      "source": [
        "!unzip -o \"bengali.zip\"  -d  \"/content\""
      ],
      "metadata": {
        "id": "TtZEDi2_JS0Z",
        "colab": {
          "base_uri": "https://localhost:8080/"
        },
        "outputId": "aca51063-22a3-48c0-ba36-55646b225c57"
      },
      "execution_count": null,
      "outputs": [
        {
          "output_type": "stream",
          "name": "stdout",
          "text": [
            "Archive:  bengali.zip\n",
            "  inflating: /content/train.csv      \n",
            "  inflating: /content/valid.csv      \n"
          ]
        }
      ]
    },
    {
      "cell_type": "markdown",
      "source": [
        "## Data Loading"
      ],
      "metadata": {
        "id": "HDz_Qe5KHFho"
      }
    },
    {
      "cell_type": "code",
      "execution_count": null,
      "metadata": {
        "id": "84eddad3"
      },
      "outputs": [],
      "source": [
        "from datetime import datetime\n",
        "import os\n",
        "import matplotlib\n",
        "import pandas as pd\n",
        "import numpy as np\n",
        "import matplotlib.pyplot as plt\n",
        "import seaborn as sns\n",
        "sns.set_style('whitegrid')\n",
        "\n",
        "from scipy import sparse\n",
        "from scipy.sparse import csc_matrix\n",
        "from sklearn.decomposition import TruncatedSVD\n",
        "\n",
        "np.random.seed(0)"
      ]
    },
    {
      "cell_type": "markdown",
      "source": [
        "#### Name of the file which contain all the item properties"
      ],
      "metadata": {
        "id": "lHG3Yw4EHJbO"
      }
    },
    {
      "cell_type": "code",
      "source": [
        "file=\"train.csv\""
      ],
      "metadata": {
        "id": "4zX5cx_NHQNv"
      },
      "execution_count": null,
      "outputs": []
    },
    {
      "cell_type": "markdown",
      "source": [
        "###### Run below cell"
      ],
      "metadata": {
        "id": "r2ef3FxJHYkQ"
      }
    },
    {
      "cell_type": "code",
      "execution_count": null,
      "metadata": {
        "id": "7e7fee79"
      },
      "outputs": [],
      "source": [
        "content_df  = pd.read_csv( file)"
      ]
    },
    {
      "cell_type": "code",
      "execution_count": null,
      "metadata": {
        "id": "af507f93",
        "colab": {
          "base_uri": "https://localhost:8080/",
          "height": 363
        },
        "outputId": "c8bf2eb0-9535-40ae-b074-214eb614e6ac"
      },
      "outputs": [
        {
          "output_type": "execute_result",
          "data": {
            "text/plain": [
              "                                               title  \\\n",
              "0  এই অভিনেতার ‘প্রস্তাব’ মানলে ভারতীয় সিনেমার খো...   \n",
              "1      সচিন সাংসদ হয়েছেন, তাই চিন্তা কম জেটলির। কেন?   \n",
              "2  ক্রিকেটার থেকে গাইড! জাতীয় দলের ক্রিকেটারের অব...   \n",
              "3  দুষ্কৃতীদের নজরে এটিএম, হাল হকিকত্ ঘুরে দেখলেন...   \n",
              "4    সৌজন্যের বালাই নেই, দিনভর আকচা আকচি কং-বিজেপি’র   \n",
              "5              নোট বদলের ধাক্কায় কেমন হল বিয়ে? জানুন   \n",
              "6                                    সিপিএমের মুখিয়া   \n",
              "7  গড়িয়ায় দফায় দফায় গণধর্ষণের শিকার অষ্টম শ্রেণির...   \n",
              "8  বামেদের ধর্মঘটকে সমর্থন! নবান্ন অভিযানে বামেরা...   \n",
              "9                                 আকাশবাড়ির হাতছানি   \n",
              "\n",
              "                                             article          label  \n",
              "0   স্রেফ দু’টি টুইটেই সোশ্যাল মিডিয়ায় তোলপাড় ফে...  entertainment  \n",
              "1   একবার রেল বাজেট। একবার সাধারণ বাজেট। খবরের শি...       national  \n",
              "2   কিছুদিন আগেই রাজ্যের গাইড বনে গিয়েছিলেন চেতেশ...         sports  \n",
              "3  কলকাতায় দুষ্কৃতীদের নজরে এখন বিভিন্ন ব্যাঙ্কের...        kolkata  \n",
              "4  সারা দিন আকচা আকচিতেই কাটিয়ে দিল দেশের দুই বৃহ...       national  \n",
              "5   বিরিয়নিটা আর হোল না। ইচ্ছে ছিল বিয়েতে বিরায়ান...        kolkata  \n",
              "6   এস কে এম কি আছেন?\\nএ খোঁজ যে রাজ্য সিপিএমের ম...          state  \n",
              "7   মহানগরের বুকে এবার  দফায় দফায় গণধর্ষণের শিকার...        kolkata  \n",
              "8   আগামী বুধবার, ২ সেপ্টেম্বর বামেদের ডাকা বনধকে...        kolkata  \n",
              "9   পেরুতে গিয়ে যদি হোটেলের ঘরে বসে সময় কাটান, তা...  international  "
            ],
            "text/html": [
              "\n",
              "  <div id=\"df-fb426489-f340-422a-85ec-91ef41af80e1\">\n",
              "    <div class=\"colab-df-container\">\n",
              "      <div>\n",
              "<style scoped>\n",
              "    .dataframe tbody tr th:only-of-type {\n",
              "        vertical-align: middle;\n",
              "    }\n",
              "\n",
              "    .dataframe tbody tr th {\n",
              "        vertical-align: top;\n",
              "    }\n",
              "\n",
              "    .dataframe thead th {\n",
              "        text-align: right;\n",
              "    }\n",
              "</style>\n",
              "<table border=\"1\" class=\"dataframe\">\n",
              "  <thead>\n",
              "    <tr style=\"text-align: right;\">\n",
              "      <th></th>\n",
              "      <th>title</th>\n",
              "      <th>article</th>\n",
              "      <th>label</th>\n",
              "    </tr>\n",
              "  </thead>\n",
              "  <tbody>\n",
              "    <tr>\n",
              "      <th>0</th>\n",
              "      <td>এই অভিনেতার ‘প্রস্তাব’ মানলে ভারতীয় সিনেমার খো...</td>\n",
              "      <td>স্রেফ দু’টি টুইটেই সোশ্যাল মিডিয়ায় তোলপাড় ফে...</td>\n",
              "      <td>entertainment</td>\n",
              "    </tr>\n",
              "    <tr>\n",
              "      <th>1</th>\n",
              "      <td>সচিন সাংসদ হয়েছেন, তাই চিন্তা কম জেটলির। কেন?</td>\n",
              "      <td>একবার রেল বাজেট। একবার সাধারণ বাজেট। খবরের শি...</td>\n",
              "      <td>national</td>\n",
              "    </tr>\n",
              "    <tr>\n",
              "      <th>2</th>\n",
              "      <td>ক্রিকেটার থেকে গাইড! জাতীয় দলের ক্রিকেটারের অব...</td>\n",
              "      <td>কিছুদিন আগেই রাজ্যের গাইড বনে গিয়েছিলেন চেতেশ...</td>\n",
              "      <td>sports</td>\n",
              "    </tr>\n",
              "    <tr>\n",
              "      <th>3</th>\n",
              "      <td>দুষ্কৃতীদের নজরে এটিএম, হাল হকিকত্ ঘুরে দেখলেন...</td>\n",
              "      <td>কলকাতায় দুষ্কৃতীদের নজরে এখন বিভিন্ন ব্যাঙ্কের...</td>\n",
              "      <td>kolkata</td>\n",
              "    </tr>\n",
              "    <tr>\n",
              "      <th>4</th>\n",
              "      <td>সৌজন্যের বালাই নেই, দিনভর আকচা আকচি কং-বিজেপি’র</td>\n",
              "      <td>সারা দিন আকচা আকচিতেই কাটিয়ে দিল দেশের দুই বৃহ...</td>\n",
              "      <td>national</td>\n",
              "    </tr>\n",
              "    <tr>\n",
              "      <th>5</th>\n",
              "      <td>নোট বদলের ধাক্কায় কেমন হল বিয়ে? জানুন</td>\n",
              "      <td>বিরিয়নিটা আর হোল না। ইচ্ছে ছিল বিয়েতে বিরায়ান...</td>\n",
              "      <td>kolkata</td>\n",
              "    </tr>\n",
              "    <tr>\n",
              "      <th>6</th>\n",
              "      <td>সিপিএমের মুখিয়া</td>\n",
              "      <td>এস কে এম কি আছেন?\\nএ খোঁজ যে রাজ্য সিপিএমের ম...</td>\n",
              "      <td>state</td>\n",
              "    </tr>\n",
              "    <tr>\n",
              "      <th>7</th>\n",
              "      <td>গড়িয়ায় দফায় দফায় গণধর্ষণের শিকার অষ্টম শ্রেণির...</td>\n",
              "      <td>মহানগরের বুকে এবার  দফায় দফায় গণধর্ষণের শিকার...</td>\n",
              "      <td>kolkata</td>\n",
              "    </tr>\n",
              "    <tr>\n",
              "      <th>8</th>\n",
              "      <td>বামেদের ধর্মঘটকে সমর্থন! নবান্ন অভিযানে বামেরা...</td>\n",
              "      <td>আগামী বুধবার, ২ সেপ্টেম্বর বামেদের ডাকা বনধকে...</td>\n",
              "      <td>kolkata</td>\n",
              "    </tr>\n",
              "    <tr>\n",
              "      <th>9</th>\n",
              "      <td>আকাশবাড়ির হাতছানি</td>\n",
              "      <td>পেরুতে গিয়ে যদি হোটেলের ঘরে বসে সময় কাটান, তা...</td>\n",
              "      <td>international</td>\n",
              "    </tr>\n",
              "  </tbody>\n",
              "</table>\n",
              "</div>\n",
              "      <button class=\"colab-df-convert\" onclick=\"convertToInteractive('df-fb426489-f340-422a-85ec-91ef41af80e1')\"\n",
              "              title=\"Convert this dataframe to an interactive table.\"\n",
              "              style=\"display:none;\">\n",
              "        \n",
              "  <svg xmlns=\"http://www.w3.org/2000/svg\" height=\"24px\"viewBox=\"0 0 24 24\"\n",
              "       width=\"24px\">\n",
              "    <path d=\"M0 0h24v24H0V0z\" fill=\"none\"/>\n",
              "    <path d=\"M18.56 5.44l.94 2.06.94-2.06 2.06-.94-2.06-.94-.94-2.06-.94 2.06-2.06.94zm-11 1L8.5 8.5l.94-2.06 2.06-.94-2.06-.94L8.5 2.5l-.94 2.06-2.06.94zm10 10l.94 2.06.94-2.06 2.06-.94-2.06-.94-.94-2.06-.94 2.06-2.06.94z\"/><path d=\"M17.41 7.96l-1.37-1.37c-.4-.4-.92-.59-1.43-.59-.52 0-1.04.2-1.43.59L10.3 9.45l-7.72 7.72c-.78.78-.78 2.05 0 2.83L4 21.41c.39.39.9.59 1.41.59.51 0 1.02-.2 1.41-.59l7.78-7.78 2.81-2.81c.8-.78.8-2.07 0-2.86zM5.41 20L4 18.59l7.72-7.72 1.47 1.35L5.41 20z\"/>\n",
              "  </svg>\n",
              "      </button>\n",
              "      \n",
              "  <style>\n",
              "    .colab-df-container {\n",
              "      display:flex;\n",
              "      flex-wrap:wrap;\n",
              "      gap: 12px;\n",
              "    }\n",
              "\n",
              "    .colab-df-convert {\n",
              "      background-color: #E8F0FE;\n",
              "      border: none;\n",
              "      border-radius: 50%;\n",
              "      cursor: pointer;\n",
              "      display: none;\n",
              "      fill: #1967D2;\n",
              "      height: 32px;\n",
              "      padding: 0 0 0 0;\n",
              "      width: 32px;\n",
              "    }\n",
              "\n",
              "    .colab-df-convert:hover {\n",
              "      background-color: #E2EBFA;\n",
              "      box-shadow: 0px 1px 2px rgba(60, 64, 67, 0.3), 0px 1px 3px 1px rgba(60, 64, 67, 0.15);\n",
              "      fill: #174EA6;\n",
              "    }\n",
              "\n",
              "    [theme=dark] .colab-df-convert {\n",
              "      background-color: #3B4455;\n",
              "      fill: #D2E3FC;\n",
              "    }\n",
              "\n",
              "    [theme=dark] .colab-df-convert:hover {\n",
              "      background-color: #434B5C;\n",
              "      box-shadow: 0px 1px 3px 1px rgba(0, 0, 0, 0.15);\n",
              "      filter: drop-shadow(0px 1px 2px rgba(0, 0, 0, 0.3));\n",
              "      fill: #FFFFFF;\n",
              "    }\n",
              "  </style>\n",
              "\n",
              "      <script>\n",
              "        const buttonEl =\n",
              "          document.querySelector('#df-fb426489-f340-422a-85ec-91ef41af80e1 button.colab-df-convert');\n",
              "        buttonEl.style.display =\n",
              "          google.colab.kernel.accessAllowed ? 'block' : 'none';\n",
              "\n",
              "        async function convertToInteractive(key) {\n",
              "          const element = document.querySelector('#df-fb426489-f340-422a-85ec-91ef41af80e1');\n",
              "          const dataTable =\n",
              "            await google.colab.kernel.invokeFunction('convertToInteractive',\n",
              "                                                     [key], {});\n",
              "          if (!dataTable) return;\n",
              "\n",
              "          const docLinkHtml = 'Like what you see? Visit the ' +\n",
              "            '<a target=\"_blank\" href=https://colab.research.google.com/notebooks/data_table.ipynb>data table notebook</a>'\n",
              "            + ' to learn more about interactive tables.';\n",
              "          element.innerHTML = '';\n",
              "          dataTable['output_type'] = 'display_data';\n",
              "          await google.colab.output.renderOutput(dataTable, element);\n",
              "          const docLink = document.createElement('div');\n",
              "          docLink.innerHTML = docLinkHtml;\n",
              "          element.appendChild(docLink);\n",
              "        }\n",
              "      </script>\n",
              "    </div>\n",
              "  </div>\n",
              "  "
            ]
          },
          "metadata": {},
          "execution_count": 7
        }
      ],
      "source": [
        "content_df.head(10)"
      ]
    },
    {
      "cell_type": "markdown",
      "metadata": {
        "id": "sjJpU6lTGK51"
      },
      "source": [
        "## Details about dataset"
      ]
    },
    {
      "cell_type": "code",
      "source": [
        "itemid=\"title\""
      ],
      "metadata": {
        "id": "4u2f4NWQa14z"
      },
      "execution_count": null,
      "outputs": []
    },
    {
      "cell_type": "code",
      "execution_count": null,
      "metadata": {
        "id": "LpnvsLU_U-7O"
      },
      "outputs": [],
      "source": [
        "features=['title','article']"
      ]
    },
    {
      "cell_type": "code",
      "source": [
        "allcols=[itemid]\n",
        "for i in features:\n",
        "  allcols.append(i)"
      ],
      "metadata": {
        "id": "eyCiKMqygxVk"
      },
      "execution_count": null,
      "outputs": []
    },
    {
      "cell_type": "markdown",
      "metadata": {
        "id": "D_UJlmcgZNBc"
      },
      "source": [
        "# Setup"
      ]
    },
    {
      "cell_type": "code",
      "source": [
        "content_df['NewTag']=\"\"\n",
        "\n",
        "for i in features:\n",
        "  content_df[i] = content_df[i].fillna(' ')\n",
        "for i in features:\n",
        "  content_df['NewTag']+=(' '+content_df[i])\n",
        "content_df['NewTag']=content_df['NewTag'].astype(str)"
      ],
      "metadata": {
        "id": "frDDfbP5YT_7"
      },
      "execution_count": null,
      "outputs": []
    },
    {
      "cell_type": "code",
      "source": [
        "import nltk\n",
        "nltk.download('stopwords')\n",
        "nltk.download('punkt')\n",
        "nltk.download('wordnet')\n",
        "nltk.download('omw-1.4')"
      ],
      "metadata": {
        "colab": {
          "base_uri": "https://localhost:8080/"
        },
        "id": "DJ5l6HbYvKHi",
        "outputId": "04c06414-795c-458f-d73a-8d2e0bd5905f"
      },
      "execution_count": null,
      "outputs": [
        {
          "output_type": "stream",
          "name": "stderr",
          "text": [
            "[nltk_data] Downloading package stopwords to /root/nltk_data...\n",
            "[nltk_data]   Unzipping corpora/stopwords.zip.\n",
            "[nltk_data] Downloading package punkt to /root/nltk_data...\n",
            "[nltk_data]   Unzipping tokenizers/punkt.zip.\n",
            "[nltk_data] Downloading package wordnet to /root/nltk_data...\n",
            "[nltk_data] Downloading package omw-1.4 to /root/nltk_data...\n"
          ]
        },
        {
          "output_type": "execute_result",
          "data": {
            "text/plain": [
              "True"
            ]
          },
          "metadata": {},
          "execution_count": 15
        }
      ]
    },
    {
      "cell_type": "code",
      "source": [
        "from nltk.stem import WordNetLemmatizer\n",
        "from nltk.corpus import stopwords\n",
        "from nltk.tokenize import word_tokenize\n",
        "import re"
      ],
      "metadata": {
        "id": "sdSO2W5rYT_7"
      },
      "execution_count": null,
      "outputs": []
    },
    {
      "cell_type": "code",
      "source": [
        "def clean_text(text):\n",
        "    \n",
        "    text = text.lower()  # lowercase text\n",
        "    # replace the matched string with ' '\n",
        "    text = re.sub( re.compile(\"\\'s\"), ' ', text)\n",
        "    text = re.sub(re.compile(\"\\\\r\\\\n\"), ' ', text)\n",
        "    text = re.sub(re.compile(r\"[^\\w\\s]\"), ' ', text)\n",
        "    return text"
      ],
      "metadata": {
        "id": "hZ8HmiLbukp6"
      },
      "execution_count": null,
      "outputs": []
    },
    {
      "cell_type": "code",
      "source": [
        "stopwords=set(stopwords.words('bengali'))"
      ],
      "metadata": {
        "id": "SZqqCS7ZvF1a"
      },
      "execution_count": null,
      "outputs": []
    },
    {
      "cell_type": "code",
      "source": [
        "def stopwprds_removal_gensim_custom(str):\n",
        "  \n",
        "    text_tokens = word_tokenize(str)\n",
        "    tokens_without_sw = [word for word in text_tokens if not word in stopwords]\n",
        "    str_t = \" \".join(tokens_without_sw)\n",
        "\n",
        "    return str_t"
      ],
      "metadata": {
        "id": "pZnlWqy4u_2U"
      },
      "execution_count": null,
      "outputs": []
    },
    {
      "cell_type": "code",
      "source": [
        "\n",
        "content_df['clean'] = content_df['NewTag'].apply(stopwprds_removal_gensim_custom) \n"
      ],
      "metadata": {
        "id": "lGExRuccYT_8"
      },
      "execution_count": null,
      "outputs": []
    },
    {
      "cell_type": "code",
      "source": [
        "tokenized_corpus = [doc.split(\" \") for doc in content_df['clean'].values]"
      ],
      "metadata": {
        "id": "2jptKS1eXOXC"
      },
      "execution_count": null,
      "outputs": []
    },
    {
      "cell_type": "markdown",
      "source": [
        "# Gensim BM25"
      ],
      "metadata": {
        "id": "o67frnbNafKS"
      }
    },
    {
      "cell_type": "code",
      "source": [
        "from gensim import corpora\n",
        "from gensim.summarization import bm25\n",
        "\n",
        "text_token = [doc.split() for doc in content_df['clean'].values] # you can do preprocessing as removing stopwords\n",
        "# dictionary = corpora.Dictionary(texts)\n",
        "# corpus = [dictionary.doc2bow(text) for text in texts]\n",
        "bm25_obj = bm25.BM25(text_token)\n"
      ],
      "metadata": {
        "id": "_wWTB_tqakcw"
      },
      "execution_count": null,
      "outputs": []
    },
    {
      "cell_type": "code",
      "source": [
        "search_query=\"ক্রিকেটার থেকে গাইড\"\n",
        "query_doc = search_query.split()\n"
      ],
      "metadata": {
        "id": "PBsVjWVnat4p"
      },
      "execution_count": null,
      "outputs": []
    },
    {
      "cell_type": "code",
      "source": [
        "scores = bm25_obj.get_scores(query_doc,text_token)\n",
        "best_docs = sorted(range(len(scores)), key=lambda i: scores[i])[-10:]\n",
        "best_docs"
      ],
      "metadata": {
        "colab": {
          "base_uri": "https://localhost:8080/"
        },
        "id": "jE8-mvwBbAEI",
        "outputId": "3ca64a99-cb39-4650-d280-3120fc4c0503"
      },
      "execution_count": null,
      "outputs": [
        {
          "output_type": "execute_result",
          "data": {
            "text/plain": [
              "[4124, 2200, 8297, 5208, 9002, 9822, 8128, 5146, 9625, 2]"
            ]
          },
          "metadata": {},
          "execution_count": 32
        }
      ]
    },
    {
      "cell_type": "code",
      "source": [
        "itemids=[]\n",
        "for i in best_docs:\n",
        "  itemids.append(content_df.iloc[i][itemid])"
      ],
      "metadata": {
        "id": "a2bSb2ktikeh"
      },
      "execution_count": null,
      "outputs": []
    },
    {
      "cell_type": "code",
      "source": [
        "content_df[content_df[itemid].isin(itemids)]"
      ],
      "metadata": {
        "colab": {
          "base_uri": "https://localhost:8080/",
          "height": 363
        },
        "id": "zxkQ8mXZi65G",
        "outputId": "260b1570-38cd-4e6b-c6a8-1a55d6f600a0"
      },
      "execution_count": null,
      "outputs": [
        {
          "output_type": "execute_result",
          "data": {
            "text/plain": [
              "                                                  title  \\\n",
              "2     ক্রিকেটার থেকে গাইড! জাতীয় দলের ক্রিকেটারের অব...   \n",
              "2200  বিরাট-ধোনি নন! সুন্দরী সোনাক্ষীর হৃদয়ে কোন ক্র...   \n",
              "4124  মাঠেই মৃত্যু প্রাক্তন ভারতীয় ক্রিকেটারের, অকাল...   \n",
              "5146  তোলাবাজদের এবার দলেও জায়গা নেই, হুঁশিয়ারি মমতা...   \n",
              "5208             আইসিসি-র সেরার তালিকায় কোনও ভারতীয় নেই   \n",
              "8128  হুগলীতে তৃণমূলের 'মাথাব্যাথা' গোষ্ঠী দ্বন্দ্ব...   \n",
              "8297  কোহলির হাতে বিশ্বকাপ দেখতে বাজি দুই তারকা ক্রি...   \n",
              "9002  সা রে গা মা পা মঞ্চে নজিরবিহীন সিদ্ধান্ত! জিত ...   \n",
              "9625                  আজ হাইকোর্টে টেট মামলার রায় ঘোষণা   \n",
              "9822           তালিবানের আতঙ্ক দূর হয়ে ক্রিকেট এখন কবুল   \n",
              "\n",
              "                                                article          label  \\\n",
              "2      কিছুদিন আগেই রাজ্যের গাইড বনে গিয়েছিলেন চেতেশ...         sports   \n",
              "2200   আইপিএল মানেই বিনোদন আর ধুমধাড়াক্কা ক্রিকেটের...         sports   \n",
              "4124   প্রাক্তন রঞ্জি ক্রিকেটার এবং কোচ অমৃক সিংহ না...         sports   \n",
              "5146   সিন্ডিকেট তোলাবাজির দাপট কোনও ভাবেই বরদাস্ত ...        kolkata   \n",
              "5208   আইসিসি-র সেরার তালিকায় জায়গা পেলেন না কোনও ভা...         sports   \n",
              "8128   কোনও ভাবে বরদাস্ত করা হবে না গোষ্ঠী দ্বন্দ্...        kolkata   \n",
              "8297   ২০১৯ বিশ্বকাপের দিকে তাকিয়ে রয়েছেন ভারতের নির...         sports   \n",
              "9002   এবছরের ‘সা রে গা মা পা লিল চ্যাম্পস’ প্রতিযোগ...  entertainment   \n",
              "9625   আজ হাইকোর্টে টেট মামলার রায় ঘোষণা। দুহাজার বা...        kolkata   \n",
              "9822   ইডেন গার্ডেন্স দেখার পর অভিভূত হয়ে জানতে চান—...         sports   \n",
              "\n",
              "                                                 NewTag  \\\n",
              "2      ক্রিকেটার থেকে গাইড! জাতীয় দলের ক্রিকেটারের অ...   \n",
              "2200   বিরাট-ধোনি নন! সুন্দরী সোনাক্ষীর হৃদয়ে কোন ক্...   \n",
              "4124   মাঠেই মৃত্যু প্রাক্তন ভারতীয় ক্রিকেটারের, অকা...   \n",
              "5146   তোলাবাজদের এবার দলেও জায়গা নেই, হুঁশিয়ারি মমত...   \n",
              "5208   আইসিসি-র সেরার তালিকায় কোনও ভারতীয় নেই  আইসিস...   \n",
              "8128   হুগলীতে তৃণমূলের 'মাথাব্যাথা' গোষ্ঠী দ্বন্দ্...   \n",
              "8297   কোহলির হাতে বিশ্বকাপ দেখতে বাজি দুই তারকা ক্র...   \n",
              "9002   সা রে গা মা পা মঞ্চে নজিরবিহীন সিদ্ধান্ত! জিত...   \n",
              "9625   আজ হাইকোর্টে টেট মামলার রায় ঘোষণা  আজ হাইকোর্...   \n",
              "9822   তালিবানের আতঙ্ক দূর হয়ে ক্রিকেট এখন কবুল  ইডে...   \n",
              "\n",
              "                                                  clean  \n",
              "2     ক্রিকেটার গাইড ! জাতীয় দলের ক্রিকেটারের অবাক ভ...  \n",
              "2200  বিরাট-ধোনি নন ! সুন্দরী সোনাক্ষীর হৃদয়ে ক্রিকে...  \n",
              "4124  মাঠেই মৃত্যু প্রাক্তন ভারতীয় ক্রিকেটারের , অকা...  \n",
              "5146  তোলাবাজদের দলেও জায়গা , হুঁশিয়ারি মমতা বন্দ্যো...  \n",
              "5208  আইসিসি-র সেরার তালিকায় ভারতীয় আইসিসি-র সেরার ত...  \n",
              "8128  হুগলীতে তৃণমূলের ' মাথাব্যাথা ' গোষ্ঠী দ্বন্দ...  \n",
              "8297  কোহলির হাতে বিশ্বকাপ বাজি তারকা ক্রিকেটার , ভা...  \n",
              "9002  সা রে গা মা পা মঞ্চে নজিরবিহীন সিদ্ধান্ত ! জিত...  \n",
              "9625  হাইকোর্টে টেট মামলার রায় ঘোষণা হাইকোর্টে টেট ম...  \n",
              "9822  তালিবানের আতঙ্ক দূর হয়ে ক্রিকেট কবুল ইডেন গার্...  "
            ],
            "text/html": [
              "\n",
              "  <div id=\"df-8870eb5f-7d85-4e43-b347-8e70f70f07cc\">\n",
              "    <div class=\"colab-df-container\">\n",
              "      <div>\n",
              "<style scoped>\n",
              "    .dataframe tbody tr th:only-of-type {\n",
              "        vertical-align: middle;\n",
              "    }\n",
              "\n",
              "    .dataframe tbody tr th {\n",
              "        vertical-align: top;\n",
              "    }\n",
              "\n",
              "    .dataframe thead th {\n",
              "        text-align: right;\n",
              "    }\n",
              "</style>\n",
              "<table border=\"1\" class=\"dataframe\">\n",
              "  <thead>\n",
              "    <tr style=\"text-align: right;\">\n",
              "      <th></th>\n",
              "      <th>title</th>\n",
              "      <th>article</th>\n",
              "      <th>label</th>\n",
              "      <th>NewTag</th>\n",
              "      <th>clean</th>\n",
              "    </tr>\n",
              "  </thead>\n",
              "  <tbody>\n",
              "    <tr>\n",
              "      <th>2</th>\n",
              "      <td>ক্রিকেটার থেকে গাইড! জাতীয় দলের ক্রিকেটারের অব...</td>\n",
              "      <td>কিছুদিন আগেই রাজ্যের গাইড বনে গিয়েছিলেন চেতেশ...</td>\n",
              "      <td>sports</td>\n",
              "      <td>ক্রিকেটার থেকে গাইড! জাতীয় দলের ক্রিকেটারের অ...</td>\n",
              "      <td>ক্রিকেটার গাইড ! জাতীয় দলের ক্রিকেটারের অবাক ভ...</td>\n",
              "    </tr>\n",
              "    <tr>\n",
              "      <th>2200</th>\n",
              "      <td>বিরাট-ধোনি নন! সুন্দরী সোনাক্ষীর হৃদয়ে কোন ক্র...</td>\n",
              "      <td>আইপিএল মানেই বিনোদন আর ধুমধাড়াক্কা ক্রিকেটের...</td>\n",
              "      <td>sports</td>\n",
              "      <td>বিরাট-ধোনি নন! সুন্দরী সোনাক্ষীর হৃদয়ে কোন ক্...</td>\n",
              "      <td>বিরাট-ধোনি নন ! সুন্দরী সোনাক্ষীর হৃদয়ে ক্রিকে...</td>\n",
              "    </tr>\n",
              "    <tr>\n",
              "      <th>4124</th>\n",
              "      <td>মাঠেই মৃত্যু প্রাক্তন ভারতীয় ক্রিকেটারের, অকাল...</td>\n",
              "      <td>প্রাক্তন রঞ্জি ক্রিকেটার এবং কোচ অমৃক সিংহ না...</td>\n",
              "      <td>sports</td>\n",
              "      <td>মাঠেই মৃত্যু প্রাক্তন ভারতীয় ক্রিকেটারের, অকা...</td>\n",
              "      <td>মাঠেই মৃত্যু প্রাক্তন ভারতীয় ক্রিকেটারের , অকা...</td>\n",
              "    </tr>\n",
              "    <tr>\n",
              "      <th>5146</th>\n",
              "      <td>তোলাবাজদের এবার দলেও জায়গা নেই, হুঁশিয়ারি মমতা...</td>\n",
              "      <td>সিন্ডিকেট তোলাবাজির দাপট কোনও ভাবেই বরদাস্ত ...</td>\n",
              "      <td>kolkata</td>\n",
              "      <td>তোলাবাজদের এবার দলেও জায়গা নেই, হুঁশিয়ারি মমত...</td>\n",
              "      <td>তোলাবাজদের দলেও জায়গা , হুঁশিয়ারি মমতা বন্দ্যো...</td>\n",
              "    </tr>\n",
              "    <tr>\n",
              "      <th>5208</th>\n",
              "      <td>আইসিসি-র সেরার তালিকায় কোনও ভারতীয় নেই</td>\n",
              "      <td>আইসিসি-র সেরার তালিকায় জায়গা পেলেন না কোনও ভা...</td>\n",
              "      <td>sports</td>\n",
              "      <td>আইসিসি-র সেরার তালিকায় কোনও ভারতীয় নেই  আইসিস...</td>\n",
              "      <td>আইসিসি-র সেরার তালিকায় ভারতীয় আইসিসি-র সেরার ত...</td>\n",
              "    </tr>\n",
              "    <tr>\n",
              "      <th>8128</th>\n",
              "      <td>হুগলীতে তৃণমূলের 'মাথাব্যাথা' গোষ্ঠী দ্বন্দ্ব...</td>\n",
              "      <td>কোনও ভাবে বরদাস্ত করা হবে না গোষ্ঠী দ্বন্দ্...</td>\n",
              "      <td>kolkata</td>\n",
              "      <td>হুগলীতে তৃণমূলের 'মাথাব্যাথা' গোষ্ঠী দ্বন্দ্...</td>\n",
              "      <td>হুগলীতে তৃণমূলের ' মাথাব্যাথা ' গোষ্ঠী দ্বন্দ...</td>\n",
              "    </tr>\n",
              "    <tr>\n",
              "      <th>8297</th>\n",
              "      <td>কোহলির হাতে বিশ্বকাপ দেখতে বাজি দুই তারকা ক্রি...</td>\n",
              "      <td>২০১৯ বিশ্বকাপের দিকে তাকিয়ে রয়েছেন ভারতের নির...</td>\n",
              "      <td>sports</td>\n",
              "      <td>কোহলির হাতে বিশ্বকাপ দেখতে বাজি দুই তারকা ক্র...</td>\n",
              "      <td>কোহলির হাতে বিশ্বকাপ বাজি তারকা ক্রিকেটার , ভা...</td>\n",
              "    </tr>\n",
              "    <tr>\n",
              "      <th>9002</th>\n",
              "      <td>সা রে গা মা পা মঞ্চে নজিরবিহীন সিদ্ধান্ত! জিত ...</td>\n",
              "      <td>এবছরের ‘সা রে গা মা পা লিল চ্যাম্পস’ প্রতিযোগ...</td>\n",
              "      <td>entertainment</td>\n",
              "      <td>সা রে গা মা পা মঞ্চে নজিরবিহীন সিদ্ধান্ত! জিত...</td>\n",
              "      <td>সা রে গা মা পা মঞ্চে নজিরবিহীন সিদ্ধান্ত ! জিত...</td>\n",
              "    </tr>\n",
              "    <tr>\n",
              "      <th>9625</th>\n",
              "      <td>আজ হাইকোর্টে টেট মামলার রায় ঘোষণা</td>\n",
              "      <td>আজ হাইকোর্টে টেট মামলার রায় ঘোষণা। দুহাজার বা...</td>\n",
              "      <td>kolkata</td>\n",
              "      <td>আজ হাইকোর্টে টেট মামলার রায় ঘোষণা  আজ হাইকোর্...</td>\n",
              "      <td>হাইকোর্টে টেট মামলার রায় ঘোষণা হাইকোর্টে টেট ম...</td>\n",
              "    </tr>\n",
              "    <tr>\n",
              "      <th>9822</th>\n",
              "      <td>তালিবানের আতঙ্ক দূর হয়ে ক্রিকেট এখন কবুল</td>\n",
              "      <td>ইডেন গার্ডেন্স দেখার পর অভিভূত হয়ে জানতে চান—...</td>\n",
              "      <td>sports</td>\n",
              "      <td>তালিবানের আতঙ্ক দূর হয়ে ক্রিকেট এখন কবুল  ইডে...</td>\n",
              "      <td>তালিবানের আতঙ্ক দূর হয়ে ক্রিকেট কবুল ইডেন গার্...</td>\n",
              "    </tr>\n",
              "  </tbody>\n",
              "</table>\n",
              "</div>\n",
              "      <button class=\"colab-df-convert\" onclick=\"convertToInteractive('df-8870eb5f-7d85-4e43-b347-8e70f70f07cc')\"\n",
              "              title=\"Convert this dataframe to an interactive table.\"\n",
              "              style=\"display:none;\">\n",
              "        \n",
              "  <svg xmlns=\"http://www.w3.org/2000/svg\" height=\"24px\"viewBox=\"0 0 24 24\"\n",
              "       width=\"24px\">\n",
              "    <path d=\"M0 0h24v24H0V0z\" fill=\"none\"/>\n",
              "    <path d=\"M18.56 5.44l.94 2.06.94-2.06 2.06-.94-2.06-.94-.94-2.06-.94 2.06-2.06.94zm-11 1L8.5 8.5l.94-2.06 2.06-.94-2.06-.94L8.5 2.5l-.94 2.06-2.06.94zm10 10l.94 2.06.94-2.06 2.06-.94-2.06-.94-.94-2.06-.94 2.06-2.06.94z\"/><path d=\"M17.41 7.96l-1.37-1.37c-.4-.4-.92-.59-1.43-.59-.52 0-1.04.2-1.43.59L10.3 9.45l-7.72 7.72c-.78.78-.78 2.05 0 2.83L4 21.41c.39.39.9.59 1.41.59.51 0 1.02-.2 1.41-.59l7.78-7.78 2.81-2.81c.8-.78.8-2.07 0-2.86zM5.41 20L4 18.59l7.72-7.72 1.47 1.35L5.41 20z\"/>\n",
              "  </svg>\n",
              "      </button>\n",
              "      \n",
              "  <style>\n",
              "    .colab-df-container {\n",
              "      display:flex;\n",
              "      flex-wrap:wrap;\n",
              "      gap: 12px;\n",
              "    }\n",
              "\n",
              "    .colab-df-convert {\n",
              "      background-color: #E8F0FE;\n",
              "      border: none;\n",
              "      border-radius: 50%;\n",
              "      cursor: pointer;\n",
              "      display: none;\n",
              "      fill: #1967D2;\n",
              "      height: 32px;\n",
              "      padding: 0 0 0 0;\n",
              "      width: 32px;\n",
              "    }\n",
              "\n",
              "    .colab-df-convert:hover {\n",
              "      background-color: #E2EBFA;\n",
              "      box-shadow: 0px 1px 2px rgba(60, 64, 67, 0.3), 0px 1px 3px 1px rgba(60, 64, 67, 0.15);\n",
              "      fill: #174EA6;\n",
              "    }\n",
              "\n",
              "    [theme=dark] .colab-df-convert {\n",
              "      background-color: #3B4455;\n",
              "      fill: #D2E3FC;\n",
              "    }\n",
              "\n",
              "    [theme=dark] .colab-df-convert:hover {\n",
              "      background-color: #434B5C;\n",
              "      box-shadow: 0px 1px 3px 1px rgba(0, 0, 0, 0.15);\n",
              "      filter: drop-shadow(0px 1px 2px rgba(0, 0, 0, 0.3));\n",
              "      fill: #FFFFFF;\n",
              "    }\n",
              "  </style>\n",
              "\n",
              "      <script>\n",
              "        const buttonEl =\n",
              "          document.querySelector('#df-8870eb5f-7d85-4e43-b347-8e70f70f07cc button.colab-df-convert');\n",
              "        buttonEl.style.display =\n",
              "          google.colab.kernel.accessAllowed ? 'block' : 'none';\n",
              "\n",
              "        async function convertToInteractive(key) {\n",
              "          const element = document.querySelector('#df-8870eb5f-7d85-4e43-b347-8e70f70f07cc');\n",
              "          const dataTable =\n",
              "            await google.colab.kernel.invokeFunction('convertToInteractive',\n",
              "                                                     [key], {});\n",
              "          if (!dataTable) return;\n",
              "\n",
              "          const docLinkHtml = 'Like what you see? Visit the ' +\n",
              "            '<a target=\"_blank\" href=https://colab.research.google.com/notebooks/data_table.ipynb>data table notebook</a>'\n",
              "            + ' to learn more about interactive tables.';\n",
              "          element.innerHTML = '';\n",
              "          dataTable['output_type'] = 'display_data';\n",
              "          await google.colab.output.renderOutput(dataTable, element);\n",
              "          const docLink = document.createElement('div');\n",
              "          docLink.innerHTML = docLinkHtml;\n",
              "          element.appendChild(docLink);\n",
              "        }\n",
              "      </script>\n",
              "    </div>\n",
              "  </div>\n",
              "  "
            ]
          },
          "metadata": {},
          "execution_count": 34
        }
      ]
    },
    {
      "cell_type": "markdown",
      "source": [
        "# Rank BM25Okapi"
      ],
      "metadata": {
        "id": "BqcS7-RMBY3k"
      }
    },
    {
      "cell_type": "code",
      "source": [
        "from rank_bm25 import *"
      ],
      "metadata": {
        "id": "64OXyDHtYdaU"
      },
      "execution_count": null,
      "outputs": []
    },
    {
      "cell_type": "code",
      "source": [
        "bm25 = BM25Okapi(tokenized_corpus)"
      ],
      "metadata": {
        "id": "i2JORoBBYq6o"
      },
      "execution_count": null,
      "outputs": []
    },
    {
      "cell_type": "code",
      "source": [
        "search_query=\"ক্রিকেটার থেকে গাইড\"\n",
        "tokenized_query = search_query.split(\" \")\n",
        "doc_scores = bm25.get_scores(tokenized_query)\n",
        "docs = bm25.get_top_n(query=tokenized_query, documents=content_df['clean'].values, n=10)\n",
        "df_search = content_df[content_df[\"clean\"].isin(docs)]\n",
        "df_search.head()\n"
      ],
      "metadata": {
        "id": "4x--wS5PF018",
        "colab": {
          "base_uri": "https://localhost:8080/",
          "height": 206
        },
        "outputId": "5b907e03-e505-40b2-e50e-6d8500e2d458"
      },
      "execution_count": null,
      "outputs": [
        {
          "output_type": "execute_result",
          "data": {
            "text/plain": [
              "                                                  title  \\\n",
              "2     ক্রিকেটার থেকে গাইড! জাতীয় দলের ক্রিকেটারের অব...   \n",
              "2200  বিরাট-ধোনি নন! সুন্দরী সোনাক্ষীর হৃদয়ে কোন ক্র...   \n",
              "4124  মাঠেই মৃত্যু প্রাক্তন ভারতীয় ক্রিকেটারের, অকাল...   \n",
              "5146  তোলাবাজদের এবার দলেও জায়গা নেই, হুঁশিয়ারি মমতা...   \n",
              "5208             আইসিসি-র সেরার তালিকায় কোনও ভারতীয় নেই   \n",
              "\n",
              "                                                article    label  \\\n",
              "2      কিছুদিন আগেই রাজ্যের গাইড বনে গিয়েছিলেন চেতেশ...   sports   \n",
              "2200   আইপিএল মানেই বিনোদন আর ধুমধাড়াক্কা ক্রিকেটের...   sports   \n",
              "4124   প্রাক্তন রঞ্জি ক্রিকেটার এবং কোচ অমৃক সিংহ না...   sports   \n",
              "5146   সিন্ডিকেট তোলাবাজির দাপট কোনও ভাবেই বরদাস্ত ...  kolkata   \n",
              "5208   আইসিসি-র সেরার তালিকায় জায়গা পেলেন না কোনও ভা...   sports   \n",
              "\n",
              "                                                 NewTag  \\\n",
              "2      ক্রিকেটার থেকে গাইড! জাতীয় দলের ক্রিকেটারের অ...   \n",
              "2200   বিরাট-ধোনি নন! সুন্দরী সোনাক্ষীর হৃদয়ে কোন ক্...   \n",
              "4124   মাঠেই মৃত্যু প্রাক্তন ভারতীয় ক্রিকেটারের, অকা...   \n",
              "5146   তোলাবাজদের এবার দলেও জায়গা নেই, হুঁশিয়ারি মমত...   \n",
              "5208   আইসিসি-র সেরার তালিকায় কোনও ভারতীয় নেই  আইসিস...   \n",
              "\n",
              "                                                  clean  \n",
              "2     ক্রিকেটার গাইড ! জাতীয় দলের ক্রিকেটারের অবাক ভ...  \n",
              "2200  বিরাট-ধোনি নন ! সুন্দরী সোনাক্ষীর হৃদয়ে ক্রিকে...  \n",
              "4124  মাঠেই মৃত্যু প্রাক্তন ভারতীয় ক্রিকেটারের , অকা...  \n",
              "5146  তোলাবাজদের দলেও জায়গা , হুঁশিয়ারি মমতা বন্দ্যো...  \n",
              "5208  আইসিসি-র সেরার তালিকায় ভারতীয় আইসিসি-র সেরার ত...  "
            ],
            "text/html": [
              "\n",
              "  <div id=\"df-9b5387b1-8b89-4c88-8349-a18b7b48ec05\">\n",
              "    <div class=\"colab-df-container\">\n",
              "      <div>\n",
              "<style scoped>\n",
              "    .dataframe tbody tr th:only-of-type {\n",
              "        vertical-align: middle;\n",
              "    }\n",
              "\n",
              "    .dataframe tbody tr th {\n",
              "        vertical-align: top;\n",
              "    }\n",
              "\n",
              "    .dataframe thead th {\n",
              "        text-align: right;\n",
              "    }\n",
              "</style>\n",
              "<table border=\"1\" class=\"dataframe\">\n",
              "  <thead>\n",
              "    <tr style=\"text-align: right;\">\n",
              "      <th></th>\n",
              "      <th>title</th>\n",
              "      <th>article</th>\n",
              "      <th>label</th>\n",
              "      <th>NewTag</th>\n",
              "      <th>clean</th>\n",
              "    </tr>\n",
              "  </thead>\n",
              "  <tbody>\n",
              "    <tr>\n",
              "      <th>2</th>\n",
              "      <td>ক্রিকেটার থেকে গাইড! জাতীয় দলের ক্রিকেটারের অব...</td>\n",
              "      <td>কিছুদিন আগেই রাজ্যের গাইড বনে গিয়েছিলেন চেতেশ...</td>\n",
              "      <td>sports</td>\n",
              "      <td>ক্রিকেটার থেকে গাইড! জাতীয় দলের ক্রিকেটারের অ...</td>\n",
              "      <td>ক্রিকেটার গাইড ! জাতীয় দলের ক্রিকেটারের অবাক ভ...</td>\n",
              "    </tr>\n",
              "    <tr>\n",
              "      <th>2200</th>\n",
              "      <td>বিরাট-ধোনি নন! সুন্দরী সোনাক্ষীর হৃদয়ে কোন ক্র...</td>\n",
              "      <td>আইপিএল মানেই বিনোদন আর ধুমধাড়াক্কা ক্রিকেটের...</td>\n",
              "      <td>sports</td>\n",
              "      <td>বিরাট-ধোনি নন! সুন্দরী সোনাক্ষীর হৃদয়ে কোন ক্...</td>\n",
              "      <td>বিরাট-ধোনি নন ! সুন্দরী সোনাক্ষীর হৃদয়ে ক্রিকে...</td>\n",
              "    </tr>\n",
              "    <tr>\n",
              "      <th>4124</th>\n",
              "      <td>মাঠেই মৃত্যু প্রাক্তন ভারতীয় ক্রিকেটারের, অকাল...</td>\n",
              "      <td>প্রাক্তন রঞ্জি ক্রিকেটার এবং কোচ অমৃক সিংহ না...</td>\n",
              "      <td>sports</td>\n",
              "      <td>মাঠেই মৃত্যু প্রাক্তন ভারতীয় ক্রিকেটারের, অকা...</td>\n",
              "      <td>মাঠেই মৃত্যু প্রাক্তন ভারতীয় ক্রিকেটারের , অকা...</td>\n",
              "    </tr>\n",
              "    <tr>\n",
              "      <th>5146</th>\n",
              "      <td>তোলাবাজদের এবার দলেও জায়গা নেই, হুঁশিয়ারি মমতা...</td>\n",
              "      <td>সিন্ডিকেট তোলাবাজির দাপট কোনও ভাবেই বরদাস্ত ...</td>\n",
              "      <td>kolkata</td>\n",
              "      <td>তোলাবাজদের এবার দলেও জায়গা নেই, হুঁশিয়ারি মমত...</td>\n",
              "      <td>তোলাবাজদের দলেও জায়গা , হুঁশিয়ারি মমতা বন্দ্যো...</td>\n",
              "    </tr>\n",
              "    <tr>\n",
              "      <th>5208</th>\n",
              "      <td>আইসিসি-র সেরার তালিকায় কোনও ভারতীয় নেই</td>\n",
              "      <td>আইসিসি-র সেরার তালিকায় জায়গা পেলেন না কোনও ভা...</td>\n",
              "      <td>sports</td>\n",
              "      <td>আইসিসি-র সেরার তালিকায় কোনও ভারতীয় নেই  আইসিস...</td>\n",
              "      <td>আইসিসি-র সেরার তালিকায় ভারতীয় আইসিসি-র সেরার ত...</td>\n",
              "    </tr>\n",
              "  </tbody>\n",
              "</table>\n",
              "</div>\n",
              "      <button class=\"colab-df-convert\" onclick=\"convertToInteractive('df-9b5387b1-8b89-4c88-8349-a18b7b48ec05')\"\n",
              "              title=\"Convert this dataframe to an interactive table.\"\n",
              "              style=\"display:none;\">\n",
              "        \n",
              "  <svg xmlns=\"http://www.w3.org/2000/svg\" height=\"24px\"viewBox=\"0 0 24 24\"\n",
              "       width=\"24px\">\n",
              "    <path d=\"M0 0h24v24H0V0z\" fill=\"none\"/>\n",
              "    <path d=\"M18.56 5.44l.94 2.06.94-2.06 2.06-.94-2.06-.94-.94-2.06-.94 2.06-2.06.94zm-11 1L8.5 8.5l.94-2.06 2.06-.94-2.06-.94L8.5 2.5l-.94 2.06-2.06.94zm10 10l.94 2.06.94-2.06 2.06-.94-2.06-.94-.94-2.06-.94 2.06-2.06.94z\"/><path d=\"M17.41 7.96l-1.37-1.37c-.4-.4-.92-.59-1.43-.59-.52 0-1.04.2-1.43.59L10.3 9.45l-7.72 7.72c-.78.78-.78 2.05 0 2.83L4 21.41c.39.39.9.59 1.41.59.51 0 1.02-.2 1.41-.59l7.78-7.78 2.81-2.81c.8-.78.8-2.07 0-2.86zM5.41 20L4 18.59l7.72-7.72 1.47 1.35L5.41 20z\"/>\n",
              "  </svg>\n",
              "      </button>\n",
              "      \n",
              "  <style>\n",
              "    .colab-df-container {\n",
              "      display:flex;\n",
              "      flex-wrap:wrap;\n",
              "      gap: 12px;\n",
              "    }\n",
              "\n",
              "    .colab-df-convert {\n",
              "      background-color: #E8F0FE;\n",
              "      border: none;\n",
              "      border-radius: 50%;\n",
              "      cursor: pointer;\n",
              "      display: none;\n",
              "      fill: #1967D2;\n",
              "      height: 32px;\n",
              "      padding: 0 0 0 0;\n",
              "      width: 32px;\n",
              "    }\n",
              "\n",
              "    .colab-df-convert:hover {\n",
              "      background-color: #E2EBFA;\n",
              "      box-shadow: 0px 1px 2px rgba(60, 64, 67, 0.3), 0px 1px 3px 1px rgba(60, 64, 67, 0.15);\n",
              "      fill: #174EA6;\n",
              "    }\n",
              "\n",
              "    [theme=dark] .colab-df-convert {\n",
              "      background-color: #3B4455;\n",
              "      fill: #D2E3FC;\n",
              "    }\n",
              "\n",
              "    [theme=dark] .colab-df-convert:hover {\n",
              "      background-color: #434B5C;\n",
              "      box-shadow: 0px 1px 3px 1px rgba(0, 0, 0, 0.15);\n",
              "      filter: drop-shadow(0px 1px 2px rgba(0, 0, 0, 0.3));\n",
              "      fill: #FFFFFF;\n",
              "    }\n",
              "  </style>\n",
              "\n",
              "      <script>\n",
              "        const buttonEl =\n",
              "          document.querySelector('#df-9b5387b1-8b89-4c88-8349-a18b7b48ec05 button.colab-df-convert');\n",
              "        buttonEl.style.display =\n",
              "          google.colab.kernel.accessAllowed ? 'block' : 'none';\n",
              "\n",
              "        async function convertToInteractive(key) {\n",
              "          const element = document.querySelector('#df-9b5387b1-8b89-4c88-8349-a18b7b48ec05');\n",
              "          const dataTable =\n",
              "            await google.colab.kernel.invokeFunction('convertToInteractive',\n",
              "                                                     [key], {});\n",
              "          if (!dataTable) return;\n",
              "\n",
              "          const docLinkHtml = 'Like what you see? Visit the ' +\n",
              "            '<a target=\"_blank\" href=https://colab.research.google.com/notebooks/data_table.ipynb>data table notebook</a>'\n",
              "            + ' to learn more about interactive tables.';\n",
              "          element.innerHTML = '';\n",
              "          dataTable['output_type'] = 'display_data';\n",
              "          await google.colab.output.renderOutput(dataTable, element);\n",
              "          const docLink = document.createElement('div');\n",
              "          docLink.innerHTML = docLinkHtml;\n",
              "          element.appendChild(docLink);\n",
              "        }\n",
              "      </script>\n",
              "    </div>\n",
              "  </div>\n",
              "  "
            ]
          },
          "metadata": {},
          "execution_count": 37
        }
      ]
    },
    {
      "cell_type": "code",
      "source": [],
      "metadata": {
        "id": "aDIMstbHZFPL"
      },
      "execution_count": null,
      "outputs": []
    }
  ]
}