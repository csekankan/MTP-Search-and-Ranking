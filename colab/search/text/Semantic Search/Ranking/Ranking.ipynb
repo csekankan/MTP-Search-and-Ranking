{
  "cells": [
    {
      "cell_type": "markdown",
      "metadata": {
        "id": "uGRD8a9sKacB"
      },
      "source": [
        "# Setup and Load dataset\n",
        "\n"
      ]
    },
    {
      "cell_type": "code",
      "execution_count": 1,
      "metadata": {
        "id": "23TOba33L4qf",
        "colab": {
          "base_uri": "https://localhost:8080/"
        },
        "outputId": "091da428-2a16-4f8b-f084-84e67d0590ba"
      },
      "outputs": [
        {
          "output_type": "stream",
          "name": "stdout",
          "text": [
            "Tue Mar 14 09:30:36 2023       \n",
            "+-----------------------------------------------------------------------------+\n",
            "| NVIDIA-SMI 525.85.12    Driver Version: 525.85.12    CUDA Version: 12.0     |\n",
            "|-------------------------------+----------------------+----------------------+\n",
            "| GPU  Name        Persistence-M| Bus-Id        Disp.A | Volatile Uncorr. ECC |\n",
            "| Fan  Temp  Perf  Pwr:Usage/Cap|         Memory-Usage | GPU-Util  Compute M. |\n",
            "|                               |                      |               MIG M. |\n",
            "|===============================+======================+======================|\n",
            "|   0  Tesla T4            Off  | 00000000:00:04.0 Off |                    0 |\n",
            "| N/A   69C    P0    28W /  70W |      0MiB / 15360MiB |      0%      Default |\n",
            "|                               |                      |                  N/A |\n",
            "+-------------------------------+----------------------+----------------------+\n",
            "                                                                               \n",
            "+-----------------------------------------------------------------------------+\n",
            "| Processes:                                                                  |\n",
            "|  GPU   GI   CI        PID   Type   Process name                  GPU Memory |\n",
            "|        ID   ID                                                   Usage      |\n",
            "|=============================================================================|\n",
            "|  No running processes found                                                 |\n",
            "+-----------------------------------------------------------------------------+\n"
          ]
        }
      ],
      "source": [
        "gpu_info = !nvidia-smi\n",
        "gpu_info = '\\n'.join(gpu_info)\n",
        "if gpu_info.find('failed') >= 0:\n",
        "  print('Not connected to a GPU')\n",
        "else:\n",
        "  print(gpu_info)"
      ]
    },
    {
      "cell_type": "code",
      "execution_count": 2,
      "metadata": {
        "id": "V1G82GuO-tez",
        "colab": {
          "base_uri": "https://localhost:8080/"
        },
        "outputId": "6c452ff6-04e2-4b74-b880-98f848a2e9f1"
      },
      "outputs": [
        {
          "output_type": "stream",
          "name": "stdout",
          "text": [
            "Your runtime has 13.6 gigabytes of available RAM\n",
            "\n",
            "Not using a high-RAM runtime\n"
          ]
        }
      ],
      "source": [
        "from psutil import virtual_memory\n",
        "ram_gb = virtual_memory().total / 1e9\n",
        "print('Your runtime has {:.1f} gigabytes of available RAM\\n'.format(ram_gb))\n",
        "\n",
        "if ram_gb < 20:\n",
        "  print('Not using a high-RAM runtime')\n",
        "else:\n",
        "  print('You are using a high-RAM runtime!')"
      ]
    },
    {
      "cell_type": "code",
      "execution_count": 3,
      "metadata": {
        "colab": {
          "base_uri": "https://localhost:8080/"
        },
        "id": "DNNR8pMXiKEE",
        "outputId": "8686c7be-fbbe-4a98-e2ea-edd81d4d76d5"
      },
      "outputs": [
        {
          "output_type": "stream",
          "name": "stdout",
          "text": [
            "Looking in indexes: https://pypi.org/simple, https://us-python.pkg.dev/colab-wheels/public/simple/\n",
            "Collecting faiss-gpu\n",
            "  Downloading faiss_gpu-1.7.2-cp39-cp39-manylinux_2_17_x86_64.manylinux2014_x86_64.whl (85.5 MB)\n",
            "\u001b[2K     \u001b[90m━━━━━━━━━━━━━━━━━━━━━━━━━━━━━━━━━━━━━━━━\u001b[0m \u001b[32m85.5/85.5 MB\u001b[0m \u001b[31m11.9 MB/s\u001b[0m eta \u001b[36m0:00:00\u001b[0m\n",
            "\u001b[?25hInstalling collected packages: faiss-gpu\n",
            "Successfully installed faiss-gpu-1.7.2\n"
          ]
        }
      ],
      "source": [
        "\n",
        "!pip install faiss-gpu"
      ]
    },
    {
      "cell_type": "code",
      "execution_count": 4,
      "metadata": {
        "id": "uWAuUxfkiOD8"
      },
      "outputs": [],
      "source": [
        "#!pip install transformers"
      ]
    },
    {
      "cell_type": "code",
      "execution_count": 5,
      "metadata": {
        "colab": {
          "base_uri": "https://localhost:8080/"
        },
        "id": "uf9jKYMaWHRW",
        "outputId": "af9e9fff-49e4-432b-d13c-bb9148ee3ba2"
      },
      "outputs": [
        {
          "output_type": "stream",
          "name": "stdout",
          "text": [
            "Looking in indexes: https://pypi.org/simple, https://us-python.pkg.dev/colab-wheels/public/simple/\n",
            "Collecting sentence_transformers\n",
            "  Downloading sentence-transformers-2.2.2.tar.gz (85 kB)\n",
            "\u001b[2K     \u001b[90m━━━━━━━━━━━━━━━━━━━━━━━━━━━━━━━━━━━━━━━━\u001b[0m \u001b[32m86.0/86.0 KB\u001b[0m \u001b[31m6.3 MB/s\u001b[0m eta \u001b[36m0:00:00\u001b[0m\n",
            "\u001b[?25h  Preparing metadata (setup.py) ... \u001b[?25l\u001b[?25hdone\n",
            "Collecting transformers<5.0.0,>=4.6.0\n",
            "  Downloading transformers-4.26.1-py3-none-any.whl (6.3 MB)\n",
            "\u001b[2K     \u001b[90m━━━━━━━━━━━━━━━━━━━━━━━━━━━━━━━━━━━━━━━━\u001b[0m \u001b[32m6.3/6.3 MB\u001b[0m \u001b[31m89.9 MB/s\u001b[0m eta \u001b[36m0:00:00\u001b[0m\n",
            "\u001b[?25hRequirement already satisfied: tqdm in /usr/local/lib/python3.9/dist-packages (from sentence_transformers) (4.65.0)\n",
            "Requirement already satisfied: torch>=1.6.0 in /usr/local/lib/python3.9/dist-packages (from sentence_transformers) (1.13.1+cu116)\n",
            "Requirement already satisfied: torchvision in /usr/local/lib/python3.9/dist-packages (from sentence_transformers) (0.14.1+cu116)\n",
            "Requirement already satisfied: numpy in /usr/local/lib/python3.9/dist-packages (from sentence_transformers) (1.22.4)\n",
            "Requirement already satisfied: scikit-learn in /usr/local/lib/python3.9/dist-packages (from sentence_transformers) (1.2.2)\n",
            "Requirement already satisfied: scipy in /usr/local/lib/python3.9/dist-packages (from sentence_transformers) (1.10.1)\n",
            "Requirement already satisfied: nltk in /usr/local/lib/python3.9/dist-packages (from sentence_transformers) (3.7)\n",
            "Collecting sentencepiece\n",
            "  Downloading sentencepiece-0.1.97-cp39-cp39-manylinux_2_17_x86_64.manylinux2014_x86_64.whl (1.3 MB)\n",
            "\u001b[2K     \u001b[90m━━━━━━━━━━━━━━━━━━━━━━━━━━━━━━━━━━━━━━━━\u001b[0m \u001b[32m1.3/1.3 MB\u001b[0m \u001b[31m73.6 MB/s\u001b[0m eta \u001b[36m0:00:00\u001b[0m\n",
            "\u001b[?25hCollecting huggingface-hub>=0.4.0\n",
            "  Downloading huggingface_hub-0.13.2-py3-none-any.whl (199 kB)\n",
            "\u001b[2K     \u001b[90m━━━━━━━━━━━━━━━━━━━━━━━━━━━━━━━━━━━━━━\u001b[0m \u001b[32m199.2/199.2 KB\u001b[0m \u001b[31m28.5 MB/s\u001b[0m eta \u001b[36m0:00:00\u001b[0m\n",
            "\u001b[?25hRequirement already satisfied: packaging>=20.9 in /usr/local/lib/python3.9/dist-packages (from huggingface-hub>=0.4.0->sentence_transformers) (23.0)\n",
            "Requirement already satisfied: typing-extensions>=3.7.4.3 in /usr/local/lib/python3.9/dist-packages (from huggingface-hub>=0.4.0->sentence_transformers) (4.5.0)\n",
            "Requirement already satisfied: filelock in /usr/local/lib/python3.9/dist-packages (from huggingface-hub>=0.4.0->sentence_transformers) (3.9.0)\n",
            "Requirement already satisfied: requests in /usr/local/lib/python3.9/dist-packages (from huggingface-hub>=0.4.0->sentence_transformers) (2.25.1)\n",
            "Requirement already satisfied: pyyaml>=5.1 in /usr/local/lib/python3.9/dist-packages (from huggingface-hub>=0.4.0->sentence_transformers) (6.0)\n",
            "Collecting tokenizers!=0.11.3,<0.14,>=0.11.1\n",
            "  Downloading tokenizers-0.13.2-cp39-cp39-manylinux_2_17_x86_64.manylinux2014_x86_64.whl (7.6 MB)\n",
            "\u001b[2K     \u001b[90m━━━━━━━━━━━━━━━━━━━━━━━━━━━━━━━━━━━━━━━━\u001b[0m \u001b[32m7.6/7.6 MB\u001b[0m \u001b[31m38.8 MB/s\u001b[0m eta \u001b[36m0:00:00\u001b[0m\n",
            "\u001b[?25hRequirement already satisfied: regex!=2019.12.17 in /usr/local/lib/python3.9/dist-packages (from transformers<5.0.0,>=4.6.0->sentence_transformers) (2022.6.2)\n",
            "Requirement already satisfied: joblib in /usr/local/lib/python3.9/dist-packages (from nltk->sentence_transformers) (1.1.1)\n",
            "Requirement already satisfied: click in /usr/local/lib/python3.9/dist-packages (from nltk->sentence_transformers) (8.1.3)\n",
            "Requirement already satisfied: threadpoolctl>=2.0.0 in /usr/local/lib/python3.9/dist-packages (from scikit-learn->sentence_transformers) (3.1.0)\n",
            "Requirement already satisfied: pillow!=8.3.*,>=5.3.0 in /usr/local/lib/python3.9/dist-packages (from torchvision->sentence_transformers) (8.4.0)\n",
            "Requirement already satisfied: certifi>=2017.4.17 in /usr/local/lib/python3.9/dist-packages (from requests->huggingface-hub>=0.4.0->sentence_transformers) (2022.12.7)\n",
            "Requirement already satisfied: urllib3<1.27,>=1.21.1 in /usr/local/lib/python3.9/dist-packages (from requests->huggingface-hub>=0.4.0->sentence_transformers) (1.26.14)\n",
            "Requirement already satisfied: chardet<5,>=3.0.2 in /usr/local/lib/python3.9/dist-packages (from requests->huggingface-hub>=0.4.0->sentence_transformers) (4.0.0)\n",
            "Requirement already satisfied: idna<3,>=2.5 in /usr/local/lib/python3.9/dist-packages (from requests->huggingface-hub>=0.4.0->sentence_transformers) (2.10)\n",
            "Building wheels for collected packages: sentence_transformers\n",
            "  Building wheel for sentence_transformers (setup.py) ... \u001b[?25l\u001b[?25hdone\n",
            "  Created wheel for sentence_transformers: filename=sentence_transformers-2.2.2-py3-none-any.whl size=125938 sha256=44606e9c8a610bc5df92c054f7568b633071c7d1586fc72398afae6ad20483a1\n",
            "  Stored in directory: /root/.cache/pip/wheels/71/67/06/162a3760c40d74dd40bc855d527008d26341c2b0ecf3e8e11f\n",
            "Successfully built sentence_transformers\n",
            "Installing collected packages: tokenizers, sentencepiece, huggingface-hub, transformers, sentence_transformers\n",
            "Successfully installed huggingface-hub-0.13.2 sentence_transformers-2.2.2 sentencepiece-0.1.97 tokenizers-0.13.2 transformers-4.26.1\n"
          ]
        }
      ],
      "source": [
        "!pip install sentence_transformers "
      ]
    },
    {
      "cell_type": "code",
      "execution_count": 6,
      "metadata": {
        "colab": {
          "base_uri": "https://localhost:8080/"
        },
        "id": "C1r8Sraf7rPj",
        "outputId": "de18342b-6dee-4911-9c62-7209478c9f19"
      },
      "outputs": [
        {
          "output_type": "stream",
          "name": "stdout",
          "text": [
            "Looking in indexes: https://pypi.org/simple, https://us-python.pkg.dev/colab-wheels/public/simple/\n",
            "Requirement already satisfied: gdown in /usr/local/lib/python3.9/dist-packages (4.4.0)\n",
            "Collecting gdown\n",
            "  Downloading gdown-4.6.4-py3-none-any.whl (14 kB)\n",
            "Requirement already satisfied: filelock in /usr/local/lib/python3.9/dist-packages (from gdown) (3.9.0)\n",
            "Requirement already satisfied: tqdm in /usr/local/lib/python3.9/dist-packages (from gdown) (4.65.0)\n",
            "Requirement already satisfied: beautifulsoup4 in /usr/local/lib/python3.9/dist-packages (from gdown) (4.9.3)\n",
            "Requirement already satisfied: six in /usr/local/lib/python3.9/dist-packages (from gdown) (1.15.0)\n",
            "Requirement already satisfied: requests[socks] in /usr/local/lib/python3.9/dist-packages (from gdown) (2.25.1)\n",
            "Requirement already satisfied: soupsieve>1.2 in /usr/local/lib/python3.9/dist-packages (from beautifulsoup4->gdown) (2.4)\n",
            "Requirement already satisfied: chardet<5,>=3.0.2 in /usr/local/lib/python3.9/dist-packages (from requests[socks]->gdown) (4.0.0)\n",
            "Requirement already satisfied: certifi>=2017.4.17 in /usr/local/lib/python3.9/dist-packages (from requests[socks]->gdown) (2022.12.7)\n",
            "Requirement already satisfied: urllib3<1.27,>=1.21.1 in /usr/local/lib/python3.9/dist-packages (from requests[socks]->gdown) (1.26.14)\n",
            "Requirement already satisfied: idna<3,>=2.5 in /usr/local/lib/python3.9/dist-packages (from requests[socks]->gdown) (2.10)\n",
            "Requirement already satisfied: PySocks!=1.5.7,>=1.5.6 in /usr/local/lib/python3.9/dist-packages (from requests[socks]->gdown) (1.7.1)\n",
            "Installing collected packages: gdown\n",
            "  Attempting uninstall: gdown\n",
            "    Found existing installation: gdown 4.4.0\n",
            "    Uninstalling gdown-4.4.0:\n",
            "      Successfully uninstalled gdown-4.4.0\n",
            "Successfully installed gdown-4.6.4\n"
          ]
        }
      ],
      "source": [
        "!pip install --upgrade --no-cache-dir gdown"
      ]
    },
    {
      "cell_type": "code",
      "execution_count": 7,
      "metadata": {
        "colab": {
          "base_uri": "https://localhost:8080/"
        },
        "id": "tQkDLIxYbz_x",
        "outputId": "0d13f44f-58fa-406e-9cac-592d87d6058d"
      },
      "outputs": [
        {
          "output_type": "stream",
          "name": "stdout",
          "text": [
            "/usr/local/lib/python3.9/dist-packages/gdown/cli.py:121: FutureWarning: Option `--id` was deprecated in version 4.3.1 and will be removed in 5.0. You don't need to pass it anymore to use a file ID.\n",
            "  warnings.warn(\n",
            "Downloading...\n",
            "From: https://drive.google.com/uc?id=1YCgvm0zBUjCse9iPcwHpDzed9HfD5pna\n",
            "To: /content/tmdb.zip\n",
            "100% 9.32M/9.32M [00:00<00:00, 19.5MB/s]\n"
          ]
        }
      ],
      "source": [
        "!gdown --id 1YCgvm0zBUjCse9iPcwHpDzed9HfD5pna"
      ]
    },
    {
      "cell_type": "code",
      "execution_count": 8,
      "metadata": {
        "colab": {
          "base_uri": "https://localhost:8080/"
        },
        "id": "7tRKf5sXZ89a",
        "outputId": "11037400-3bbc-4091-a486-e32cb81fddc4"
      },
      "outputs": [
        {
          "output_type": "stream",
          "name": "stdout",
          "text": [
            "/usr/local/lib/python3.9/dist-packages/gdown/cli.py:121: FutureWarning: Option `--id` was deprecated in version 4.3.1 and will be removed in 5.0. You don't need to pass it anymore to use a file ID.\n",
            "  warnings.warn(\n",
            "Downloading...\n",
            "From: https://drive.google.com/uc?id=1aB6WIWCkra-MenkhRLVkR7elR_8GsbmJ\n",
            "To: /content/ml-latest-small.zip\n",
            "100% 978k/978k [00:00<00:00, 63.2MB/s]\n"
          ]
        }
      ],
      "source": [
        "\n",
        "!gdown --id 1aB6WIWCkra-MenkhRLVkR7elR_8GsbmJ"
      ]
    },
    {
      "cell_type": "markdown",
      "metadata": {
        "id": "FBjtea7zZ92f"
      },
      "source": []
    },
    {
      "cell_type": "code",
      "execution_count": 9,
      "metadata": {
        "colab": {
          "base_uri": "https://localhost:8080/"
        },
        "id": "TtZEDi2_JS0Z",
        "outputId": "e117f991-5303-4408-e4f0-e7d06898ef3e"
      },
      "outputs": [
        {
          "output_type": "stream",
          "name": "stdout",
          "text": [
            "Archive:  tmdb.zip\n",
            "  inflating: /content/tmdb_5000_credits.csv  \n",
            "  inflating: /content/tmdb_5000_movies.csv  \n"
          ]
        }
      ],
      "source": [
        "!unzip -o \"tmdb.zip\"  -d  \"/content\""
      ]
    },
    {
      "cell_type": "code",
      "execution_count": 10,
      "metadata": {
        "colab": {
          "base_uri": "https://localhost:8080/"
        },
        "id": "QR5OhNmnaCYq",
        "outputId": "1a6038e5-d4f0-4843-8353-3f13c329773d"
      },
      "outputs": [
        {
          "output_type": "stream",
          "name": "stdout",
          "text": [
            "Archive:  ml-latest-small.zip\n",
            "   creating: /content/ml-latest-small/\n",
            "  inflating: /content/ml-latest-small/links.csv  \n",
            "  inflating: /content/ml-latest-small/tags.csv  \n",
            "  inflating: /content/ml-latest-small/ratings.csv  \n",
            "  inflating: /content/ml-latest-small/README.txt  \n",
            "  inflating: /content/ml-latest-small/movies.csv  \n"
          ]
        }
      ],
      "source": [
        "!unzip -o \"ml-latest-small.zip\"  -d  \"/content\""
      ]
    },
    {
      "cell_type": "markdown",
      "metadata": {
        "id": "HDz_Qe5KHFho"
      },
      "source": [
        "## Data Loading"
      ]
    },
    {
      "cell_type": "code",
      "execution_count": 11,
      "metadata": {
        "id": "84eddad3"
      },
      "outputs": [],
      "source": [
        "from datetime import datetime\n",
        "import os\n",
        "import matplotlib\n",
        "import pandas as pd\n",
        "import numpy as np\n",
        "import matplotlib.pyplot as plt\n",
        "import seaborn as sns\n",
        "sns.set_style('whitegrid')\n",
        "\n",
        "from scipy import sparse\n",
        "from scipy.sparse import csc_matrix\n",
        "from sklearn.decomposition import TruncatedSVD\n",
        "\n",
        "np.random.seed(0)"
      ]
    },
    {
      "cell_type": "markdown",
      "metadata": {
        "id": "lHG3Yw4EHJbO"
      },
      "source": [
        "#### Name of the file which contain all the item properties"
      ]
    },
    {
      "cell_type": "code",
      "execution_count": 12,
      "metadata": {
        "id": "7e7fee79"
      },
      "outputs": [],
      "source": [
        "content_df  = pd.read_csv( \"ml-latest-small/movies.csv\")"
      ]
    },
    {
      "cell_type": "code",
      "execution_count": 13,
      "metadata": {
        "id": "MldIneqhdwsZ"
      },
      "outputs": [],
      "source": [
        "tmdb_df= pd.read_csv( \"tmdb_5000_movies.csv\")"
      ]
    },
    {
      "cell_type": "code",
      "execution_count": 14,
      "metadata": {
        "id": "003QxeaLeEO6"
      },
      "outputs": [],
      "source": [
        "# extract genres\n",
        "import ast\n",
        "def convert(obj):\n",
        "    Lis=[]\n",
        "    for i in ast.literal_eval(obj):\n",
        "        Lis.append(i['name'])\n",
        "    return Lis"
      ]
    },
    {
      "cell_type": "code",
      "execution_count": 15,
      "metadata": {
        "id": "9aXsgw_beHbp"
      },
      "outputs": [],
      "source": [
        "tmdb_df['newgenres']=tmdb_df['genres'].apply(convert)"
      ]
    },
    {
      "cell_type": "code",
      "execution_count": 16,
      "metadata": {
        "id": "EztMXHtJd97R"
      },
      "outputs": [],
      "source": [
        "tmdb_df=tmdb_df[['id','newgenres','tagline','overview','original_title']]"
      ]
    },
    {
      "cell_type": "code",
      "execution_count": 17,
      "metadata": {
        "id": "ZjIMZODoaIhB"
      },
      "outputs": [],
      "source": [
        "link_df= pd.read_csv( \"ml-latest-small/links.csv\")"
      ]
    },
    {
      "cell_type": "code",
      "execution_count": 18,
      "metadata": {
        "id": "FP4bv9bKfQCw"
      },
      "outputs": [],
      "source": [
        "link_df=link_df.merge(tmdb_df,left_on='tmdbId',right_on='id')"
      ]
    },
    {
      "cell_type": "code",
      "execution_count": 19,
      "metadata": {
        "id": "Jufrnj1yf29Z"
      },
      "outputs": [],
      "source": [
        "content_df=content_df.merge(link_df,on=\"movieId\")"
      ]
    },
    {
      "cell_type": "code",
      "execution_count": 20,
      "metadata": {
        "colab": {
          "base_uri": "https://localhost:8080/"
        },
        "id": "dsx879CcgGaR",
        "outputId": "4f6c9c30-21ac-4ed5-96db-b21fda2b0ead"
      },
      "outputs": [
        {
          "output_type": "execute_result",
          "data": {
            "text/plain": [
              "Index(['movieId', 'title', 'genres', 'imdbId', 'tmdbId', 'id', 'newgenres',\n",
              "       'tagline', 'overview', 'original_title'],\n",
              "      dtype='object')"
            ]
          },
          "metadata": {},
          "execution_count": 20
        }
      ],
      "source": [
        "content_df.columns"
      ]
    },
    {
      "cell_type": "code",
      "execution_count": 21,
      "metadata": {
        "id": "1SgRLqaMfvDD"
      },
      "outputs": [],
      "source": [
        "content_df=content_df[['movieId', 'title',  'newgenres','tagline', 'overview']]"
      ]
    },
    {
      "cell_type": "code",
      "execution_count": 22,
      "metadata": {
        "id": "TbiATEm7gZe6"
      },
      "outputs": [],
      "source": [
        "content_df.rename(columns = {'newgenres':'genere'}, inplace = True)"
      ]
    },
    {
      "cell_type": "code",
      "execution_count": 23,
      "metadata": {
        "id": "5YOP8Gy-goaE"
      },
      "outputs": [],
      "source": [
        "content_df['tagline'] = content_df['tagline'].fillna(' ')\n"
      ]
    },
    {
      "cell_type": "code",
      "execution_count": 24,
      "metadata": {
        "id": "06yAaxBigzkR"
      },
      "outputs": [],
      "source": [
        "rating_df= pd.read_csv( \"ml-latest-small/ratings.csv\")"
      ]
    },
    {
      "cell_type": "code",
      "execution_count": 25,
      "metadata": {
        "id": "nCzIMA8chy-a"
      },
      "outputs": [],
      "source": [
        "rating_df.rename(columns = {'movieId':'itemID'}, inplace = True)\n",
        "rating_df.rename(columns = {'userId':'userID'}, inplace = True)\n",
        "content_df.rename(columns = {'movieId':'itemID'}, inplace = True)"
      ]
    },
    {
      "cell_type": "code",
      "execution_count": 26,
      "metadata": {
        "id": "NZtJAbkNhucz"
      },
      "outputs": [],
      "source": [
        "\n",
        "# y = rating_df.groupby('itemID').count()['rating']>=250\n",
        "# ids = y[y].index\n",
        "# rating_df = rating_df[rating_df['itemID'].isin(ids)]\n",
        "\n",
        "# y = rating_df.groupby('userID').count()['rating']>=200\n",
        "# ids = y[y].index\n",
        "# rating_df = rating_df[rating_df['userID'].isin(ids)]"
      ]
    },
    {
      "cell_type": "code",
      "execution_count": 27,
      "metadata": {
        "id": "jHajjYiWiMhM"
      },
      "outputs": [],
      "source": [
        "u_items=list(rating_df.itemID.values)"
      ]
    },
    {
      "cell_type": "code",
      "execution_count": 28,
      "metadata": {
        "id": "GgdP9wpIiTuB"
      },
      "outputs": [],
      "source": [
        "content_df=content_df[content_df.itemID.isin(u_items)]"
      ]
    },
    {
      "cell_type": "code",
      "execution_count": 28,
      "metadata": {
        "id": "A7O64hzNjDgh"
      },
      "outputs": [],
      "source": []
    },
    {
      "cell_type": "code",
      "execution_count": 29,
      "metadata": {
        "id": "R3ImxLENieO4"
      },
      "outputs": [],
      "source": [
        "list_geners=[]\n",
        "for i,row in content_df.iterrows():\n",
        "  for gn in row['genere']:\n",
        "      if gn not in list_geners:\n",
        "        list_geners.append(gn)"
      ]
    },
    {
      "cell_type": "code",
      "execution_count": 30,
      "metadata": {
        "colab": {
          "base_uri": "https://localhost:8080/"
        },
        "id": "tQUkzmR4kuKi",
        "outputId": "cd0d7d0b-f2f2-423a-9d57-28ed1ad9d903"
      },
      "outputs": [
        {
          "output_type": "execute_result",
          "data": {
            "text/plain": [
              "['Animation',\n",
              " 'Comedy',\n",
              " 'Family',\n",
              " 'Adventure',\n",
              " 'Action',\n",
              " 'Thriller',\n",
              " 'Drama',\n",
              " 'Romance',\n",
              " 'History',\n",
              " 'Crime',\n",
              " 'Fantasy',\n",
              " 'War',\n",
              " 'Mystery',\n",
              " 'Music',\n",
              " 'Horror',\n",
              " 'Science Fiction',\n",
              " 'Documentary',\n",
              " 'Western',\n",
              " 'Foreign',\n",
              " 'TV Movie']"
            ]
          },
          "metadata": {},
          "execution_count": 30
        }
      ],
      "source": [
        "list_geners"
      ]
    },
    {
      "cell_type": "code",
      "execution_count": 31,
      "metadata": {
        "id": "nYRvDUm-lEsK"
      },
      "outputs": [],
      "source": [
        "def listtostr(s):\n",
        "  listToStr = ' '.join([str(elem) for elem in s])\n",
        "  return listToStr"
      ]
    },
    {
      "cell_type": "code",
      "execution_count": 32,
      "metadata": {
        "colab": {
          "base_uri": "https://localhost:8080/"
        },
        "id": "Dn9EFu28lN8a",
        "outputId": "221a7010-27ef-409e-a08b-28ba9f2e46ae"
      },
      "outputs": [
        {
          "output_type": "stream",
          "name": "stderr",
          "text": [
            "<ipython-input-32-eca63d06b5e6>:1: SettingWithCopyWarning: \n",
            "A value is trying to be set on a copy of a slice from a DataFrame.\n",
            "Try using .loc[row_indexer,col_indexer] = value instead\n",
            "\n",
            "See the caveats in the documentation: https://pandas.pydata.org/pandas-docs/stable/user_guide/indexing.html#returning-a-view-versus-a-copy\n",
            "  content_df['genere_str']=content_df['genere'].apply(listtostr)\n"
          ]
        }
      ],
      "source": [
        "content_df['genere_str']=content_df['genere'].apply(listtostr)"
      ]
    },
    {
      "cell_type": "code",
      "execution_count": 33,
      "metadata": {
        "colab": {
          "base_uri": "https://localhost:8080/"
        },
        "id": "ZRHcIK30lXmw",
        "outputId": "6385ea5b-b58d-45b8-ff8d-c291bf04300e"
      },
      "outputs": [
        {
          "output_type": "execute_result",
          "data": {
            "text/plain": [
              "Index(['itemID', 'title', 'genere', 'tagline', 'overview', 'genere_str'], dtype='object')"
            ]
          },
          "metadata": {},
          "execution_count": 33
        }
      ],
      "source": [
        "content_df.columns"
      ]
    },
    {
      "cell_type": "markdown",
      "metadata": {
        "id": "sjJpU6lTGK51"
      },
      "source": [
        "## Details about dataset"
      ]
    },
    {
      "cell_type": "code",
      "execution_count": 34,
      "metadata": {
        "id": "4u2f4NWQa14z"
      },
      "outputs": [],
      "source": [
        "itemid=\"itemID\""
      ]
    },
    {
      "cell_type": "code",
      "execution_count": 35,
      "metadata": {
        "id": "LpnvsLU_U-7O"
      },
      "outputs": [],
      "source": [
        "features=['title','genere_str', 'tagline', 'overview']"
      ]
    },
    {
      "cell_type": "code",
      "execution_count": 36,
      "metadata": {
        "id": "eyCiKMqygxVk"
      },
      "outputs": [],
      "source": [
        "allcols=[itemid]\n",
        "for i in features:\n",
        "  allcols.append(i)\n",
        "allcols.append('title')"
      ]
    },
    {
      "cell_type": "code",
      "execution_count": 37,
      "metadata": {
        "colab": {
          "base_uri": "https://localhost:8080/"
        },
        "id": "WIPGLr-3xG-o",
        "outputId": "aad47f7a-bea9-46b8-e72f-ed4123e72227"
      },
      "outputs": [
        {
          "output_type": "execute_result",
          "data": {
            "text/plain": [
              "3536"
            ]
          },
          "metadata": {},
          "execution_count": 37
        }
      ],
      "source": [
        "len(content_df.itemID.values)"
      ]
    },
    {
      "cell_type": "markdown",
      "metadata": {
        "id": "D_UJlmcgZNBc"
      },
      "source": [
        "# Setup"
      ]
    },
    {
      "cell_type": "code",
      "execution_count": 38,
      "metadata": {
        "id": "QxJnf-lrLdm2"
      },
      "outputs": [],
      "source": [
        "content_df['NewTag']=\"\"\n",
        "for i in features:\n",
        "  content_df[i] = content_df[i].fillna(' ')\n",
        "for i in features:\n",
        "  content_df['NewTag']+=(\" \"+content_df[i])\n",
        "content_df['NewTag']=content_df['NewTag'].astype(str)"
      ]
    },
    {
      "cell_type": "code",
      "execution_count": 39,
      "metadata": {
        "colab": {
          "base_uri": "https://localhost:8080/"
        },
        "id": "DJ5l6HbYvKHi",
        "outputId": "ad06dbf9-c189-43c9-e0c6-60c15f2ac7c0"
      },
      "outputs": [
        {
          "output_type": "stream",
          "name": "stderr",
          "text": [
            "[nltk_data] Downloading package stopwords to /root/nltk_data...\n",
            "[nltk_data]   Unzipping corpora/stopwords.zip.\n",
            "[nltk_data] Downloading package punkt to /root/nltk_data...\n",
            "[nltk_data]   Unzipping tokenizers/punkt.zip.\n",
            "[nltk_data] Downloading package wordnet to /root/nltk_data...\n",
            "[nltk_data] Downloading package omw-1.4 to /root/nltk_data...\n"
          ]
        },
        {
          "output_type": "execute_result",
          "data": {
            "text/plain": [
              "True"
            ]
          },
          "metadata": {},
          "execution_count": 39
        }
      ],
      "source": [
        "import nltk\n",
        "nltk.download('stopwords')\n",
        "nltk.download('punkt')\n",
        "nltk.download('wordnet')\n",
        "nltk.download('omw-1.4')"
      ]
    },
    {
      "cell_type": "code",
      "execution_count": 40,
      "metadata": {
        "id": "VAXhYHfLuugD"
      },
      "outputs": [],
      "source": [
        "from nltk.stem import WordNetLemmatizer\n",
        "from nltk.corpus import stopwords\n",
        "from nltk.tokenize import word_tokenize\n",
        "import re"
      ]
    },
    {
      "cell_type": "code",
      "execution_count": 41,
      "metadata": {
        "id": "hZ8HmiLbukp6"
      },
      "outputs": [],
      "source": [
        "def clean_text(text):\n",
        "    \n",
        "    text = text.lower()  # lowercase text\n",
        "    # replace the matched string with ' '\n",
        "    text = re.sub( re.compile(\"\\'s\"), ' ', text)\n",
        "    text = re.sub(re.compile(\"\\\\r\\\\n\"), ' ', text)\n",
        "    text = re.sub(re.compile(r\"[^\\w\\s]\"), ' ', text)\n",
        "    return text"
      ]
    },
    {
      "cell_type": "code",
      "execution_count": 42,
      "metadata": {
        "id": "SZqqCS7ZvF1a"
      },
      "outputs": [],
      "source": [
        "stopwords=set(stopwords.words('english'))"
      ]
    },
    {
      "cell_type": "code",
      "execution_count": 43,
      "metadata": {
        "id": "pZnlWqy4u_2U"
      },
      "outputs": [],
      "source": [
        "def tokenizer(sentence, min_words=4, max_words=200, stopwords=stopwords, lemmatize=True):\n",
        "    \n",
        "    if lemmatize:\n",
        "        stemmer = WordNetLemmatizer()\n",
        "        tokens = [stemmer.lemmatize(w) for w in word_tokenize(sentence)]\n",
        "    else:\n",
        "        tokens = [w for w in word_tokenize(sentence)]\n",
        "    token = [w for w in tokens if (len(w) > min_words and len(w) < max_words\n",
        "                                                        and w not in stopwords)]\n",
        "    return tokens    "
      ]
    },
    {
      "cell_type": "code",
      "execution_count": 44,
      "metadata": {
        "id": "HDh1rTXeuKzi"
      },
      "outputs": [],
      "source": [
        "content_df['clean'] = content_df['NewTag'].apply(clean_text)\n",
        "# content_df['token_lem_sentence'] = content_df['clean'].apply(\n",
        "#         lambda x: tokenizer(x))"
      ]
    },
    {
      "cell_type": "markdown",
      "metadata": {
        "id": "ah-_nBMaYe3T"
      },
      "source": [
        "# Model train"
      ]
    },
    {
      "cell_type": "code",
      "execution_count": 45,
      "metadata": {
        "colab": {
          "base_uri": "https://localhost:8080/",
          "height": 0,
          "referenced_widgets": [
            "86992feef8804139bf5fbcc7e0aea7a0",
            "b153c51252be41478a4b681b623446c3",
            "1498096c9df8405a962aa734328e1816",
            "f08ff98c4ea44deeb882a823abadbe10",
            "3a1b4971a4d3436ab2c4a9024bbc66f9",
            "29b96fddabe34b0085870e8058316b3f",
            "429500a76b864da8ac4d794c47c1a382",
            "feb821db27234a6880c37bc93707b7bb",
            "fe0ad8b5412e437199d616d399abfaa3",
            "915604dfa3ab4f9288ceb4d9ae8e81ca",
            "ff8987c50d2b45ecab5c767105810281",
            "c7a92ea061ab423db75af4ff25de467d",
            "b68171d34a9e46c8a45e50c9f668d603",
            "2ae239d35ccb4c35a459a5152a3e6322",
            "3954f54298ea401db70d6607bbcb3603",
            "4468abcfe7784342bad528476faf1eb2",
            "e0be7c05fea344abb3fafd205b86559d",
            "af2be3f8a219486084e70cc53a191eb9",
            "f8124dbf23ce4a10b23e15233e2b2fad",
            "632a52562f8d4ccb85c61707b4282027",
            "cbfc4bf658f643e9baa2199292ddc3cd",
            "e86adeedee7c419c81478ffb378fa69c",
            "49a1937a531a4a448c64dedaf271f826",
            "6eb93e33e4864835bd114a89e834d707",
            "06759b3ce40e498b85ab166ebd7d1fe1",
            "3e93bba5a1b14924b2f48a2609e39cd8",
            "681c579295044db1a713e31031006ac8",
            "798e9ebcbaff4881836960b8719c7de7",
            "52414fc9520049faa120670d6cc78f62",
            "be05287ee34440d6ad5977c0d48aad83",
            "862edc73bf85446bbfe65a823bc1413c",
            "e2f200f46dda41d3a29c075b2724ff59",
            "17fdcd1386f94e1dbdd59b4fb8765550",
            "586904bad3484068999259234cdff8ab",
            "820b016118184041a9e2a831d7e151ec",
            "3d5a0eb7ec674199b2a51d61f9467307",
            "2bf02e2a6d0f469896163cc8cc18a231",
            "cee5edb1b2a74ff3904240609abe7c3c",
            "8f4345f9c0cc47aeaf9bfb6633a7195d",
            "4840c604ec79471b97e60d182f5d4a4f",
            "79424d43f21042389950b57f86ec9aaa",
            "0b1303147289425bbaf5fe669751cbfe",
            "37498ba5a4ad46b9959702081f2237b6",
            "dd65ca2a9200451c808c83a1f6faa1ed",
            "0300e11080e04005acb859b811123d88",
            "be87f00c699d40848c205fb2e505ad7f",
            "03d9c2b875d640fe94e7ef405a378127",
            "aca2810ff12c489f825667d9915ae075",
            "d0fb2e7c783f4af88d4b6a29e33ba748",
            "f1d16e3ce4e84fe2be75be97176819bc",
            "f2ac46f3df8d43bd8d7c3985f5a4d6ac",
            "1b1b3ba71fc64518b5709e574984a72e",
            "c10a664b4f7e45a5807e0fa396e6d666",
            "4e3790c65e9b4715b6c3132ff2767dce",
            "ef394c8b65b14f0dbfc4c1d97abeae58",
            "35c086caf7884cc5961b3a0fa82785ba",
            "364b20450c85423886714b19056b40e3",
            "22cb535f59844c9b815d89d7e3fe332b",
            "3cc7cd0bb08745c285f79db4ec2c623b",
            "826613c238c04e8b93b553a0a3809f6f",
            "bce961cf6dad4d8d89fcb73b5aab311b",
            "a33891658a8b4150acbacb2f6afda90a",
            "b8dc140abd404c979f411f9a197069ac",
            "e6e9e72a3ccd435ea8696c6ee36bc294",
            "871c8cec3138427eaa93c654d7169ea8",
            "ee6c3174a21a4187ab65a62949c145d2",
            "ff296a31967e4cc18b3bb639e169c60c",
            "fd604537506b4c5c9dfb34f19267ead3",
            "69add5bbbf354b8093af5ac723749db6",
            "140eaba5ef1348e0bd7fabedb8032296",
            "ee3e70a20413471f9e312256d44dde40",
            "ccac47ca2a934c8cac1d7f90e103b017",
            "0f2d9d47136540baa0cc7d6fe0972871",
            "fddb47d8d1444f15ae882b83e64947f2",
            "050cda536ef14c3087ed821a37f8114b",
            "1a4cf25c81d94ef0b697a11db022b8cc",
            "4d30bc068a1745099a32c2311af8b09a",
            "ae3f82be102a43d3b632663b711576ba",
            "aaa0ca68a15a4ea4ae1aa4efdc63f546",
            "7e67e75309604dd69a963acdb5994a9c",
            "808e043a969441baa88cc869631521dc",
            "1fdea01097e74f17be5f05267f268de0",
            "0fac278bf4544b0aac2af042a3dc45ea",
            "10a602f2eb4b49c1a6616343e7b6b269",
            "6d631f6eed1f4fef8b573b110ed5369d",
            "8654a087bb634fbba4daecd728310bcb",
            "8cd611e6d518414e94da3a8cb04a0a38",
            "027dd6aae6864de9bb66946a8b4f7cfa",
            "fbb6875b627c4c36accace497d9116a7",
            "cf2f2ce5e16f4ad1b92d5bdd3181a6e5",
            "0b8f0e869773428984e8cef6e2a2468d",
            "4dbf8201f2304d9bb22f288001060acc",
            "31612101d7714662983a88e1b04cba56",
            "a2baa8e0171e4a32a23296ac634b35bc",
            "949be3c67ab1457285a206fb2ff3dbae",
            "5972e5f9a56e4189b4940cbc5557e45a",
            "a785bc04d3b04ac78266c5c9199bed35",
            "92c3a4eba137451f965d6b93d62e07c6",
            "9ac0151730994d67ab088215da00447f",
            "35e285afa82f47cbbb6ab8b6d22f3452",
            "8ba770fa19904db1a3659941da5b82a8",
            "c645cec404e4401f8c3570912f828975",
            "f949664900764140a2f3c19ba617bc99",
            "1d93006807a948d4b9e01ef10eb3d516",
            "01777e3696894fcf8fb768bb3aa5e4c4",
            "abc7dced3d5b4341a442196116beb4a0",
            "f8c6cce6f7944503b9460fdbea873ca0",
            "4912d639fac64f35ab341a549bdb4416",
            "d951f4d3c6f0410cb75bd236dd9efbce",
            "b5bce9ecb7d649fb9581ed7197a43d84",
            "103b178098cd4ad5a98af67abb8b0b14",
            "876084ed9b2240bbbbd8a55265104a2a",
            "a3d4f5c0985a45a6827b53089e44d351",
            "c60b7833f98940208523ccdbdfab4055",
            "e486a4a7ac29443e94d4e974e7775576",
            "f463a0c19bbd42eb81c28c516eeb8aaa",
            "386d69edb4ea4cafae9df4c5532e96c0",
            "cc2107f9d64f46c3937d0801f36c525c",
            "7c2c4721997640fea78cd120fae9af2b",
            "8060e21faf014340b598ed6d67bff75e",
            "a907dfa66d71495b9e8f21c066b854f0",
            "ca5e6eb85bea41cf854b3c144e59cc4b",
            "9197350b3abf40db8c7a30d8209fec76",
            "5eb29f7a671e4347a39570abd73f2beb",
            "e440511802374ab5b0855e730d3c63c3",
            "ea82936702d147f2a2ebb2279fb44c2b",
            "a3b745717bd64008b2290348f657bef9",
            "09c7e505d3904ee495dd94bb5e90a1c8",
            "11673af956304fc6a447ac85903526bc",
            "c02a5db8cec14fdc9f1d140a2958fcd3",
            "de70c51ad8e04f4683fde8d13d78ddaf",
            "afe3b11ceb5442c3a181581037cabb6a",
            "16cefa3bc0b04f9e8e0ca52dc77c639e",
            "b74ffd7cc731448086f6e5feea1c6eab",
            "ad58205da39c428ba2a2348901f00469",
            "772e74620c344f62ac7f495bcf7207b4",
            "512969b810e74d4dac534340fae293b4",
            "f694e3a130b1476da14ddfb04c2657a8",
            "b73970ca3e4b4e848700f1be63aa8ea2",
            "1c393925b12f4157b0b028601366c3e8",
            "ad799bf77351446a84e71ca98041d39e",
            "3632a36b35864eb0b67f9a04ee66a128",
            "b230bbd6dd954cc99b7165ae8b29452c",
            "87b5b0b5fafd44bb86c97986240f742e",
            "8eb5378ae0ac4bd48777b5d4ab985414",
            "e11ce6a2307c49dab69af856da217361",
            "1addbcf1b7b94d9eb77c4a54a9567406",
            "4d3dd77b904d41cfafa166c87e102669",
            "37a6cfda0d504cfe92b8f7a34b8fdd3d",
            "c4fe693daefd47adbb8347f730b9d95b",
            "faca7b986ca44e569d6581db6542813e",
            "d234c8e95bba45adb78b0a6fb33d7613",
            "ed78e76c34be4d819064927121d6728c",
            "3b27947041184a2db7f4f346c9123612"
          ]
        },
        "id": "N_xyayhgXqPV",
        "outputId": "db512db5-29a3-468d-f906-c6e71427c024"
      },
      "outputs": [
        {
          "output_type": "display_data",
          "data": {
            "text/plain": [
              "Downloading (…)b6d67/.gitattributes:   0%|          | 0.00/690 [00:00<?, ?B/s]"
            ],
            "application/vnd.jupyter.widget-view+json": {
              "version_major": 2,
              "version_minor": 0,
              "model_id": "86992feef8804139bf5fbcc7e0aea7a0"
            }
          },
          "metadata": {}
        },
        {
          "output_type": "display_data",
          "data": {
            "text/plain": [
              "Downloading (…)_Pooling/config.json:   0%|          | 0.00/190 [00:00<?, ?B/s]"
            ],
            "application/vnd.jupyter.widget-view+json": {
              "version_major": 2,
              "version_minor": 0,
              "model_id": "c7a92ea061ab423db75af4ff25de467d"
            }
          },
          "metadata": {}
        },
        {
          "output_type": "display_data",
          "data": {
            "text/plain": [
              "Downloading (…)/2_Dense/config.json:   0%|          | 0.00/115 [00:00<?, ?B/s]"
            ],
            "application/vnd.jupyter.widget-view+json": {
              "version_major": 2,
              "version_minor": 0,
              "model_id": "49a1937a531a4a448c64dedaf271f826"
            }
          },
          "metadata": {}
        },
        {
          "output_type": "display_data",
          "data": {
            "text/plain": [
              "Downloading pytorch_model.bin:   0%|          | 0.00/2.36M [00:00<?, ?B/s]"
            ],
            "application/vnd.jupyter.widget-view+json": {
              "version_major": 2,
              "version_minor": 0,
              "model_id": "586904bad3484068999259234cdff8ab"
            }
          },
          "metadata": {}
        },
        {
          "output_type": "display_data",
          "data": {
            "text/plain": [
              "Downloading (…)13d78b6d67/README.md:   0%|          | 0.00/2.35k [00:00<?, ?B/s]"
            ],
            "application/vnd.jupyter.widget-view+json": {
              "version_major": 2,
              "version_minor": 0,
              "model_id": "0300e11080e04005acb859b811123d88"
            }
          },
          "metadata": {}
        },
        {
          "output_type": "display_data",
          "data": {
            "text/plain": [
              "Downloading (…)d78b6d67/config.json:   0%|          | 0.00/554 [00:00<?, ?B/s]"
            ],
            "application/vnd.jupyter.widget-view+json": {
              "version_major": 2,
              "version_minor": 0,
              "model_id": "35c086caf7884cc5961b3a0fa82785ba"
            }
          },
          "metadata": {}
        },
        {
          "output_type": "display_data",
          "data": {
            "text/plain": [
              "Downloading (…)ce_transformers.json:   0%|          | 0.00/122 [00:00<?, ?B/s]"
            ],
            "application/vnd.jupyter.widget-view+json": {
              "version_major": 2,
              "version_minor": 0,
              "model_id": "ff296a31967e4cc18b3bb639e169c60c"
            }
          },
          "metadata": {}
        },
        {
          "output_type": "display_data",
          "data": {
            "text/plain": [
              "Downloading pytorch_model.bin:   0%|          | 0.00/265M [00:00<?, ?B/s]"
            ],
            "application/vnd.jupyter.widget-view+json": {
              "version_major": 2,
              "version_minor": 0,
              "model_id": "ae3f82be102a43d3b632663b711576ba"
            }
          },
          "metadata": {}
        },
        {
          "output_type": "display_data",
          "data": {
            "text/plain": [
              "Downloading (…)nce_bert_config.json:   0%|          | 0.00/53.0 [00:00<?, ?B/s]"
            ],
            "application/vnd.jupyter.widget-view+json": {
              "version_major": 2,
              "version_minor": 0,
              "model_id": "fbb6875b627c4c36accace497d9116a7"
            }
          },
          "metadata": {}
        },
        {
          "output_type": "display_data",
          "data": {
            "text/plain": [
              "Downloading (…)cial_tokens_map.json:   0%|          | 0.00/112 [00:00<?, ?B/s]"
            ],
            "application/vnd.jupyter.widget-view+json": {
              "version_major": 2,
              "version_minor": 0,
              "model_id": "35e285afa82f47cbbb6ab8b6d22f3452"
            }
          },
          "metadata": {}
        },
        {
          "output_type": "display_data",
          "data": {
            "text/plain": [
              "Downloading (…)b6d67/tokenizer.json:   0%|          | 0.00/466k [00:00<?, ?B/s]"
            ],
            "application/vnd.jupyter.widget-view+json": {
              "version_major": 2,
              "version_minor": 0,
              "model_id": "103b178098cd4ad5a98af67abb8b0b14"
            }
          },
          "metadata": {}
        },
        {
          "output_type": "display_data",
          "data": {
            "text/plain": [
              "Downloading (…)okenizer_config.json:   0%|          | 0.00/376 [00:00<?, ?B/s]"
            ],
            "application/vnd.jupyter.widget-view+json": {
              "version_major": 2,
              "version_minor": 0,
              "model_id": "ca5e6eb85bea41cf854b3c144e59cc4b"
            }
          },
          "metadata": {}
        },
        {
          "output_type": "display_data",
          "data": {
            "text/plain": [
              "Downloading (…)13d78b6d67/vocab.txt:   0%|          | 0.00/232k [00:00<?, ?B/s]"
            ],
            "application/vnd.jupyter.widget-view+json": {
              "version_major": 2,
              "version_minor": 0,
              "model_id": "16cefa3bc0b04f9e8e0ca52dc77c639e"
            }
          },
          "metadata": {}
        },
        {
          "output_type": "display_data",
          "data": {
            "text/plain": [
              "Downloading (…)78b6d67/modules.json:   0%|          | 0.00/341 [00:00<?, ?B/s]"
            ],
            "application/vnd.jupyter.widget-view+json": {
              "version_major": 2,
              "version_minor": 0,
              "model_id": "87b5b0b5fafd44bb86c97986240f742e"
            }
          },
          "metadata": {}
        }
      ],
      "source": [
        "from sentence_transformers import SentenceTransformer\n",
        "\n",
        "tmodel = SentenceTransformer('msmarco-distilbert-base-dot-prod-v3')\n"
      ]
    },
    {
      "cell_type": "code",
      "execution_count": 46,
      "metadata": {
        "colab": {
          "base_uri": "https://localhost:8080/"
        },
        "id": "BPyZaDIJzBW6",
        "outputId": "d9e6b0d0-56f0-4854-afde-cf895b6902ea"
      },
      "outputs": [
        {
          "output_type": "execute_result",
          "data": {
            "text/plain": [
              "SentenceTransformer(\n",
              "  (0): Transformer({'max_seq_length': 512, 'do_lower_case': False}) with Transformer model: DistilBertModel \n",
              "  (1): Pooling({'word_embedding_dimension': 768, 'pooling_mode_cls_token': False, 'pooling_mode_mean_tokens': True, 'pooling_mode_max_tokens': False, 'pooling_mode_mean_sqrt_len_tokens': False})\n",
              "  (2): Dense({'in_features': 768, 'out_features': 768, 'bias': False, 'activation_function': 'torch.nn.modules.linear.Identity'})\n",
              ")"
            ]
          },
          "metadata": {},
          "execution_count": 46
        }
      ],
      "source": [
        "import torch\n",
        "#Select the device\n",
        "\n",
        "device = 'cuda' if torch.cuda.is_available() else 'cpu'\n",
        "tmodel.to(device)"
      ]
    },
    {
      "cell_type": "code",
      "execution_count": 47,
      "metadata": {
        "colab": {
          "base_uri": "https://localhost:8080/",
          "height": 0,
          "referenced_widgets": [
            "1fbcafe1a32d4d10b143fb3d4e612426",
            "0e6a0f9e1f3e4e1fa1809886d640dbfa",
            "f784d47d708b41448610531d4ae010bf",
            "21109877712d4a3a8732b92ea20f8146",
            "2958e9636f1c4c74ac9b39fa912e3335",
            "251570cda7294a74b7c83b8a274326ec",
            "25e0df2ed4a84872bd501be1c0549223",
            "c767d2f0778e4066956202c0fa38bdee",
            "b6cb7c3401be45dcb84d8d616587130c",
            "833962d8ab9849f487e71b6b1c74110c",
            "67591e73238043b7b9484031e4859aa3"
          ]
        },
        "id": "ah0zdLnPXx4d",
        "outputId": "963f637c-2952-4cd0-db41-08b7f6ff4557"
      },
      "outputs": [
        {
          "output_type": "display_data",
          "data": {
            "text/plain": [
              "Batches:   0%|          | 0/111 [00:00<?, ?it/s]"
            ],
            "application/vnd.jupyter.widget-view+json": {
              "version_major": 2,
              "version_minor": 0,
              "model_id": "1fbcafe1a32d4d10b143fb3d4e612426"
            }
          },
          "metadata": {}
        }
      ],
      "source": [
        "corpus_embeddings = tmodel.encode(content_df.NewTag.values,show_progress_bar=True, convert_to_numpy=True)"
      ]
    },
    {
      "cell_type": "markdown",
      "metadata": {
        "id": "i8zs0gFetTBk"
      },
      "source": [
        "# Semantic search"
      ]
    },
    {
      "cell_type": "code",
      "execution_count": 48,
      "metadata": {
        "id": "ip3vYvS-tiAd"
      },
      "outputs": [],
      "source": [
        "from sentence_transformers import  util\n",
        "TOP_K=10"
      ]
    },
    {
      "cell_type": "code",
      "execution_count": 49,
      "metadata": {
        "colab": {
          "base_uri": "https://localhost:8080/"
        },
        "id": "pPEGv0Fl0eCj",
        "outputId": "1303c3e7-1bac-41ad-e977-57481ccbe012"
      },
      "outputs": [
        {
          "output_type": "execute_result",
          "data": {
            "text/plain": [
              "400                                     Cop Land (1997)\n",
              "515                            On the Waterfront (1954)\n",
              "649                               Police Academy (1984)\n",
              "702                               Corruptor, The (1999)\n",
              "1192                                 Pootie Tang (2001)\n",
              "2305    Pirates of the Caribbean: At World's End (2007)\n",
              "3024               Pirates! Band of Misfits, The (2012)\n",
              "3175                                    R.I.P.D. (2013)\n",
              "3182                                      2 Guns (2013)\n",
              "3400                               Run All Night (2015)\n",
              "Name: title, dtype: object"
            ]
          },
          "metadata": {},
          "execution_count": 49
        }
      ],
      "source": [
        "\n",
        "query=\"pirates of the police officer\"\n",
        "query_embedding = tmodel.encode(query, convert_to_tensor=True)\n",
        "\n",
        "correct_hits = util.semantic_search(query_embedding, corpus_embeddings, top_k=TOP_K)[0]\n",
        "correct_hits_ids = set([hit['corpus_id'] for hit in correct_hits])\n",
        "results =  [content_df.iloc[idx][itemid] for idx in correct_hits_ids]\n",
        "pd.set_option('display.max_colwidth', None)\n",
        "content_df[content_df[itemid].isin(results)]['title']"
      ]
    },
    {
      "cell_type": "code",
      "execution_count": 50,
      "metadata": {
        "colab": {
          "base_uri": "https://localhost:8080/"
        },
        "id": "z5z6kq2_trNk",
        "outputId": "5e1237fa-a050-4572-a5c7-3d6f347ebff9"
      },
      "outputs": [
        {
          "output_type": "execute_result",
          "data": {
            "text/plain": [
              "843                              Creepshow (1982)\n",
              "1012                            Titan A.E. (2000)\n",
              "1083                          6th Day, The (2000)\n",
              "1308            Bill & Ted's Bogus Journey (1991)\n",
              "1602    Terminator 3: Rise of the Machines (2003)\n",
              "1808                              I, Robot (2004)\n",
              "2320                          Transformers (2007)\n",
              "2430                       Superhero Movie (2008)\n",
              "3060                         Robot & Frank (2012)\n",
              "3244                        The Lego Movie (2014)\n",
              "Name: title, dtype: object"
            ]
          },
          "metadata": {},
          "execution_count": 50
        }
      ],
      "source": [
        "\n",
        "query=\"a movie about robots\"\n",
        "query_embedding = tmodel.encode(query, convert_to_tensor=True)\n",
        "\n",
        "correct_hits = util.semantic_search(query_embedding, corpus_embeddings, top_k=TOP_K)[0]\n",
        "correct_hits_ids = set([hit['corpus_id'] for hit in correct_hits])\n",
        "results =  [content_df.iloc[idx][itemid] for idx in correct_hits_ids]\n",
        "pd.set_option('display.max_colwidth', None)\n",
        "content_df[content_df[itemid].isin(results)]['title']"
      ]
    },
    {
      "cell_type": "code",
      "execution_count": 51,
      "metadata": {
        "colab": {
          "base_uri": "https://localhost:8080/"
        },
        "id": "GNY9d_0xtv1E",
        "outputId": "a3d563ce-a50a-4410-998b-62de219b9cff"
      },
      "outputs": [
        {
          "output_type": "execute_result",
          "data": {
            "text/plain": [
              "64                      Species (1995)\n",
              "396                     Contact (1997)\n",
              "1012                 Titan A.E. (2000)\n",
              "1823    AVP: Alien vs. Predator (2004)\n",
              "2462                  Meet Dave (2008)\n",
              "2789                 Jackass 3D (2010)\n",
              "3089      Indie Game: The Movie (2012)\n",
              "3299                  I Origins (2014)\n",
              "3302                Signal, The (2014)\n",
              "3360              The Interview (2014)\n",
              "Name: title, dtype: object"
            ]
          },
          "metadata": {},
          "execution_count": 51
        }
      ],
      "source": [
        "\n",
        "query=\"a movie about Artificial Intelligence\"\n",
        "query_embedding = tmodel.encode(query, convert_to_tensor=True)\n",
        "\n",
        "correct_hits = util.semantic_search(query_embedding, corpus_embeddings, top_k=TOP_K)[0]\n",
        "correct_hits_ids = set([hit['corpus_id'] for hit in correct_hits])\n",
        "results =  [content_df.iloc[idx][itemid] for idx in correct_hits_ids]\n",
        "pd.set_option('display.max_colwidth', None)\n",
        "content_df[content_df[itemid].isin(results)]['title']"
      ]
    },
    {
      "cell_type": "code",
      "execution_count": 52,
      "metadata": {
        "colab": {
          "base_uri": "https://localhost:8080/"
        },
        "id": "RSbMLHRu7OQ_",
        "outputId": "d914de34-2a23-4857-cb40-e38d7fc85772"
      },
      "outputs": [
        {
          "output_type": "execute_result",
          "data": {
            "text/plain": [
              "1604    Pirates of the Caribbean: The Curse of the Black Pearl (2003)\n",
              "1958                                                    Sahara (2005)\n",
              "2036                                             Into the Blue (2005)\n",
              "2305                  Pirates of the Caribbean: At World's End (2007)\n",
              "2430                                           Superhero Movie (2008)\n",
              "2868               Pirates of the Caribbean: On Stranger Tides (2011)\n",
              "2915                                            Shark Night 3D (2011)\n",
              "3024                             Pirates! Band of Misfits, The (2012)\n",
              "3244                                            The Lego Movie (2014)\n",
              "3346                                    Penguins of Madagascar (2014)\n",
              "Name: title, dtype: object"
            ]
          },
          "metadata": {},
          "execution_count": 52
        }
      ],
      "source": [
        "\n",
        "query=\"a movie about pirates\"\n",
        "query_embedding = tmodel.encode(query, convert_to_tensor=True)\n",
        "\n",
        "correct_hits = util.semantic_search(query_embedding, corpus_embeddings, top_k=TOP_K)[0]\n",
        "correct_hits_ids = set([hit['corpus_id'] for hit in correct_hits])\n",
        "results =  [content_df.iloc[idx][itemid] for idx in correct_hits_ids]\n",
        "pd.set_option('display.max_colwidth', None)\n",
        "content_df[content_df[itemid].isin(results)]['title']"
      ]
    },
    {
      "cell_type": "markdown",
      "metadata": {
        "id": "0e7sdUDTbCSM"
      },
      "source": [
        "# Search with FAISS"
      ]
    },
    {
      "cell_type": "code",
      "execution_count": 53,
      "metadata": {
        "id": "ns09zArkd5-E"
      },
      "outputs": [],
      "source": [
        "import faiss\n",
        "from sentence_transformers import SentenceTransformer\n",
        "encoded_data = corpus_embeddings\n",
        "encoded_data = np.asarray(encoded_data.astype('float32'))\n",
        "index = faiss.IndexIDMap(faiss.IndexFlatIP(corpus_embeddings.shape[1]))\n",
        "index.add_with_ids(encoded_data, np.array(range(0, len(content_df))))\n",
        "faiss.write_index(index, 'item.index')"
      ]
    },
    {
      "cell_type": "markdown",
      "metadata": {
        "id": "g9Z0s8oefDjN"
      },
      "source": [
        "### fetch details of the document"
      ]
    },
    {
      "cell_type": "code",
      "execution_count": 54,
      "metadata": {
        "id": "V5FxwUtve8cT"
      },
      "outputs": [],
      "source": [
        "\n",
        "def search(query, k, index, model):\n",
        "    qv = model.encode([query])\n",
        "    top_k = index.search(qv, k)\n",
        "    top_k_ids = top_k[1].tolist()[0]\n",
        "    top_k_ids = list(np.unique(top_k_ids))\n",
        "    results =  [content_df.iloc[idx][itemid] for idx in top_k_ids]\n",
        "    return results"
      ]
    },
    {
      "cell_type": "code",
      "execution_count": 55,
      "metadata": {
        "colab": {
          "base_uri": "https://localhost:8080/"
        },
        "id": "w_aCL-kcfiS0",
        "outputId": "8d57b6e9-9625-4ffe-f2d2-abed384d38de"
      },
      "outputs": [
        {
          "output_type": "execute_result",
          "data": {
            "text/plain": [
              "130                                                     Last Action Hero (1993)\n",
              "244                                                             Die Hard (1988)\n",
              "1006                                                      Action Jackson (1988)\n",
              "1142                                                          15 Minutes (2001)\n",
              "2240                                                       Blood Diamond (2006)\n",
              "2430                                                     Superhero Movie (2008)\n",
              "2486                                                      Disaster Movie (2008)\n",
              "2511                                                          RocknRolla (2008)\n",
              "2561    Good, the Bad, the Weird, The (Joheunnom nabbeunnom isanghannom) (2008)\n",
              "2827                                                  Warrior's Way, The (2010)\n",
              "Name: title, dtype: object"
            ]
          },
          "metadata": {},
          "execution_count": 55
        }
      ],
      "source": [
        "from pprint import pprint\n",
        "query=\"movie about action and drama\"\n",
        "results=search(query, k=10, index=index, model=tmodel)\n",
        "content_df[content_df[itemid].isin(results)]['title']"
      ]
    },
    {
      "cell_type": "code",
      "execution_count": 56,
      "metadata": {
        "colab": {
          "base_uri": "https://localhost:8080/"
        },
        "id": "GlJLNhwdwohC",
        "outputId": "e5fb9345-b00c-4cd9-cf16-86c2f74d3ce8"
      },
      "outputs": [
        {
          "output_type": "execute_result",
          "data": {
            "text/plain": [
              "843                              Creepshow (1982)\n",
              "1012                            Titan A.E. (2000)\n",
              "1308            Bill & Ted's Bogus Journey (1991)\n",
              "1602    Terminator 3: Rise of the Machines (2003)\n",
              "1808                              I, Robot (2004)\n",
              "2263                            Epic Movie (2007)\n",
              "2320                          Transformers (2007)\n",
              "3060                         Robot & Frank (2012)\n",
              "3244                        The Lego Movie (2014)\n",
              "3330                            Big Hero 6 (2014)\n",
              "Name: title, dtype: object"
            ]
          },
          "metadata": {},
          "execution_count": 56
        }
      ],
      "source": [
        "from pprint import pprint\n",
        "query=\"a movie about robots\"\n",
        "results=search(query, k=10, index=index, model=tmodel)\n",
        "content_df[content_df[itemid].isin(results)]['title']"
      ]
    },
    {
      "cell_type": "code",
      "execution_count": 57,
      "metadata": {
        "colab": {
          "base_uri": "https://localhost:8080/"
        },
        "id": "KYlraBRMwtvL",
        "outputId": "f7f293e8-effd-4ea0-b1b0-f51edab5d536"
      },
      "outputs": [
        {
          "output_type": "execute_result",
          "data": {
            "text/plain": [
              "837                                     Thunderball (1965)\n",
              "1958                                         Sahara (2005)\n",
              "2036                                  Into the Blue (2005)\n",
              "2305       Pirates of the Caribbean: At World's End (2007)\n",
              "2370                                Southland Tales (2006)\n",
              "2868    Pirates of the Caribbean: On Stranger Tides (2011)\n",
              "3024                  Pirates! Band of Misfits, The (2012)\n",
              "3205                               Captain Phillips (2013)\n",
              "3244                                 The Lego Movie (2014)\n",
              "3346                         Penguins of Madagascar (2014)\n",
              "Name: title, dtype: object"
            ]
          },
          "metadata": {},
          "execution_count": 57
        }
      ],
      "source": [
        "from pprint import pprint\n",
        "query=\"a movie about pirates\"\n",
        "results=search(query, k=10, index=index, model=tmodel)\n",
        "content_df[content_df[itemid].isin(results)]['title']"
      ]
    },
    {
      "cell_type": "code",
      "execution_count": 58,
      "metadata": {
        "colab": {
          "base_uri": "https://localhost:8080/"
        },
        "id": "MnR27uZtmrny",
        "outputId": "97fd07d8-515e-4a8a-c073-bbe6aa2202d5"
      },
      "outputs": [
        {
          "output_type": "execute_result",
          "data": {
            "text/plain": [
              "64                    Species (1995)\n",
              "396                   Contact (1997)\n",
              "425                   Gattaca (1997)\n",
              "2134              Renaissance (2006)\n",
              "2263               Epic Movie (2007)\n",
              "2462                Meet Dave (2008)\n",
              "2789               Jackass 3D (2010)\n",
              "3089    Indie Game: The Movie (2012)\n",
              "3302              Signal, The (2014)\n",
              "3360            The Interview (2014)\n",
              "Name: title, dtype: object"
            ]
          },
          "metadata": {},
          "execution_count": 58
        }
      ],
      "source": [
        "from pprint import pprint\n",
        "query=\"a movie about Artificial Intelligence\"\n",
        "results=search(query, k=10, index=index, model=tmodel)\n",
        "content_df[content_df[itemid].isin(results)]['title']"
      ]
    },
    {
      "cell_type": "markdown",
      "metadata": {
        "id": "hX1pTmeQl0FZ"
      },
      "source": [
        "# Recommendation based ranking"
      ]
    },
    {
      "cell_type": "code",
      "execution_count": 60,
      "metadata": {
        "colab": {
          "base_uri": "https://localhost:8080/",
          "height": 1000
        },
        "id": "vgkV8Ut_I_wc",
        "outputId": "d36d9189-9860-4fd4-b14b-5d6e8e3b1940"
      },
      "outputs": [
        {
          "output_type": "stream",
          "name": "stdout",
          "text": [
            "Looking in indexes: https://pypi.org/simple, https://us-python.pkg.dev/colab-wheels/public/simple/\n",
            "Collecting recommenders\n",
            "  Downloading recommenders-1.1.1-py3-none-any.whl (339 kB)\n",
            "\u001b[2K     \u001b[90m━━━━━━━━━━━━━━━━━━━━━━━━━━━━━━━━━━━━━━\u001b[0m \u001b[32m339.0/339.0 KB\u001b[0m \u001b[31m11.0 MB/s\u001b[0m eta \u001b[36m0:00:00\u001b[0m\n",
            "\u001b[?25hRequirement already satisfied: nltk<4,>=3.4 in /usr/local/lib/python3.9/dist-packages (from recommenders) (3.7)\n",
            "Collecting category-encoders<2,>=1.3.0\n",
            "  Downloading category_encoders-1.3.0-py2.py3-none-any.whl (61 kB)\n",
            "\u001b[2K     \u001b[90m━━━━━━━━━━━━━━━━━━━━━━━━━━━━━━━━━━━━━━━━\u001b[0m \u001b[32m61.4/61.4 KB\u001b[0m \u001b[31m6.2 MB/s\u001b[0m eta \u001b[36m0:00:00\u001b[0m\n",
            "\u001b[?25hRequirement already satisfied: matplotlib<4,>=2.2.2 in /usr/local/lib/python3.9/dist-packages (from recommenders) (3.5.3)\n",
            "Collecting cornac<2,>=1.1.2\n",
            "  Downloading cornac-1.14.2-cp39-cp39-manylinux1_x86_64.whl (13.2 MB)\n",
            "\u001b[2K     \u001b[90m━━━━━━━━━━━━━━━━━━━━━━━━━━━━━━━━━━━━━━━━\u001b[0m \u001b[32m13.2/13.2 MB\u001b[0m \u001b[31m35.8 MB/s\u001b[0m eta \u001b[36m0:00:00\u001b[0m\n",
            "\u001b[?25hRequirement already satisfied: seaborn<1,>=0.8.1 in /usr/local/lib/python3.9/dist-packages (from recommenders) (0.11.2)\n",
            "Requirement already satisfied: pandas<2,>1.0.3 in /usr/local/lib/python3.9/dist-packages (from recommenders) (1.4.4)\n",
            "Collecting pyyaml<6,>=5.4.1\n",
            "  Downloading PyYAML-5.4.1-cp39-cp39-manylinux1_x86_64.whl (630 kB)\n",
            "\u001b[2K     \u001b[90m━━━━━━━━━━━━━━━━━━━━━━━━━━━━━━━━━━━━━━\u001b[0m \u001b[32m630.1/630.1 KB\u001b[0m \u001b[31m41.5 MB/s\u001b[0m eta \u001b[36m0:00:00\u001b[0m\n",
            "\u001b[?25hRequirement already satisfied: numpy>=1.19 in /usr/local/lib/python3.9/dist-packages (from recommenders) (1.22.4)\n",
            "Collecting jinja2<3.1,>=2\n",
            "  Downloading Jinja2-3.0.3-py3-none-any.whl (133 kB)\n",
            "\u001b[2K     \u001b[90m━━━━━━━━━━━━━━━━━━━━━━━━━━━━━━━━━━━━━━\u001b[0m \u001b[32m133.6/133.6 KB\u001b[0m \u001b[31m16.3 MB/s\u001b[0m eta \u001b[36m0:00:00\u001b[0m\n",
            "\u001b[?25hRequirement already satisfied: tqdm<5,>=4.31.1 in /usr/local/lib/python3.9/dist-packages (from recommenders) (4.65.0)\n",
            "Requirement already satisfied: transformers<5,>=2.5.0 in /usr/local/lib/python3.9/dist-packages (from recommenders) (4.26.1)\n",
            "Collecting scikit-learn<1.0.3,>=0.22.1\n",
            "  Downloading scikit_learn-1.0.2-cp39-cp39-manylinux_2_17_x86_64.manylinux2014_x86_64.whl (26.4 MB)\n",
            "\u001b[2K     \u001b[90m━━━━━━━━━━━━━━━━━━━━━━━━━━━━━━━━━━━━━━━━\u001b[0m \u001b[32m26.4/26.4 MB\u001b[0m \u001b[31m15.4 MB/s\u001b[0m eta \u001b[36m0:00:00\u001b[0m\n",
            "\u001b[?25hRequirement already satisfied: requests<3,>=2.0.0 in /usr/local/lib/python3.9/dist-packages (from recommenders) (2.25.1)\n",
            "Collecting memory-profiler<1,>=0.54.0\n",
            "  Downloading memory_profiler-0.61.0-py3-none-any.whl (31 kB)\n",
            "Collecting lightfm<2,>=1.15\n",
            "  Downloading lightfm-1.16.tar.gz (310 kB)\n",
            "\u001b[2K     \u001b[90m━━━━━━━━━━━━━━━━━━━━━━━━━━━━━━━━━━━━━━\u001b[0m \u001b[32m310.1/310.1 KB\u001b[0m \u001b[31m35.1 MB/s\u001b[0m eta \u001b[36m0:00:00\u001b[0m\n",
            "\u001b[?25h  Preparing metadata (setup.py) ... \u001b[?25l\u001b[?25hdone\n",
            "Collecting pandera[strategies]>=0.6.5\n",
            "  Downloading pandera-0.13.4-py3-none-any.whl (122 kB)\n",
            "\u001b[2K     \u001b[90m━━━━━━━━━━━━━━━━━━━━━━━━━━━━━━━━━━━━━━\u001b[0m \u001b[32m122.4/122.4 KB\u001b[0m \u001b[31m14.5 MB/s\u001b[0m eta \u001b[36m0:00:00\u001b[0m\n",
            "\u001b[?25hRequirement already satisfied: lightgbm>=2.2.1 in /usr/local/lib/python3.9/dist-packages (from recommenders) (2.2.3)\n",
            "Requirement already satisfied: scipy<2,>=1.0.0 in /usr/local/lib/python3.9/dist-packages (from recommenders) (1.10.1)\n",
            "Requirement already satisfied: numba<1,>=0.38.1 in /usr/local/lib/python3.9/dist-packages (from recommenders) (0.56.4)\n",
            "Collecting scikit-surprise>=1.0.6\n",
            "  Downloading scikit-surprise-1.1.3.tar.gz (771 kB)\n",
            "\u001b[2K     \u001b[90m━━━━━━━━━━━━━━━━━━━━━━━━━━━━━━━━━━━━━━\u001b[0m \u001b[32m772.0/772.0 KB\u001b[0m \u001b[31m52.6 MB/s\u001b[0m eta \u001b[36m0:00:00\u001b[0m\n",
            "\u001b[?25h  Preparing metadata (setup.py) ... \u001b[?25l\u001b[?25hdone\n",
            "Collecting bottleneck<2,>=1.2.1\n",
            "  Downloading Bottleneck-1.3.7-cp39-cp39-manylinux_2_5_x86_64.manylinux1_x86_64.manylinux_2_17_x86_64.manylinux2014_x86_64.whl (353 kB)\n",
            "\u001b[2K     \u001b[90m━━━━━━━━━━━━━━━━━━━━━━━━━━━━━━━━━━━━━━\u001b[0m \u001b[32m353.1/353.1 KB\u001b[0m \u001b[31m21.2 MB/s\u001b[0m eta \u001b[36m0:00:00\u001b[0m\n",
            "\u001b[?25hCollecting retrying>=1.3.3\n",
            "  Downloading retrying-1.3.4-py3-none-any.whl (11 kB)\n",
            "Requirement already satisfied: patsy>=0.4.1 in /usr/local/lib/python3.9/dist-packages (from category-encoders<2,>=1.3.0->recommenders) (0.5.3)\n",
            "Requirement already satisfied: statsmodels>=0.6.1 in /usr/local/lib/python3.9/dist-packages (from category-encoders<2,>=1.3.0->recommenders) (0.13.5)\n",
            "Collecting powerlaw\n",
            "  Downloading powerlaw-1.5-py3-none-any.whl (24 kB)\n",
            "Requirement already satisfied: MarkupSafe>=2.0 in /usr/local/lib/python3.9/dist-packages (from jinja2<3.1,>=2->recommenders) (2.1.2)\n",
            "Requirement already satisfied: kiwisolver>=1.0.1 in /usr/local/lib/python3.9/dist-packages (from matplotlib<4,>=2.2.2->recommenders) (1.4.4)\n",
            "Requirement already satisfied: packaging>=20.0 in /usr/local/lib/python3.9/dist-packages (from matplotlib<4,>=2.2.2->recommenders) (23.0)\n",
            "Requirement already satisfied: pyparsing>=2.2.1 in /usr/local/lib/python3.9/dist-packages (from matplotlib<4,>=2.2.2->recommenders) (3.0.9)\n",
            "Requirement already satisfied: python-dateutil>=2.7 in /usr/local/lib/python3.9/dist-packages (from matplotlib<4,>=2.2.2->recommenders) (2.8.2)\n",
            "Requirement already satisfied: pillow>=6.2.0 in /usr/local/lib/python3.9/dist-packages (from matplotlib<4,>=2.2.2->recommenders) (8.4.0)\n",
            "Requirement already satisfied: fonttools>=4.22.0 in /usr/local/lib/python3.9/dist-packages (from matplotlib<4,>=2.2.2->recommenders) (4.39.0)\n",
            "Requirement already satisfied: cycler>=0.10 in /usr/local/lib/python3.9/dist-packages (from matplotlib<4,>=2.2.2->recommenders) (0.11.0)\n",
            "Requirement already satisfied: psutil in /usr/local/lib/python3.9/dist-packages (from memory-profiler<1,>=0.54.0->recommenders) (5.4.8)\n",
            "Requirement already satisfied: click in /usr/local/lib/python3.9/dist-packages (from nltk<4,>=3.4->recommenders) (8.1.3)\n",
            "Requirement already satisfied: joblib in /usr/local/lib/python3.9/dist-packages (from nltk<4,>=3.4->recommenders) (1.1.1)\n",
            "Requirement already satisfied: regex>=2021.8.3 in /usr/local/lib/python3.9/dist-packages (from nltk<4,>=3.4->recommenders) (2022.6.2)\n",
            "Requirement already satisfied: setuptools in /usr/local/lib/python3.9/dist-packages (from numba<1,>=0.38.1->recommenders) (57.4.0)\n",
            "Requirement already satisfied: llvmlite<0.40,>=0.39.0dev0 in /usr/local/lib/python3.9/dist-packages (from numba<1,>=0.38.1->recommenders) (0.39.1)\n",
            "Requirement already satisfied: pytz>=2020.1 in /usr/local/lib/python3.9/dist-packages (from pandas<2,>1.0.3->recommenders) (2022.7.1)\n",
            "Requirement already satisfied: pydantic in /usr/local/lib/python3.9/dist-packages (from pandera[strategies]>=0.6.5->recommenders) (1.10.6)\n",
            "Requirement already satisfied: wrapt in /usr/local/lib/python3.9/dist-packages (from pandera[strategies]>=0.6.5->recommenders) (1.15.0)\n",
            "Collecting typing-inspect>=0.6.0\n",
            "  Downloading typing_inspect-0.8.0-py3-none-any.whl (8.7 kB)\n",
            "Collecting hypothesis>=5.41.1\n",
            "  Downloading hypothesis-6.68.2-py3-none-any.whl (402 kB)\n",
            "\u001b[2K     \u001b[90m━━━━━━━━━━━━━━━━━━━━━━━━━━━━━━━━━━━━━━\u001b[0m \u001b[32m402.7/402.7 KB\u001b[0m \u001b[31m34.2 MB/s\u001b[0m eta \u001b[36m0:00:00\u001b[0m\n",
            "\u001b[?25hRequirement already satisfied: chardet<5,>=3.0.2 in /usr/local/lib/python3.9/dist-packages (from requests<3,>=2.0.0->recommenders) (4.0.0)\n",
            "Requirement already satisfied: urllib3<1.27,>=1.21.1 in /usr/local/lib/python3.9/dist-packages (from requests<3,>=2.0.0->recommenders) (1.26.14)\n",
            "Requirement already satisfied: certifi>=2017.4.17 in /usr/local/lib/python3.9/dist-packages (from requests<3,>=2.0.0->recommenders) (2022.12.7)\n",
            "Requirement already satisfied: idna<3,>=2.5 in /usr/local/lib/python3.9/dist-packages (from requests<3,>=2.0.0->recommenders) (2.10)\n",
            "Requirement already satisfied: six>=1.7.0 in /usr/local/lib/python3.9/dist-packages (from retrying>=1.3.3->recommenders) (1.15.0)\n",
            "Requirement already satisfied: threadpoolctl>=2.0.0 in /usr/local/lib/python3.9/dist-packages (from scikit-learn<1.0.3,>=0.22.1->recommenders) (3.1.0)\n",
            "Requirement already satisfied: tokenizers!=0.11.3,<0.14,>=0.11.1 in /usr/local/lib/python3.9/dist-packages (from transformers<5,>=2.5.0->recommenders) (0.13.2)\n",
            "Requirement already satisfied: filelock in /usr/local/lib/python3.9/dist-packages (from transformers<5,>=2.5.0->recommenders) (3.9.0)\n",
            "Requirement already satisfied: huggingface-hub<1.0,>=0.11.0 in /usr/local/lib/python3.9/dist-packages (from transformers<5,>=2.5.0->recommenders) (0.13.2)\n",
            "Requirement already satisfied: typing-extensions>=3.7.4.3 in /usr/local/lib/python3.9/dist-packages (from huggingface-hub<1.0,>=0.11.0->transformers<5,>=2.5.0->recommenders) (4.5.0)\n",
            "Requirement already satisfied: attrs>=19.2.0 in /usr/local/lib/python3.9/dist-packages (from hypothesis>=5.41.1->pandera[strategies]>=0.6.5->recommenders) (22.2.0)\n",
            "Collecting exceptiongroup>=1.0.0\n",
            "  Downloading exceptiongroup-1.1.1-py3-none-any.whl (14 kB)\n",
            "Requirement already satisfied: sortedcontainers<3.0.0,>=2.1.0 in /usr/local/lib/python3.9/dist-packages (from hypothesis>=5.41.1->pandera[strategies]>=0.6.5->recommenders) (2.4.0)\n",
            "Collecting mypy-extensions>=0.3.0\n",
            "  Downloading mypy_extensions-1.0.0-py3-none-any.whl (4.7 kB)\n",
            "Requirement already satisfied: mpmath in /usr/local/lib/python3.9/dist-packages (from powerlaw->cornac<2,>=1.1.2->recommenders) (1.3.0)\n",
            "Building wheels for collected packages: lightfm, scikit-surprise\n",
            "  Building wheel for lightfm (setup.py) ... \u001b[?25l\u001b[?25hdone\n",
            "  Created wheel for lightfm: filename=lightfm-1.16-cp39-cp39-linux_x86_64.whl size=893677 sha256=7ac03fb5a0b0221a281d93eddea0a16ca392b8dbcc06860e3ba3f6df787bd29f\n",
            "  Stored in directory: /root/.cache/pip/wheels/d7/75/52/e42e5f9cd86d4902a352aff4dadde75ec041af713ffcf3ed05\n",
            "  Building wheel for scikit-surprise (setup.py) ... \u001b[?25l\u001b[?25hdone\n",
            "  Created wheel for scikit-surprise: filename=scikit_surprise-1.1.3-cp39-cp39-linux_x86_64.whl size=3193676 sha256=aeefff3c4dd97f257fba39f26f8189017c228803afbada5fde974595e60e7e52\n",
            "  Stored in directory: /root/.cache/pip/wheels/c6/3a/46/9b17b3512bdf283c6cb84f59929cdd5199d4e754d596d22784\n",
            "Successfully built lightfm scikit-surprise\n",
            "Installing collected packages: retrying, pyyaml, mypy-extensions, memory-profiler, jinja2, exceptiongroup, bottleneck, typing-inspect, scikit-surprise, scikit-learn, hypothesis, powerlaw, pandera, lightfm, cornac, category-encoders, recommenders\n",
            "  Attempting uninstall: pyyaml\n",
            "    Found existing installation: PyYAML 6.0\n",
            "    Uninstalling PyYAML-6.0:\n",
            "      Successfully uninstalled PyYAML-6.0\n",
            "  Attempting uninstall: jinja2\n",
            "    Found existing installation: Jinja2 3.1.2\n",
            "    Uninstalling Jinja2-3.1.2:\n",
            "      Successfully uninstalled Jinja2-3.1.2\n",
            "  Attempting uninstall: scikit-learn\n",
            "    Found existing installation: scikit-learn 1.2.2\n",
            "    Uninstalling scikit-learn-1.2.2:\n",
            "      Successfully uninstalled scikit-learn-1.2.2\n",
            "Successfully installed bottleneck-1.3.7 category-encoders-1.3.0 cornac-1.14.2 exceptiongroup-1.1.1 hypothesis-6.68.2 jinja2-3.0.3 lightfm-1.16 memory-profiler-0.61.0 mypy-extensions-1.0.0 pandera-0.13.4 powerlaw-1.5 pyyaml-5.4.1 recommenders-1.1.1 retrying-1.3.4 scikit-learn-1.0.2 scikit-surprise-1.1.3 typing-inspect-0.8.0\n"
          ]
        },
        {
          "output_type": "display_data",
          "data": {
            "application/vnd.colab-display-data+json": {
              "pip_warning": {
                "packages": [
                  "sklearn",
                  "yaml"
                ]
              }
            }
          },
          "metadata": {}
        }
      ],
      "source": [
        "!pip install recommenders"
      ]
    },
    {
      "cell_type": "code",
      "execution_count": 61,
      "metadata": {
        "id": "dVwzxxDwMDul"
      },
      "outputs": [],
      "source": [
        "from recommenders.datasets.python_splitters import python_stratified_split\n",
        "from recommenders.evaluation.python_evaluation import map_at_k, ndcg_at_k, precision_at_k, recall_at_k\n",
        "from recommenders.models.sar import SAR\n",
        "import cornac\n",
        "from recommenders.datasets.python_splitters import python_random_split,python_stratified_split\n",
        "from recommenders.evaluation.python_evaluation import map_at_k, ndcg_at_k, precision_at_k, recall_at_k\n",
        "from recommenders.models.cornac.cornac_utils import predict_ranking\n",
        "from recommenders.utils.timer import Timer\n",
        "from recommenders.utils.constants import SEED\n"
      ]
    },
    {
      "cell_type": "markdown",
      "metadata": {
        "id": "9Ca5qPb-M5cK"
      },
      "source": [
        "##BPR"
      ]
    },
    {
      "cell_type": "code",
      "execution_count": 62,
      "metadata": {
        "colab": {
          "base_uri": "https://localhost:8080/",
          "height": 66,
          "referenced_widgets": [
            "fa4dcf23a7cf4728b26c7a867500c8d4",
            "c796c450a731434a9039e79cf79046a7",
            "a538fa61807a402bb0ea6775cc3d899c",
            "39057656aede4e4ca907ad596898eabd",
            "34bc7a3d136d429bb2b0d0b02f6e4c26",
            "41282190de794acd9737c7e641b88ab3",
            "934a86cd1f944866a034428e9cd6744f",
            "ffeb98af866945299cd884f361fdce91",
            "65df9d1dd0ca4f2f914658895bf518da",
            "691ca03300754be09b07d1ac6f29a999",
            "687f1cc2011a4edf934cf518e5fab935"
          ]
        },
        "id": "5lk6SQKMekPZ",
        "outputId": "bb0ea5ea-700b-4c5d-fe09-29eec4c592bf"
      },
      "outputs": [
        {
          "output_type": "display_data",
          "data": {
            "text/plain": [
              "  0%|          | 0/100 [00:00<?, ?it/s]"
            ],
            "application/vnd.jupyter.widget-view+json": {
              "version_major": 2,
              "version_minor": 0,
              "model_id": "fa4dcf23a7cf4728b26c7a867500c8d4"
            }
          },
          "metadata": {}
        },
        {
          "output_type": "stream",
          "name": "stdout",
          "text": [
            "Optimization finished!\n"
          ]
        }
      ],
      "source": [
        "df=rating_df.copy()\n",
        "df=df[['userID','itemID','rating']]\n",
        "train=df\n",
        "train_set = cornac.data.Dataset.from_uir(train.itertuples(index=False), seed=SEED)\n",
        "bpr = cornac.models.BPR(\n",
        "    k=200,\n",
        "    max_iter=100,\n",
        "    learning_rate=0.01,\n",
        "    lambda_reg=0.001,\n",
        "    verbose=True,\n",
        "    seed=42\n",
        ")\n",
        "\n",
        "bpr.fit(train_set)\n",
        "\n",
        "all_predictions = predict_ranking(bpr, train, usercol='userID', itemcol='itemID', remove_seen=False)\n",
        "\n"
      ]
    },
    {
      "cell_type": "code",
      "execution_count": 63,
      "metadata": {
        "id": "lWkpBn_kRw2O"
      },
      "outputs": [],
      "source": [
        "\n",
        "k = len(u_items)\n",
        "top_k_items = (\n",
        "            all_predictions.sort_values(['userID', 'prediction'], ascending=[True, False])\n",
        "            .groupby('userID', as_index=False)\n",
        "            .head(k)\n",
        "            .reset_index(drop=True)\n",
        "        )"
      ]
    },
    {
      "cell_type": "code",
      "execution_count": 64,
      "metadata": {
        "id": "QjwFyuV7pLm7"
      },
      "outputs": [],
      "source": [
        "top_k_items=top_k_items.merge(content_df[['itemID','title']],on=\"itemID\")"
      ]
    },
    {
      "cell_type": "code",
      "execution_count": 65,
      "metadata": {
        "id": "O2pE5UD24XPJ"
      },
      "outputs": [],
      "source": [
        "top_k_items=top_k_items.sort_values(['userID', 'prediction'], ascending=[True, False])"
      ]
    },
    {
      "cell_type": "markdown",
      "metadata": {
        "id": "sZVsVmvWQvvO"
      },
      "source": [
        "## SEARCH FOR USER #1"
      ]
    },
    {
      "cell_type": "code",
      "execution_count": 66,
      "metadata": {
        "id": "uNlxAIjtQ4Tu"
      },
      "outputs": [],
      "source": [
        "userquery=1"
      ]
    },
    {
      "cell_type": "markdown",
      "metadata": {
        "id": "rHA7xT0_SASO"
      },
      "source": [
        "top 10 recommendations "
      ]
    },
    {
      "cell_type": "code",
      "execution_count": 67,
      "metadata": {
        "id": "ZnMa8P2eQ0O-"
      },
      "outputs": [],
      "source": [
        "top_k_reco=top_k_items[top_k_items.userID==userquery]\n"
      ]
    },
    {
      "cell_type": "markdown",
      "metadata": {
        "id": "Mzui7yWkS5oP"
      },
      "source": [
        "### search1 "
      ]
    },
    {
      "cell_type": "code",
      "execution_count": 68,
      "metadata": {
        "id": "i_kKA8LOwEHJ"
      },
      "outputs": [],
      "source": [
        "from sentence_transformers import SentenceTransformer, util\n",
        "import torch\n"
      ]
    },
    {
      "cell_type": "code",
      "execution_count": 69,
      "metadata": {
        "colab": {
          "base_uri": "https://localhost:8080/"
        },
        "id": "Gzpox8easqKu",
        "outputId": "0888eb1a-c9a7-41c4-b3f6-b7cbfc9b5ae8"
      },
      "outputs": [
        {
          "output_type": "execute_result",
          "data": {
            "text/plain": [
              "device(type='cpu')"
            ]
          },
          "metadata": {},
          "execution_count": 69
        }
      ],
      "source": [
        "torch.device('cpu')"
      ]
    },
    {
      "cell_type": "code",
      "execution_count": 70,
      "metadata": {
        "colab": {
          "base_uri": "https://localhost:8080/"
        },
        "id": "dL24DWoPwaM5",
        "outputId": "98f6fc71-bdca-494b-9fba-14fd819975eb"
      },
      "outputs": [
        {
          "output_type": "execute_result",
          "data": {
            "text/plain": [
              "31110                                          Starship Troopers (1997)\n",
              "65880                                                       Jaws (1975)\n",
              "148840                                       Conan the Barbarian (1982)\n",
              "150670                                          Last Action Hero (1993)\n",
              "211670                                               Thunderball (1965)\n",
              "271450                                                    Jaws 2 (1978)\n",
              "301950    Pirates of the Caribbean: The Curse of the Black Pearl (2003)\n",
              "557540                                            Street Fighter (1994)\n",
              "613050                Pirates of the Caribbean: Dead Man's Chest (2006)\n",
              "759450                  Pirates of the Caribbean: At World's End (2007)\n",
              "Name: title, dtype: object"
            ]
          },
          "metadata": {},
          "execution_count": 70
        }
      ],
      "source": [
        "query=\"a movie about pirates\"\n",
        "query_embedding = tmodel.encode(query, convert_to_tensor=True)\n",
        "\n",
        "correct_hits = util.semantic_search(query_embedding, corpus_embeddings, top_k=25)[0]\n",
        "correct_hits_ids = set([hit['corpus_id'] for hit in correct_hits])\n",
        "search_list =  [content_df.iloc[idx][itemid] for idx in correct_hits_ids]\n",
        "top_k_reco[top_k_reco.itemID.isin(search_list)].sort_values(by='prediction',ascending=[False])['title'].head(10)"
      ]
    },
    {
      "cell_type": "code",
      "execution_count": 71,
      "metadata": {
        "colab": {
          "base_uri": "https://localhost:8080/"
        },
        "id": "wzqRA-Ti1Ltn",
        "outputId": "0f855fbd-8e4b-4a0d-dc0b-d1110039fb59"
      },
      "outputs": [
        {
          "output_type": "execute_result",
          "data": {
            "text/plain": [
              "9760                   Die Hard (1988)\n",
              "78690     Beverly Hills Cop III (1994)\n",
              "143960               Dick Tracy (1990)\n",
              "250100                 Cop Land (1997)\n",
              "315370     Beverly Hills Cop II (1987)\n",
              "373320           Police Academy (1984)\n",
              "666120                 One, The (2001)\n",
              "753350               15 Minutes (2001)\n",
              "838140           Running Scared (2006)\n",
              "917440                 Joy Ride (2001)\n",
              "Name: title, dtype: object"
            ]
          },
          "metadata": {},
          "execution_count": 71
        }
      ],
      "source": [
        "query=\"a movie about police officer\"\n",
        "query_embedding = tmodel.encode(query, convert_to_tensor=True)\n",
        "\n",
        "correct_hits = util.semantic_search(query_embedding, corpus_embeddings, top_k=25)[0]\n",
        "correct_hits_ids = set([hit['corpus_id'] for hit in correct_hits])\n",
        "search_list =  [content_df.iloc[idx][itemid] for idx in correct_hits_ids]\n",
        "top_k_reco[top_k_reco.itemID.isin(search_list)].sort_values(by='prediction',ascending=[False])['title'].head(10)"
      ]
    },
    {
      "cell_type": "code",
      "execution_count": 72,
      "metadata": {
        "colab": {
          "base_uri": "https://localhost:8080/"
        },
        "id": "sbC-evcm1B_g",
        "outputId": "a6cceb87-03f4-461e-c0c9-f548acd92b6d"
      },
      "outputs": [
        {
          "output_type": "execute_result",
          "data": {
            "text/plain": [
              "3660                             Matrix, The (1999)\n",
              "11590                                  Alien (1979)\n",
              "239120                            Titan A.E. (2000)\n",
              "330010            Bill & Ted's Bogus Journey (1991)\n",
              "336110                            Flatliners (1990)\n",
              "385520                             Creepshow (1982)\n",
              "407480                          6th Day, The (2000)\n",
              "442860                              eXistenZ (1999)\n",
              "484950                              I, Robot (2004)\n",
              "510570    Terminator 3: Rise of the Machines (2003)\n",
              "Name: title, dtype: object"
            ]
          },
          "metadata": {},
          "execution_count": 72
        }
      ],
      "source": [
        "query=\"a movie about robots\"\n",
        "query_embedding = tmodel.encode(query, convert_to_tensor=True)\n",
        "\n",
        "correct_hits = util.semantic_search(query_embedding, corpus_embeddings, top_k=25)[0]\n",
        "correct_hits_ids = set([hit['corpus_id'] for hit in correct_hits])\n",
        "search_list =  [content_df.iloc[idx][itemid] for idx in correct_hits_ids]\n",
        "top_k_reco[top_k_reco.itemID.isin(search_list)].sort_values(by='prediction',ascending=[False])['title'].head(10)"
      ]
    },
    {
      "cell_type": "code",
      "execution_count": 73,
      "metadata": {
        "colab": {
          "base_uri": "https://localhost:8080/"
        },
        "id": "UPNSaCWB1EJ6",
        "outputId": "c2464ae5-29bf-45e3-9c14-052940ca408d"
      },
      "outputs": [
        {
          "output_type": "execute_result",
          "data": {
            "text/plain": [
              "70150                    Alien: Resurrection (1997)\n",
              "92110                                Gattaca (1997)\n",
              "114680                               Contact (1997)\n",
              "157380                               Species (1995)\n",
              "225090                               Hackers (1995)\n",
              "239120                            Titan A.E. (2000)\n",
              "285480                       Man on the Moon (1999)\n",
              "407480                          6th Day, The (2000)\n",
              "442860                              eXistenZ (1999)\n",
              "510570    Terminator 3: Rise of the Machines (2003)\n",
              "Name: title, dtype: object"
            ]
          },
          "metadata": {},
          "execution_count": 73
        }
      ],
      "source": [
        "query=\"a movie about Artificial Intelligence\"\n",
        "query_embedding = tmodel.encode(query, convert_to_tensor=True)\n",
        "\n",
        "correct_hits = util.semantic_search(query_embedding, corpus_embeddings, top_k=30)[0]\n",
        "correct_hits_ids = set([hit['corpus_id'] for hit in correct_hits])\n",
        "search_list =  [content_df.iloc[idx][itemid] for idx in correct_hits_ids]\n",
        "top_k_reco[top_k_reco.itemID.isin(search_list)].sort_values(by='prediction',ascending=[False])['title'].head(10)"
      ]
    },
    {
      "cell_type": "markdown",
      "metadata": {
        "id": "NXKOulCM4dzH"
      },
      "source": [
        "## SEARCH FOR USER #2"
      ]
    },
    {
      "cell_type": "code",
      "execution_count": 74,
      "metadata": {
        "id": "SHkr_Ts64dzH"
      },
      "outputs": [],
      "source": [
        "userquery=2"
      ]
    },
    {
      "cell_type": "markdown",
      "metadata": {
        "id": "56eGZSld4dzH"
      },
      "source": [
        "top 10 recommendations "
      ]
    },
    {
      "cell_type": "code",
      "execution_count": 75,
      "metadata": {
        "id": "K_ishgKK4dzH"
      },
      "outputs": [],
      "source": [
        "top_k_reco=top_k_items[top_k_items.userID==userquery]\n"
      ]
    },
    {
      "cell_type": "markdown",
      "metadata": {
        "id": "LqUSnPjf4dzH"
      },
      "source": [
        "### search1 "
      ]
    },
    {
      "cell_type": "code",
      "execution_count": 76,
      "metadata": {
        "id": "X-tqX60Y4dzI"
      },
      "outputs": [],
      "source": [
        "from sentence_transformers import SentenceTransformer, util\n",
        "import torch\n"
      ]
    },
    {
      "cell_type": "code",
      "execution_count": 77,
      "metadata": {
        "colab": {
          "base_uri": "https://localhost:8080/"
        },
        "id": "ASHCzyn74dzI",
        "outputId": "c657bce4-5b93-46ba-8327-7c442c97e00d"
      },
      "outputs": [
        {
          "output_type": "execute_result",
          "data": {
            "text/plain": [
              "device(type='cpu')"
            ]
          },
          "metadata": {},
          "execution_count": 77
        }
      ],
      "source": [
        "torch.device('cpu')"
      ]
    },
    {
      "cell_type": "code",
      "execution_count": 78,
      "metadata": {
        "colab": {
          "base_uri": "https://localhost:8080/"
        },
        "id": "d18MqkcB4dzI",
        "outputId": "3fe3bb2f-8157-4a85-b3eb-9a74d7b39580"
      },
      "outputs": [
        {
          "output_type": "execute_result",
          "data": {
            "text/plain": [
              "301951     Pirates of the Caribbean: The Curse of the Black Pearl (2003)\n",
              "613051                 Pirates of the Caribbean: Dead Man's Chest (2006)\n",
              "759451                   Pirates of the Caribbean: At World's End (2007)\n",
              "65881                                                        Jaws (1975)\n",
              "1839151                                            The Lego Movie (2014)\n",
              "31111                                           Starship Troopers (1997)\n",
              "1774491               Pirates of the Caribbean: On Stranger Tides (2011)\n",
              "1487791                                          Captain Phillips (2013)\n",
              "150671                                           Last Action Hero (1993)\n",
              "148841                                        Conan the Barbarian (1982)\n",
              "Name: title, dtype: object"
            ]
          },
          "metadata": {},
          "execution_count": 78
        }
      ],
      "source": [
        "query=\"a movie about pirates\"\n",
        "query_embedding = tmodel.encode(query, convert_to_tensor=True)\n",
        "\n",
        "correct_hits = util.semantic_search(query_embedding, corpus_embeddings, top_k=25)[0]\n",
        "correct_hits_ids = set([hit['corpus_id'] for hit in correct_hits])\n",
        "search_list =  [content_df.iloc[idx][itemid] for idx in correct_hits_ids]\n",
        "top_k_reco[top_k_reco.itemID.isin(search_list)].sort_values(by='prediction',ascending=[False])['title'].head(10)"
      ]
    },
    {
      "cell_type": "code",
      "execution_count": 79,
      "metadata": {
        "colab": {
          "base_uri": "https://localhost:8080/"
        },
        "id": "j95sFFr24dzI",
        "outputId": "c54bb28a-a7df-4d66-f0d2-d9dd643ba097"
      },
      "outputs": [
        {
          "output_type": "execute_result",
          "data": {
            "text/plain": [
              "9761                    Die Hard (1988)\n",
              "1448751                    Drive (2011)\n",
              "1605521           21 Jump Street (2012)\n",
              "78691      Beverly Hills Cop III (1994)\n",
              "1269411                  Super 8 (2011)\n",
              "373321            Police Academy (1984)\n",
              "1828781                  Sicario (2015)\n",
              "1933701             End of Watch (2012)\n",
              "666121                  One, The (2001)\n",
              "2144761            Let's Be Cops (2014)\n",
              "Name: title, dtype: object"
            ]
          },
          "metadata": {},
          "execution_count": 79
        }
      ],
      "source": [
        "query=\"a movie about police officer\"\n",
        "query_embedding = tmodel.encode(query, convert_to_tensor=True)\n",
        "\n",
        "correct_hits = util.semantic_search(query_embedding, corpus_embeddings, top_k=25)[0]\n",
        "correct_hits_ids = set([hit['corpus_id'] for hit in correct_hits])\n",
        "search_list =  [content_df.iloc[idx][itemid] for idx in correct_hits_ids]\n",
        "top_k_reco[top_k_reco.itemID.isin(search_list)].sort_values(by='prediction',ascending=[False])['title'].head(10)"
      ]
    },
    {
      "cell_type": "code",
      "execution_count": 80,
      "metadata": {
        "colab": {
          "base_uri": "https://localhost:8080/"
        },
        "id": "AQs8SgZN4dzI",
        "outputId": "d747694e-c74f-44af-ea0c-9de698ae533b"
      },
      "outputs": [
        {
          "output_type": "execute_result",
          "data": {
            "text/plain": [
              "3661                              Matrix, The (1999)\n",
              "11591                                   Alien (1979)\n",
              "1275511                            Big Hero 6 (2014)\n",
              "484951                               I, Robot (2004)\n",
              "1839151                        The Lego Movie (2014)\n",
              "682591                           Transformers (2007)\n",
              "510571     Terminator 3: Rise of the Machines (2003)\n",
              "851561                                 Robots (2005)\n",
              "1629311                                     9 (2009)\n",
              "1652491                            Surrogates (2009)\n",
              "Name: title, dtype: object"
            ]
          },
          "metadata": {},
          "execution_count": 80
        }
      ],
      "source": [
        "query=\"a movie about robots\"\n",
        "query_embedding = tmodel.encode(query, convert_to_tensor=True)\n",
        "\n",
        "correct_hits = util.semantic_search(query_embedding, corpus_embeddings, top_k=25)[0]\n",
        "correct_hits_ids = set([hit['corpus_id'] for hit in correct_hits])\n",
        "search_list =  [content_df.iloc[idx][itemid] for idx in correct_hits_ids]\n",
        "top_k_reco[top_k_reco.itemID.isin(search_list)].sort_values(by='prediction',ascending=[False])['title'].head(10)"
      ]
    },
    {
      "cell_type": "code",
      "execution_count": 81,
      "metadata": {
        "colab": {
          "base_uri": "https://localhost:8080/"
        },
        "id": "MBS65UE94dzI",
        "outputId": "93a01ecb-f334-493e-d5f5-19a3a1635abc"
      },
      "outputs": [
        {
          "output_type": "execute_result",
          "data": {
            "text/plain": [
              "92111                                 Gattaca (1997)\n",
              "114681                                Contact (1997)\n",
              "682591                           Transformers (2007)\n",
              "510571     Terminator 3: Rise of the Machines (2003)\n",
              "285481                        Man on the Moon (1999)\n",
              "225091                                Hackers (1995)\n",
              "157381                                Species (1995)\n",
              "1629311                                     9 (2009)\n",
              "2135611                         The Interview (2014)\n",
              "70151                     Alien: Resurrection (1997)\n",
              "Name: title, dtype: object"
            ]
          },
          "metadata": {},
          "execution_count": 81
        }
      ],
      "source": [
        "query=\"a movie about Artificial Intelligence\"\n",
        "query_embedding = tmodel.encode(query, convert_to_tensor=True)\n",
        "\n",
        "correct_hits = util.semantic_search(query_embedding, corpus_embeddings, top_k=30)[0]\n",
        "correct_hits_ids = set([hit['corpus_id'] for hit in correct_hits])\n",
        "search_list =  [content_df.iloc[idx][itemid] for idx in correct_hits_ids]\n",
        "top_k_reco[top_k_reco.itemID.isin(search_list)].sort_values(by='prediction',ascending=[False])['title'].head(10)"
      ]
    },
    {
      "cell_type": "markdown",
      "metadata": {
        "id": "7aQ0QATb3np3"
      },
      "source": [
        "# Use recommendion list to give weitage to different genere"
      ]
    },
    {
      "cell_type": "code",
      "execution_count": 82,
      "metadata": {
        "id": "_oUihfQn32S3"
      },
      "outputs": [],
      "source": [
        "\n",
        "k = 20\n",
        "top_20_items = (\n",
        "            all_predictions.sort_values(['userID', 'prediction'], ascending=[True, False])\n",
        "            .groupby('userID', as_index=False)\n",
        "            .head(k)\n",
        "            .reset_index(drop=True)\n",
        "        )"
      ]
    },
    {
      "cell_type": "code",
      "execution_count": 83,
      "metadata": {
        "id": "dRoluOWo32S3"
      },
      "outputs": [],
      "source": [
        "top_20_items=top_20_items.merge(content_df[['itemID','title','genere']],on=\"itemID\")"
      ]
    },
    {
      "cell_type": "code",
      "execution_count": 84,
      "metadata": {
        "id": "8luc8Hy338L_"
      },
      "outputs": [],
      "source": [
        "top_20_items=top_20_items.sort_values(['userID', 'prediction'], ascending=[True, False])"
      ]
    },
    {
      "cell_type": "code",
      "execution_count": 85,
      "metadata": {
        "id": "Zf0lpOyP5ZR2"
      },
      "outputs": [],
      "source": [
        "list_geners=[]\n",
        "for i,row in content_df.iterrows():\n",
        "  for gn in row['genere']:\n",
        "      if gn not in list_geners:\n",
        "        list_geners.append(gn)"
      ]
    },
    {
      "cell_type": "code",
      "execution_count": 86,
      "metadata": {
        "colab": {
          "base_uri": "https://localhost:8080/"
        },
        "id": "M4_7LZ1V5ZR3",
        "outputId": "3fd7a53c-5fc8-4563-bfe0-cdec3c75519b"
      },
      "outputs": [
        {
          "output_type": "execute_result",
          "data": {
            "text/plain": [
              "['Animation',\n",
              " 'Comedy',\n",
              " 'Family',\n",
              " 'Adventure',\n",
              " 'Action',\n",
              " 'Thriller',\n",
              " 'Drama',\n",
              " 'Romance',\n",
              " 'History',\n",
              " 'Crime',\n",
              " 'Fantasy',\n",
              " 'War',\n",
              " 'Mystery',\n",
              " 'Music',\n",
              " 'Horror',\n",
              " 'Science Fiction',\n",
              " 'Documentary',\n",
              " 'Western',\n",
              " 'Foreign',\n",
              " 'TV Movie']"
            ]
          },
          "metadata": {},
          "execution_count": 86
        }
      ],
      "source": [
        "list_geners"
      ]
    },
    {
      "cell_type": "code",
      "execution_count": 87,
      "metadata": {
        "id": "InxkKwGC47RO"
      },
      "outputs": [],
      "source": [
        "user_genere_map=dict()\n",
        "u_users=list(rating_df.userID.unique())\n",
        "for i in u_users:\n",
        "   user_genere_map[i]=dict()\n",
        "   for j in list_geners:\n",
        "    user_genere_map[i][j]=0\n",
        "for i,row in top_20_items.iterrows():\n",
        "  uid=row['userID']\n",
        "  for gn in row['genere']:\n",
        "      user_genere_map[uid][gn]+=1"
      ]
    },
    {
      "cell_type": "code",
      "execution_count": 88,
      "metadata": {
        "id": "7JLa_x4R_9te"
      },
      "outputs": [],
      "source": [
        "genere_list=dict()\n",
        "for i in list_geners:\n",
        "  genere_list[i]=[]"
      ]
    },
    {
      "cell_type": "code",
      "execution_count": 89,
      "metadata": {
        "id": "Po1ZVEkw9q-u"
      },
      "outputs": [],
      "source": [
        "user_watch_hist = pd.DataFrame()\n",
        "\n",
        "for uid in u_users:\n",
        "\n",
        "  for i in list_geners:\n",
        "    genere_list[i].append(user_genere_map[uid][i])"
      ]
    },
    {
      "cell_type": "code",
      "execution_count": 90,
      "metadata": {
        "id": "Yj1eI8Nx-RJW"
      },
      "outputs": [],
      "source": [
        "for i in list_geners:\n",
        "  user_watch_hist[i] = genere_list[i]\n"
      ]
    },
    {
      "cell_type": "code",
      "execution_count": 91,
      "metadata": {
        "id": "PZL0coOHCmd_"
      },
      "outputs": [],
      "source": [
        "user_watch_hist['userID']=list(u_users)"
      ]
    },
    {
      "cell_type": "code",
      "execution_count": 92,
      "metadata": {
        "id": "ZPd9S7PPArEK"
      },
      "outputs": [],
      "source": [
        "# import scipy.stats as stats\n",
        "# genere_score=dict()\n",
        "# for i in list_geners:\n",
        "#   user_watch_hist[i]=stats.zscore(user_watch_hist[i])\n",
        "\n"
      ]
    },
    {
      "cell_type": "code",
      "execution_count": 93,
      "metadata": {
        "id": "w33LoIfNFlYu"
      },
      "outputs": [],
      "source": [
        "def weight(i):\n",
        "    alpha = 0.5\n",
        "    return alpha*pow((1-alpha),10-i)\n",
        "def softmax(x):\n",
        "    \"\"\"Compute softmax values for each sets of scores in x.\"\"\"\n",
        "    e_x = np.exp(x - np.max(x))\n",
        "    return e_x / e_x.sum()"
      ]
    },
    {
      "cell_type": "markdown",
      "metadata": {
        "id": "_0Gb1AyEIJtt"
      },
      "source": [
        "## search for user #1"
      ]
    },
    {
      "cell_type": "code",
      "execution_count": 94,
      "metadata": {
        "id": "4e5rR5XWFxnw"
      },
      "outputs": [],
      "source": [
        "userquery=1"
      ]
    },
    {
      "cell_type": "code",
      "execution_count": 95,
      "metadata": {
        "id": "B7HEEy0xFnQN"
      },
      "outputs": [],
      "source": [
        "dataforuser=user_watch_hist[user_watch_hist.userID==userquery]\n",
        "x = np.asarray([dataforuser])\n",
        "genre_weights = softmax(x)"
      ]
    },
    {
      "cell_type": "code",
      "execution_count": 96,
      "metadata": {
        "id": "eYXd0fJKGNKd"
      },
      "outputs": [],
      "source": [
        "genre_weights=genre_weights[0][0]"
      ]
    },
    {
      "cell_type": "code",
      "execution_count": 97,
      "metadata": {
        "id": "UdzlgIjiGfnV"
      },
      "outputs": [],
      "source": [
        "all_generes_encode=dict()\n",
        "for i in list_geners:\n",
        "  all_generes_encode[i]=tmodel.encode(['action'])\n",
        "  all_generes_encode[i]=np.asarray(all_generes_encode[i].astype('float32'))"
      ]
    },
    {
      "cell_type": "code",
      "execution_count": 98,
      "metadata": {
        "id": "EcU9IY_RGYMG"
      },
      "outputs": [],
      "source": [
        "user_genere_encode=[]\n",
        "index=0\n",
        "for i in list_geners:\n",
        "  user_genere_encode.append(all_generes_encode[i]*genre_weights[index])\n",
        "  index+=1\n",
        "user_encoded_vector=user_genere_encode[0]\n",
        "for i in range(1,len(user_genere_encode)):\n",
        "  user_encoded_vector+=i"
      ]
    },
    {
      "cell_type": "code",
      "execution_count": 99,
      "metadata": {
        "id": "uS-FyUvyHPw_"
      },
      "outputs": [],
      "source": [
        "\n",
        "user_encoded_vector = np.asarray(user_encoded_vector)\n",
        "user_encoded_vector = user_encoded_vector.reshape((1,corpus_embeddings.shape[1]))"
      ]
    },
    {
      "cell_type": "code",
      "execution_count": 100,
      "metadata": {
        "colab": {
          "base_uri": "https://localhost:8080/"
        },
        "id": "0hhUQ8TtIeGW",
        "outputId": "ee2b7fd9-9264-48fe-ccb0-b42231d469bc"
      },
      "outputs": [
        {
          "output_type": "execute_result",
          "data": {
            "text/plain": [
              "[{'Title': 'Penguins of Madagascar (2014)', 'Score': 0.00359996},\n",
              " {'Title': 'Sausage Party (2016)', 'Score': 0.0011603498},\n",
              " {'Title': 'Southland Tales (2006)', 'Score': -0.00024240022},\n",
              " {'Title': 'Bandidas (2006)', 'Score': -0.005480806},\n",
              " {'Title': 'Sharknado (2013)', 'Score': -0.009026544},\n",
              " {'Title': 'Jaws 2 (1978)', 'Score': -0.014675306},\n",
              " {'Title': 'Stan Helsing (2009)', 'Score': -0.017459176},\n",
              " {'Title': 'Pirates! Band of Misfits, The (2012)', 'Score': -0.02334557},\n",
              " {'Title': 'Shark Night 3D (2011)', 'Score': -0.025306711},\n",
              " {'Title': 'The Lego Movie (2014)', 'Score': -0.02567318}]"
            ]
          },
          "metadata": {},
          "execution_count": 100
        }
      ],
      "source": [
        "query=\"a movie about pirates\"\n",
        "query_embedding = tmodel.encode(query, convert_to_tensor=True)\n",
        "alltitles=[]\n",
        "correct_hits = util.semantic_search(query_embedding, corpus_embeddings, top_k=25)[0]\n",
        "correct_hits_ids = set([hit['corpus_id'] for hit in correct_hits])\n",
        "results =  [content_df.iloc[idx][itemid] for idx in correct_hits_ids]\n",
        "alltags=list(content_df[content_df[itemid].isin(results)]['NewTag'])\n",
        "\n",
        "\n",
        "#Compute embeddings\n",
        "tembeddings = tmodel.encode(alltags)\n",
        "\n",
        "#Compute cosine-similarities for each sentence with each other sentence\n",
        "cosine_scores = util.pytorch_cos_sim(user_encoded_vector, tembeddings)\n",
        "\n",
        "#Find the pairs with the highest cosine similarity scores\n",
        "titles = list(content_df[content_df[itemid].isin(results)]['title'])\n",
        "ranked_user_behaviour = [{'Title':x ,'Score': y} for x,y in zip(titles,cosine_scores.numpy()[0])]\n",
        "ranked_user_behaviour = sorted(ranked_user_behaviour, key=lambda x: x['Score'], reverse=True)\n",
        "ranked_user_behaviour[:10]\n"
      ]
    },
    {
      "cell_type": "code",
      "execution_count": 101,
      "metadata": {
        "colab": {
          "base_uri": "https://localhost:8080/"
        },
        "id": "H3ahlG_qJ5c9",
        "outputId": "20fb1c07-07e6-4bf7-f2b6-b1b314a72caa"
      },
      "outputs": [
        {
          "output_type": "execute_result",
          "data": {
            "text/plain": [
              "[{'Title': 'Monster House (2006)', 'Score': 0.0032982163},\n",
              " {'Title': 'Sausage Party (2016)', 'Score': 0.0011603378},\n",
              " {'Title': 'Big Hero 6 (2014)', 'Score': -0.005773406},\n",
              " {'Title': 'Meet Dave (2008)', 'Score': -0.019040419},\n",
              " {'Title': 'Escape From Tomorrow (2013)', 'Score': -0.021280624},\n",
              " {'Title': 'The Lego Movie (2014)', 'Score': -0.025673203},\n",
              " {'Title': 'Robot & Frank (2012)', 'Score': -0.027256284},\n",
              " {'Title': 'Jackass 3D (2010)', 'Score': -0.027925434},\n",
              " {'Title': 'Creepshow (1982)', 'Score': -0.028103612},\n",
              " {'Title': \"Bill & Ted's Bogus Journey (1991)\", 'Score': -0.02908747}]"
            ]
          },
          "metadata": {},
          "execution_count": 101
        }
      ],
      "source": [
        "query=\"a movie about robots\"\n",
        "query_embedding = tmodel.encode(query, convert_to_tensor=True)\n",
        "alltitles=[]\n",
        "correct_hits = util.semantic_search(query_embedding, corpus_embeddings, top_k=25)[0]\n",
        "correct_hits_ids = set([hit['corpus_id'] for hit in correct_hits])\n",
        "results =  [content_df.iloc[idx][itemid] for idx in correct_hits_ids]\n",
        "alltags=list(content_df[content_df[itemid].isin(results)]['NewTag'])\n",
        "\n",
        "\n",
        "#Compute embeddings\n",
        "tembeddings = tmodel.encode(alltags)\n",
        "\n",
        "#Compute cosine-similarities for each sentence with each other sentence\n",
        "cosine_scores = util.pytorch_cos_sim(user_encoded_vector, tembeddings)\n",
        "\n",
        "#Find the pairs with the highest cosine similarity scores\n",
        "titles = list(content_df[content_df[itemid].isin(results)]['title'])\n",
        "ranked_user_behaviour = [{'Title':x ,'Score': y} for x,y in zip(titles,cosine_scores.numpy()[0])]\n",
        "ranked_user_behaviour = sorted(ranked_user_behaviour, key=lambda x: x['Score'], reverse=True)\n",
        "ranked_user_behaviour[:10]\n"
      ]
    },
    {
      "cell_type": "code",
      "execution_count": 102,
      "metadata": {
        "colab": {
          "base_uri": "https://localhost:8080/"
        },
        "id": "NV7T7gVvJ7i2",
        "outputId": "8d4bb2f2-0c5f-4a46-a326-06e1314aa698"
      },
      "outputs": [
        {
          "output_type": "execute_result",
          "data": {
            "text/plain": [
              "[{'Title': 'Epic Movie (2007)', 'Score': -0.010129329},\n",
              " {'Title': 'Meet Dave (2008)', 'Score': -0.019040436},\n",
              " {'Title': 'Escape From Tomorrow (2013)', 'Score': -0.02128066},\n",
              " {'Title': 'Signal, The (2014)', 'Score': -0.026184522},\n",
              " {'Title': 'Jackass 3D (2010)', 'Score': -0.027925435},\n",
              " {'Title': 'Superhero Movie (2008)', 'Score': -0.03403638},\n",
              " {'Title': 'Escape from Planet Earth (2013)', 'Score': -0.034764923},\n",
              " {'Title': 'The Interview (2014)', 'Score': -0.035186343},\n",
              " {'Title': '6th Day, The (2000)', 'Score': -0.036696866},\n",
              " {'Title': 'Indie Game: The Movie (2012)', 'Score': -0.03986738}]"
            ]
          },
          "metadata": {},
          "execution_count": 102
        }
      ],
      "source": [
        "query=\"a movie about Artificial Intelligence\"\n",
        "query_embedding = tmodel.encode(query, convert_to_tensor=True)\n",
        "alltitles=[]\n",
        "correct_hits = util.semantic_search(query_embedding, corpus_embeddings, top_k=25)[0]\n",
        "correct_hits_ids = set([hit['corpus_id'] for hit in correct_hits])\n",
        "results =  [content_df.iloc[idx][itemid] for idx in correct_hits_ids]\n",
        "alltags=list(content_df[content_df[itemid].isin(results)]['NewTag'])\n",
        "\n",
        "\n",
        "#Compute embeddings\n",
        "tembeddings = tmodel.encode(alltags)\n",
        "\n",
        "#Compute cosine-similarities for each sentence with each other sentence\n",
        "cosine_scores = util.pytorch_cos_sim(user_encoded_vector, tembeddings)\n",
        "\n",
        "#Find the pairs with the highest cosine similarity scores\n",
        "titles = list(content_df[content_df[itemid].isin(results)]['title'])\n",
        "ranked_user_behaviour = [{'Title':x ,'Score': y} for x,y in zip(titles,cosine_scores.numpy()[0])]\n",
        "ranked_user_behaviour = sorted(ranked_user_behaviour, key=lambda x: x['Score'], reverse=True)\n",
        "ranked_user_behaviour[:10]\n"
      ]
    },
    {
      "cell_type": "code",
      "execution_count": 103,
      "metadata": {
        "colab": {
          "base_uri": "https://localhost:8080/"
        },
        "id": "3FLuKZO6KEv-",
        "outputId": "6005688b-df44-4a61-85d8-4564ae528603"
      },
      "outputs": [
        {
          "output_type": "execute_result",
          "data": {
            "text/plain": [
              "[{'Title': 'Joy Ride (2001)', 'Score': 0.0065333624},\n",
              " {'Title': 'Beverly Hills Cop III (1994)', 'Score': -0.0035072803},\n",
              " {'Title': '15 Minutes (2001)', 'Score': -0.010096139},\n",
              " {'Title': 'Police Academy: Mission to Moscow (1994)', 'Score': -0.010787674},\n",
              " {'Title': 'Adventures of Ford Fairlane, The (1990)', 'Score': -0.01615899},\n",
              " {'Title': 'Die Hard (1988)', 'Score': -0.017927352},\n",
              " {'Title': \"Let's Be Cops (2014)\", 'Score': -0.021435557},\n",
              " {'Title': 'Beverly Hills Cop II (1987)', 'Score': -0.021640826},\n",
              " {'Title': '16 Blocks (2006)', 'Score': -0.028868439},\n",
              " {'Title': 'Killer Joe (2011)', 'Score': -0.02944188}]"
            ]
          },
          "metadata": {},
          "execution_count": 103
        }
      ],
      "source": [
        "query=\"a movie about police officer\"\n",
        "query_embedding = tmodel.encode(query, convert_to_tensor=True)\n",
        "alltitles=[]\n",
        "correct_hits = util.semantic_search(query_embedding, corpus_embeddings, top_k=25)[0]\n",
        "correct_hits_ids = set([hit['corpus_id'] for hit in correct_hits])\n",
        "results =  [content_df.iloc[idx][itemid] for idx in correct_hits_ids]\n",
        "alltags=list(content_df[content_df[itemid].isin(results)]['NewTag'])\n",
        "\n",
        "\n",
        "#Compute embeddings\n",
        "tembeddings = tmodel.encode(alltags)\n",
        "\n",
        "#Compute cosine-similarities for each sentence with each other sentence\n",
        "cosine_scores = util.pytorch_cos_sim(user_encoded_vector, tembeddings)\n",
        "\n",
        "#Find the pairs with the highest cosine similarity scores\n",
        "titles = list(content_df[content_df[itemid].isin(results)]['title'])\n",
        "ranked_user_behaviour = [{'Title':x ,'Score': y} for x,y in zip(titles,cosine_scores.numpy()[0])]\n",
        "ranked_user_behaviour = sorted(ranked_user_behaviour, key=lambda x: x['Score'], reverse=True)\n",
        "ranked_user_behaviour[:10]\n"
      ]
    },
    {
      "cell_type": "markdown",
      "metadata": {
        "id": "TQfZ_jw4KdhW"
      },
      "source": [
        "## search for user #1"
      ]
    },
    {
      "cell_type": "code",
      "execution_count": 104,
      "metadata": {
        "id": "egd9uvqYKdhW"
      },
      "outputs": [],
      "source": [
        "userquery=2"
      ]
    },
    {
      "cell_type": "code",
      "execution_count": 105,
      "metadata": {
        "id": "wSpvzjDmKdhW"
      },
      "outputs": [],
      "source": [
        "dataforuser=user_watch_hist[user_watch_hist.userID==userquery]\n",
        "x = np.asarray([dataforuser])\n",
        "genre_weights = softmax(x)"
      ]
    },
    {
      "cell_type": "code",
      "execution_count": 106,
      "metadata": {
        "id": "65RZncChKdhX"
      },
      "outputs": [],
      "source": [
        "genre_weights=genre_weights[0][0]"
      ]
    },
    {
      "cell_type": "code",
      "execution_count": 107,
      "metadata": {
        "id": "3s7SRdqFKdhX"
      },
      "outputs": [],
      "source": [
        "all_generes_encode=dict()\n",
        "for i in list_geners:\n",
        "  all_generes_encode[i]=tmodel.encode(['action'])\n",
        "  all_generes_encode[i]=np.asarray(all_generes_encode[i].astype('float32'))"
      ]
    },
    {
      "cell_type": "code",
      "execution_count": 108,
      "metadata": {
        "id": "ZomBllBoKdhX"
      },
      "outputs": [],
      "source": [
        "user_genere_encode=[]\n",
        "index=0\n",
        "for i in list_geners:\n",
        "  user_genere_encode.append(all_generes_encode[i]*genre_weights[index])\n",
        "  index+=1\n",
        "user_encoded_vector=user_genere_encode[0]\n",
        "for i in range(1,len(user_genere_encode)):\n",
        "  user_encoded_vector+=i"
      ]
    },
    {
      "cell_type": "code",
      "execution_count": 109,
      "metadata": {
        "id": "ouoU9E6UKdhX"
      },
      "outputs": [],
      "source": [
        "\n",
        "user_encoded_vector = np.asarray(user_encoded_vector)\n",
        "user_encoded_vector = user_encoded_vector.reshape((1,corpus_embeddings.shape[1]))"
      ]
    },
    {
      "cell_type": "code",
      "execution_count": 110,
      "metadata": {
        "colab": {
          "base_uri": "https://localhost:8080/"
        },
        "id": "OZDhLP1SKdhX",
        "outputId": "4db0e1c0-9f2b-4ec1-9744-1a0a7706ad58"
      },
      "outputs": [
        {
          "output_type": "execute_result",
          "data": {
            "text/plain": [
              "[{'Title': 'Penguins of Madagascar (2014)', 'Score': 0.0036002053},\n",
              " {'Title': 'Sausage Party (2016)', 'Score': 0.0011606243},\n",
              " {'Title': 'Southland Tales (2006)', 'Score': -0.00024211616},\n",
              " {'Title': 'Bandidas (2006)', 'Score': -0.005480565},\n",
              " {'Title': 'Sharknado (2013)', 'Score': -0.00902627},\n",
              " {'Title': 'Jaws 2 (1978)', 'Score': -0.014674982},\n",
              " {'Title': 'Stan Helsing (2009)', 'Score': -0.017458957},\n",
              " {'Title': 'Pirates! Band of Misfits, The (2012)', 'Score': -0.023345299},\n",
              " {'Title': 'Shark Night 3D (2011)', 'Score': -0.02530646},\n",
              " {'Title': 'The Lego Movie (2014)', 'Score': -0.02567292}]"
            ]
          },
          "metadata": {},
          "execution_count": 110
        }
      ],
      "source": [
        "query=\"a movie about pirates\"\n",
        "query_embedding = tmodel.encode(query, convert_to_tensor=True)\n",
        "alltitles=[]\n",
        "correct_hits = util.semantic_search(query_embedding, corpus_embeddings, top_k=25)[0]\n",
        "correct_hits_ids = set([hit['corpus_id'] for hit in correct_hits])\n",
        "results =  [content_df.iloc[idx][itemid] for idx in correct_hits_ids]\n",
        "alltags=list(content_df[content_df[itemid].isin(results)]['NewTag'])\n",
        "\n",
        "\n",
        "#Compute embeddings\n",
        "tembeddings = tmodel.encode(alltags)\n",
        "\n",
        "#Compute cosine-similarities for each sentence with each other sentence\n",
        "cosine_scores = util.pytorch_cos_sim(user_encoded_vector, tembeddings)\n",
        "\n",
        "#Find the pairs with the highest cosine similarity scores\n",
        "titles = list(content_df[content_df[itemid].isin(results)]['title'])\n",
        "ranked_user_behaviour = [{'Title':x ,'Score': y} for x,y in zip(titles,cosine_scores.numpy()[0])]\n",
        "ranked_user_behaviour = sorted(ranked_user_behaviour, key=lambda x: x['Score'], reverse=True)\n",
        "ranked_user_behaviour[:10]\n"
      ]
    },
    {
      "cell_type": "code",
      "execution_count": 111,
      "metadata": {
        "colab": {
          "base_uri": "https://localhost:8080/"
        },
        "id": "A9-G6glFKdhX",
        "outputId": "4e7c2273-3414-4457-f386-9fc3327aea24"
      },
      "outputs": [
        {
          "output_type": "execute_result",
          "data": {
            "text/plain": [
              "[{'Title': 'Monster House (2006)', 'Score': 0.0032984323},\n",
              " {'Title': 'Sausage Party (2016)', 'Score': 0.0011606175},\n",
              " {'Title': 'Big Hero 6 (2014)', 'Score': -0.0057731112},\n",
              " {'Title': 'Meet Dave (2008)', 'Score': -0.019040188},\n",
              " {'Title': 'Escape From Tomorrow (2013)', 'Score': -0.021280322},\n",
              " {'Title': 'The Lego Movie (2014)', 'Score': -0.025672931},\n",
              " {'Title': 'Robot & Frank (2012)', 'Score': -0.027256083},\n",
              " {'Title': 'Jackass 3D (2010)', 'Score': -0.027925149},\n",
              " {'Title': 'Creepshow (1982)', 'Score': -0.028103355},\n",
              " {'Title': \"Bill & Ted's Bogus Journey (1991)\", 'Score': -0.029087216}]"
            ]
          },
          "metadata": {},
          "execution_count": 111
        }
      ],
      "source": [
        "query=\"a movie about robots\"\n",
        "query_embedding = tmodel.encode(query, convert_to_tensor=True)\n",
        "alltitles=[]\n",
        "correct_hits = util.semantic_search(query_embedding, corpus_embeddings, top_k=25)[0]\n",
        "correct_hits_ids = set([hit['corpus_id'] for hit in correct_hits])\n",
        "results =  [content_df.iloc[idx][itemid] for idx in correct_hits_ids]\n",
        "alltags=list(content_df[content_df[itemid].isin(results)]['NewTag'])\n",
        "\n",
        "\n",
        "#Compute embeddings\n",
        "tembeddings = tmodel.encode(alltags)\n",
        "\n",
        "#Compute cosine-similarities for each sentence with each other sentence\n",
        "cosine_scores = util.pytorch_cos_sim(user_encoded_vector, tembeddings)\n",
        "\n",
        "#Find the pairs with the highest cosine similarity scores\n",
        "titles = list(content_df[content_df[itemid].isin(results)]['title'])\n",
        "ranked_user_behaviour = [{'Title':x ,'Score': y} for x,y in zip(titles,cosine_scores.numpy()[0])]\n",
        "ranked_user_behaviour = sorted(ranked_user_behaviour, key=lambda x: x['Score'], reverse=True)\n",
        "ranked_user_behaviour[:10]\n"
      ]
    },
    {
      "cell_type": "code",
      "execution_count": 112,
      "metadata": {
        "colab": {
          "base_uri": "https://localhost:8080/"
        },
        "id": "XMhhIMtWKdhX",
        "outputId": "44b945fa-29c7-4ef4-f484-30bf3a028744"
      },
      "outputs": [
        {
          "output_type": "execute_result",
          "data": {
            "text/plain": [
              "[{'Title': 'Epic Movie (2007)', 'Score': -0.010129076},\n",
              " {'Title': 'Meet Dave (2008)', 'Score': -0.019040221},\n",
              " {'Title': 'Escape From Tomorrow (2013)', 'Score': -0.021280352},\n",
              " {'Title': 'Signal, The (2014)', 'Score': -0.026184201},\n",
              " {'Title': 'Jackass 3D (2010)', 'Score': -0.02792517},\n",
              " {'Title': 'Superhero Movie (2008)', 'Score': -0.034036074},\n",
              " {'Title': 'Escape from Planet Earth (2013)', 'Score': -0.03476462},\n",
              " {'Title': 'The Interview (2014)', 'Score': -0.035186123},\n",
              " {'Title': '6th Day, The (2000)', 'Score': -0.03669651},\n",
              " {'Title': 'Indie Game: The Movie (2012)', 'Score': -0.03986711}]"
            ]
          },
          "metadata": {},
          "execution_count": 112
        }
      ],
      "source": [
        "query=\"a movie about Artificial Intelligence\"\n",
        "query_embedding = tmodel.encode(query, convert_to_tensor=True)\n",
        "alltitles=[]\n",
        "correct_hits = util.semantic_search(query_embedding, corpus_embeddings, top_k=25)[0]\n",
        "correct_hits_ids = set([hit['corpus_id'] for hit in correct_hits])\n",
        "results =  [content_df.iloc[idx][itemid] for idx in correct_hits_ids]\n",
        "alltags=list(content_df[content_df[itemid].isin(results)]['NewTag'])\n",
        "\n",
        "\n",
        "#Compute embeddings\n",
        "tembeddings = tmodel.encode(alltags)\n",
        "\n",
        "#Compute cosine-similarities for each sentence with each other sentence\n",
        "cosine_scores = util.pytorch_cos_sim(user_encoded_vector, tembeddings)\n",
        "\n",
        "#Find the pairs with the highest cosine similarity scores\n",
        "titles = list(content_df[content_df[itemid].isin(results)]['title'])\n",
        "ranked_user_behaviour = [{'Title':x ,'Score': y} for x,y in zip(titles,cosine_scores.numpy()[0])]\n",
        "ranked_user_behaviour = sorted(ranked_user_behaviour, key=lambda x: x['Score'], reverse=True)\n",
        "ranked_user_behaviour[:10]\n"
      ]
    },
    {
      "cell_type": "code",
      "execution_count": 113,
      "metadata": {
        "colab": {
          "base_uri": "https://localhost:8080/"
        },
        "id": "9a1JG-InKdhX",
        "outputId": "ca8aaaef-b753-4350-f79a-abe209b55e02"
      },
      "outputs": [
        {
          "output_type": "execute_result",
          "data": {
            "text/plain": [
              "[{'Title': 'Joy Ride (2001)', 'Score': 0.0065336726},\n",
              " {'Title': 'Beverly Hills Cop III (1994)', 'Score': -0.003507034},\n",
              " {'Title': '15 Minutes (2001)', 'Score': -0.010095813},\n",
              " {'Title': 'Police Academy: Mission to Moscow (1994)', 'Score': -0.010787387},\n",
              " {'Title': 'Adventures of Ford Fairlane, The (1990)', 'Score': -0.016158711},\n",
              " {'Title': 'Die Hard (1988)', 'Score': -0.017927008},\n",
              " {'Title': \"Let's Be Cops (2014)\", 'Score': -0.021435296},\n",
              " {'Title': 'Beverly Hills Cop II (1987)', 'Score': -0.021640558},\n",
              " {'Title': '16 Blocks (2006)', 'Score': -0.02886815},\n",
              " {'Title': 'Killer Joe (2011)', 'Score': -0.029441614}]"
            ]
          },
          "metadata": {},
          "execution_count": 113
        }
      ],
      "source": [
        "query=\"a movie about police officer\"\n",
        "query_embedding = tmodel.encode(query, convert_to_tensor=True)\n",
        "alltitles=[]\n",
        "correct_hits = util.semantic_search(query_embedding, corpus_embeddings, top_k=25)[0]\n",
        "correct_hits_ids = set([hit['corpus_id'] for hit in correct_hits])\n",
        "results =  [content_df.iloc[idx][itemid] for idx in correct_hits_ids]\n",
        "alltags=list(content_df[content_df[itemid].isin(results)]['NewTag'])\n",
        "\n",
        "\n",
        "#Compute embeddings\n",
        "tembeddings = tmodel.encode(alltags)\n",
        "\n",
        "#Compute cosine-similarities for each sentence with each other sentence\n",
        "cosine_scores = util.pytorch_cos_sim(user_encoded_vector, tembeddings)\n",
        "\n",
        "#Find the pairs with the highest cosine similarity scores\n",
        "titles = list(content_df[content_df[itemid].isin(results)]['title'])\n",
        "ranked_user_behaviour = [{'Title':x ,'Score': y} for x,y in zip(titles,cosine_scores.numpy()[0])]\n",
        "ranked_user_behaviour = sorted(ranked_user_behaviour, key=lambda x: x['Score'], reverse=True)\n",
        "ranked_user_behaviour[:10]\n"
      ]
    },
    {
      "cell_type": "markdown",
      "metadata": {
        "id": "YD72Cql86sbv"
      },
      "source": [
        "#CrossEncoder base Reranking"
      ]
    },
    {
      "cell_type": "code",
      "execution_count": 114,
      "metadata": {
        "colab": {
          "base_uri": "https://localhost:8080/",
          "height": 177,
          "referenced_widgets": [
            "4dcdf68a96414800bffa967a0dc37a58",
            "a8f51cc5a91940f79936e9a6d86f4606",
            "2037b03f20214c4eb5752a58ef997b32",
            "e60ccb1aff854c4db410dac4d19ce0b5",
            "95127ba8edc141f0b7e3bd20a0e853b7",
            "4d44d37c32aa41a69367927cdee8bfb5",
            "468306b5f1ec4501886ff44d61946600",
            "2bba671338d64797aa4a9bd1d200f669",
            "38d44198e62d40f09a9a37ef656aae3b",
            "1d35f2738d264240bd1d84234754724b",
            "cb5535056ffc477ebb987db6f8829e09",
            "e0635faf3a2b448681b89067b251f26c",
            "1030647f19884548bf8ce7c350e5fad3",
            "e9c9580a278940c7a67e973a0ebfb04a",
            "f5b129d7cede4a3c8ceb53948df001bb",
            "3f0c51a283204936bf5d04b6f942bf98",
            "bdb57c637dd94d91bbdaa66e00b27210",
            "c468cc14fa6a49eb8494157a1ce9b89c",
            "e59df5e52e114b8aa5b784fb4f9de2f8",
            "5c07a102a34b42fb9fa7741cdcf5e22c",
            "c01628882c574a1788c9980f7f899234",
            "1110a82c56934a5b9c45e919b63a7aab",
            "0610b1dad4cc4464aabfd4aece5bb201",
            "7624e9de28d54ab4a55c348c6d39c394",
            "dc817769add748a791423171c3723d0a",
            "ee3ebee2939b4a41b0af72570d4214ba",
            "2558ce16cb684f32b2cf8ebdcfcbf40a",
            "3853ea90e6794346b0bfdd2799fb6ee7",
            "73278d9f318346a3bd08feead881cc2a",
            "469ed7e1292c4538a394b414574ca638",
            "dcabe2659dee49ecaecc76839629b0c1",
            "a69fbdfc19f94600b8ed0118da3e0e5e",
            "74733f8aeb11482387339beae706ebd2",
            "0478c3caa3154d50ab1223ea5e1f935d",
            "d6b529e5563d4adaa6d512b78b2e7d25",
            "144aeee0d5e849b5a0a73e4d1da73269",
            "419e5a5bd55e41e4a0ff68332763f7d3",
            "3b622e47b05d4caa8283ab01aaa9ef70",
            "7a891f557bf24c69a4a8d17c297bc111",
            "7e61e822b89045749e1a46fcd73958b9",
            "5960519abe29496cac7dde8d13893d12",
            "2a4d6fc5d81149c9a8eef7d466e1953e",
            "14c5667859d34e3ba5f1de603bd59431",
            "631a5914679845a08f8e60b2e28f74eb",
            "b27c20a5f9104caaac5ad348b1747f3b",
            "ae6a1423d94a470a8e32b7d5734957f0",
            "6408a18706524563aade8723a963d30c",
            "7fe80351b1e84bf48aa01e5af366e73c",
            "7b6f810438884e0fafac34d0b80940b8",
            "63ff17acf3814ab9a15759cca2209144",
            "faa383f198e04beb902f8519f4e9ca95",
            "8753894643f04b2bac537968cb913ac2",
            "7f5b3b89eb3544a29e9460d777c769e6",
            "9c47901d853547f3a6f0c566cb8d5613",
            "31edd931c53443bfa4f52c1394c030b6"
          ]
        },
        "id": "rxh4dD_C6uzw",
        "outputId": "0d10b165-741f-4f84-9fe8-10c153299d2b"
      },
      "outputs": [
        {
          "output_type": "display_data",
          "data": {
            "text/plain": [
              "Downloading (…)lve/main/config.json:   0%|          | 0.00/612 [00:00<?, ?B/s]"
            ],
            "application/vnd.jupyter.widget-view+json": {
              "version_major": 2,
              "version_minor": 0,
              "model_id": "4dcdf68a96414800bffa967a0dc37a58"
            }
          },
          "metadata": {}
        },
        {
          "output_type": "display_data",
          "data": {
            "text/plain": [
              "Downloading pytorch_model.bin:   0%|          | 0.00/268M [00:00<?, ?B/s]"
            ],
            "application/vnd.jupyter.widget-view+json": {
              "version_major": 2,
              "version_minor": 0,
              "model_id": "e0635faf3a2b448681b89067b251f26c"
            }
          },
          "metadata": {}
        },
        {
          "output_type": "display_data",
          "data": {
            "text/plain": [
              "Downloading (…)okenizer_config.json:   0%|          | 0.00/541 [00:00<?, ?B/s]"
            ],
            "application/vnd.jupyter.widget-view+json": {
              "version_major": 2,
              "version_minor": 0,
              "model_id": "0610b1dad4cc4464aabfd4aece5bb201"
            }
          },
          "metadata": {}
        },
        {
          "output_type": "display_data",
          "data": {
            "text/plain": [
              "Downloading (…)solve/main/vocab.txt:   0%|          | 0.00/232k [00:00<?, ?B/s]"
            ],
            "application/vnd.jupyter.widget-view+json": {
              "version_major": 2,
              "version_minor": 0,
              "model_id": "0478c3caa3154d50ab1223ea5e1f935d"
            }
          },
          "metadata": {}
        },
        {
          "output_type": "display_data",
          "data": {
            "text/plain": [
              "Downloading (…)cial_tokens_map.json:   0%|          | 0.00/112 [00:00<?, ?B/s]"
            ],
            "application/vnd.jupyter.widget-view+json": {
              "version_major": 2,
              "version_minor": 0,
              "model_id": "b27c20a5f9104caaac5ad348b1747f3b"
            }
          },
          "metadata": {}
        }
      ],
      "source": [
        "## Load our cross-encoder. Use fast tokenizer to speed up the tokenization\n",
        "from sentence_transformers import CrossEncoder\n",
        "cross_model = CrossEncoder('cross-encoder/ms-marco-TinyBERT-L-6', max_length=512)"
      ]
    },
    {
      "cell_type": "code",
      "execution_count": 114,
      "metadata": {
        "id": "nVKqYYdC7Kxn"
      },
      "outputs": [],
      "source": []
    },
    {
      "cell_type": "code",
      "execution_count": 115,
      "metadata": {
        "id": "aq2-6z-O69Nv"
      },
      "outputs": [],
      "source": [
        "def cross_score(model_inputs):\n",
        "    scores = cross_model.predict(model_inputs)\n",
        "    return scores\n"
      ]
    },
    {
      "cell_type": "code",
      "execution_count": 116,
      "metadata": {
        "colab": {
          "base_uri": "https://localhost:8080/"
        },
        "id": "qITQ9xVF7fZ6",
        "outputId": "8a43cd65-b119-4381-eea0-adef7405c259"
      },
      "outputs": [
        {
          "output_type": "execute_result",
          "data": {
            "text/plain": [
              "[{'Title': 'Pirates of the Caribbean: The Curse of the Black Pearl (2003)',\n",
              "  'Score': 0.7931788},\n",
              " {'Title': 'Sharknado (2013)', 'Score': 0.7867592},\n",
              " {'Title': 'Sausage Party (2016)', 'Score': 0.7534556},\n",
              " {'Title': 'Shark Night 3D (2011)', 'Score': 0.6190045},\n",
              " {'Title': 'The Lego Movie (2014)', 'Score': 0.23856884},\n",
              " {'Title': 'Starship Troopers (1997)', 'Score': 0.019074917},\n",
              " {'Title': 'Into the Blue (2005)', 'Score': 0.0028064824},\n",
              " {'Title': 'Southland Tales (2006)', 'Score': 0.00081469846},\n",
              " {'Title': 'Bandidas (2006)', 'Score': 0.00059217215},\n",
              " {'Title': 'Pirates! Band of Misfits, The (2012)', 'Score': 0.0005060551},\n",
              " {'Title': 'Thunderball (1965)', 'Score': 0.00036130974},\n",
              " {'Title': 'Captain Phillips (2013)', 'Score': 0.0003107272},\n",
              " {'Title': 'Penguins of Madagascar (2014)', 'Score': 0.00023878657},\n",
              " {'Title': 'Pirates of the Caribbean: On Stranger Tides (2011)',\n",
              "  'Score': 0.00018886985},\n",
              " {'Title': 'Superhero Movie (2008)', 'Score': 0.00018759572},\n",
              " {'Title': 'Last Action Hero (1993)', 'Score': 0.0001874786},\n",
              " {'Title': 'Conan the Barbarian (1982)', 'Score': 0.00018635968},\n",
              " {'Title': 'Jaws 2 (1978)', 'Score': 0.00018200162},\n",
              " {'Title': \"Pirates of the Caribbean: At World's End (2007)\",\n",
              "  'Score': 0.000178631},\n",
              " {'Title': \"Pirates of the Caribbean: Dead Man's Chest (2006)\",\n",
              "  'Score': 0.00017811397},\n",
              " {'Title': 'Sahara (2005)', 'Score': 0.0001750794},\n",
              " {'Title': 'Jaws (1975)', 'Score': 0.00017480814},\n",
              " {'Title': 'Stan Helsing (2009)', 'Score': 0.00016860066},\n",
              " {'Title': 'Street Fighter (1994)', 'Score': 0.00016829661},\n",
              " {'Title': 'Marine, The (2006)', 'Score': 0.00016704925}]"
            ]
          },
          "metadata": {},
          "execution_count": 116
        }
      ],
      "source": [
        "query=\"a movie about pirates\"\n",
        "\n",
        "query_embedding = tmodel.encode(query, convert_to_tensor=True)\n",
        "alltitles=[]\n",
        "correct_hits = util.semantic_search(query_embedding, corpus_embeddings, top_k=25)[0]\n",
        "correct_hits_ids = set([hit['corpus_id'] for hit in correct_hits])\n",
        "results =  [content_df.iloc[idx][itemid] for idx in correct_hits_ids]\n",
        "newtags=content_df[content_df[itemid].isin(results)]['NewTag']\n",
        "\n",
        "\n",
        "model_inputs = [[query,item] for item in newtags]\n",
        "scores = cross_score(model_inputs)\n",
        "#Sort the scores in decreasing order\n",
        "ranked_results = [{'Title': str(list(content_df[content_df[itemid]==inp]['title'])[0]), 'Score': score} for inp, score in zip(results, scores)]\n",
        "ranked_results = sorted(ranked_results, key=lambda x: x['Score'], reverse=True)\n",
        "ranked_results"
      ]
    },
    {
      "cell_type": "code",
      "execution_count": 117,
      "metadata": {
        "colab": {
          "base_uri": "https://localhost:8080/"
        },
        "id": "jweV0-DG9Mg-",
        "outputId": "ebea996b-1aa3-4aa8-e9e5-e3a41257e255"
      },
      "outputs": [
        {
          "output_type": "execute_result",
          "data": {
            "text/plain": [
              "[{'Title': 'Indie Game: The Movie (2012)', 'Score': 0.02130286},\n",
              " {'Title': 'Project Almanac (2015)', 'Score': 0.01649516},\n",
              " {'Title': 'Contact (1997)', 'Score': 0.0114077395},\n",
              " {'Title': 'Hackers (1995)', 'Score': 0.0015263422},\n",
              " {'Title': 'Escape from Planet Earth (2013)', 'Score': 0.0015190454},\n",
              " {'Title': 'Stealth (2005)', 'Score': 0.00091078744},\n",
              " {'Title': 'AVP: Alien vs. Predator (2004)', 'Score': 0.0006547431},\n",
              " {'Title': 'Meet Dave (2008)', 'Score': 0.00049323624},\n",
              " {'Title': 'Superhero Movie (2008)', 'Score': 0.00031385603},\n",
              " {'Title': 'Renaissance (2006)', 'Score': 0.00029239804},\n",
              " {'Title': 'Titan A.E. (2000)', 'Score': 0.0002894135},\n",
              " {'Title': 'Signal, The (2014)', 'Score': 0.0002614644},\n",
              " {'Title': 'Escape From Tomorrow (2013)', 'Score': 0.00023595622},\n",
              " {'Title': 'Bats (1999)', 'Score': 0.00023503967},\n",
              " {'Title': 'Gattaca (1997)', 'Score': 0.00023276873},\n",
              " {'Title': '6th Day, The (2000)', 'Score': 0.00018552746},\n",
              " {'Title': 'Jackass 3D (2010)', 'Score': 0.00018543056},\n",
              " {'Title': 'eXistenZ (1999)', 'Score': 0.00017543015},\n",
              " {'Title': '9 (2009)', 'Score': 0.0001731955},\n",
              " {'Title': 'Species (1995)', 'Score': 0.00016674465},\n",
              " {'Title': 'The Interview (2014)', 'Score': 0.00016206173},\n",
              " {'Title': 'Autómata (Automata) (2014)', 'Score': 0.00016174107},\n",
              " {'Title': 'Epic Movie (2007)', 'Score': 0.0001613529},\n",
              " {'Title': 'I Origins (2014)', 'Score': 0.00016083311},\n",
              " {'Title': 'Terminator 3: Rise of the Machines (2003)',\n",
              "  'Score': 0.00016059574}]"
            ]
          },
          "metadata": {},
          "execution_count": 117
        }
      ],
      "source": [
        "query=\"a movie about Artificial Intelligence\"\n",
        "\n",
        "query_embedding = tmodel.encode(query, convert_to_tensor=True)\n",
        "alltitles=[]\n",
        "correct_hits = util.semantic_search(query_embedding, corpus_embeddings, top_k=25)[0]\n",
        "correct_hits_ids = set([hit['corpus_id'] for hit in correct_hits])\n",
        "results =  [content_df.iloc[idx][itemid] for idx in correct_hits_ids]\n",
        "newtags=content_df[content_df[itemid].isin(results)]['NewTag']\n",
        "\n",
        "\n",
        "model_inputs = [[query,item] for item in newtags]\n",
        "scores = cross_score(model_inputs)\n",
        "#Sort the scores in decreasing order\n",
        "ranked_results = [{'Title': str(list(content_df[content_df[itemid]==inp]['title'])[0]), 'Score': score} for inp, score in zip(results, scores)]\n",
        "ranked_results = sorted(ranked_results, key=lambda x: x['Score'], reverse=True)\n",
        "ranked_results"
      ]
    },
    {
      "cell_type": "code",
      "execution_count": 118,
      "metadata": {
        "colab": {
          "base_uri": "https://localhost:8080/"
        },
        "id": "bQmMoas79USP",
        "outputId": "f22c3e3b-b260-499c-9e02-c7342c762eb2"
      },
      "outputs": [
        {
          "output_type": "execute_result",
          "data": {
            "text/plain": [
              "[{'Title': 'End of Watch (2012)', 'Score': 0.37222722},\n",
              " {'Title': 'Action Jackson (1988)', 'Score': 0.06464396},\n",
              " {'Title': 'Die Hard (1988)', 'Score': 0.06343874},\n",
              " {'Title': 'Dark Blue (2003)', 'Score': 0.010062984},\n",
              " {'Title': 'D.E.B.S. (2004)', 'Score': 0.0047165733},\n",
              " {'Title': 'Beverly Hills Cop II (1987)', 'Score': 0.004515525},\n",
              " {'Title': 'Super 8 (2011)', 'Score': 0.0018285539},\n",
              " {'Title': 'Takers (2010)', 'Score': 0.0017439249},\n",
              " {'Title': 'Righteous Kill (2008)', 'Score': 0.0017063487},\n",
              " {'Title': 'Sicario (2015)', 'Score': 0.0010602757},\n",
              " {'Title': 'Closer to the Moon (2013)', 'Score': 0.0010204031},\n",
              " {'Title': 'Adventures of Ford Fairlane, The (1990)', 'Score': 0.0010034542},\n",
              " {'Title': 'Police Academy: Mission to Moscow (1994)', 'Score': 0.001000614},\n",
              " {'Title': 'One, The (2001)', 'Score': 0.00086122885},\n",
              " {'Title': '2 Guns (2013)', 'Score': 0.00081017276},\n",
              " {'Title': 'Cop Land (1997)', 'Score': 0.00073816045},\n",
              " {'Title': '[REC]² (2009)', 'Score': 0.0005421087},\n",
              " {'Title': 'Police Academy (1984)', 'Score': 0.00045028704},\n",
              " {'Title': '15 Minutes (2001)', 'Score': 0.0004358287},\n",
              " {'Title': 'Paul Blart: Mall Cop (2009)', 'Score': 0.0003508235},\n",
              " {'Title': '21 Jump Street (2012)', 'Score': 0.0003069066},\n",
              " {'Title': 'R.I.P.D. (2013)', 'Score': 0.0002751188},\n",
              " {'Title': 'Drive (2011)', 'Score': 0.00023592473},\n",
              " {'Title': 'Killer Joe (2011)', 'Score': 0.00018976934},\n",
              " {'Title': '16 Blocks (2006)', 'Score': 0.00017623001}]"
            ]
          },
          "metadata": {},
          "execution_count": 118
        }
      ],
      "source": [
        "query=\"movie of the police officer\"\n",
        "\n",
        "query_embedding = tmodel.encode(query, convert_to_tensor=True)\n",
        "alltitles=[]\n",
        "correct_hits = util.semantic_search(query_embedding, corpus_embeddings, top_k=25)[0]\n",
        "correct_hits_ids = set([hit['corpus_id'] for hit in correct_hits])\n",
        "results =  [content_df.iloc[idx][itemid] for idx in correct_hits_ids]\n",
        "newtags=content_df[content_df[itemid].isin(results)]['NewTag']\n",
        "\n",
        "\n",
        "model_inputs = [[query,item] for item in newtags]\n",
        "scores = cross_score(model_inputs)\n",
        "#Sort the scores in decreasing order\n",
        "ranked_results = [{'Title': str(list(content_df[content_df[itemid]==inp]['title'])[0]), 'Score': score} for inp, score in zip(results, scores)]\n",
        "ranked_results = sorted(ranked_results, key=lambda x: x['Score'], reverse=True)\n",
        "ranked_results"
      ]
    },
    {
      "cell_type": "code",
      "execution_count": 119,
      "metadata": {
        "colab": {
          "base_uri": "https://localhost:8080/"
        },
        "id": "qISkIDlb9X8v",
        "outputId": "ff5b645b-cec0-4982-cb1f-1d5f498354de"
      },
      "outputs": [
        {
          "output_type": "execute_result",
          "data": {
            "text/plain": [
              "[{'Title': 'The Lego Movie (2014)', 'Score': 0.41753048},\n",
              " {'Title': 'Dawn of the Planet of the Apes (2014)', 'Score': 0.06545292},\n",
              " {'Title': 'Epic Movie (2007)', 'Score': 0.041046213},\n",
              " {'Title': 'Alien (1979)', 'Score': 0.028830633},\n",
              " {'Title': 'Sky Captain and the World of Tomorrow (2004)',\n",
              "  'Score': 0.016315328},\n",
              " {'Title': 'Rise of the Planet of the Apes (2011)', 'Score': 0.012642347},\n",
              " {'Title': 'Terminator 3: Rise of the Machines (2003)', 'Score': 0.007638378},\n",
              " {'Title': 'Robots (2005)', 'Score': 0.0036070326},\n",
              " {'Title': 'Transformers: Revenge of the Fallen (2009)',\n",
              "  'Score': 0.0033923825},\n",
              " {'Title': 'Titan A.E. (2000)', 'Score': 0.0033907562},\n",
              " {'Title': \"Bill & Ted's Bogus Journey (1991)\", 'Score': 0.00088590366},\n",
              " {'Title': 'Superhero Movie (2008)', 'Score': 0.0008275909},\n",
              " {'Title': 'Robot & Frank (2012)', 'Score': 0.0008228127},\n",
              " {'Title': 'Transformers: Dark of the Moon (2011)', 'Score': 0.00074686337},\n",
              " {'Title': 'Godzilla 2000 (Gojira ni-sen mireniamu) (1999)',\n",
              "  'Score': 0.00071416784},\n",
              " {'Title': 'Avatar (2009)', 'Score': 0.0005199614},\n",
              " {'Title': 'Transformers (2007)', 'Score': 0.00050262647},\n",
              " {'Title': 'Renaissance (2006)', 'Score': 0.00042680308},\n",
              " {'Title': 'Big Hero 6 (2014)', 'Score': 0.00029709187},\n",
              " {'Title': 'Transformers: Age of Extinction (2014)', 'Score': 0.00026484014},\n",
              " {'Title': 'Alien: Resurrection (1997)', 'Score': 0.00022630962},\n",
              " {'Title': 'Creepshow (1982)', 'Score': 0.00022015479},\n",
              " {'Title': 'Monsters vs. Aliens (2009)', 'Score': 0.00021459657},\n",
              " {'Title': 'I, Robot (2004)', 'Score': 0.00019299332},\n",
              " {'Title': '6th Day, The (2000)', 'Score': 0.00016415352}]"
            ]
          },
          "metadata": {},
          "execution_count": 119
        }
      ],
      "source": [
        "query=\"movie of the robots\"\n",
        "\n",
        "query_embedding = tmodel.encode(query, convert_to_tensor=True)\n",
        "alltitles=[]\n",
        "correct_hits = util.semantic_search(query_embedding, corpus_embeddings, top_k=25)[0]\n",
        "correct_hits_ids = set([hit['corpus_id'] for hit in correct_hits])\n",
        "results =  [content_df.iloc[idx][itemid] for idx in correct_hits_ids]\n",
        "newtags=content_df[content_df[itemid].isin(results)]['NewTag']\n",
        "\n",
        "\n",
        "model_inputs = [[query,item] for item in newtags]\n",
        "scores = cross_score(model_inputs)\n",
        "#Sort the scores in decreasing order\n",
        "ranked_results = [{'Title': str(list(content_df[content_df[itemid]==inp]['title'])[0]), 'Score': score} for inp, score in zip(results, scores)]\n",
        "ranked_results = sorted(ranked_results, key=lambda x: x['Score'], reverse=True)\n",
        "ranked_results"
      ]
    },
    {
      "cell_type": "markdown",
      "metadata": {
        "id": "d0uGcJex2yX3"
      },
      "source": [
        "# LAMDAMART"
      ]
    },
    {
      "cell_type": "code",
      "execution_count": 120,
      "metadata": {
        "id": "4ikH58nm6QMb"
      },
      "outputs": [],
      "source": [
        "list_geners=[]\n",
        "for i,row in content_df.iterrows():\n",
        "  for gn in row['genere']:\n",
        "      if gn not in list_geners:\n",
        "        list_geners.append(gn)"
      ]
    },
    {
      "cell_type": "code",
      "execution_count": 121,
      "metadata": {
        "colab": {
          "base_uri": "https://localhost:8080/"
        },
        "id": "Oz4as8fA6QMb",
        "outputId": "0d2ee8c3-107a-4dae-998d-4966956384be"
      },
      "outputs": [
        {
          "output_type": "execute_result",
          "data": {
            "text/plain": [
              "['Animation',\n",
              " 'Comedy',\n",
              " 'Family',\n",
              " 'Adventure',\n",
              " 'Action',\n",
              " 'Thriller',\n",
              " 'Drama',\n",
              " 'Romance',\n",
              " 'History',\n",
              " 'Crime',\n",
              " 'Fantasy',\n",
              " 'War',\n",
              " 'Mystery',\n",
              " 'Music',\n",
              " 'Horror',\n",
              " 'Science Fiction',\n",
              " 'Documentary',\n",
              " 'Western',\n",
              " 'Foreign',\n",
              " 'TV Movie']"
            ]
          },
          "metadata": {},
          "execution_count": 121
        }
      ],
      "source": [
        "list_geners"
      ]
    },
    {
      "cell_type": "code",
      "execution_count": 122,
      "metadata": {
        "id": "17d9620b-092d-4e00-b6c4-2849e58cdb3c"
      },
      "outputs": [],
      "source": [
        "import pandas as pd\n",
        "from sklearn.preprocessing import MultiLabelBinarizer\n",
        "\n",
        "def create_genre_flags(df, popular_genres):\n",
        "    df = df.dropna(subset=['genere'])\n",
        "    df['genere'] = df['genere'].apply(lambda x:\",\".join(s.strip() for s in x))\n",
        "    listofitems=dict()\n",
        "\n",
        "\n",
        "    genre_df =df\n",
        "\n",
        "    for i in popular_genres:\n",
        "      genre_df[i]=[0] * df.shape[0]\n",
        "\n",
        "    for i,row in genre_df.iterrows():\n",
        "      for gn in str(row['genere']).split(','):\n",
        "        row[gn]=1\n",
        "\n",
        "        \n",
        "    genre_df=genre_df.drop(['genere'], axis=1)\n",
        "    return genre_df"
      ]
    },
    {
      "cell_type": "code",
      "execution_count": 123,
      "metadata": {
        "colab": {
          "base_uri": "https://localhost:8080/",
          "height": 281
        },
        "id": "PsOUqStC6kXe",
        "outputId": "06589b63-827c-47e1-b4ed-c3e4a1518f62"
      },
      "outputs": [
        {
          "output_type": "execute_result",
          "data": {
            "text/plain": [
              "   itemID             title                       genere tagline  \\\n",
              "0       1  Toy Story (1995)  [Animation, Comedy, Family]           \n",
              "\n",
              "                                                                                                                                                                                                                                                                                                          overview  \\\n",
              "0  Led by Woody, Andy's toys live happily in his room until Andy's birthday brings Buzz Lightyear onto the scene. Afraid of losing his place in Andy's heart, Woody plots against Buzz. But when circumstances separate Buzz and Woody from their owner, the duo eventually learns to put aside their differences.   \n",
              "\n",
              "                genere_str  \\\n",
              "0  Animation Comedy Family   \n",
              "\n",
              "                                                                                                                                                                                                                                                                                                                                                        NewTag  \\\n",
              "0   Toy Story (1995) Animation Comedy Family   Led by Woody, Andy's toys live happily in his room until Andy's birthday brings Buzz Lightyear onto the scene. Afraid of losing his place in Andy's heart, Woody plots against Buzz. But when circumstances separate Buzz and Woody from their owner, the duo eventually learns to put aside their differences.   \n",
              "\n",
              "                                                                                                                                                                                                                                                                                                                                                      clean  \n",
              "0   toy story  1995  animation comedy family   led by woody  andy  toys live happily in his room until andy  birthday brings buzz lightyear onto the scene  afraid of losing his place in andy  heart  woody plots against buzz  but when circumstances separate buzz and woody from their owner  the duo eventually learns to put aside their differences   "
            ],
            "text/html": [
              "\n",
              "  <div id=\"df-cdfdeb2b-496d-47b7-b4b6-9898543dadce\">\n",
              "    <div class=\"colab-df-container\">\n",
              "      <div>\n",
              "<style scoped>\n",
              "    .dataframe tbody tr th:only-of-type {\n",
              "        vertical-align: middle;\n",
              "    }\n",
              "\n",
              "    .dataframe tbody tr th {\n",
              "        vertical-align: top;\n",
              "    }\n",
              "\n",
              "    .dataframe thead th {\n",
              "        text-align: right;\n",
              "    }\n",
              "</style>\n",
              "<table border=\"1\" class=\"dataframe\">\n",
              "  <thead>\n",
              "    <tr style=\"text-align: right;\">\n",
              "      <th></th>\n",
              "      <th>itemID</th>\n",
              "      <th>title</th>\n",
              "      <th>genere</th>\n",
              "      <th>tagline</th>\n",
              "      <th>overview</th>\n",
              "      <th>genere_str</th>\n",
              "      <th>NewTag</th>\n",
              "      <th>clean</th>\n",
              "    </tr>\n",
              "  </thead>\n",
              "  <tbody>\n",
              "    <tr>\n",
              "      <th>0</th>\n",
              "      <td>1</td>\n",
              "      <td>Toy Story (1995)</td>\n",
              "      <td>[Animation, Comedy, Family]</td>\n",
              "      <td></td>\n",
              "      <td>Led by Woody, Andy's toys live happily in his room until Andy's birthday brings Buzz Lightyear onto the scene. Afraid of losing his place in Andy's heart, Woody plots against Buzz. But when circumstances separate Buzz and Woody from their owner, the duo eventually learns to put aside their differences.</td>\n",
              "      <td>Animation Comedy Family</td>\n",
              "      <td>Toy Story (1995) Animation Comedy Family   Led by Woody, Andy's toys live happily in his room until Andy's birthday brings Buzz Lightyear onto the scene. Afraid of losing his place in Andy's heart, Woody plots against Buzz. But when circumstances separate Buzz and Woody from their owner, the duo eventually learns to put aside their differences.</td>\n",
              "      <td>toy story  1995  animation comedy family   led by woody  andy  toys live happily in his room until andy  birthday brings buzz lightyear onto the scene  afraid of losing his place in andy  heart  woody plots against buzz  but when circumstances separate buzz and woody from their owner  the duo eventually learns to put aside their differences</td>\n",
              "    </tr>\n",
              "  </tbody>\n",
              "</table>\n",
              "</div>\n",
              "      <button class=\"colab-df-convert\" onclick=\"convertToInteractive('df-cdfdeb2b-496d-47b7-b4b6-9898543dadce')\"\n",
              "              title=\"Convert this dataframe to an interactive table.\"\n",
              "              style=\"display:none;\">\n",
              "        \n",
              "  <svg xmlns=\"http://www.w3.org/2000/svg\" height=\"24px\"viewBox=\"0 0 24 24\"\n",
              "       width=\"24px\">\n",
              "    <path d=\"M0 0h24v24H0V0z\" fill=\"none\"/>\n",
              "    <path d=\"M18.56 5.44l.94 2.06.94-2.06 2.06-.94-2.06-.94-.94-2.06-.94 2.06-2.06.94zm-11 1L8.5 8.5l.94-2.06 2.06-.94-2.06-.94L8.5 2.5l-.94 2.06-2.06.94zm10 10l.94 2.06.94-2.06 2.06-.94-2.06-.94-.94-2.06-.94 2.06-2.06.94z\"/><path d=\"M17.41 7.96l-1.37-1.37c-.4-.4-.92-.59-1.43-.59-.52 0-1.04.2-1.43.59L10.3 9.45l-7.72 7.72c-.78.78-.78 2.05 0 2.83L4 21.41c.39.39.9.59 1.41.59.51 0 1.02-.2 1.41-.59l7.78-7.78 2.81-2.81c.8-.78.8-2.07 0-2.86zM5.41 20L4 18.59l7.72-7.72 1.47 1.35L5.41 20z\"/>\n",
              "  </svg>\n",
              "      </button>\n",
              "      \n",
              "  <style>\n",
              "    .colab-df-container {\n",
              "      display:flex;\n",
              "      flex-wrap:wrap;\n",
              "      gap: 12px;\n",
              "    }\n",
              "\n",
              "    .colab-df-convert {\n",
              "      background-color: #E8F0FE;\n",
              "      border: none;\n",
              "      border-radius: 50%;\n",
              "      cursor: pointer;\n",
              "      display: none;\n",
              "      fill: #1967D2;\n",
              "      height: 32px;\n",
              "      padding: 0 0 0 0;\n",
              "      width: 32px;\n",
              "    }\n",
              "\n",
              "    .colab-df-convert:hover {\n",
              "      background-color: #E2EBFA;\n",
              "      box-shadow: 0px 1px 2px rgba(60, 64, 67, 0.3), 0px 1px 3px 1px rgba(60, 64, 67, 0.15);\n",
              "      fill: #174EA6;\n",
              "    }\n",
              "\n",
              "    [theme=dark] .colab-df-convert {\n",
              "      background-color: #3B4455;\n",
              "      fill: #D2E3FC;\n",
              "    }\n",
              "\n",
              "    [theme=dark] .colab-df-convert:hover {\n",
              "      background-color: #434B5C;\n",
              "      box-shadow: 0px 1px 3px 1px rgba(0, 0, 0, 0.15);\n",
              "      filter: drop-shadow(0px 1px 2px rgba(0, 0, 0, 0.3));\n",
              "      fill: #FFFFFF;\n",
              "    }\n",
              "  </style>\n",
              "\n",
              "      <script>\n",
              "        const buttonEl =\n",
              "          document.querySelector('#df-cdfdeb2b-496d-47b7-b4b6-9898543dadce button.colab-df-convert');\n",
              "        buttonEl.style.display =\n",
              "          google.colab.kernel.accessAllowed ? 'block' : 'none';\n",
              "\n",
              "        async function convertToInteractive(key) {\n",
              "          const element = document.querySelector('#df-cdfdeb2b-496d-47b7-b4b6-9898543dadce');\n",
              "          const dataTable =\n",
              "            await google.colab.kernel.invokeFunction('convertToInteractive',\n",
              "                                                     [key], {});\n",
              "          if (!dataTable) return;\n",
              "\n",
              "          const docLinkHtml = 'Like what you see? Visit the ' +\n",
              "            '<a target=\"_blank\" href=https://colab.research.google.com/notebooks/data_table.ipynb>data table notebook</a>'\n",
              "            + ' to learn more about interactive tables.';\n",
              "          element.innerHTML = '';\n",
              "          dataTable['output_type'] = 'display_data';\n",
              "          await google.colab.output.renderOutput(dataTable, element);\n",
              "          const docLink = document.createElement('div');\n",
              "          docLink.innerHTML = docLinkHtml;\n",
              "          element.appendChild(docLink);\n",
              "        }\n",
              "      </script>\n",
              "    </div>\n",
              "  </div>\n",
              "  "
            ]
          },
          "metadata": {},
          "execution_count": 123
        }
      ],
      "source": [
        "content_df.head(1)"
      ]
    },
    {
      "cell_type": "code",
      "execution_count": 124,
      "metadata": {
        "id": "9eadac49-5208-468b-8e37-4fbe53ce850d"
      },
      "outputs": [],
      "source": [
        "genre_info_df = create_genre_flags(content_df,list_geners)"
      ]
    },
    {
      "cell_type": "code",
      "execution_count": 125,
      "metadata": {
        "id": "ygikdJF_Y4r_"
      },
      "outputs": [],
      "source": [
        "genre_info_df  = genre_info_df.dropna(axis=1)"
      ]
    },
    {
      "cell_type": "code",
      "execution_count": 126,
      "metadata": {
        "colab": {
          "base_uri": "https://localhost:8080/",
          "height": 712
        },
        "id": "KEqKThA_Zyni",
        "outputId": "8d6064d5-a73f-42c5-a4e4-6f6aee589344"
      },
      "outputs": [
        {
          "output_type": "execute_result",
          "data": {
            "text/plain": [
              "   itemID             title tagline  \\\n",
              "0       1  Toy Story (1995)           \n",
              "\n",
              "                                                                                                                                                                                                                                                                                                          overview  \\\n",
              "0  Led by Woody, Andy's toys live happily in his room until Andy's birthday brings Buzz Lightyear onto the scene. Afraid of losing his place in Andy's heart, Woody plots against Buzz. But when circumstances separate Buzz and Woody from their owner, the duo eventually learns to put aside their differences.   \n",
              "\n",
              "                genere_str  \\\n",
              "0  Animation Comedy Family   \n",
              "\n",
              "                                                                                                                                                                                                                                                                                                                                                        NewTag  \\\n",
              "0   Toy Story (1995) Animation Comedy Family   Led by Woody, Andy's toys live happily in his room until Andy's birthday brings Buzz Lightyear onto the scene. Afraid of losing his place in Andy's heart, Woody plots against Buzz. But when circumstances separate Buzz and Woody from their owner, the duo eventually learns to put aside their differences.   \n",
              "\n",
              "                                                                                                                                                                                                                                                                                                                                                      clean  \\\n",
              "0   toy story  1995  animation comedy family   led by woody  andy  toys live happily in his room until andy  birthday brings buzz lightyear onto the scene  afraid of losing his place in andy  heart  woody plots against buzz  but when circumstances separate buzz and woody from their owner  the duo eventually learns to put aside their differences    \n",
              "\n",
              "   Animation  Comedy  Family  ...  Fantasy  War  Mystery  Music  Horror  \\\n",
              "0          0       0       0  ...        0    0        0      0       0   \n",
              "\n",
              "   Science Fiction  Documentary  Western  Foreign  TV Movie  \n",
              "0                0            0        0        0         0  \n",
              "\n",
              "[1 rows x 27 columns]"
            ],
            "text/html": [
              "\n",
              "  <div id=\"df-5b30c064-c001-451d-a25d-0cde0a586b2f\">\n",
              "    <div class=\"colab-df-container\">\n",
              "      <div>\n",
              "<style scoped>\n",
              "    .dataframe tbody tr th:only-of-type {\n",
              "        vertical-align: middle;\n",
              "    }\n",
              "\n",
              "    .dataframe tbody tr th {\n",
              "        vertical-align: top;\n",
              "    }\n",
              "\n",
              "    .dataframe thead th {\n",
              "        text-align: right;\n",
              "    }\n",
              "</style>\n",
              "<table border=\"1\" class=\"dataframe\">\n",
              "  <thead>\n",
              "    <tr style=\"text-align: right;\">\n",
              "      <th></th>\n",
              "      <th>itemID</th>\n",
              "      <th>title</th>\n",
              "      <th>tagline</th>\n",
              "      <th>overview</th>\n",
              "      <th>genere_str</th>\n",
              "      <th>NewTag</th>\n",
              "      <th>clean</th>\n",
              "      <th>Animation</th>\n",
              "      <th>Comedy</th>\n",
              "      <th>Family</th>\n",
              "      <th>...</th>\n",
              "      <th>Fantasy</th>\n",
              "      <th>War</th>\n",
              "      <th>Mystery</th>\n",
              "      <th>Music</th>\n",
              "      <th>Horror</th>\n",
              "      <th>Science Fiction</th>\n",
              "      <th>Documentary</th>\n",
              "      <th>Western</th>\n",
              "      <th>Foreign</th>\n",
              "      <th>TV Movie</th>\n",
              "    </tr>\n",
              "  </thead>\n",
              "  <tbody>\n",
              "    <tr>\n",
              "      <th>0</th>\n",
              "      <td>1</td>\n",
              "      <td>Toy Story (1995)</td>\n",
              "      <td></td>\n",
              "      <td>Led by Woody, Andy's toys live happily in his room until Andy's birthday brings Buzz Lightyear onto the scene. Afraid of losing his place in Andy's heart, Woody plots against Buzz. But when circumstances separate Buzz and Woody from their owner, the duo eventually learns to put aside their differences.</td>\n",
              "      <td>Animation Comedy Family</td>\n",
              "      <td>Toy Story (1995) Animation Comedy Family   Led by Woody, Andy's toys live happily in his room until Andy's birthday brings Buzz Lightyear onto the scene. Afraid of losing his place in Andy's heart, Woody plots against Buzz. But when circumstances separate Buzz and Woody from their owner, the duo eventually learns to put aside their differences.</td>\n",
              "      <td>toy story  1995  animation comedy family   led by woody  andy  toys live happily in his room until andy  birthday brings buzz lightyear onto the scene  afraid of losing his place in andy  heart  woody plots against buzz  but when circumstances separate buzz and woody from their owner  the duo eventually learns to put aside their differences</td>\n",
              "      <td>0</td>\n",
              "      <td>0</td>\n",
              "      <td>0</td>\n",
              "      <td>...</td>\n",
              "      <td>0</td>\n",
              "      <td>0</td>\n",
              "      <td>0</td>\n",
              "      <td>0</td>\n",
              "      <td>0</td>\n",
              "      <td>0</td>\n",
              "      <td>0</td>\n",
              "      <td>0</td>\n",
              "      <td>0</td>\n",
              "      <td>0</td>\n",
              "    </tr>\n",
              "  </tbody>\n",
              "</table>\n",
              "<p>1 rows × 27 columns</p>\n",
              "</div>\n",
              "      <button class=\"colab-df-convert\" onclick=\"convertToInteractive('df-5b30c064-c001-451d-a25d-0cde0a586b2f')\"\n",
              "              title=\"Convert this dataframe to an interactive table.\"\n",
              "              style=\"display:none;\">\n",
              "        \n",
              "  <svg xmlns=\"http://www.w3.org/2000/svg\" height=\"24px\"viewBox=\"0 0 24 24\"\n",
              "       width=\"24px\">\n",
              "    <path d=\"M0 0h24v24H0V0z\" fill=\"none\"/>\n",
              "    <path d=\"M18.56 5.44l.94 2.06.94-2.06 2.06-.94-2.06-.94-.94-2.06-.94 2.06-2.06.94zm-11 1L8.5 8.5l.94-2.06 2.06-.94-2.06-.94L8.5 2.5l-.94 2.06-2.06.94zm10 10l.94 2.06.94-2.06 2.06-.94-2.06-.94-.94-2.06-.94 2.06-2.06.94z\"/><path d=\"M17.41 7.96l-1.37-1.37c-.4-.4-.92-.59-1.43-.59-.52 0-1.04.2-1.43.59L10.3 9.45l-7.72 7.72c-.78.78-.78 2.05 0 2.83L4 21.41c.39.39.9.59 1.41.59.51 0 1.02-.2 1.41-.59l7.78-7.78 2.81-2.81c.8-.78.8-2.07 0-2.86zM5.41 20L4 18.59l7.72-7.72 1.47 1.35L5.41 20z\"/>\n",
              "  </svg>\n",
              "      </button>\n",
              "      \n",
              "  <style>\n",
              "    .colab-df-container {\n",
              "      display:flex;\n",
              "      flex-wrap:wrap;\n",
              "      gap: 12px;\n",
              "    }\n",
              "\n",
              "    .colab-df-convert {\n",
              "      background-color: #E8F0FE;\n",
              "      border: none;\n",
              "      border-radius: 50%;\n",
              "      cursor: pointer;\n",
              "      display: none;\n",
              "      fill: #1967D2;\n",
              "      height: 32px;\n",
              "      padding: 0 0 0 0;\n",
              "      width: 32px;\n",
              "    }\n",
              "\n",
              "    .colab-df-convert:hover {\n",
              "      background-color: #E2EBFA;\n",
              "      box-shadow: 0px 1px 2px rgba(60, 64, 67, 0.3), 0px 1px 3px 1px rgba(60, 64, 67, 0.15);\n",
              "      fill: #174EA6;\n",
              "    }\n",
              "\n",
              "    [theme=dark] .colab-df-convert {\n",
              "      background-color: #3B4455;\n",
              "      fill: #D2E3FC;\n",
              "    }\n",
              "\n",
              "    [theme=dark] .colab-df-convert:hover {\n",
              "      background-color: #434B5C;\n",
              "      box-shadow: 0px 1px 3px 1px rgba(0, 0, 0, 0.15);\n",
              "      filter: drop-shadow(0px 1px 2px rgba(0, 0, 0, 0.3));\n",
              "      fill: #FFFFFF;\n",
              "    }\n",
              "  </style>\n",
              "\n",
              "      <script>\n",
              "        const buttonEl =\n",
              "          document.querySelector('#df-5b30c064-c001-451d-a25d-0cde0a586b2f button.colab-df-convert');\n",
              "        buttonEl.style.display =\n",
              "          google.colab.kernel.accessAllowed ? 'block' : 'none';\n",
              "\n",
              "        async function convertToInteractive(key) {\n",
              "          const element = document.querySelector('#df-5b30c064-c001-451d-a25d-0cde0a586b2f');\n",
              "          const dataTable =\n",
              "            await google.colab.kernel.invokeFunction('convertToInteractive',\n",
              "                                                     [key], {});\n",
              "          if (!dataTable) return;\n",
              "\n",
              "          const docLinkHtml = 'Like what you see? Visit the ' +\n",
              "            '<a target=\"_blank\" href=https://colab.research.google.com/notebooks/data_table.ipynb>data table notebook</a>'\n",
              "            + ' to learn more about interactive tables.';\n",
              "          element.innerHTML = '';\n",
              "          dataTable['output_type'] = 'display_data';\n",
              "          await google.colab.output.renderOutput(dataTable, element);\n",
              "          const docLink = document.createElement('div');\n",
              "          docLink.innerHTML = docLinkHtml;\n",
              "          element.appendChild(docLink);\n",
              "        }\n",
              "      </script>\n",
              "    </div>\n",
              "  </div>\n",
              "  "
            ]
          },
          "metadata": {},
          "execution_count": 126
        }
      ],
      "source": [
        "genre_info_df.head(1)"
      ]
    },
    {
      "cell_type": "code",
      "execution_count": 173,
      "metadata": {
        "id": "s203pSaU7bUM"
      },
      "outputs": [],
      "source": [
        "from sklearn.model_selection import train_test_split\n",
        "from sklearn.metrics import ndcg_score,coverage_error\n",
        "\n",
        "from recommenders.datasets.python_splitters import python_random_split,  python_stratified_split"
      ]
    },
    {
      "cell_type": "code",
      "execution_count": 174,
      "metadata": {
        "id": "xv-nx0qcB1a5"
      },
      "outputs": [],
      "source": [
        "train, test = python_stratified_split(rating_df, 0.75)"
      ]
    },
    {
      "cell_type": "code",
      "execution_count": 175,
      "metadata": {
        "id": "vZmTbr_W__zg"
      },
      "outputs": [],
      "source": [
        "train=train.merge(genre_info_df,on=\"itemID\")\n",
        "test=test.merge(genre_info_df,on=\"itemID\")"
      ]
    },
    {
      "cell_type": "code",
      "execution_count": 176,
      "metadata": {
        "id": "PHaIMJ5k8jwE"
      },
      "outputs": [],
      "source": [
        "train.sort_values(by='userID',inplace=True)\n",
        "test.sort_values(by='userID',inplace=True)"
      ]
    },
    {
      "cell_type": "code",
      "execution_count": 178,
      "metadata": {
        "id": "1pPftsgC8QLD"
      },
      "outputs": [],
      "source": [
        "features=['userID','itemID', 'Animation', 'Comedy',\n",
        "       'Family', 'Adventure', 'Action', 'Thriller', 'Drama', 'Romance',\n",
        "       'History', 'Crime', 'Fantasy', 'War', 'Mystery', 'Music', 'Horror',\n",
        "       'Science Fiction', 'Documentary', 'Western', 'Foreign', 'TV Movie']"
      ]
    },
    {
      "cell_type": "code",
      "execution_count": 179,
      "metadata": {
        "id": "2hyxJL8D8dYm"
      },
      "outputs": [],
      "source": [
        "target = 'rating'"
      ]
    },
    {
      "cell_type": "code",
      "execution_count": 180,
      "metadata": {
        "id": "H0Kca_wp8OLc"
      },
      "outputs": [],
      "source": [
        "\n",
        "xtrain,ytrain = train[features],train[target].apply(lambda x:int(x))\n",
        "xtest,ytest = test[features],test[target].apply(lambda x:int(x))\n"
      ]
    },
    {
      "cell_type": "code",
      "source": [],
      "metadata": {
        "colab": {
          "base_uri": "https://localhost:8080/"
        },
        "id": "L033TPFhhfcq",
        "outputId": "29357a67-05a0-4c61-c4f3-c1332f30ab48"
      },
      "execution_count": 157,
      "outputs": [
        {
          "output_type": "execute_result",
          "data": {
            "text/plain": [
              "Index(['userID', 'itemID', 'rating', 'timestamp', 'title', 'tagline',\n",
              "       'overview', 'genere_str', 'NewTag', 'clean', 'Animation', 'Comedy',\n",
              "       'Family', 'Adventure', 'Action', 'Thriller', 'Drama', 'Romance',\n",
              "       'History', 'Crime', 'Fantasy', 'War', 'Mystery', 'Music', 'Horror',\n",
              "       'Science Fiction', 'Documentary', 'Western', 'Foreign', 'TV Movie'],\n",
              "      dtype='object')"
            ]
          },
          "metadata": {},
          "execution_count": 157
        }
      ]
    },
    {
      "cell_type": "code",
      "execution_count": 181,
      "metadata": {
        "id": "5f130d40-afc0-4cda-ae69-eb2af27d5965"
      },
      "outputs": [],
      "source": [
        "get_group_size = lambda df: df.reset_index().groupby(\"userID\")['userID'].count()"
      ]
    },
    {
      "cell_type": "code",
      "execution_count": 182,
      "metadata": {
        "id": "7581d0c5-c3f1-40e0-8df6-ec59f90e6453"
      },
      "outputs": [],
      "source": [
        "train_groups = get_group_size(xtrain)\n",
        "test_groups = get_group_size(xtest)"
      ]
    },
    {
      "cell_type": "code",
      "execution_count": 183,
      "metadata": {
        "colab": {
          "base_uri": "https://localhost:8080/"
        },
        "id": "01471676-ea88-4791-aaf4-6b66c5bded4f",
        "outputId": "9419da7f-6039-4587-f902-cbac1ff13b1a"
      },
      "outputs": [
        {
          "output_type": "execute_result",
          "data": {
            "text/plain": [
              "(52741, 17453)"
            ]
          },
          "metadata": {},
          "execution_count": 183
        }
      ],
      "source": [
        "sum(train_groups) , sum(test_groups)"
      ]
    },
    {
      "cell_type": "code",
      "execution_count": 184,
      "metadata": {
        "colab": {
          "base_uri": "https://localhost:8080/",
          "height": 422
        },
        "id": "gxw0byZs9t-p",
        "outputId": "7f4c3d31-7362-42f7-998d-c30c81459f61"
      },
      "outputs": [
        {
          "output_type": "stream",
          "name": "stdout",
          "text": [
            "[1]\tvalid_0's ndcg@1: 0.64463\tvalid_0's map@1: 0.990164\n",
            "[2]\tvalid_0's ndcg@1: 0.647282\tvalid_0's map@1: 0.986885\n",
            "[3]\tvalid_0's ndcg@1: 0.645656\tvalid_0's map@1: 0.988525\n",
            "[4]\tvalid_0's ndcg@1: 0.645431\tvalid_0's map@1: 0.988525\n",
            "[5]\tvalid_0's ndcg@1: 0.646968\tvalid_0's map@1: 0.988525\n",
            "[6]\tvalid_0's ndcg@1: 0.645656\tvalid_0's map@1: 0.988525\n",
            "[7]\tvalid_0's ndcg@1: 0.653779\tvalid_0's map@1: 0.988525\n",
            "[8]\tvalid_0's ndcg@1: 0.650231\tvalid_0's map@1: 0.988525\n",
            "[9]\tvalid_0's ndcg@1: 0.646875\tvalid_0's map@1: 0.988525\n",
            "[10]\tvalid_0's ndcg@1: 0.650937\tvalid_0's map@1: 0.988525\n",
            "[11]\tvalid_0's ndcg@1: 0.644379\tvalid_0's map@1: 0.988525\n",
            "[12]\tvalid_0's ndcg@1: 0.650112\tvalid_0's map@1: 0.988525\n",
            "[13]\tvalid_0's ndcg@1: 0.642839\tvalid_0's map@1: 0.986885\n",
            "[14]\tvalid_0's ndcg@1: 0.649082\tvalid_0's map@1: 0.988525\n",
            "[15]\tvalid_0's ndcg@1: 0.648264\tvalid_0's map@1: 0.988525\n",
            "[16]\tvalid_0's ndcg@1: 0.649082\tvalid_0's map@1: 0.988525\n",
            "[17]\tvalid_0's ndcg@1: 0.650986\tvalid_0's map@1: 0.988525\n",
            "[18]\tvalid_0's ndcg@1: 0.649717\tvalid_0's map@1: 0.988525\n",
            "[19]\tvalid_0's ndcg@1: 0.650351\tvalid_0's map@1: 0.988525\n",
            "[20]\tvalid_0's ndcg@1: 0.650919\tvalid_0's map@1: 0.990164\n"
          ]
        },
        {
          "output_type": "execute_result",
          "data": {
            "text/plain": [
              "LGBMRanker(n_estimators=20, objective='lambdarank')"
            ],
            "text/html": [
              "<style>#sk-container-id-2 {color: black;background-color: white;}#sk-container-id-2 pre{padding: 0;}#sk-container-id-2 div.sk-toggleable {background-color: white;}#sk-container-id-2 label.sk-toggleable__label {cursor: pointer;display: block;width: 100%;margin-bottom: 0;padding: 0.3em;box-sizing: border-box;text-align: center;}#sk-container-id-2 label.sk-toggleable__label-arrow:before {content: \"▸\";float: left;margin-right: 0.25em;color: #696969;}#sk-container-id-2 label.sk-toggleable__label-arrow:hover:before {color: black;}#sk-container-id-2 div.sk-estimator:hover label.sk-toggleable__label-arrow:before {color: black;}#sk-container-id-2 div.sk-toggleable__content {max-height: 0;max-width: 0;overflow: hidden;text-align: left;background-color: #f0f8ff;}#sk-container-id-2 div.sk-toggleable__content pre {margin: 0.2em;color: black;border-radius: 0.25em;background-color: #f0f8ff;}#sk-container-id-2 input.sk-toggleable__control:checked~div.sk-toggleable__content {max-height: 200px;max-width: 100%;overflow: auto;}#sk-container-id-2 input.sk-toggleable__control:checked~label.sk-toggleable__label-arrow:before {content: \"▾\";}#sk-container-id-2 div.sk-estimator input.sk-toggleable__control:checked~label.sk-toggleable__label {background-color: #d4ebff;}#sk-container-id-2 div.sk-label input.sk-toggleable__control:checked~label.sk-toggleable__label {background-color: #d4ebff;}#sk-container-id-2 input.sk-hidden--visually {border: 0;clip: rect(1px 1px 1px 1px);clip: rect(1px, 1px, 1px, 1px);height: 1px;margin: -1px;overflow: hidden;padding: 0;position: absolute;width: 1px;}#sk-container-id-2 div.sk-estimator {font-family: monospace;background-color: #f0f8ff;border: 1px dotted black;border-radius: 0.25em;box-sizing: border-box;margin-bottom: 0.5em;}#sk-container-id-2 div.sk-estimator:hover {background-color: #d4ebff;}#sk-container-id-2 div.sk-parallel-item::after {content: \"\";width: 100%;border-bottom: 1px solid gray;flex-grow: 1;}#sk-container-id-2 div.sk-label:hover label.sk-toggleable__label {background-color: #d4ebff;}#sk-container-id-2 div.sk-serial::before {content: \"\";position: absolute;border-left: 1px solid gray;box-sizing: border-box;top: 0;bottom: 0;left: 50%;z-index: 0;}#sk-container-id-2 div.sk-serial {display: flex;flex-direction: column;align-items: center;background-color: white;padding-right: 0.2em;padding-left: 0.2em;position: relative;}#sk-container-id-2 div.sk-item {position: relative;z-index: 1;}#sk-container-id-2 div.sk-parallel {display: flex;align-items: stretch;justify-content: center;background-color: white;position: relative;}#sk-container-id-2 div.sk-item::before, #sk-container-id-2 div.sk-parallel-item::before {content: \"\";position: absolute;border-left: 1px solid gray;box-sizing: border-box;top: 0;bottom: 0;left: 50%;z-index: -1;}#sk-container-id-2 div.sk-parallel-item {display: flex;flex-direction: column;z-index: 1;position: relative;background-color: white;}#sk-container-id-2 div.sk-parallel-item:first-child::after {align-self: flex-end;width: 50%;}#sk-container-id-2 div.sk-parallel-item:last-child::after {align-self: flex-start;width: 50%;}#sk-container-id-2 div.sk-parallel-item:only-child::after {width: 0;}#sk-container-id-2 div.sk-dashed-wrapped {border: 1px dashed gray;margin: 0 0.4em 0.5em 0.4em;box-sizing: border-box;padding-bottom: 0.4em;background-color: white;}#sk-container-id-2 div.sk-label label {font-family: monospace;font-weight: bold;display: inline-block;line-height: 1.2em;}#sk-container-id-2 div.sk-label-container {text-align: center;}#sk-container-id-2 div.sk-container {/* jupyter's `normalize.less` sets `[hidden] { display: none; }` but bootstrap.min.css set `[hidden] { display: none !important; }` so we also need the `!important` here to be able to override the default hidden behavior on the sphinx rendered scikit-learn.org. See: https://github.com/scikit-learn/scikit-learn/issues/21755 */display: inline-block !important;position: relative;}#sk-container-id-2 div.sk-text-repr-fallback {display: none;}</style><div id=\"sk-container-id-2\" class=\"sk-top-container\"><div class=\"sk-text-repr-fallback\"><pre>LGBMRanker(n_estimators=20, objective=&#x27;lambdarank&#x27;)</pre><b>In a Jupyter environment, please rerun this cell to show the HTML representation or trust the notebook. <br />On GitHub, the HTML representation is unable to render, please try loading this page with nbviewer.org.</b></div><div class=\"sk-container\" hidden><div class=\"sk-item\"><div class=\"sk-estimator sk-toggleable\"><input class=\"sk-toggleable__control sk-hidden--visually\" id=\"sk-estimator-id-2\" type=\"checkbox\" checked><label for=\"sk-estimator-id-2\" class=\"sk-toggleable__label sk-toggleable__label-arrow\">LGBMRanker</label><div class=\"sk-toggleable__content\"><pre>LGBMRanker(n_estimators=20, objective=&#x27;lambdarank&#x27;)</pre></div></div></div></div></div>"
            ]
          },
          "metadata": {},
          "execution_count": 184
        }
      ],
      "source": [
        "from sklearn import preprocessing,model_selection,metrics\n",
        "from lightgbm import LGBMRanker\n",
        "\n",
        "model = LGBMRanker(objective=\"lambdarank\",n_estimators=20)\n",
        "model.fit(xtrain,ytrain,group=train_groups,eval_set=[(xtest,ytest)],eval_group=[test_groups],eval_metric=['map'])"
      ]
    },
    {
      "cell_type": "code",
      "execution_count": 185,
      "metadata": {
        "id": "724d17e8-557f-44dc-8c9d-ef91e30eab84"
      },
      "outputs": [],
      "source": [
        "candidate_pool = train['itemID'].unique().tolist()"
      ]
    },
    {
      "cell_type": "code",
      "execution_count": 186,
      "metadata": {
        "id": "f71ca559-0d5d-46d2-ae13-ed972724b7ea"
      },
      "outputs": [],
      "source": [
        "user_2_item_df = train[['userID','itemID']]"
      ]
    },
    {
      "cell_type": "code",
      "execution_count": 187,
      "metadata": {
        "id": "878c5880-9952-4c21-a697-94c75eb04e68"
      },
      "outputs": [],
      "source": [
        "user_2_item_map = dict(zip(user_2_item_df.index,user_2_item_df['itemID']))"
      ]
    },
    {
      "cell_type": "code",
      "source": [
        "item_id_2_name=content_df.drop_duplicates(subset=[\"itemID\",\"title\"])[['itemID',\"title\"]]"
      ],
      "metadata": {
        "id": "mKdLhTaqfPuE"
      },
      "execution_count": 188,
      "outputs": []
    },
    {
      "cell_type": "code",
      "execution_count": 189,
      "metadata": {
        "id": "4bd3a8da-3822-41a8-96e7-192c8402a44c",
        "colab": {
          "base_uri": "https://localhost:8080/",
          "height": 35
        },
        "outputId": "17694794-11ba-4b19-e06d-6a548ee663f9"
      },
      "outputs": [
        {
          "output_type": "execute_result",
          "data": {
            "text/plain": [
              "'Toy Story (1995)'"
            ],
            "application/vnd.google.colaboratory.intrinsic+json": {
              "type": "string"
            }
          },
          "metadata": {},
          "execution_count": 189
        }
      ],
      "source": [
        "item_id_2_name_map = dict(zip(item_id_2_name['itemID'],item_id_2_name['title']))\n",
        "item_id_2_name_map[1]"
      ]
    },
    {
      "cell_type": "code",
      "source": [
        "xtrain.columns"
      ],
      "metadata": {
        "colab": {
          "base_uri": "https://localhost:8080/"
        },
        "id": "POgKKpMMiWFo",
        "outputId": "3dddfd4b-4c11-4627-c4ef-244e30a676bc"
      },
      "execution_count": 190,
      "outputs": [
        {
          "output_type": "execute_result",
          "data": {
            "text/plain": [
              "Index(['userID', 'itemID', 'Animation', 'Comedy', 'Family', 'Adventure',\n",
              "       'Action', 'Thriller', 'Drama', 'Romance', 'History', 'Crime', 'Fantasy',\n",
              "       'War', 'Mystery', 'Music', 'Horror', 'Science Fiction', 'Documentary',\n",
              "       'Western', 'Foreign', 'TV Movie'],\n",
              "      dtype='object')"
            ]
          },
          "metadata": {},
          "execution_count": 190
        }
      ]
    },
    {
      "cell_type": "code",
      "source": [
        "all_cols_feature=xtrain[['itemID', 'Animation', 'Comedy', 'Family',\n",
        "       'Adventure', 'Action', 'Thriller', 'Drama', 'Romance', 'History',\n",
        "       'Crime', 'Fantasy', 'War', 'Mystery', 'Music', 'Horror',\n",
        "       'Science Fiction', 'Documentary', 'Western', 'Foreign', 'TV Movie']]"
      ],
      "metadata": {
        "id": "PDCVmzTXhodr"
      },
      "execution_count": 191,
      "outputs": []
    },
    {
      "cell_type": "code",
      "source": [
        "all_cols_feature.head(1)"
      ],
      "metadata": {
        "colab": {
          "base_uri": "https://localhost:8080/",
          "height": 191
        },
        "id": "D1hg2A-niKiH",
        "outputId": "6ae1c349-046a-4f44-86fc-d5d26015b816"
      },
      "execution_count": 192,
      "outputs": [
        {
          "output_type": "execute_result",
          "data": {
            "text/plain": [
              "   itemID  Animation  Comedy  Family  Adventure  Action  Thriller  Drama  \\\n",
              "0    3578          0       0       0          0       0         0      0   \n",
              "\n",
              "   Romance  History  ...  Fantasy  War  Mystery  Music  Horror  \\\n",
              "0        0        0  ...        0    0        0      0       0   \n",
              "\n",
              "   Science Fiction  Documentary  Western  Foreign  TV Movie  \n",
              "0                0            0        0        0         0  \n",
              "\n",
              "[1 rows x 21 columns]"
            ],
            "text/html": [
              "\n",
              "  <div id=\"df-07a32f34-9237-4be5-a8e3-d36e5b53192f\">\n",
              "    <div class=\"colab-df-container\">\n",
              "      <div>\n",
              "<style scoped>\n",
              "    .dataframe tbody tr th:only-of-type {\n",
              "        vertical-align: middle;\n",
              "    }\n",
              "\n",
              "    .dataframe tbody tr th {\n",
              "        vertical-align: top;\n",
              "    }\n",
              "\n",
              "    .dataframe thead th {\n",
              "        text-align: right;\n",
              "    }\n",
              "</style>\n",
              "<table border=\"1\" class=\"dataframe\">\n",
              "  <thead>\n",
              "    <tr style=\"text-align: right;\">\n",
              "      <th></th>\n",
              "      <th>itemID</th>\n",
              "      <th>Animation</th>\n",
              "      <th>Comedy</th>\n",
              "      <th>Family</th>\n",
              "      <th>Adventure</th>\n",
              "      <th>Action</th>\n",
              "      <th>Thriller</th>\n",
              "      <th>Drama</th>\n",
              "      <th>Romance</th>\n",
              "      <th>History</th>\n",
              "      <th>...</th>\n",
              "      <th>Fantasy</th>\n",
              "      <th>War</th>\n",
              "      <th>Mystery</th>\n",
              "      <th>Music</th>\n",
              "      <th>Horror</th>\n",
              "      <th>Science Fiction</th>\n",
              "      <th>Documentary</th>\n",
              "      <th>Western</th>\n",
              "      <th>Foreign</th>\n",
              "      <th>TV Movie</th>\n",
              "    </tr>\n",
              "  </thead>\n",
              "  <tbody>\n",
              "    <tr>\n",
              "      <th>0</th>\n",
              "      <td>3578</td>\n",
              "      <td>0</td>\n",
              "      <td>0</td>\n",
              "      <td>0</td>\n",
              "      <td>0</td>\n",
              "      <td>0</td>\n",
              "      <td>0</td>\n",
              "      <td>0</td>\n",
              "      <td>0</td>\n",
              "      <td>0</td>\n",
              "      <td>...</td>\n",
              "      <td>0</td>\n",
              "      <td>0</td>\n",
              "      <td>0</td>\n",
              "      <td>0</td>\n",
              "      <td>0</td>\n",
              "      <td>0</td>\n",
              "      <td>0</td>\n",
              "      <td>0</td>\n",
              "      <td>0</td>\n",
              "      <td>0</td>\n",
              "    </tr>\n",
              "  </tbody>\n",
              "</table>\n",
              "<p>1 rows × 21 columns</p>\n",
              "</div>\n",
              "      <button class=\"colab-df-convert\" onclick=\"convertToInteractive('df-07a32f34-9237-4be5-a8e3-d36e5b53192f')\"\n",
              "              title=\"Convert this dataframe to an interactive table.\"\n",
              "              style=\"display:none;\">\n",
              "        \n",
              "  <svg xmlns=\"http://www.w3.org/2000/svg\" height=\"24px\"viewBox=\"0 0 24 24\"\n",
              "       width=\"24px\">\n",
              "    <path d=\"M0 0h24v24H0V0z\" fill=\"none\"/>\n",
              "    <path d=\"M18.56 5.44l.94 2.06.94-2.06 2.06-.94-2.06-.94-.94-2.06-.94 2.06-2.06.94zm-11 1L8.5 8.5l.94-2.06 2.06-.94-2.06-.94L8.5 2.5l-.94 2.06-2.06.94zm10 10l.94 2.06.94-2.06 2.06-.94-2.06-.94-.94-2.06-.94 2.06-2.06.94z\"/><path d=\"M17.41 7.96l-1.37-1.37c-.4-.4-.92-.59-1.43-.59-.52 0-1.04.2-1.43.59L10.3 9.45l-7.72 7.72c-.78.78-.78 2.05 0 2.83L4 21.41c.39.39.9.59 1.41.59.51 0 1.02-.2 1.41-.59l7.78-7.78 2.81-2.81c.8-.78.8-2.07 0-2.86zM5.41 20L4 18.59l7.72-7.72 1.47 1.35L5.41 20z\"/>\n",
              "  </svg>\n",
              "      </button>\n",
              "      \n",
              "  <style>\n",
              "    .colab-df-container {\n",
              "      display:flex;\n",
              "      flex-wrap:wrap;\n",
              "      gap: 12px;\n",
              "    }\n",
              "\n",
              "    .colab-df-convert {\n",
              "      background-color: #E8F0FE;\n",
              "      border: none;\n",
              "      border-radius: 50%;\n",
              "      cursor: pointer;\n",
              "      display: none;\n",
              "      fill: #1967D2;\n",
              "      height: 32px;\n",
              "      padding: 0 0 0 0;\n",
              "      width: 32px;\n",
              "    }\n",
              "\n",
              "    .colab-df-convert:hover {\n",
              "      background-color: #E2EBFA;\n",
              "      box-shadow: 0px 1px 2px rgba(60, 64, 67, 0.3), 0px 1px 3px 1px rgba(60, 64, 67, 0.15);\n",
              "      fill: #174EA6;\n",
              "    }\n",
              "\n",
              "    [theme=dark] .colab-df-convert {\n",
              "      background-color: #3B4455;\n",
              "      fill: #D2E3FC;\n",
              "    }\n",
              "\n",
              "    [theme=dark] .colab-df-convert:hover {\n",
              "      background-color: #434B5C;\n",
              "      box-shadow: 0px 1px 3px 1px rgba(0, 0, 0, 0.15);\n",
              "      filter: drop-shadow(0px 1px 2px rgba(0, 0, 0, 0.3));\n",
              "      fill: #FFFFFF;\n",
              "    }\n",
              "  </style>\n",
              "\n",
              "      <script>\n",
              "        const buttonEl =\n",
              "          document.querySelector('#df-07a32f34-9237-4be5-a8e3-d36e5b53192f button.colab-df-convert');\n",
              "        buttonEl.style.display =\n",
              "          google.colab.kernel.accessAllowed ? 'block' : 'none';\n",
              "\n",
              "        async function convertToInteractive(key) {\n",
              "          const element = document.querySelector('#df-07a32f34-9237-4be5-a8e3-d36e5b53192f');\n",
              "          const dataTable =\n",
              "            await google.colab.kernel.invokeFunction('convertToInteractive',\n",
              "                                                     [key], {});\n",
              "          if (!dataTable) return;\n",
              "\n",
              "          const docLinkHtml = 'Like what you see? Visit the ' +\n",
              "            '<a target=\"_blank\" href=https://colab.research.google.com/notebooks/data_table.ipynb>data table notebook</a>'\n",
              "            + ' to learn more about interactive tables.';\n",
              "          element.innerHTML = '';\n",
              "          dataTable['output_type'] = 'display_data';\n",
              "          await google.colab.output.renderOutput(dataTable, element);\n",
              "          const docLink = document.createElement('div');\n",
              "          docLink.innerHTML = docLinkHtml;\n",
              "          element.appendChild(docLink);\n",
              "        }\n",
              "      </script>\n",
              "    </div>\n",
              "  </div>\n",
              "  "
            ]
          },
          "metadata": {},
          "execution_count": 192
        }
      ]
    },
    {
      "cell_type": "code",
      "source": [
        "all_cols_feature=all_cols_feature.drop_duplicates()"
      ],
      "metadata": {
        "id": "Aib0HSGuh93O"
      },
      "execution_count": 194,
      "outputs": []
    },
    {
      "cell_type": "markdown",
      "source": [
        "## Prediction for user id 1"
      ],
      "metadata": {
        "id": "PU53MpQ5jXol"
      }
    },
    {
      "cell_type": "code",
      "source": [
        "all_cols_feature['userID']=1\n",
        "predictions = pd.DataFrame()\n",
        "predictions['itemID'] = np.array( candidate_pool)\n",
        "predictions['name'] = np.array([item_id_2_name_map.get(id_) for id_ in candidate_pool])\n",
        "predictions['score'] = model.predict(all_cols_feature)\n",
        "predictions = predictions.sort_values(by='score',ascending=False)"
      ],
      "metadata": {
        "colab": {
          "base_uri": "https://localhost:8080/"
        },
        "id": "xxAt2yiMgZeY",
        "outputId": "c610f367-31cd-4a03-8783-1705bcf386f2"
      },
      "execution_count": 221,
      "outputs": [
        {
          "output_type": "stream",
          "name": "stderr",
          "text": [
            "<ipython-input-221-64b0a372e5f3>:1: SettingWithCopyWarning: \n",
            "A value is trying to be set on a copy of a slice from a DataFrame.\n",
            "Try using .loc[row_indexer,col_indexer] = value instead\n",
            "\n",
            "See the caveats in the documentation: https://pandas.pydata.org/pandas-docs/stable/user_guide/indexing.html#returning-a-view-versus-a-copy\n",
            "  all_cols_feature['userID']=1\n"
          ]
        }
      ]
    },
    {
      "cell_type": "code",
      "source": [
        "predictions"
      ],
      "metadata": {
        "colab": {
          "base_uri": "https://localhost:8080/",
          "height": 424
        },
        "id": "73WWJ0zskcCt",
        "outputId": "80f29163-e81b-4d12-e676-813077fecc93"
      },
      "execution_count": 220,
      "outputs": [
        {
          "output_type": "execute_result",
          "data": {
            "text/plain": [
              "      itemID                                     name     score\n",
              "0       3578                         Gladiator (2000)  0.050787\n",
              "2266    8666                          Catwoman (2004)  0.050787\n",
              "2242    7369  Scooby-Doo 2: Monsters Unleashed (2004)  0.050787\n",
              "2243   68135                          17 Again (2009)  0.050787\n",
              "2244   33499                    Monster-in-Law (2005)  0.050787\n",
              "...      ...                                      ...       ...\n",
              "1128    8951                        Vera Drake (2004)  0.050787\n",
              "1129   43936                         16 Blocks (2006)  0.050787\n",
              "1130   62374                      Body of Lies (2008)  0.050787\n",
              "1131   55118                  Eastern Promises (2007)  0.050787\n",
              "3372   41712           Room for Romeo Brass, A (1999)  0.050787\n",
              "\n",
              "[3373 rows x 3 columns]"
            ],
            "text/html": [
              "\n",
              "  <div id=\"df-3178145d-1259-4e83-8e18-8a683cf6d770\">\n",
              "    <div class=\"colab-df-container\">\n",
              "      <div>\n",
              "<style scoped>\n",
              "    .dataframe tbody tr th:only-of-type {\n",
              "        vertical-align: middle;\n",
              "    }\n",
              "\n",
              "    .dataframe tbody tr th {\n",
              "        vertical-align: top;\n",
              "    }\n",
              "\n",
              "    .dataframe thead th {\n",
              "        text-align: right;\n",
              "    }\n",
              "</style>\n",
              "<table border=\"1\" class=\"dataframe\">\n",
              "  <thead>\n",
              "    <tr style=\"text-align: right;\">\n",
              "      <th></th>\n",
              "      <th>itemID</th>\n",
              "      <th>name</th>\n",
              "      <th>score</th>\n",
              "    </tr>\n",
              "  </thead>\n",
              "  <tbody>\n",
              "    <tr>\n",
              "      <th>0</th>\n",
              "      <td>3578</td>\n",
              "      <td>Gladiator (2000)</td>\n",
              "      <td>0.050787</td>\n",
              "    </tr>\n",
              "    <tr>\n",
              "      <th>2266</th>\n",
              "      <td>8666</td>\n",
              "      <td>Catwoman (2004)</td>\n",
              "      <td>0.050787</td>\n",
              "    </tr>\n",
              "    <tr>\n",
              "      <th>2242</th>\n",
              "      <td>7369</td>\n",
              "      <td>Scooby-Doo 2: Monsters Unleashed (2004)</td>\n",
              "      <td>0.050787</td>\n",
              "    </tr>\n",
              "    <tr>\n",
              "      <th>2243</th>\n",
              "      <td>68135</td>\n",
              "      <td>17 Again (2009)</td>\n",
              "      <td>0.050787</td>\n",
              "    </tr>\n",
              "    <tr>\n",
              "      <th>2244</th>\n",
              "      <td>33499</td>\n",
              "      <td>Monster-in-Law (2005)</td>\n",
              "      <td>0.050787</td>\n",
              "    </tr>\n",
              "    <tr>\n",
              "      <th>...</th>\n",
              "      <td>...</td>\n",
              "      <td>...</td>\n",
              "      <td>...</td>\n",
              "    </tr>\n",
              "    <tr>\n",
              "      <th>1128</th>\n",
              "      <td>8951</td>\n",
              "      <td>Vera Drake (2004)</td>\n",
              "      <td>0.050787</td>\n",
              "    </tr>\n",
              "    <tr>\n",
              "      <th>1129</th>\n",
              "      <td>43936</td>\n",
              "      <td>16 Blocks (2006)</td>\n",
              "      <td>0.050787</td>\n",
              "    </tr>\n",
              "    <tr>\n",
              "      <th>1130</th>\n",
              "      <td>62374</td>\n",
              "      <td>Body of Lies (2008)</td>\n",
              "      <td>0.050787</td>\n",
              "    </tr>\n",
              "    <tr>\n",
              "      <th>1131</th>\n",
              "      <td>55118</td>\n",
              "      <td>Eastern Promises (2007)</td>\n",
              "      <td>0.050787</td>\n",
              "    </tr>\n",
              "    <tr>\n",
              "      <th>3372</th>\n",
              "      <td>41712</td>\n",
              "      <td>Room for Romeo Brass, A (1999)</td>\n",
              "      <td>0.050787</td>\n",
              "    </tr>\n",
              "  </tbody>\n",
              "</table>\n",
              "<p>3373 rows × 3 columns</p>\n",
              "</div>\n",
              "      <button class=\"colab-df-convert\" onclick=\"convertToInteractive('df-3178145d-1259-4e83-8e18-8a683cf6d770')\"\n",
              "              title=\"Convert this dataframe to an interactive table.\"\n",
              "              style=\"display:none;\">\n",
              "        \n",
              "  <svg xmlns=\"http://www.w3.org/2000/svg\" height=\"24px\"viewBox=\"0 0 24 24\"\n",
              "       width=\"24px\">\n",
              "    <path d=\"M0 0h24v24H0V0z\" fill=\"none\"/>\n",
              "    <path d=\"M18.56 5.44l.94 2.06.94-2.06 2.06-.94-2.06-.94-.94-2.06-.94 2.06-2.06.94zm-11 1L8.5 8.5l.94-2.06 2.06-.94-2.06-.94L8.5 2.5l-.94 2.06-2.06.94zm10 10l.94 2.06.94-2.06 2.06-.94-2.06-.94-.94-2.06-.94 2.06-2.06.94z\"/><path d=\"M17.41 7.96l-1.37-1.37c-.4-.4-.92-.59-1.43-.59-.52 0-1.04.2-1.43.59L10.3 9.45l-7.72 7.72c-.78.78-.78 2.05 0 2.83L4 21.41c.39.39.9.59 1.41.59.51 0 1.02-.2 1.41-.59l7.78-7.78 2.81-2.81c.8-.78.8-2.07 0-2.86zM5.41 20L4 18.59l7.72-7.72 1.47 1.35L5.41 20z\"/>\n",
              "  </svg>\n",
              "      </button>\n",
              "      \n",
              "  <style>\n",
              "    .colab-df-container {\n",
              "      display:flex;\n",
              "      flex-wrap:wrap;\n",
              "      gap: 12px;\n",
              "    }\n",
              "\n",
              "    .colab-df-convert {\n",
              "      background-color: #E8F0FE;\n",
              "      border: none;\n",
              "      border-radius: 50%;\n",
              "      cursor: pointer;\n",
              "      display: none;\n",
              "      fill: #1967D2;\n",
              "      height: 32px;\n",
              "      padding: 0 0 0 0;\n",
              "      width: 32px;\n",
              "    }\n",
              "\n",
              "    .colab-df-convert:hover {\n",
              "      background-color: #E2EBFA;\n",
              "      box-shadow: 0px 1px 2px rgba(60, 64, 67, 0.3), 0px 1px 3px 1px rgba(60, 64, 67, 0.15);\n",
              "      fill: #174EA6;\n",
              "    }\n",
              "\n",
              "    [theme=dark] .colab-df-convert {\n",
              "      background-color: #3B4455;\n",
              "      fill: #D2E3FC;\n",
              "    }\n",
              "\n",
              "    [theme=dark] .colab-df-convert:hover {\n",
              "      background-color: #434B5C;\n",
              "      box-shadow: 0px 1px 3px 1px rgba(0, 0, 0, 0.15);\n",
              "      filter: drop-shadow(0px 1px 2px rgba(0, 0, 0, 0.3));\n",
              "      fill: #FFFFFF;\n",
              "    }\n",
              "  </style>\n",
              "\n",
              "      <script>\n",
              "        const buttonEl =\n",
              "          document.querySelector('#df-3178145d-1259-4e83-8e18-8a683cf6d770 button.colab-df-convert');\n",
              "        buttonEl.style.display =\n",
              "          google.colab.kernel.accessAllowed ? 'block' : 'none';\n",
              "\n",
              "        async function convertToInteractive(key) {\n",
              "          const element = document.querySelector('#df-3178145d-1259-4e83-8e18-8a683cf6d770');\n",
              "          const dataTable =\n",
              "            await google.colab.kernel.invokeFunction('convertToInteractive',\n",
              "                                                     [key], {});\n",
              "          if (!dataTable) return;\n",
              "\n",
              "          const docLinkHtml = 'Like what you see? Visit the ' +\n",
              "            '<a target=\"_blank\" href=https://colab.research.google.com/notebooks/data_table.ipynb>data table notebook</a>'\n",
              "            + ' to learn more about interactive tables.';\n",
              "          element.innerHTML = '';\n",
              "          dataTable['output_type'] = 'display_data';\n",
              "          await google.colab.output.renderOutput(dataTable, element);\n",
              "          const docLink = document.createElement('div');\n",
              "          docLink.innerHTML = docLinkHtml;\n",
              "          element.appendChild(docLink);\n",
              "        }\n",
              "      </script>\n",
              "    </div>\n",
              "  </div>\n",
              "  "
            ]
          },
          "metadata": {},
          "execution_count": 220
        }
      ]
    },
    {
      "cell_type": "code",
      "execution_count": 227,
      "metadata": {
        "colab": {
          "base_uri": "https://localhost:8080/",
          "height": 363
        },
        "outputId": "13bf4daf-e363-4680-d2a4-9e9f0551108e",
        "id": "lSDFxDygjUKo"
      },
      "outputs": [
        {
          "output_type": "execute_result",
          "data": {
            "text/plain": [
              "                                      name\n",
              "2475                    Marine, The (2006)\n",
              "2451                  Into the Blue (2005)\n",
              "2385                Superhero Movie (2008)\n",
              "1798                         Sahara (2005)\n",
              "2094                 Street Fighter (1994)\n",
              "1906  Pirates! Band of Misfits, The (2012)\n",
              "2957                      Sharknado (2013)\n",
              "3310                       Bandidas (2006)\n",
              "2630                   Stan Helsing (2009)\n",
              "2810                Southland Tales (2006)"
            ],
            "text/html": [
              "\n",
              "  <div id=\"df-80edf81e-3208-4826-81ce-0b0c82786584\">\n",
              "    <div class=\"colab-df-container\">\n",
              "      <div>\n",
              "<style scoped>\n",
              "    .dataframe tbody tr th:only-of-type {\n",
              "        vertical-align: middle;\n",
              "    }\n",
              "\n",
              "    .dataframe tbody tr th {\n",
              "        vertical-align: top;\n",
              "    }\n",
              "\n",
              "    .dataframe thead th {\n",
              "        text-align: right;\n",
              "    }\n",
              "</style>\n",
              "<table border=\"1\" class=\"dataframe\">\n",
              "  <thead>\n",
              "    <tr style=\"text-align: right;\">\n",
              "      <th></th>\n",
              "      <th>name</th>\n",
              "    </tr>\n",
              "  </thead>\n",
              "  <tbody>\n",
              "    <tr>\n",
              "      <th>2475</th>\n",
              "      <td>Marine, The (2006)</td>\n",
              "    </tr>\n",
              "    <tr>\n",
              "      <th>2451</th>\n",
              "      <td>Into the Blue (2005)</td>\n",
              "    </tr>\n",
              "    <tr>\n",
              "      <th>2385</th>\n",
              "      <td>Superhero Movie (2008)</td>\n",
              "    </tr>\n",
              "    <tr>\n",
              "      <th>1798</th>\n",
              "      <td>Sahara (2005)</td>\n",
              "    </tr>\n",
              "    <tr>\n",
              "      <th>2094</th>\n",
              "      <td>Street Fighter (1994)</td>\n",
              "    </tr>\n",
              "    <tr>\n",
              "      <th>1906</th>\n",
              "      <td>Pirates! Band of Misfits, The (2012)</td>\n",
              "    </tr>\n",
              "    <tr>\n",
              "      <th>2957</th>\n",
              "      <td>Sharknado (2013)</td>\n",
              "    </tr>\n",
              "    <tr>\n",
              "      <th>3310</th>\n",
              "      <td>Bandidas (2006)</td>\n",
              "    </tr>\n",
              "    <tr>\n",
              "      <th>2630</th>\n",
              "      <td>Stan Helsing (2009)</td>\n",
              "    </tr>\n",
              "    <tr>\n",
              "      <th>2810</th>\n",
              "      <td>Southland Tales (2006)</td>\n",
              "    </tr>\n",
              "  </tbody>\n",
              "</table>\n",
              "</div>\n",
              "      <button class=\"colab-df-convert\" onclick=\"convertToInteractive('df-80edf81e-3208-4826-81ce-0b0c82786584')\"\n",
              "              title=\"Convert this dataframe to an interactive table.\"\n",
              "              style=\"display:none;\">\n",
              "        \n",
              "  <svg xmlns=\"http://www.w3.org/2000/svg\" height=\"24px\"viewBox=\"0 0 24 24\"\n",
              "       width=\"24px\">\n",
              "    <path d=\"M0 0h24v24H0V0z\" fill=\"none\"/>\n",
              "    <path d=\"M18.56 5.44l.94 2.06.94-2.06 2.06-.94-2.06-.94-.94-2.06-.94 2.06-2.06.94zm-11 1L8.5 8.5l.94-2.06 2.06-.94-2.06-.94L8.5 2.5l-.94 2.06-2.06.94zm10 10l.94 2.06.94-2.06 2.06-.94-2.06-.94-.94-2.06-.94 2.06-2.06.94z\"/><path d=\"M17.41 7.96l-1.37-1.37c-.4-.4-.92-.59-1.43-.59-.52 0-1.04.2-1.43.59L10.3 9.45l-7.72 7.72c-.78.78-.78 2.05 0 2.83L4 21.41c.39.39.9.59 1.41.59.51 0 1.02-.2 1.41-.59l7.78-7.78 2.81-2.81c.8-.78.8-2.07 0-2.86zM5.41 20L4 18.59l7.72-7.72 1.47 1.35L5.41 20z\"/>\n",
              "  </svg>\n",
              "      </button>\n",
              "      \n",
              "  <style>\n",
              "    .colab-df-container {\n",
              "      display:flex;\n",
              "      flex-wrap:wrap;\n",
              "      gap: 12px;\n",
              "    }\n",
              "\n",
              "    .colab-df-convert {\n",
              "      background-color: #E8F0FE;\n",
              "      border: none;\n",
              "      border-radius: 50%;\n",
              "      cursor: pointer;\n",
              "      display: none;\n",
              "      fill: #1967D2;\n",
              "      height: 32px;\n",
              "      padding: 0 0 0 0;\n",
              "      width: 32px;\n",
              "    }\n",
              "\n",
              "    .colab-df-convert:hover {\n",
              "      background-color: #E2EBFA;\n",
              "      box-shadow: 0px 1px 2px rgba(60, 64, 67, 0.3), 0px 1px 3px 1px rgba(60, 64, 67, 0.15);\n",
              "      fill: #174EA6;\n",
              "    }\n",
              "\n",
              "    [theme=dark] .colab-df-convert {\n",
              "      background-color: #3B4455;\n",
              "      fill: #D2E3FC;\n",
              "    }\n",
              "\n",
              "    [theme=dark] .colab-df-convert:hover {\n",
              "      background-color: #434B5C;\n",
              "      box-shadow: 0px 1px 3px 1px rgba(0, 0, 0, 0.15);\n",
              "      filter: drop-shadow(0px 1px 2px rgba(0, 0, 0, 0.3));\n",
              "      fill: #FFFFFF;\n",
              "    }\n",
              "  </style>\n",
              "\n",
              "      <script>\n",
              "        const buttonEl =\n",
              "          document.querySelector('#df-80edf81e-3208-4826-81ce-0b0c82786584 button.colab-df-convert');\n",
              "        buttonEl.style.display =\n",
              "          google.colab.kernel.accessAllowed ? 'block' : 'none';\n",
              "\n",
              "        async function convertToInteractive(key) {\n",
              "          const element = document.querySelector('#df-80edf81e-3208-4826-81ce-0b0c82786584');\n",
              "          const dataTable =\n",
              "            await google.colab.kernel.invokeFunction('convertToInteractive',\n",
              "                                                     [key], {});\n",
              "          if (!dataTable) return;\n",
              "\n",
              "          const docLinkHtml = 'Like what you see? Visit the ' +\n",
              "            '<a target=\"_blank\" href=https://colab.research.google.com/notebooks/data_table.ipynb>data table notebook</a>'\n",
              "            + ' to learn more about interactive tables.';\n",
              "          element.innerHTML = '';\n",
              "          dataTable['output_type'] = 'display_data';\n",
              "          await google.colab.output.renderOutput(dataTable, element);\n",
              "          const docLink = document.createElement('div');\n",
              "          docLink.innerHTML = docLinkHtml;\n",
              "          element.appendChild(docLink);\n",
              "        }\n",
              "      </script>\n",
              "    </div>\n",
              "  </div>\n",
              "  "
            ]
          },
          "metadata": {},
          "execution_count": 227
        }
      ],
      "source": [
        "query=\"a movie about pirates\"\n",
        "\n",
        "query_embedding = tmodel.encode(query, convert_to_tensor=True)\n",
        "alltitles=[]\n",
        "correct_hits = util.semantic_search(query_embedding, corpus_embeddings, top_k=25)[0]\n",
        "correct_hits_ids = set([hit['corpus_id'] for hit in correct_hits])\n",
        "results =  [content_df.iloc[idx][itemid] for idx in correct_hits_ids]\n",
        "\n",
        "res=predictions[predictions[itemid].isin(results)]\n",
        "res.sort_values(by='score',ascending=False)\n",
        "res[['name']].head(10)"
      ]
    },
    {
      "cell_type": "code",
      "execution_count": 228,
      "metadata": {
        "colab": {
          "base_uri": "https://localhost:8080/",
          "height": 363
        },
        "outputId": "aba53381-845c-4b29-b644-c74b53d1a424",
        "id": "XkheBXhvjUKq"
      },
      "outputs": [
        {
          "output_type": "execute_result",
          "data": {
            "text/plain": [
              "                                 name\n",
              "2131                   Stealth (2005)\n",
              "2461                Epic Movie (2007)\n",
              "2347  Escape from Planet Earth (2013)\n",
              "2385           Superhero Movie (2008)\n",
              "1859                  eXistenZ (1999)\n",
              "2033               Signal, The (2014)\n",
              "1899                Jackass 3D (2010)\n",
              "3046           Project Almanac (2015)\n",
              "3293               Renaissance (2006)\n",
              "3362      Escape From Tomorrow (2013)"
            ],
            "text/html": [
              "\n",
              "  <div id=\"df-7601867c-23fe-4d06-bf61-b99af37625b1\">\n",
              "    <div class=\"colab-df-container\">\n",
              "      <div>\n",
              "<style scoped>\n",
              "    .dataframe tbody tr th:only-of-type {\n",
              "        vertical-align: middle;\n",
              "    }\n",
              "\n",
              "    .dataframe tbody tr th {\n",
              "        vertical-align: top;\n",
              "    }\n",
              "\n",
              "    .dataframe thead th {\n",
              "        text-align: right;\n",
              "    }\n",
              "</style>\n",
              "<table border=\"1\" class=\"dataframe\">\n",
              "  <thead>\n",
              "    <tr style=\"text-align: right;\">\n",
              "      <th></th>\n",
              "      <th>name</th>\n",
              "    </tr>\n",
              "  </thead>\n",
              "  <tbody>\n",
              "    <tr>\n",
              "      <th>2131</th>\n",
              "      <td>Stealth (2005)</td>\n",
              "    </tr>\n",
              "    <tr>\n",
              "      <th>2461</th>\n",
              "      <td>Epic Movie (2007)</td>\n",
              "    </tr>\n",
              "    <tr>\n",
              "      <th>2347</th>\n",
              "      <td>Escape from Planet Earth (2013)</td>\n",
              "    </tr>\n",
              "    <tr>\n",
              "      <th>2385</th>\n",
              "      <td>Superhero Movie (2008)</td>\n",
              "    </tr>\n",
              "    <tr>\n",
              "      <th>1859</th>\n",
              "      <td>eXistenZ (1999)</td>\n",
              "    </tr>\n",
              "    <tr>\n",
              "      <th>2033</th>\n",
              "      <td>Signal, The (2014)</td>\n",
              "    </tr>\n",
              "    <tr>\n",
              "      <th>1899</th>\n",
              "      <td>Jackass 3D (2010)</td>\n",
              "    </tr>\n",
              "    <tr>\n",
              "      <th>3046</th>\n",
              "      <td>Project Almanac (2015)</td>\n",
              "    </tr>\n",
              "    <tr>\n",
              "      <th>3293</th>\n",
              "      <td>Renaissance (2006)</td>\n",
              "    </tr>\n",
              "    <tr>\n",
              "      <th>3362</th>\n",
              "      <td>Escape From Tomorrow (2013)</td>\n",
              "    </tr>\n",
              "  </tbody>\n",
              "</table>\n",
              "</div>\n",
              "      <button class=\"colab-df-convert\" onclick=\"convertToInteractive('df-7601867c-23fe-4d06-bf61-b99af37625b1')\"\n",
              "              title=\"Convert this dataframe to an interactive table.\"\n",
              "              style=\"display:none;\">\n",
              "        \n",
              "  <svg xmlns=\"http://www.w3.org/2000/svg\" height=\"24px\"viewBox=\"0 0 24 24\"\n",
              "       width=\"24px\">\n",
              "    <path d=\"M0 0h24v24H0V0z\" fill=\"none\"/>\n",
              "    <path d=\"M18.56 5.44l.94 2.06.94-2.06 2.06-.94-2.06-.94-.94-2.06-.94 2.06-2.06.94zm-11 1L8.5 8.5l.94-2.06 2.06-.94-2.06-.94L8.5 2.5l-.94 2.06-2.06.94zm10 10l.94 2.06.94-2.06 2.06-.94-2.06-.94-.94-2.06-.94 2.06-2.06.94z\"/><path d=\"M17.41 7.96l-1.37-1.37c-.4-.4-.92-.59-1.43-.59-.52 0-1.04.2-1.43.59L10.3 9.45l-7.72 7.72c-.78.78-.78 2.05 0 2.83L4 21.41c.39.39.9.59 1.41.59.51 0 1.02-.2 1.41-.59l7.78-7.78 2.81-2.81c.8-.78.8-2.07 0-2.86zM5.41 20L4 18.59l7.72-7.72 1.47 1.35L5.41 20z\"/>\n",
              "  </svg>\n",
              "      </button>\n",
              "      \n",
              "  <style>\n",
              "    .colab-df-container {\n",
              "      display:flex;\n",
              "      flex-wrap:wrap;\n",
              "      gap: 12px;\n",
              "    }\n",
              "\n",
              "    .colab-df-convert {\n",
              "      background-color: #E8F0FE;\n",
              "      border: none;\n",
              "      border-radius: 50%;\n",
              "      cursor: pointer;\n",
              "      display: none;\n",
              "      fill: #1967D2;\n",
              "      height: 32px;\n",
              "      padding: 0 0 0 0;\n",
              "      width: 32px;\n",
              "    }\n",
              "\n",
              "    .colab-df-convert:hover {\n",
              "      background-color: #E2EBFA;\n",
              "      box-shadow: 0px 1px 2px rgba(60, 64, 67, 0.3), 0px 1px 3px 1px rgba(60, 64, 67, 0.15);\n",
              "      fill: #174EA6;\n",
              "    }\n",
              "\n",
              "    [theme=dark] .colab-df-convert {\n",
              "      background-color: #3B4455;\n",
              "      fill: #D2E3FC;\n",
              "    }\n",
              "\n",
              "    [theme=dark] .colab-df-convert:hover {\n",
              "      background-color: #434B5C;\n",
              "      box-shadow: 0px 1px 3px 1px rgba(0, 0, 0, 0.15);\n",
              "      filter: drop-shadow(0px 1px 2px rgba(0, 0, 0, 0.3));\n",
              "      fill: #FFFFFF;\n",
              "    }\n",
              "  </style>\n",
              "\n",
              "      <script>\n",
              "        const buttonEl =\n",
              "          document.querySelector('#df-7601867c-23fe-4d06-bf61-b99af37625b1 button.colab-df-convert');\n",
              "        buttonEl.style.display =\n",
              "          google.colab.kernel.accessAllowed ? 'block' : 'none';\n",
              "\n",
              "        async function convertToInteractive(key) {\n",
              "          const element = document.querySelector('#df-7601867c-23fe-4d06-bf61-b99af37625b1');\n",
              "          const dataTable =\n",
              "            await google.colab.kernel.invokeFunction('convertToInteractive',\n",
              "                                                     [key], {});\n",
              "          if (!dataTable) return;\n",
              "\n",
              "          const docLinkHtml = 'Like what you see? Visit the ' +\n",
              "            '<a target=\"_blank\" href=https://colab.research.google.com/notebooks/data_table.ipynb>data table notebook</a>'\n",
              "            + ' to learn more about interactive tables.';\n",
              "          element.innerHTML = '';\n",
              "          dataTable['output_type'] = 'display_data';\n",
              "          await google.colab.output.renderOutput(dataTable, element);\n",
              "          const docLink = document.createElement('div');\n",
              "          docLink.innerHTML = docLinkHtml;\n",
              "          element.appendChild(docLink);\n",
              "        }\n",
              "      </script>\n",
              "    </div>\n",
              "  </div>\n",
              "  "
            ]
          },
          "metadata": {},
          "execution_count": 228
        }
      ],
      "source": [
        "query=\"a movie about Artificial Intelligence\"\n",
        "\n",
        "query_embedding = tmodel.encode(query, convert_to_tensor=True)\n",
        "alltitles=[]\n",
        "correct_hits = util.semantic_search(query_embedding, corpus_embeddings, top_k=25)[0]\n",
        "correct_hits_ids = set([hit['corpus_id'] for hit in correct_hits])\n",
        "results =  [content_df.iloc[idx][itemid] for idx in correct_hits_ids]\n",
        "\n",
        "res=predictions[predictions[itemid].isin(results)]\n",
        "res.sort_values(by='score',ascending=False)\n",
        "res[['name']].head(10)"
      ]
    },
    {
      "cell_type": "code",
      "execution_count": 229,
      "metadata": {
        "colab": {
          "base_uri": "https://localhost:8080/",
          "height": 363
        },
        "outputId": "f3bdb186-2a84-46b8-ca84-4d4ffe531bb5",
        "id": "1YKLKii1jUKr"
      },
      "outputs": [
        {
          "output_type": "execute_result",
          "data": {
            "text/plain": [
              "                             name\n",
              "2132            15 Minutes (2001)\n",
              "2524              R.I.P.D. (2013)\n",
              "2502               Super 8 (2011)\n",
              "1820    Closer to the Moon (2013)\n",
              "1887  Paul Blart: Mall Cop (2009)\n",
              "1774  Beverly Hills Cop II (1987)\n",
              "1749              One, The (2001)\n",
              "2025              Cop Land (1997)\n",
              "2081            Killer Joe (2011)\n",
              "1903              D.E.B.S. (2004)"
            ],
            "text/html": [
              "\n",
              "  <div id=\"df-acb7e75e-3c9e-477a-90eb-e7b105e2d51c\">\n",
              "    <div class=\"colab-df-container\">\n",
              "      <div>\n",
              "<style scoped>\n",
              "    .dataframe tbody tr th:only-of-type {\n",
              "        vertical-align: middle;\n",
              "    }\n",
              "\n",
              "    .dataframe tbody tr th {\n",
              "        vertical-align: top;\n",
              "    }\n",
              "\n",
              "    .dataframe thead th {\n",
              "        text-align: right;\n",
              "    }\n",
              "</style>\n",
              "<table border=\"1\" class=\"dataframe\">\n",
              "  <thead>\n",
              "    <tr style=\"text-align: right;\">\n",
              "      <th></th>\n",
              "      <th>name</th>\n",
              "    </tr>\n",
              "  </thead>\n",
              "  <tbody>\n",
              "    <tr>\n",
              "      <th>2132</th>\n",
              "      <td>15 Minutes (2001)</td>\n",
              "    </tr>\n",
              "    <tr>\n",
              "      <th>2524</th>\n",
              "      <td>R.I.P.D. (2013)</td>\n",
              "    </tr>\n",
              "    <tr>\n",
              "      <th>2502</th>\n",
              "      <td>Super 8 (2011)</td>\n",
              "    </tr>\n",
              "    <tr>\n",
              "      <th>1820</th>\n",
              "      <td>Closer to the Moon (2013)</td>\n",
              "    </tr>\n",
              "    <tr>\n",
              "      <th>1887</th>\n",
              "      <td>Paul Blart: Mall Cop (2009)</td>\n",
              "    </tr>\n",
              "    <tr>\n",
              "      <th>1774</th>\n",
              "      <td>Beverly Hills Cop II (1987)</td>\n",
              "    </tr>\n",
              "    <tr>\n",
              "      <th>1749</th>\n",
              "      <td>One, The (2001)</td>\n",
              "    </tr>\n",
              "    <tr>\n",
              "      <th>2025</th>\n",
              "      <td>Cop Land (1997)</td>\n",
              "    </tr>\n",
              "    <tr>\n",
              "      <th>2081</th>\n",
              "      <td>Killer Joe (2011)</td>\n",
              "    </tr>\n",
              "    <tr>\n",
              "      <th>1903</th>\n",
              "      <td>D.E.B.S. (2004)</td>\n",
              "    </tr>\n",
              "  </tbody>\n",
              "</table>\n",
              "</div>\n",
              "      <button class=\"colab-df-convert\" onclick=\"convertToInteractive('df-acb7e75e-3c9e-477a-90eb-e7b105e2d51c')\"\n",
              "              title=\"Convert this dataframe to an interactive table.\"\n",
              "              style=\"display:none;\">\n",
              "        \n",
              "  <svg xmlns=\"http://www.w3.org/2000/svg\" height=\"24px\"viewBox=\"0 0 24 24\"\n",
              "       width=\"24px\">\n",
              "    <path d=\"M0 0h24v24H0V0z\" fill=\"none\"/>\n",
              "    <path d=\"M18.56 5.44l.94 2.06.94-2.06 2.06-.94-2.06-.94-.94-2.06-.94 2.06-2.06.94zm-11 1L8.5 8.5l.94-2.06 2.06-.94-2.06-.94L8.5 2.5l-.94 2.06-2.06.94zm10 10l.94 2.06.94-2.06 2.06-.94-2.06-.94-.94-2.06-.94 2.06-2.06.94z\"/><path d=\"M17.41 7.96l-1.37-1.37c-.4-.4-.92-.59-1.43-.59-.52 0-1.04.2-1.43.59L10.3 9.45l-7.72 7.72c-.78.78-.78 2.05 0 2.83L4 21.41c.39.39.9.59 1.41.59.51 0 1.02-.2 1.41-.59l7.78-7.78 2.81-2.81c.8-.78.8-2.07 0-2.86zM5.41 20L4 18.59l7.72-7.72 1.47 1.35L5.41 20z\"/>\n",
              "  </svg>\n",
              "      </button>\n",
              "      \n",
              "  <style>\n",
              "    .colab-df-container {\n",
              "      display:flex;\n",
              "      flex-wrap:wrap;\n",
              "      gap: 12px;\n",
              "    }\n",
              "\n",
              "    .colab-df-convert {\n",
              "      background-color: #E8F0FE;\n",
              "      border: none;\n",
              "      border-radius: 50%;\n",
              "      cursor: pointer;\n",
              "      display: none;\n",
              "      fill: #1967D2;\n",
              "      height: 32px;\n",
              "      padding: 0 0 0 0;\n",
              "      width: 32px;\n",
              "    }\n",
              "\n",
              "    .colab-df-convert:hover {\n",
              "      background-color: #E2EBFA;\n",
              "      box-shadow: 0px 1px 2px rgba(60, 64, 67, 0.3), 0px 1px 3px 1px rgba(60, 64, 67, 0.15);\n",
              "      fill: #174EA6;\n",
              "    }\n",
              "\n",
              "    [theme=dark] .colab-df-convert {\n",
              "      background-color: #3B4455;\n",
              "      fill: #D2E3FC;\n",
              "    }\n",
              "\n",
              "    [theme=dark] .colab-df-convert:hover {\n",
              "      background-color: #434B5C;\n",
              "      box-shadow: 0px 1px 3px 1px rgba(0, 0, 0, 0.15);\n",
              "      filter: drop-shadow(0px 1px 2px rgba(0, 0, 0, 0.3));\n",
              "      fill: #FFFFFF;\n",
              "    }\n",
              "  </style>\n",
              "\n",
              "      <script>\n",
              "        const buttonEl =\n",
              "          document.querySelector('#df-acb7e75e-3c9e-477a-90eb-e7b105e2d51c button.colab-df-convert');\n",
              "        buttonEl.style.display =\n",
              "          google.colab.kernel.accessAllowed ? 'block' : 'none';\n",
              "\n",
              "        async function convertToInteractive(key) {\n",
              "          const element = document.querySelector('#df-acb7e75e-3c9e-477a-90eb-e7b105e2d51c');\n",
              "          const dataTable =\n",
              "            await google.colab.kernel.invokeFunction('convertToInteractive',\n",
              "                                                     [key], {});\n",
              "          if (!dataTable) return;\n",
              "\n",
              "          const docLinkHtml = 'Like what you see? Visit the ' +\n",
              "            '<a target=\"_blank\" href=https://colab.research.google.com/notebooks/data_table.ipynb>data table notebook</a>'\n",
              "            + ' to learn more about interactive tables.';\n",
              "          element.innerHTML = '';\n",
              "          dataTable['output_type'] = 'display_data';\n",
              "          await google.colab.output.renderOutput(dataTable, element);\n",
              "          const docLink = document.createElement('div');\n",
              "          docLink.innerHTML = docLinkHtml;\n",
              "          element.appendChild(docLink);\n",
              "        }\n",
              "      </script>\n",
              "    </div>\n",
              "  </div>\n",
              "  "
            ]
          },
          "metadata": {},
          "execution_count": 229
        }
      ],
      "source": [
        "query=\"movie of the police officer\"\n",
        "\n",
        "query_embedding = tmodel.encode(query, convert_to_tensor=True)\n",
        "alltitles=[]\n",
        "correct_hits = util.semantic_search(query_embedding, corpus_embeddings, top_k=25)[0]\n",
        "correct_hits_ids = set([hit['corpus_id'] for hit in correct_hits])\n",
        "results =  [content_df.iloc[idx][itemid] for idx in correct_hits_ids]\n",
        "\n",
        "res=predictions[predictions[itemid].isin(results)]\n",
        "res.sort_values(by='score',ascending=False)\n",
        "res[['name']].head(10)"
      ]
    },
    {
      "cell_type": "code",
      "execution_count": 230,
      "metadata": {
        "colab": {
          "base_uri": "https://localhost:8080/",
          "height": 363
        },
        "outputId": "02e3c397-44c7-4b3e-bc66-1d51bb703ef9",
        "id": "L2hSQk4pjUKs"
      },
      "outputs": [
        {
          "output_type": "execute_result",
          "data": {
            "text/plain": [
              "                                                name\n",
              "2196  Godzilla 2000 (Gojira ni-sen mireniamu) (1999)\n",
              "2208               Bill & Ted's Bogus Journey (1991)\n",
              "2461                               Epic Movie (2007)\n",
              "2385                          Superhero Movie (2008)\n",
              "1868                      Monsters vs. Aliens (2009)\n",
              "2100      Transformers: Revenge of the Fallen (2009)\n",
              "2075           Dawn of the Planet of the Apes (2014)\n",
              "3293                              Renaissance (2006)\n",
              "2711          Transformers: Age of Extinction (2014)\n",
              "2597                                Creepshow (1982)"
            ],
            "text/html": [
              "\n",
              "  <div id=\"df-b298cb41-e0e9-4dda-9299-f4e64b977c8b\">\n",
              "    <div class=\"colab-df-container\">\n",
              "      <div>\n",
              "<style scoped>\n",
              "    .dataframe tbody tr th:only-of-type {\n",
              "        vertical-align: middle;\n",
              "    }\n",
              "\n",
              "    .dataframe tbody tr th {\n",
              "        vertical-align: top;\n",
              "    }\n",
              "\n",
              "    .dataframe thead th {\n",
              "        text-align: right;\n",
              "    }\n",
              "</style>\n",
              "<table border=\"1\" class=\"dataframe\">\n",
              "  <thead>\n",
              "    <tr style=\"text-align: right;\">\n",
              "      <th></th>\n",
              "      <th>name</th>\n",
              "    </tr>\n",
              "  </thead>\n",
              "  <tbody>\n",
              "    <tr>\n",
              "      <th>2196</th>\n",
              "      <td>Godzilla 2000 (Gojira ni-sen mireniamu) (1999)</td>\n",
              "    </tr>\n",
              "    <tr>\n",
              "      <th>2208</th>\n",
              "      <td>Bill &amp; Ted's Bogus Journey (1991)</td>\n",
              "    </tr>\n",
              "    <tr>\n",
              "      <th>2461</th>\n",
              "      <td>Epic Movie (2007)</td>\n",
              "    </tr>\n",
              "    <tr>\n",
              "      <th>2385</th>\n",
              "      <td>Superhero Movie (2008)</td>\n",
              "    </tr>\n",
              "    <tr>\n",
              "      <th>1868</th>\n",
              "      <td>Monsters vs. Aliens (2009)</td>\n",
              "    </tr>\n",
              "    <tr>\n",
              "      <th>2100</th>\n",
              "      <td>Transformers: Revenge of the Fallen (2009)</td>\n",
              "    </tr>\n",
              "    <tr>\n",
              "      <th>2075</th>\n",
              "      <td>Dawn of the Planet of the Apes (2014)</td>\n",
              "    </tr>\n",
              "    <tr>\n",
              "      <th>3293</th>\n",
              "      <td>Renaissance (2006)</td>\n",
              "    </tr>\n",
              "    <tr>\n",
              "      <th>2711</th>\n",
              "      <td>Transformers: Age of Extinction (2014)</td>\n",
              "    </tr>\n",
              "    <tr>\n",
              "      <th>2597</th>\n",
              "      <td>Creepshow (1982)</td>\n",
              "    </tr>\n",
              "  </tbody>\n",
              "</table>\n",
              "</div>\n",
              "      <button class=\"colab-df-convert\" onclick=\"convertToInteractive('df-b298cb41-e0e9-4dda-9299-f4e64b977c8b')\"\n",
              "              title=\"Convert this dataframe to an interactive table.\"\n",
              "              style=\"display:none;\">\n",
              "        \n",
              "  <svg xmlns=\"http://www.w3.org/2000/svg\" height=\"24px\"viewBox=\"0 0 24 24\"\n",
              "       width=\"24px\">\n",
              "    <path d=\"M0 0h24v24H0V0z\" fill=\"none\"/>\n",
              "    <path d=\"M18.56 5.44l.94 2.06.94-2.06 2.06-.94-2.06-.94-.94-2.06-.94 2.06-2.06.94zm-11 1L8.5 8.5l.94-2.06 2.06-.94-2.06-.94L8.5 2.5l-.94 2.06-2.06.94zm10 10l.94 2.06.94-2.06 2.06-.94-2.06-.94-.94-2.06-.94 2.06-2.06.94z\"/><path d=\"M17.41 7.96l-1.37-1.37c-.4-.4-.92-.59-1.43-.59-.52 0-1.04.2-1.43.59L10.3 9.45l-7.72 7.72c-.78.78-.78 2.05 0 2.83L4 21.41c.39.39.9.59 1.41.59.51 0 1.02-.2 1.41-.59l7.78-7.78 2.81-2.81c.8-.78.8-2.07 0-2.86zM5.41 20L4 18.59l7.72-7.72 1.47 1.35L5.41 20z\"/>\n",
              "  </svg>\n",
              "      </button>\n",
              "      \n",
              "  <style>\n",
              "    .colab-df-container {\n",
              "      display:flex;\n",
              "      flex-wrap:wrap;\n",
              "      gap: 12px;\n",
              "    }\n",
              "\n",
              "    .colab-df-convert {\n",
              "      background-color: #E8F0FE;\n",
              "      border: none;\n",
              "      border-radius: 50%;\n",
              "      cursor: pointer;\n",
              "      display: none;\n",
              "      fill: #1967D2;\n",
              "      height: 32px;\n",
              "      padding: 0 0 0 0;\n",
              "      width: 32px;\n",
              "    }\n",
              "\n",
              "    .colab-df-convert:hover {\n",
              "      background-color: #E2EBFA;\n",
              "      box-shadow: 0px 1px 2px rgba(60, 64, 67, 0.3), 0px 1px 3px 1px rgba(60, 64, 67, 0.15);\n",
              "      fill: #174EA6;\n",
              "    }\n",
              "\n",
              "    [theme=dark] .colab-df-convert {\n",
              "      background-color: #3B4455;\n",
              "      fill: #D2E3FC;\n",
              "    }\n",
              "\n",
              "    [theme=dark] .colab-df-convert:hover {\n",
              "      background-color: #434B5C;\n",
              "      box-shadow: 0px 1px 3px 1px rgba(0, 0, 0, 0.15);\n",
              "      filter: drop-shadow(0px 1px 2px rgba(0, 0, 0, 0.3));\n",
              "      fill: #FFFFFF;\n",
              "    }\n",
              "  </style>\n",
              "\n",
              "      <script>\n",
              "        const buttonEl =\n",
              "          document.querySelector('#df-b298cb41-e0e9-4dda-9299-f4e64b977c8b button.colab-df-convert');\n",
              "        buttonEl.style.display =\n",
              "          google.colab.kernel.accessAllowed ? 'block' : 'none';\n",
              "\n",
              "        async function convertToInteractive(key) {\n",
              "          const element = document.querySelector('#df-b298cb41-e0e9-4dda-9299-f4e64b977c8b');\n",
              "          const dataTable =\n",
              "            await google.colab.kernel.invokeFunction('convertToInteractive',\n",
              "                                                     [key], {});\n",
              "          if (!dataTable) return;\n",
              "\n",
              "          const docLinkHtml = 'Like what you see? Visit the ' +\n",
              "            '<a target=\"_blank\" href=https://colab.research.google.com/notebooks/data_table.ipynb>data table notebook</a>'\n",
              "            + ' to learn more about interactive tables.';\n",
              "          element.innerHTML = '';\n",
              "          dataTable['output_type'] = 'display_data';\n",
              "          await google.colab.output.renderOutput(dataTable, element);\n",
              "          const docLink = document.createElement('div');\n",
              "          docLink.innerHTML = docLinkHtml;\n",
              "          element.appendChild(docLink);\n",
              "        }\n",
              "      </script>\n",
              "    </div>\n",
              "  </div>\n",
              "  "
            ]
          },
          "metadata": {},
          "execution_count": 230
        }
      ],
      "source": [
        "query=\"movie of the robots\"\n",
        "\n",
        "query_embedding = tmodel.encode(query, convert_to_tensor=True)\n",
        "alltitles=[]\n",
        "correct_hits = util.semantic_search(query_embedding, corpus_embeddings, top_k=25)[0]\n",
        "correct_hits_ids = set([hit['corpus_id'] for hit in correct_hits])\n",
        "results =  [content_df.iloc[idx][itemid] for idx in correct_hits_ids]\n",
        "\n",
        "res=predictions[predictions[itemid].isin(results)]\n",
        "res.sort_values(by='score',ascending=False)\n",
        "res[['name']].head(10)"
      ]
    }
  ],
  "metadata": {
    "accelerator": "GPU",
    "colab": {
      "collapsed_sections": [
        "uGRD8a9sKacB",
        "sjJpU6lTGK51",
        "D_UJlmcgZNBc",
        "ah-_nBMaYe3T",
        "i8zs0gFetTBk",
        "0e7sdUDTbCSM",
        "hX1pTmeQl0FZ",
        "_0Gb1AyEIJtt",
        "TQfZ_jw4KdhW"
      ],
      "machine_shape": "hm",
      "provenance": []
    },
    "gpuClass": "standard",
    "kernelspec": {
      "display_name": "Python 3",
      "name": "python3"
    },
    "language_info": {
      "name": "python"
    },
    "widgets": {
      "application/vnd.jupyter.widget-state+json": {
        "86992feef8804139bf5fbcc7e0aea7a0": {
          "model_module": "@jupyter-widgets/controls",
          "model_name": "HBoxModel",
          "model_module_version": "1.5.0",
          "state": {
            "_dom_classes": [],
            "_model_module": "@jupyter-widgets/controls",
            "_model_module_version": "1.5.0",
            "_model_name": "HBoxModel",
            "_view_count": null,
            "_view_module": "@jupyter-widgets/controls",
            "_view_module_version": "1.5.0",
            "_view_name": "HBoxView",
            "box_style": "",
            "children": [
              "IPY_MODEL_b153c51252be41478a4b681b623446c3",
              "IPY_MODEL_1498096c9df8405a962aa734328e1816",
              "IPY_MODEL_f08ff98c4ea44deeb882a823abadbe10"
            ],
            "layout": "IPY_MODEL_3a1b4971a4d3436ab2c4a9024bbc66f9"
          }
        },
        "b153c51252be41478a4b681b623446c3": {
          "model_module": "@jupyter-widgets/controls",
          "model_name": "HTMLModel",
          "model_module_version": "1.5.0",
          "state": {
            "_dom_classes": [],
            "_model_module": "@jupyter-widgets/controls",
            "_model_module_version": "1.5.0",
            "_model_name": "HTMLModel",
            "_view_count": null,
            "_view_module": "@jupyter-widgets/controls",
            "_view_module_version": "1.5.0",
            "_view_name": "HTMLView",
            "description": "",
            "description_tooltip": null,
            "layout": "IPY_MODEL_29b96fddabe34b0085870e8058316b3f",
            "placeholder": "​",
            "style": "IPY_MODEL_429500a76b864da8ac4d794c47c1a382",
            "value": "Downloading (…)b6d67/.gitattributes: 100%"
          }
        },
        "1498096c9df8405a962aa734328e1816": {
          "model_module": "@jupyter-widgets/controls",
          "model_name": "FloatProgressModel",
          "model_module_version": "1.5.0",
          "state": {
            "_dom_classes": [],
            "_model_module": "@jupyter-widgets/controls",
            "_model_module_version": "1.5.0",
            "_model_name": "FloatProgressModel",
            "_view_count": null,
            "_view_module": "@jupyter-widgets/controls",
            "_view_module_version": "1.5.0",
            "_view_name": "ProgressView",
            "bar_style": "success",
            "description": "",
            "description_tooltip": null,
            "layout": "IPY_MODEL_feb821db27234a6880c37bc93707b7bb",
            "max": 690,
            "min": 0,
            "orientation": "horizontal",
            "style": "IPY_MODEL_fe0ad8b5412e437199d616d399abfaa3",
            "value": 690
          }
        },
        "f08ff98c4ea44deeb882a823abadbe10": {
          "model_module": "@jupyter-widgets/controls",
          "model_name": "HTMLModel",
          "model_module_version": "1.5.0",
          "state": {
            "_dom_classes": [],
            "_model_module": "@jupyter-widgets/controls",
            "_model_module_version": "1.5.0",
            "_model_name": "HTMLModel",
            "_view_count": null,
            "_view_module": "@jupyter-widgets/controls",
            "_view_module_version": "1.5.0",
            "_view_name": "HTMLView",
            "description": "",
            "description_tooltip": null,
            "layout": "IPY_MODEL_915604dfa3ab4f9288ceb4d9ae8e81ca",
            "placeholder": "​",
            "style": "IPY_MODEL_ff8987c50d2b45ecab5c767105810281",
            "value": " 690/690 [00:00&lt;00:00, 8.57kB/s]"
          }
        },
        "3a1b4971a4d3436ab2c4a9024bbc66f9": {
          "model_module": "@jupyter-widgets/base",
          "model_name": "LayoutModel",
          "model_module_version": "1.2.0",
          "state": {
            "_model_module": "@jupyter-widgets/base",
            "_model_module_version": "1.2.0",
            "_model_name": "LayoutModel",
            "_view_count": null,
            "_view_module": "@jupyter-widgets/base",
            "_view_module_version": "1.2.0",
            "_view_name": "LayoutView",
            "align_content": null,
            "align_items": null,
            "align_self": null,
            "border": null,
            "bottom": null,
            "display": null,
            "flex": null,
            "flex_flow": null,
            "grid_area": null,
            "grid_auto_columns": null,
            "grid_auto_flow": null,
            "grid_auto_rows": null,
            "grid_column": null,
            "grid_gap": null,
            "grid_row": null,
            "grid_template_areas": null,
            "grid_template_columns": null,
            "grid_template_rows": null,
            "height": null,
            "justify_content": null,
            "justify_items": null,
            "left": null,
            "margin": null,
            "max_height": null,
            "max_width": null,
            "min_height": null,
            "min_width": null,
            "object_fit": null,
            "object_position": null,
            "order": null,
            "overflow": null,
            "overflow_x": null,
            "overflow_y": null,
            "padding": null,
            "right": null,
            "top": null,
            "visibility": null,
            "width": null
          }
        },
        "29b96fddabe34b0085870e8058316b3f": {
          "model_module": "@jupyter-widgets/base",
          "model_name": "LayoutModel",
          "model_module_version": "1.2.0",
          "state": {
            "_model_module": "@jupyter-widgets/base",
            "_model_module_version": "1.2.0",
            "_model_name": "LayoutModel",
            "_view_count": null,
            "_view_module": "@jupyter-widgets/base",
            "_view_module_version": "1.2.0",
            "_view_name": "LayoutView",
            "align_content": null,
            "align_items": null,
            "align_self": null,
            "border": null,
            "bottom": null,
            "display": null,
            "flex": null,
            "flex_flow": null,
            "grid_area": null,
            "grid_auto_columns": null,
            "grid_auto_flow": null,
            "grid_auto_rows": null,
            "grid_column": null,
            "grid_gap": null,
            "grid_row": null,
            "grid_template_areas": null,
            "grid_template_columns": null,
            "grid_template_rows": null,
            "height": null,
            "justify_content": null,
            "justify_items": null,
            "left": null,
            "margin": null,
            "max_height": null,
            "max_width": null,
            "min_height": null,
            "min_width": null,
            "object_fit": null,
            "object_position": null,
            "order": null,
            "overflow": null,
            "overflow_x": null,
            "overflow_y": null,
            "padding": null,
            "right": null,
            "top": null,
            "visibility": null,
            "width": null
          }
        },
        "429500a76b864da8ac4d794c47c1a382": {
          "model_module": "@jupyter-widgets/controls",
          "model_name": "DescriptionStyleModel",
          "model_module_version": "1.5.0",
          "state": {
            "_model_module": "@jupyter-widgets/controls",
            "_model_module_version": "1.5.0",
            "_model_name": "DescriptionStyleModel",
            "_view_count": null,
            "_view_module": "@jupyter-widgets/base",
            "_view_module_version": "1.2.0",
            "_view_name": "StyleView",
            "description_width": ""
          }
        },
        "feb821db27234a6880c37bc93707b7bb": {
          "model_module": "@jupyter-widgets/base",
          "model_name": "LayoutModel",
          "model_module_version": "1.2.0",
          "state": {
            "_model_module": "@jupyter-widgets/base",
            "_model_module_version": "1.2.0",
            "_model_name": "LayoutModel",
            "_view_count": null,
            "_view_module": "@jupyter-widgets/base",
            "_view_module_version": "1.2.0",
            "_view_name": "LayoutView",
            "align_content": null,
            "align_items": null,
            "align_self": null,
            "border": null,
            "bottom": null,
            "display": null,
            "flex": null,
            "flex_flow": null,
            "grid_area": null,
            "grid_auto_columns": null,
            "grid_auto_flow": null,
            "grid_auto_rows": null,
            "grid_column": null,
            "grid_gap": null,
            "grid_row": null,
            "grid_template_areas": null,
            "grid_template_columns": null,
            "grid_template_rows": null,
            "height": null,
            "justify_content": null,
            "justify_items": null,
            "left": null,
            "margin": null,
            "max_height": null,
            "max_width": null,
            "min_height": null,
            "min_width": null,
            "object_fit": null,
            "object_position": null,
            "order": null,
            "overflow": null,
            "overflow_x": null,
            "overflow_y": null,
            "padding": null,
            "right": null,
            "top": null,
            "visibility": null,
            "width": null
          }
        },
        "fe0ad8b5412e437199d616d399abfaa3": {
          "model_module": "@jupyter-widgets/controls",
          "model_name": "ProgressStyleModel",
          "model_module_version": "1.5.0",
          "state": {
            "_model_module": "@jupyter-widgets/controls",
            "_model_module_version": "1.5.0",
            "_model_name": "ProgressStyleModel",
            "_view_count": null,
            "_view_module": "@jupyter-widgets/base",
            "_view_module_version": "1.2.0",
            "_view_name": "StyleView",
            "bar_color": null,
            "description_width": ""
          }
        },
        "915604dfa3ab4f9288ceb4d9ae8e81ca": {
          "model_module": "@jupyter-widgets/base",
          "model_name": "LayoutModel",
          "model_module_version": "1.2.0",
          "state": {
            "_model_module": "@jupyter-widgets/base",
            "_model_module_version": "1.2.0",
            "_model_name": "LayoutModel",
            "_view_count": null,
            "_view_module": "@jupyter-widgets/base",
            "_view_module_version": "1.2.0",
            "_view_name": "LayoutView",
            "align_content": null,
            "align_items": null,
            "align_self": null,
            "border": null,
            "bottom": null,
            "display": null,
            "flex": null,
            "flex_flow": null,
            "grid_area": null,
            "grid_auto_columns": null,
            "grid_auto_flow": null,
            "grid_auto_rows": null,
            "grid_column": null,
            "grid_gap": null,
            "grid_row": null,
            "grid_template_areas": null,
            "grid_template_columns": null,
            "grid_template_rows": null,
            "height": null,
            "justify_content": null,
            "justify_items": null,
            "left": null,
            "margin": null,
            "max_height": null,
            "max_width": null,
            "min_height": null,
            "min_width": null,
            "object_fit": null,
            "object_position": null,
            "order": null,
            "overflow": null,
            "overflow_x": null,
            "overflow_y": null,
            "padding": null,
            "right": null,
            "top": null,
            "visibility": null,
            "width": null
          }
        },
        "ff8987c50d2b45ecab5c767105810281": {
          "model_module": "@jupyter-widgets/controls",
          "model_name": "DescriptionStyleModel",
          "model_module_version": "1.5.0",
          "state": {
            "_model_module": "@jupyter-widgets/controls",
            "_model_module_version": "1.5.0",
            "_model_name": "DescriptionStyleModel",
            "_view_count": null,
            "_view_module": "@jupyter-widgets/base",
            "_view_module_version": "1.2.0",
            "_view_name": "StyleView",
            "description_width": ""
          }
        },
        "c7a92ea061ab423db75af4ff25de467d": {
          "model_module": "@jupyter-widgets/controls",
          "model_name": "HBoxModel",
          "model_module_version": "1.5.0",
          "state": {
            "_dom_classes": [],
            "_model_module": "@jupyter-widgets/controls",
            "_model_module_version": "1.5.0",
            "_model_name": "HBoxModel",
            "_view_count": null,
            "_view_module": "@jupyter-widgets/controls",
            "_view_module_version": "1.5.0",
            "_view_name": "HBoxView",
            "box_style": "",
            "children": [
              "IPY_MODEL_b68171d34a9e46c8a45e50c9f668d603",
              "IPY_MODEL_2ae239d35ccb4c35a459a5152a3e6322",
              "IPY_MODEL_3954f54298ea401db70d6607bbcb3603"
            ],
            "layout": "IPY_MODEL_4468abcfe7784342bad528476faf1eb2"
          }
        },
        "b68171d34a9e46c8a45e50c9f668d603": {
          "model_module": "@jupyter-widgets/controls",
          "model_name": "HTMLModel",
          "model_module_version": "1.5.0",
          "state": {
            "_dom_classes": [],
            "_model_module": "@jupyter-widgets/controls",
            "_model_module_version": "1.5.0",
            "_model_name": "HTMLModel",
            "_view_count": null,
            "_view_module": "@jupyter-widgets/controls",
            "_view_module_version": "1.5.0",
            "_view_name": "HTMLView",
            "description": "",
            "description_tooltip": null,
            "layout": "IPY_MODEL_e0be7c05fea344abb3fafd205b86559d",
            "placeholder": "​",
            "style": "IPY_MODEL_af2be3f8a219486084e70cc53a191eb9",
            "value": "Downloading (…)_Pooling/config.json: 100%"
          }
        },
        "2ae239d35ccb4c35a459a5152a3e6322": {
          "model_module": "@jupyter-widgets/controls",
          "model_name": "FloatProgressModel",
          "model_module_version": "1.5.0",
          "state": {
            "_dom_classes": [],
            "_model_module": "@jupyter-widgets/controls",
            "_model_module_version": "1.5.0",
            "_model_name": "FloatProgressModel",
            "_view_count": null,
            "_view_module": "@jupyter-widgets/controls",
            "_view_module_version": "1.5.0",
            "_view_name": "ProgressView",
            "bar_style": "success",
            "description": "",
            "description_tooltip": null,
            "layout": "IPY_MODEL_f8124dbf23ce4a10b23e15233e2b2fad",
            "max": 190,
            "min": 0,
            "orientation": "horizontal",
            "style": "IPY_MODEL_632a52562f8d4ccb85c61707b4282027",
            "value": 190
          }
        },
        "3954f54298ea401db70d6607bbcb3603": {
          "model_module": "@jupyter-widgets/controls",
          "model_name": "HTMLModel",
          "model_module_version": "1.5.0",
          "state": {
            "_dom_classes": [],
            "_model_module": "@jupyter-widgets/controls",
            "_model_module_version": "1.5.0",
            "_model_name": "HTMLModel",
            "_view_count": null,
            "_view_module": "@jupyter-widgets/controls",
            "_view_module_version": "1.5.0",
            "_view_name": "HTMLView",
            "description": "",
            "description_tooltip": null,
            "layout": "IPY_MODEL_cbfc4bf658f643e9baa2199292ddc3cd",
            "placeholder": "​",
            "style": "IPY_MODEL_e86adeedee7c419c81478ffb378fa69c",
            "value": " 190/190 [00:00&lt;00:00, 3.23kB/s]"
          }
        },
        "4468abcfe7784342bad528476faf1eb2": {
          "model_module": "@jupyter-widgets/base",
          "model_name": "LayoutModel",
          "model_module_version": "1.2.0",
          "state": {
            "_model_module": "@jupyter-widgets/base",
            "_model_module_version": "1.2.0",
            "_model_name": "LayoutModel",
            "_view_count": null,
            "_view_module": "@jupyter-widgets/base",
            "_view_module_version": "1.2.0",
            "_view_name": "LayoutView",
            "align_content": null,
            "align_items": null,
            "align_self": null,
            "border": null,
            "bottom": null,
            "display": null,
            "flex": null,
            "flex_flow": null,
            "grid_area": null,
            "grid_auto_columns": null,
            "grid_auto_flow": null,
            "grid_auto_rows": null,
            "grid_column": null,
            "grid_gap": null,
            "grid_row": null,
            "grid_template_areas": null,
            "grid_template_columns": null,
            "grid_template_rows": null,
            "height": null,
            "justify_content": null,
            "justify_items": null,
            "left": null,
            "margin": null,
            "max_height": null,
            "max_width": null,
            "min_height": null,
            "min_width": null,
            "object_fit": null,
            "object_position": null,
            "order": null,
            "overflow": null,
            "overflow_x": null,
            "overflow_y": null,
            "padding": null,
            "right": null,
            "top": null,
            "visibility": null,
            "width": null
          }
        },
        "e0be7c05fea344abb3fafd205b86559d": {
          "model_module": "@jupyter-widgets/base",
          "model_name": "LayoutModel",
          "model_module_version": "1.2.0",
          "state": {
            "_model_module": "@jupyter-widgets/base",
            "_model_module_version": "1.2.0",
            "_model_name": "LayoutModel",
            "_view_count": null,
            "_view_module": "@jupyter-widgets/base",
            "_view_module_version": "1.2.0",
            "_view_name": "LayoutView",
            "align_content": null,
            "align_items": null,
            "align_self": null,
            "border": null,
            "bottom": null,
            "display": null,
            "flex": null,
            "flex_flow": null,
            "grid_area": null,
            "grid_auto_columns": null,
            "grid_auto_flow": null,
            "grid_auto_rows": null,
            "grid_column": null,
            "grid_gap": null,
            "grid_row": null,
            "grid_template_areas": null,
            "grid_template_columns": null,
            "grid_template_rows": null,
            "height": null,
            "justify_content": null,
            "justify_items": null,
            "left": null,
            "margin": null,
            "max_height": null,
            "max_width": null,
            "min_height": null,
            "min_width": null,
            "object_fit": null,
            "object_position": null,
            "order": null,
            "overflow": null,
            "overflow_x": null,
            "overflow_y": null,
            "padding": null,
            "right": null,
            "top": null,
            "visibility": null,
            "width": null
          }
        },
        "af2be3f8a219486084e70cc53a191eb9": {
          "model_module": "@jupyter-widgets/controls",
          "model_name": "DescriptionStyleModel",
          "model_module_version": "1.5.0",
          "state": {
            "_model_module": "@jupyter-widgets/controls",
            "_model_module_version": "1.5.0",
            "_model_name": "DescriptionStyleModel",
            "_view_count": null,
            "_view_module": "@jupyter-widgets/base",
            "_view_module_version": "1.2.0",
            "_view_name": "StyleView",
            "description_width": ""
          }
        },
        "f8124dbf23ce4a10b23e15233e2b2fad": {
          "model_module": "@jupyter-widgets/base",
          "model_name": "LayoutModel",
          "model_module_version": "1.2.0",
          "state": {
            "_model_module": "@jupyter-widgets/base",
            "_model_module_version": "1.2.0",
            "_model_name": "LayoutModel",
            "_view_count": null,
            "_view_module": "@jupyter-widgets/base",
            "_view_module_version": "1.2.0",
            "_view_name": "LayoutView",
            "align_content": null,
            "align_items": null,
            "align_self": null,
            "border": null,
            "bottom": null,
            "display": null,
            "flex": null,
            "flex_flow": null,
            "grid_area": null,
            "grid_auto_columns": null,
            "grid_auto_flow": null,
            "grid_auto_rows": null,
            "grid_column": null,
            "grid_gap": null,
            "grid_row": null,
            "grid_template_areas": null,
            "grid_template_columns": null,
            "grid_template_rows": null,
            "height": null,
            "justify_content": null,
            "justify_items": null,
            "left": null,
            "margin": null,
            "max_height": null,
            "max_width": null,
            "min_height": null,
            "min_width": null,
            "object_fit": null,
            "object_position": null,
            "order": null,
            "overflow": null,
            "overflow_x": null,
            "overflow_y": null,
            "padding": null,
            "right": null,
            "top": null,
            "visibility": null,
            "width": null
          }
        },
        "632a52562f8d4ccb85c61707b4282027": {
          "model_module": "@jupyter-widgets/controls",
          "model_name": "ProgressStyleModel",
          "model_module_version": "1.5.0",
          "state": {
            "_model_module": "@jupyter-widgets/controls",
            "_model_module_version": "1.5.0",
            "_model_name": "ProgressStyleModel",
            "_view_count": null,
            "_view_module": "@jupyter-widgets/base",
            "_view_module_version": "1.2.0",
            "_view_name": "StyleView",
            "bar_color": null,
            "description_width": ""
          }
        },
        "cbfc4bf658f643e9baa2199292ddc3cd": {
          "model_module": "@jupyter-widgets/base",
          "model_name": "LayoutModel",
          "model_module_version": "1.2.0",
          "state": {
            "_model_module": "@jupyter-widgets/base",
            "_model_module_version": "1.2.0",
            "_model_name": "LayoutModel",
            "_view_count": null,
            "_view_module": "@jupyter-widgets/base",
            "_view_module_version": "1.2.0",
            "_view_name": "LayoutView",
            "align_content": null,
            "align_items": null,
            "align_self": null,
            "border": null,
            "bottom": null,
            "display": null,
            "flex": null,
            "flex_flow": null,
            "grid_area": null,
            "grid_auto_columns": null,
            "grid_auto_flow": null,
            "grid_auto_rows": null,
            "grid_column": null,
            "grid_gap": null,
            "grid_row": null,
            "grid_template_areas": null,
            "grid_template_columns": null,
            "grid_template_rows": null,
            "height": null,
            "justify_content": null,
            "justify_items": null,
            "left": null,
            "margin": null,
            "max_height": null,
            "max_width": null,
            "min_height": null,
            "min_width": null,
            "object_fit": null,
            "object_position": null,
            "order": null,
            "overflow": null,
            "overflow_x": null,
            "overflow_y": null,
            "padding": null,
            "right": null,
            "top": null,
            "visibility": null,
            "width": null
          }
        },
        "e86adeedee7c419c81478ffb378fa69c": {
          "model_module": "@jupyter-widgets/controls",
          "model_name": "DescriptionStyleModel",
          "model_module_version": "1.5.0",
          "state": {
            "_model_module": "@jupyter-widgets/controls",
            "_model_module_version": "1.5.0",
            "_model_name": "DescriptionStyleModel",
            "_view_count": null,
            "_view_module": "@jupyter-widgets/base",
            "_view_module_version": "1.2.0",
            "_view_name": "StyleView",
            "description_width": ""
          }
        },
        "49a1937a531a4a448c64dedaf271f826": {
          "model_module": "@jupyter-widgets/controls",
          "model_name": "HBoxModel",
          "model_module_version": "1.5.0",
          "state": {
            "_dom_classes": [],
            "_model_module": "@jupyter-widgets/controls",
            "_model_module_version": "1.5.0",
            "_model_name": "HBoxModel",
            "_view_count": null,
            "_view_module": "@jupyter-widgets/controls",
            "_view_module_version": "1.5.0",
            "_view_name": "HBoxView",
            "box_style": "",
            "children": [
              "IPY_MODEL_6eb93e33e4864835bd114a89e834d707",
              "IPY_MODEL_06759b3ce40e498b85ab166ebd7d1fe1",
              "IPY_MODEL_3e93bba5a1b14924b2f48a2609e39cd8"
            ],
            "layout": "IPY_MODEL_681c579295044db1a713e31031006ac8"
          }
        },
        "6eb93e33e4864835bd114a89e834d707": {
          "model_module": "@jupyter-widgets/controls",
          "model_name": "HTMLModel",
          "model_module_version": "1.5.0",
          "state": {
            "_dom_classes": [],
            "_model_module": "@jupyter-widgets/controls",
            "_model_module_version": "1.5.0",
            "_model_name": "HTMLModel",
            "_view_count": null,
            "_view_module": "@jupyter-widgets/controls",
            "_view_module_version": "1.5.0",
            "_view_name": "HTMLView",
            "description": "",
            "description_tooltip": null,
            "layout": "IPY_MODEL_798e9ebcbaff4881836960b8719c7de7",
            "placeholder": "​",
            "style": "IPY_MODEL_52414fc9520049faa120670d6cc78f62",
            "value": "Downloading (…)/2_Dense/config.json: 100%"
          }
        },
        "06759b3ce40e498b85ab166ebd7d1fe1": {
          "model_module": "@jupyter-widgets/controls",
          "model_name": "FloatProgressModel",
          "model_module_version": "1.5.0",
          "state": {
            "_dom_classes": [],
            "_model_module": "@jupyter-widgets/controls",
            "_model_module_version": "1.5.0",
            "_model_name": "FloatProgressModel",
            "_view_count": null,
            "_view_module": "@jupyter-widgets/controls",
            "_view_module_version": "1.5.0",
            "_view_name": "ProgressView",
            "bar_style": "success",
            "description": "",
            "description_tooltip": null,
            "layout": "IPY_MODEL_be05287ee34440d6ad5977c0d48aad83",
            "max": 115,
            "min": 0,
            "orientation": "horizontal",
            "style": "IPY_MODEL_862edc73bf85446bbfe65a823bc1413c",
            "value": 115
          }
        },
        "3e93bba5a1b14924b2f48a2609e39cd8": {
          "model_module": "@jupyter-widgets/controls",
          "model_name": "HTMLModel",
          "model_module_version": "1.5.0",
          "state": {
            "_dom_classes": [],
            "_model_module": "@jupyter-widgets/controls",
            "_model_module_version": "1.5.0",
            "_model_name": "HTMLModel",
            "_view_count": null,
            "_view_module": "@jupyter-widgets/controls",
            "_view_module_version": "1.5.0",
            "_view_name": "HTMLView",
            "description": "",
            "description_tooltip": null,
            "layout": "IPY_MODEL_e2f200f46dda41d3a29c075b2724ff59",
            "placeholder": "​",
            "style": "IPY_MODEL_17fdcd1386f94e1dbdd59b4fb8765550",
            "value": " 115/115 [00:00&lt;00:00, 1.96kB/s]"
          }
        },
        "681c579295044db1a713e31031006ac8": {
          "model_module": "@jupyter-widgets/base",
          "model_name": "LayoutModel",
          "model_module_version": "1.2.0",
          "state": {
            "_model_module": "@jupyter-widgets/base",
            "_model_module_version": "1.2.0",
            "_model_name": "LayoutModel",
            "_view_count": null,
            "_view_module": "@jupyter-widgets/base",
            "_view_module_version": "1.2.0",
            "_view_name": "LayoutView",
            "align_content": null,
            "align_items": null,
            "align_self": null,
            "border": null,
            "bottom": null,
            "display": null,
            "flex": null,
            "flex_flow": null,
            "grid_area": null,
            "grid_auto_columns": null,
            "grid_auto_flow": null,
            "grid_auto_rows": null,
            "grid_column": null,
            "grid_gap": null,
            "grid_row": null,
            "grid_template_areas": null,
            "grid_template_columns": null,
            "grid_template_rows": null,
            "height": null,
            "justify_content": null,
            "justify_items": null,
            "left": null,
            "margin": null,
            "max_height": null,
            "max_width": null,
            "min_height": null,
            "min_width": null,
            "object_fit": null,
            "object_position": null,
            "order": null,
            "overflow": null,
            "overflow_x": null,
            "overflow_y": null,
            "padding": null,
            "right": null,
            "top": null,
            "visibility": null,
            "width": null
          }
        },
        "798e9ebcbaff4881836960b8719c7de7": {
          "model_module": "@jupyter-widgets/base",
          "model_name": "LayoutModel",
          "model_module_version": "1.2.0",
          "state": {
            "_model_module": "@jupyter-widgets/base",
            "_model_module_version": "1.2.0",
            "_model_name": "LayoutModel",
            "_view_count": null,
            "_view_module": "@jupyter-widgets/base",
            "_view_module_version": "1.2.0",
            "_view_name": "LayoutView",
            "align_content": null,
            "align_items": null,
            "align_self": null,
            "border": null,
            "bottom": null,
            "display": null,
            "flex": null,
            "flex_flow": null,
            "grid_area": null,
            "grid_auto_columns": null,
            "grid_auto_flow": null,
            "grid_auto_rows": null,
            "grid_column": null,
            "grid_gap": null,
            "grid_row": null,
            "grid_template_areas": null,
            "grid_template_columns": null,
            "grid_template_rows": null,
            "height": null,
            "justify_content": null,
            "justify_items": null,
            "left": null,
            "margin": null,
            "max_height": null,
            "max_width": null,
            "min_height": null,
            "min_width": null,
            "object_fit": null,
            "object_position": null,
            "order": null,
            "overflow": null,
            "overflow_x": null,
            "overflow_y": null,
            "padding": null,
            "right": null,
            "top": null,
            "visibility": null,
            "width": null
          }
        },
        "52414fc9520049faa120670d6cc78f62": {
          "model_module": "@jupyter-widgets/controls",
          "model_name": "DescriptionStyleModel",
          "model_module_version": "1.5.0",
          "state": {
            "_model_module": "@jupyter-widgets/controls",
            "_model_module_version": "1.5.0",
            "_model_name": "DescriptionStyleModel",
            "_view_count": null,
            "_view_module": "@jupyter-widgets/base",
            "_view_module_version": "1.2.0",
            "_view_name": "StyleView",
            "description_width": ""
          }
        },
        "be05287ee34440d6ad5977c0d48aad83": {
          "model_module": "@jupyter-widgets/base",
          "model_name": "LayoutModel",
          "model_module_version": "1.2.0",
          "state": {
            "_model_module": "@jupyter-widgets/base",
            "_model_module_version": "1.2.0",
            "_model_name": "LayoutModel",
            "_view_count": null,
            "_view_module": "@jupyter-widgets/base",
            "_view_module_version": "1.2.0",
            "_view_name": "LayoutView",
            "align_content": null,
            "align_items": null,
            "align_self": null,
            "border": null,
            "bottom": null,
            "display": null,
            "flex": null,
            "flex_flow": null,
            "grid_area": null,
            "grid_auto_columns": null,
            "grid_auto_flow": null,
            "grid_auto_rows": null,
            "grid_column": null,
            "grid_gap": null,
            "grid_row": null,
            "grid_template_areas": null,
            "grid_template_columns": null,
            "grid_template_rows": null,
            "height": null,
            "justify_content": null,
            "justify_items": null,
            "left": null,
            "margin": null,
            "max_height": null,
            "max_width": null,
            "min_height": null,
            "min_width": null,
            "object_fit": null,
            "object_position": null,
            "order": null,
            "overflow": null,
            "overflow_x": null,
            "overflow_y": null,
            "padding": null,
            "right": null,
            "top": null,
            "visibility": null,
            "width": null
          }
        },
        "862edc73bf85446bbfe65a823bc1413c": {
          "model_module": "@jupyter-widgets/controls",
          "model_name": "ProgressStyleModel",
          "model_module_version": "1.5.0",
          "state": {
            "_model_module": "@jupyter-widgets/controls",
            "_model_module_version": "1.5.0",
            "_model_name": "ProgressStyleModel",
            "_view_count": null,
            "_view_module": "@jupyter-widgets/base",
            "_view_module_version": "1.2.0",
            "_view_name": "StyleView",
            "bar_color": null,
            "description_width": ""
          }
        },
        "e2f200f46dda41d3a29c075b2724ff59": {
          "model_module": "@jupyter-widgets/base",
          "model_name": "LayoutModel",
          "model_module_version": "1.2.0",
          "state": {
            "_model_module": "@jupyter-widgets/base",
            "_model_module_version": "1.2.0",
            "_model_name": "LayoutModel",
            "_view_count": null,
            "_view_module": "@jupyter-widgets/base",
            "_view_module_version": "1.2.0",
            "_view_name": "LayoutView",
            "align_content": null,
            "align_items": null,
            "align_self": null,
            "border": null,
            "bottom": null,
            "display": null,
            "flex": null,
            "flex_flow": null,
            "grid_area": null,
            "grid_auto_columns": null,
            "grid_auto_flow": null,
            "grid_auto_rows": null,
            "grid_column": null,
            "grid_gap": null,
            "grid_row": null,
            "grid_template_areas": null,
            "grid_template_columns": null,
            "grid_template_rows": null,
            "height": null,
            "justify_content": null,
            "justify_items": null,
            "left": null,
            "margin": null,
            "max_height": null,
            "max_width": null,
            "min_height": null,
            "min_width": null,
            "object_fit": null,
            "object_position": null,
            "order": null,
            "overflow": null,
            "overflow_x": null,
            "overflow_y": null,
            "padding": null,
            "right": null,
            "top": null,
            "visibility": null,
            "width": null
          }
        },
        "17fdcd1386f94e1dbdd59b4fb8765550": {
          "model_module": "@jupyter-widgets/controls",
          "model_name": "DescriptionStyleModel",
          "model_module_version": "1.5.0",
          "state": {
            "_model_module": "@jupyter-widgets/controls",
            "_model_module_version": "1.5.0",
            "_model_name": "DescriptionStyleModel",
            "_view_count": null,
            "_view_module": "@jupyter-widgets/base",
            "_view_module_version": "1.2.0",
            "_view_name": "StyleView",
            "description_width": ""
          }
        },
        "586904bad3484068999259234cdff8ab": {
          "model_module": "@jupyter-widgets/controls",
          "model_name": "HBoxModel",
          "model_module_version": "1.5.0",
          "state": {
            "_dom_classes": [],
            "_model_module": "@jupyter-widgets/controls",
            "_model_module_version": "1.5.0",
            "_model_name": "HBoxModel",
            "_view_count": null,
            "_view_module": "@jupyter-widgets/controls",
            "_view_module_version": "1.5.0",
            "_view_name": "HBoxView",
            "box_style": "",
            "children": [
              "IPY_MODEL_820b016118184041a9e2a831d7e151ec",
              "IPY_MODEL_3d5a0eb7ec674199b2a51d61f9467307",
              "IPY_MODEL_2bf02e2a6d0f469896163cc8cc18a231"
            ],
            "layout": "IPY_MODEL_cee5edb1b2a74ff3904240609abe7c3c"
          }
        },
        "820b016118184041a9e2a831d7e151ec": {
          "model_module": "@jupyter-widgets/controls",
          "model_name": "HTMLModel",
          "model_module_version": "1.5.0",
          "state": {
            "_dom_classes": [],
            "_model_module": "@jupyter-widgets/controls",
            "_model_module_version": "1.5.0",
            "_model_name": "HTMLModel",
            "_view_count": null,
            "_view_module": "@jupyter-widgets/controls",
            "_view_module_version": "1.5.0",
            "_view_name": "HTMLView",
            "description": "",
            "description_tooltip": null,
            "layout": "IPY_MODEL_8f4345f9c0cc47aeaf9bfb6633a7195d",
            "placeholder": "​",
            "style": "IPY_MODEL_4840c604ec79471b97e60d182f5d4a4f",
            "value": "Downloading pytorch_model.bin: 100%"
          }
        },
        "3d5a0eb7ec674199b2a51d61f9467307": {
          "model_module": "@jupyter-widgets/controls",
          "model_name": "FloatProgressModel",
          "model_module_version": "1.5.0",
          "state": {
            "_dom_classes": [],
            "_model_module": "@jupyter-widgets/controls",
            "_model_module_version": "1.5.0",
            "_model_name": "FloatProgressModel",
            "_view_count": null,
            "_view_module": "@jupyter-widgets/controls",
            "_view_module_version": "1.5.0",
            "_view_name": "ProgressView",
            "bar_style": "success",
            "description": "",
            "description_tooltip": null,
            "layout": "IPY_MODEL_79424d43f21042389950b57f86ec9aaa",
            "max": 2360171,
            "min": 0,
            "orientation": "horizontal",
            "style": "IPY_MODEL_0b1303147289425bbaf5fe669751cbfe",
            "value": 2360171
          }
        },
        "2bf02e2a6d0f469896163cc8cc18a231": {
          "model_module": "@jupyter-widgets/controls",
          "model_name": "HTMLModel",
          "model_module_version": "1.5.0",
          "state": {
            "_dom_classes": [],
            "_model_module": "@jupyter-widgets/controls",
            "_model_module_version": "1.5.0",
            "_model_name": "HTMLModel",
            "_view_count": null,
            "_view_module": "@jupyter-widgets/controls",
            "_view_module_version": "1.5.0",
            "_view_name": "HTMLView",
            "description": "",
            "description_tooltip": null,
            "layout": "IPY_MODEL_37498ba5a4ad46b9959702081f2237b6",
            "placeholder": "​",
            "style": "IPY_MODEL_dd65ca2a9200451c808c83a1f6faa1ed",
            "value": " 2.36M/2.36M [00:00&lt;00:00, 25.6MB/s]"
          }
        },
        "cee5edb1b2a74ff3904240609abe7c3c": {
          "model_module": "@jupyter-widgets/base",
          "model_name": "LayoutModel",
          "model_module_version": "1.2.0",
          "state": {
            "_model_module": "@jupyter-widgets/base",
            "_model_module_version": "1.2.0",
            "_model_name": "LayoutModel",
            "_view_count": null,
            "_view_module": "@jupyter-widgets/base",
            "_view_module_version": "1.2.0",
            "_view_name": "LayoutView",
            "align_content": null,
            "align_items": null,
            "align_self": null,
            "border": null,
            "bottom": null,
            "display": null,
            "flex": null,
            "flex_flow": null,
            "grid_area": null,
            "grid_auto_columns": null,
            "grid_auto_flow": null,
            "grid_auto_rows": null,
            "grid_column": null,
            "grid_gap": null,
            "grid_row": null,
            "grid_template_areas": null,
            "grid_template_columns": null,
            "grid_template_rows": null,
            "height": null,
            "justify_content": null,
            "justify_items": null,
            "left": null,
            "margin": null,
            "max_height": null,
            "max_width": null,
            "min_height": null,
            "min_width": null,
            "object_fit": null,
            "object_position": null,
            "order": null,
            "overflow": null,
            "overflow_x": null,
            "overflow_y": null,
            "padding": null,
            "right": null,
            "top": null,
            "visibility": null,
            "width": null
          }
        },
        "8f4345f9c0cc47aeaf9bfb6633a7195d": {
          "model_module": "@jupyter-widgets/base",
          "model_name": "LayoutModel",
          "model_module_version": "1.2.0",
          "state": {
            "_model_module": "@jupyter-widgets/base",
            "_model_module_version": "1.2.0",
            "_model_name": "LayoutModel",
            "_view_count": null,
            "_view_module": "@jupyter-widgets/base",
            "_view_module_version": "1.2.0",
            "_view_name": "LayoutView",
            "align_content": null,
            "align_items": null,
            "align_self": null,
            "border": null,
            "bottom": null,
            "display": null,
            "flex": null,
            "flex_flow": null,
            "grid_area": null,
            "grid_auto_columns": null,
            "grid_auto_flow": null,
            "grid_auto_rows": null,
            "grid_column": null,
            "grid_gap": null,
            "grid_row": null,
            "grid_template_areas": null,
            "grid_template_columns": null,
            "grid_template_rows": null,
            "height": null,
            "justify_content": null,
            "justify_items": null,
            "left": null,
            "margin": null,
            "max_height": null,
            "max_width": null,
            "min_height": null,
            "min_width": null,
            "object_fit": null,
            "object_position": null,
            "order": null,
            "overflow": null,
            "overflow_x": null,
            "overflow_y": null,
            "padding": null,
            "right": null,
            "top": null,
            "visibility": null,
            "width": null
          }
        },
        "4840c604ec79471b97e60d182f5d4a4f": {
          "model_module": "@jupyter-widgets/controls",
          "model_name": "DescriptionStyleModel",
          "model_module_version": "1.5.0",
          "state": {
            "_model_module": "@jupyter-widgets/controls",
            "_model_module_version": "1.5.0",
            "_model_name": "DescriptionStyleModel",
            "_view_count": null,
            "_view_module": "@jupyter-widgets/base",
            "_view_module_version": "1.2.0",
            "_view_name": "StyleView",
            "description_width": ""
          }
        },
        "79424d43f21042389950b57f86ec9aaa": {
          "model_module": "@jupyter-widgets/base",
          "model_name": "LayoutModel",
          "model_module_version": "1.2.0",
          "state": {
            "_model_module": "@jupyter-widgets/base",
            "_model_module_version": "1.2.0",
            "_model_name": "LayoutModel",
            "_view_count": null,
            "_view_module": "@jupyter-widgets/base",
            "_view_module_version": "1.2.0",
            "_view_name": "LayoutView",
            "align_content": null,
            "align_items": null,
            "align_self": null,
            "border": null,
            "bottom": null,
            "display": null,
            "flex": null,
            "flex_flow": null,
            "grid_area": null,
            "grid_auto_columns": null,
            "grid_auto_flow": null,
            "grid_auto_rows": null,
            "grid_column": null,
            "grid_gap": null,
            "grid_row": null,
            "grid_template_areas": null,
            "grid_template_columns": null,
            "grid_template_rows": null,
            "height": null,
            "justify_content": null,
            "justify_items": null,
            "left": null,
            "margin": null,
            "max_height": null,
            "max_width": null,
            "min_height": null,
            "min_width": null,
            "object_fit": null,
            "object_position": null,
            "order": null,
            "overflow": null,
            "overflow_x": null,
            "overflow_y": null,
            "padding": null,
            "right": null,
            "top": null,
            "visibility": null,
            "width": null
          }
        },
        "0b1303147289425bbaf5fe669751cbfe": {
          "model_module": "@jupyter-widgets/controls",
          "model_name": "ProgressStyleModel",
          "model_module_version": "1.5.0",
          "state": {
            "_model_module": "@jupyter-widgets/controls",
            "_model_module_version": "1.5.0",
            "_model_name": "ProgressStyleModel",
            "_view_count": null,
            "_view_module": "@jupyter-widgets/base",
            "_view_module_version": "1.2.0",
            "_view_name": "StyleView",
            "bar_color": null,
            "description_width": ""
          }
        },
        "37498ba5a4ad46b9959702081f2237b6": {
          "model_module": "@jupyter-widgets/base",
          "model_name": "LayoutModel",
          "model_module_version": "1.2.0",
          "state": {
            "_model_module": "@jupyter-widgets/base",
            "_model_module_version": "1.2.0",
            "_model_name": "LayoutModel",
            "_view_count": null,
            "_view_module": "@jupyter-widgets/base",
            "_view_module_version": "1.2.0",
            "_view_name": "LayoutView",
            "align_content": null,
            "align_items": null,
            "align_self": null,
            "border": null,
            "bottom": null,
            "display": null,
            "flex": null,
            "flex_flow": null,
            "grid_area": null,
            "grid_auto_columns": null,
            "grid_auto_flow": null,
            "grid_auto_rows": null,
            "grid_column": null,
            "grid_gap": null,
            "grid_row": null,
            "grid_template_areas": null,
            "grid_template_columns": null,
            "grid_template_rows": null,
            "height": null,
            "justify_content": null,
            "justify_items": null,
            "left": null,
            "margin": null,
            "max_height": null,
            "max_width": null,
            "min_height": null,
            "min_width": null,
            "object_fit": null,
            "object_position": null,
            "order": null,
            "overflow": null,
            "overflow_x": null,
            "overflow_y": null,
            "padding": null,
            "right": null,
            "top": null,
            "visibility": null,
            "width": null
          }
        },
        "dd65ca2a9200451c808c83a1f6faa1ed": {
          "model_module": "@jupyter-widgets/controls",
          "model_name": "DescriptionStyleModel",
          "model_module_version": "1.5.0",
          "state": {
            "_model_module": "@jupyter-widgets/controls",
            "_model_module_version": "1.5.0",
            "_model_name": "DescriptionStyleModel",
            "_view_count": null,
            "_view_module": "@jupyter-widgets/base",
            "_view_module_version": "1.2.0",
            "_view_name": "StyleView",
            "description_width": ""
          }
        },
        "0300e11080e04005acb859b811123d88": {
          "model_module": "@jupyter-widgets/controls",
          "model_name": "HBoxModel",
          "model_module_version": "1.5.0",
          "state": {
            "_dom_classes": [],
            "_model_module": "@jupyter-widgets/controls",
            "_model_module_version": "1.5.0",
            "_model_name": "HBoxModel",
            "_view_count": null,
            "_view_module": "@jupyter-widgets/controls",
            "_view_module_version": "1.5.0",
            "_view_name": "HBoxView",
            "box_style": "",
            "children": [
              "IPY_MODEL_be87f00c699d40848c205fb2e505ad7f",
              "IPY_MODEL_03d9c2b875d640fe94e7ef405a378127",
              "IPY_MODEL_aca2810ff12c489f825667d9915ae075"
            ],
            "layout": "IPY_MODEL_d0fb2e7c783f4af88d4b6a29e33ba748"
          }
        },
        "be87f00c699d40848c205fb2e505ad7f": {
          "model_module": "@jupyter-widgets/controls",
          "model_name": "HTMLModel",
          "model_module_version": "1.5.0",
          "state": {
            "_dom_classes": [],
            "_model_module": "@jupyter-widgets/controls",
            "_model_module_version": "1.5.0",
            "_model_name": "HTMLModel",
            "_view_count": null,
            "_view_module": "@jupyter-widgets/controls",
            "_view_module_version": "1.5.0",
            "_view_name": "HTMLView",
            "description": "",
            "description_tooltip": null,
            "layout": "IPY_MODEL_f1d16e3ce4e84fe2be75be97176819bc",
            "placeholder": "​",
            "style": "IPY_MODEL_f2ac46f3df8d43bd8d7c3985f5a4d6ac",
            "value": "Downloading (…)13d78b6d67/README.md: 100%"
          }
        },
        "03d9c2b875d640fe94e7ef405a378127": {
          "model_module": "@jupyter-widgets/controls",
          "model_name": "FloatProgressModel",
          "model_module_version": "1.5.0",
          "state": {
            "_dom_classes": [],
            "_model_module": "@jupyter-widgets/controls",
            "_model_module_version": "1.5.0",
            "_model_name": "FloatProgressModel",
            "_view_count": null,
            "_view_module": "@jupyter-widgets/controls",
            "_view_module_version": "1.5.0",
            "_view_name": "ProgressView",
            "bar_style": "success",
            "description": "",
            "description_tooltip": null,
            "layout": "IPY_MODEL_1b1b3ba71fc64518b5709e574984a72e",
            "max": 2353,
            "min": 0,
            "orientation": "horizontal",
            "style": "IPY_MODEL_c10a664b4f7e45a5807e0fa396e6d666",
            "value": 2353
          }
        },
        "aca2810ff12c489f825667d9915ae075": {
          "model_module": "@jupyter-widgets/controls",
          "model_name": "HTMLModel",
          "model_module_version": "1.5.0",
          "state": {
            "_dom_classes": [],
            "_model_module": "@jupyter-widgets/controls",
            "_model_module_version": "1.5.0",
            "_model_name": "HTMLModel",
            "_view_count": null,
            "_view_module": "@jupyter-widgets/controls",
            "_view_module_version": "1.5.0",
            "_view_name": "HTMLView",
            "description": "",
            "description_tooltip": null,
            "layout": "IPY_MODEL_4e3790c65e9b4715b6c3132ff2767dce",
            "placeholder": "​",
            "style": "IPY_MODEL_ef394c8b65b14f0dbfc4c1d97abeae58",
            "value": " 2.35k/2.35k [00:00&lt;00:00, 30.1kB/s]"
          }
        },
        "d0fb2e7c783f4af88d4b6a29e33ba748": {
          "model_module": "@jupyter-widgets/base",
          "model_name": "LayoutModel",
          "model_module_version": "1.2.0",
          "state": {
            "_model_module": "@jupyter-widgets/base",
            "_model_module_version": "1.2.0",
            "_model_name": "LayoutModel",
            "_view_count": null,
            "_view_module": "@jupyter-widgets/base",
            "_view_module_version": "1.2.0",
            "_view_name": "LayoutView",
            "align_content": null,
            "align_items": null,
            "align_self": null,
            "border": null,
            "bottom": null,
            "display": null,
            "flex": null,
            "flex_flow": null,
            "grid_area": null,
            "grid_auto_columns": null,
            "grid_auto_flow": null,
            "grid_auto_rows": null,
            "grid_column": null,
            "grid_gap": null,
            "grid_row": null,
            "grid_template_areas": null,
            "grid_template_columns": null,
            "grid_template_rows": null,
            "height": null,
            "justify_content": null,
            "justify_items": null,
            "left": null,
            "margin": null,
            "max_height": null,
            "max_width": null,
            "min_height": null,
            "min_width": null,
            "object_fit": null,
            "object_position": null,
            "order": null,
            "overflow": null,
            "overflow_x": null,
            "overflow_y": null,
            "padding": null,
            "right": null,
            "top": null,
            "visibility": null,
            "width": null
          }
        },
        "f1d16e3ce4e84fe2be75be97176819bc": {
          "model_module": "@jupyter-widgets/base",
          "model_name": "LayoutModel",
          "model_module_version": "1.2.0",
          "state": {
            "_model_module": "@jupyter-widgets/base",
            "_model_module_version": "1.2.0",
            "_model_name": "LayoutModel",
            "_view_count": null,
            "_view_module": "@jupyter-widgets/base",
            "_view_module_version": "1.2.0",
            "_view_name": "LayoutView",
            "align_content": null,
            "align_items": null,
            "align_self": null,
            "border": null,
            "bottom": null,
            "display": null,
            "flex": null,
            "flex_flow": null,
            "grid_area": null,
            "grid_auto_columns": null,
            "grid_auto_flow": null,
            "grid_auto_rows": null,
            "grid_column": null,
            "grid_gap": null,
            "grid_row": null,
            "grid_template_areas": null,
            "grid_template_columns": null,
            "grid_template_rows": null,
            "height": null,
            "justify_content": null,
            "justify_items": null,
            "left": null,
            "margin": null,
            "max_height": null,
            "max_width": null,
            "min_height": null,
            "min_width": null,
            "object_fit": null,
            "object_position": null,
            "order": null,
            "overflow": null,
            "overflow_x": null,
            "overflow_y": null,
            "padding": null,
            "right": null,
            "top": null,
            "visibility": null,
            "width": null
          }
        },
        "f2ac46f3df8d43bd8d7c3985f5a4d6ac": {
          "model_module": "@jupyter-widgets/controls",
          "model_name": "DescriptionStyleModel",
          "model_module_version": "1.5.0",
          "state": {
            "_model_module": "@jupyter-widgets/controls",
            "_model_module_version": "1.5.0",
            "_model_name": "DescriptionStyleModel",
            "_view_count": null,
            "_view_module": "@jupyter-widgets/base",
            "_view_module_version": "1.2.0",
            "_view_name": "StyleView",
            "description_width": ""
          }
        },
        "1b1b3ba71fc64518b5709e574984a72e": {
          "model_module": "@jupyter-widgets/base",
          "model_name": "LayoutModel",
          "model_module_version": "1.2.0",
          "state": {
            "_model_module": "@jupyter-widgets/base",
            "_model_module_version": "1.2.0",
            "_model_name": "LayoutModel",
            "_view_count": null,
            "_view_module": "@jupyter-widgets/base",
            "_view_module_version": "1.2.0",
            "_view_name": "LayoutView",
            "align_content": null,
            "align_items": null,
            "align_self": null,
            "border": null,
            "bottom": null,
            "display": null,
            "flex": null,
            "flex_flow": null,
            "grid_area": null,
            "grid_auto_columns": null,
            "grid_auto_flow": null,
            "grid_auto_rows": null,
            "grid_column": null,
            "grid_gap": null,
            "grid_row": null,
            "grid_template_areas": null,
            "grid_template_columns": null,
            "grid_template_rows": null,
            "height": null,
            "justify_content": null,
            "justify_items": null,
            "left": null,
            "margin": null,
            "max_height": null,
            "max_width": null,
            "min_height": null,
            "min_width": null,
            "object_fit": null,
            "object_position": null,
            "order": null,
            "overflow": null,
            "overflow_x": null,
            "overflow_y": null,
            "padding": null,
            "right": null,
            "top": null,
            "visibility": null,
            "width": null
          }
        },
        "c10a664b4f7e45a5807e0fa396e6d666": {
          "model_module": "@jupyter-widgets/controls",
          "model_name": "ProgressStyleModel",
          "model_module_version": "1.5.0",
          "state": {
            "_model_module": "@jupyter-widgets/controls",
            "_model_module_version": "1.5.0",
            "_model_name": "ProgressStyleModel",
            "_view_count": null,
            "_view_module": "@jupyter-widgets/base",
            "_view_module_version": "1.2.0",
            "_view_name": "StyleView",
            "bar_color": null,
            "description_width": ""
          }
        },
        "4e3790c65e9b4715b6c3132ff2767dce": {
          "model_module": "@jupyter-widgets/base",
          "model_name": "LayoutModel",
          "model_module_version": "1.2.0",
          "state": {
            "_model_module": "@jupyter-widgets/base",
            "_model_module_version": "1.2.0",
            "_model_name": "LayoutModel",
            "_view_count": null,
            "_view_module": "@jupyter-widgets/base",
            "_view_module_version": "1.2.0",
            "_view_name": "LayoutView",
            "align_content": null,
            "align_items": null,
            "align_self": null,
            "border": null,
            "bottom": null,
            "display": null,
            "flex": null,
            "flex_flow": null,
            "grid_area": null,
            "grid_auto_columns": null,
            "grid_auto_flow": null,
            "grid_auto_rows": null,
            "grid_column": null,
            "grid_gap": null,
            "grid_row": null,
            "grid_template_areas": null,
            "grid_template_columns": null,
            "grid_template_rows": null,
            "height": null,
            "justify_content": null,
            "justify_items": null,
            "left": null,
            "margin": null,
            "max_height": null,
            "max_width": null,
            "min_height": null,
            "min_width": null,
            "object_fit": null,
            "object_position": null,
            "order": null,
            "overflow": null,
            "overflow_x": null,
            "overflow_y": null,
            "padding": null,
            "right": null,
            "top": null,
            "visibility": null,
            "width": null
          }
        },
        "ef394c8b65b14f0dbfc4c1d97abeae58": {
          "model_module": "@jupyter-widgets/controls",
          "model_name": "DescriptionStyleModel",
          "model_module_version": "1.5.0",
          "state": {
            "_model_module": "@jupyter-widgets/controls",
            "_model_module_version": "1.5.0",
            "_model_name": "DescriptionStyleModel",
            "_view_count": null,
            "_view_module": "@jupyter-widgets/base",
            "_view_module_version": "1.2.0",
            "_view_name": "StyleView",
            "description_width": ""
          }
        },
        "35c086caf7884cc5961b3a0fa82785ba": {
          "model_module": "@jupyter-widgets/controls",
          "model_name": "HBoxModel",
          "model_module_version": "1.5.0",
          "state": {
            "_dom_classes": [],
            "_model_module": "@jupyter-widgets/controls",
            "_model_module_version": "1.5.0",
            "_model_name": "HBoxModel",
            "_view_count": null,
            "_view_module": "@jupyter-widgets/controls",
            "_view_module_version": "1.5.0",
            "_view_name": "HBoxView",
            "box_style": "",
            "children": [
              "IPY_MODEL_364b20450c85423886714b19056b40e3",
              "IPY_MODEL_22cb535f59844c9b815d89d7e3fe332b",
              "IPY_MODEL_3cc7cd0bb08745c285f79db4ec2c623b"
            ],
            "layout": "IPY_MODEL_826613c238c04e8b93b553a0a3809f6f"
          }
        },
        "364b20450c85423886714b19056b40e3": {
          "model_module": "@jupyter-widgets/controls",
          "model_name": "HTMLModel",
          "model_module_version": "1.5.0",
          "state": {
            "_dom_classes": [],
            "_model_module": "@jupyter-widgets/controls",
            "_model_module_version": "1.5.0",
            "_model_name": "HTMLModel",
            "_view_count": null,
            "_view_module": "@jupyter-widgets/controls",
            "_view_module_version": "1.5.0",
            "_view_name": "HTMLView",
            "description": "",
            "description_tooltip": null,
            "layout": "IPY_MODEL_bce961cf6dad4d8d89fcb73b5aab311b",
            "placeholder": "​",
            "style": "IPY_MODEL_a33891658a8b4150acbacb2f6afda90a",
            "value": "Downloading (…)d78b6d67/config.json: 100%"
          }
        },
        "22cb535f59844c9b815d89d7e3fe332b": {
          "model_module": "@jupyter-widgets/controls",
          "model_name": "FloatProgressModel",
          "model_module_version": "1.5.0",
          "state": {
            "_dom_classes": [],
            "_model_module": "@jupyter-widgets/controls",
            "_model_module_version": "1.5.0",
            "_model_name": "FloatProgressModel",
            "_view_count": null,
            "_view_module": "@jupyter-widgets/controls",
            "_view_module_version": "1.5.0",
            "_view_name": "ProgressView",
            "bar_style": "success",
            "description": "",
            "description_tooltip": null,
            "layout": "IPY_MODEL_b8dc140abd404c979f411f9a197069ac",
            "max": 554,
            "min": 0,
            "orientation": "horizontal",
            "style": "IPY_MODEL_e6e9e72a3ccd435ea8696c6ee36bc294",
            "value": 554
          }
        },
        "3cc7cd0bb08745c285f79db4ec2c623b": {
          "model_module": "@jupyter-widgets/controls",
          "model_name": "HTMLModel",
          "model_module_version": "1.5.0",
          "state": {
            "_dom_classes": [],
            "_model_module": "@jupyter-widgets/controls",
            "_model_module_version": "1.5.0",
            "_model_name": "HTMLModel",
            "_view_count": null,
            "_view_module": "@jupyter-widgets/controls",
            "_view_module_version": "1.5.0",
            "_view_name": "HTMLView",
            "description": "",
            "description_tooltip": null,
            "layout": "IPY_MODEL_871c8cec3138427eaa93c654d7169ea8",
            "placeholder": "​",
            "style": "IPY_MODEL_ee6c3174a21a4187ab65a62949c145d2",
            "value": " 554/554 [00:00&lt;00:00, 8.77kB/s]"
          }
        },
        "826613c238c04e8b93b553a0a3809f6f": {
          "model_module": "@jupyter-widgets/base",
          "model_name": "LayoutModel",
          "model_module_version": "1.2.0",
          "state": {
            "_model_module": "@jupyter-widgets/base",
            "_model_module_version": "1.2.0",
            "_model_name": "LayoutModel",
            "_view_count": null,
            "_view_module": "@jupyter-widgets/base",
            "_view_module_version": "1.2.0",
            "_view_name": "LayoutView",
            "align_content": null,
            "align_items": null,
            "align_self": null,
            "border": null,
            "bottom": null,
            "display": null,
            "flex": null,
            "flex_flow": null,
            "grid_area": null,
            "grid_auto_columns": null,
            "grid_auto_flow": null,
            "grid_auto_rows": null,
            "grid_column": null,
            "grid_gap": null,
            "grid_row": null,
            "grid_template_areas": null,
            "grid_template_columns": null,
            "grid_template_rows": null,
            "height": null,
            "justify_content": null,
            "justify_items": null,
            "left": null,
            "margin": null,
            "max_height": null,
            "max_width": null,
            "min_height": null,
            "min_width": null,
            "object_fit": null,
            "object_position": null,
            "order": null,
            "overflow": null,
            "overflow_x": null,
            "overflow_y": null,
            "padding": null,
            "right": null,
            "top": null,
            "visibility": null,
            "width": null
          }
        },
        "bce961cf6dad4d8d89fcb73b5aab311b": {
          "model_module": "@jupyter-widgets/base",
          "model_name": "LayoutModel",
          "model_module_version": "1.2.0",
          "state": {
            "_model_module": "@jupyter-widgets/base",
            "_model_module_version": "1.2.0",
            "_model_name": "LayoutModel",
            "_view_count": null,
            "_view_module": "@jupyter-widgets/base",
            "_view_module_version": "1.2.0",
            "_view_name": "LayoutView",
            "align_content": null,
            "align_items": null,
            "align_self": null,
            "border": null,
            "bottom": null,
            "display": null,
            "flex": null,
            "flex_flow": null,
            "grid_area": null,
            "grid_auto_columns": null,
            "grid_auto_flow": null,
            "grid_auto_rows": null,
            "grid_column": null,
            "grid_gap": null,
            "grid_row": null,
            "grid_template_areas": null,
            "grid_template_columns": null,
            "grid_template_rows": null,
            "height": null,
            "justify_content": null,
            "justify_items": null,
            "left": null,
            "margin": null,
            "max_height": null,
            "max_width": null,
            "min_height": null,
            "min_width": null,
            "object_fit": null,
            "object_position": null,
            "order": null,
            "overflow": null,
            "overflow_x": null,
            "overflow_y": null,
            "padding": null,
            "right": null,
            "top": null,
            "visibility": null,
            "width": null
          }
        },
        "a33891658a8b4150acbacb2f6afda90a": {
          "model_module": "@jupyter-widgets/controls",
          "model_name": "DescriptionStyleModel",
          "model_module_version": "1.5.0",
          "state": {
            "_model_module": "@jupyter-widgets/controls",
            "_model_module_version": "1.5.0",
            "_model_name": "DescriptionStyleModel",
            "_view_count": null,
            "_view_module": "@jupyter-widgets/base",
            "_view_module_version": "1.2.0",
            "_view_name": "StyleView",
            "description_width": ""
          }
        },
        "b8dc140abd404c979f411f9a197069ac": {
          "model_module": "@jupyter-widgets/base",
          "model_name": "LayoutModel",
          "model_module_version": "1.2.0",
          "state": {
            "_model_module": "@jupyter-widgets/base",
            "_model_module_version": "1.2.0",
            "_model_name": "LayoutModel",
            "_view_count": null,
            "_view_module": "@jupyter-widgets/base",
            "_view_module_version": "1.2.0",
            "_view_name": "LayoutView",
            "align_content": null,
            "align_items": null,
            "align_self": null,
            "border": null,
            "bottom": null,
            "display": null,
            "flex": null,
            "flex_flow": null,
            "grid_area": null,
            "grid_auto_columns": null,
            "grid_auto_flow": null,
            "grid_auto_rows": null,
            "grid_column": null,
            "grid_gap": null,
            "grid_row": null,
            "grid_template_areas": null,
            "grid_template_columns": null,
            "grid_template_rows": null,
            "height": null,
            "justify_content": null,
            "justify_items": null,
            "left": null,
            "margin": null,
            "max_height": null,
            "max_width": null,
            "min_height": null,
            "min_width": null,
            "object_fit": null,
            "object_position": null,
            "order": null,
            "overflow": null,
            "overflow_x": null,
            "overflow_y": null,
            "padding": null,
            "right": null,
            "top": null,
            "visibility": null,
            "width": null
          }
        },
        "e6e9e72a3ccd435ea8696c6ee36bc294": {
          "model_module": "@jupyter-widgets/controls",
          "model_name": "ProgressStyleModel",
          "model_module_version": "1.5.0",
          "state": {
            "_model_module": "@jupyter-widgets/controls",
            "_model_module_version": "1.5.0",
            "_model_name": "ProgressStyleModel",
            "_view_count": null,
            "_view_module": "@jupyter-widgets/base",
            "_view_module_version": "1.2.0",
            "_view_name": "StyleView",
            "bar_color": null,
            "description_width": ""
          }
        },
        "871c8cec3138427eaa93c654d7169ea8": {
          "model_module": "@jupyter-widgets/base",
          "model_name": "LayoutModel",
          "model_module_version": "1.2.0",
          "state": {
            "_model_module": "@jupyter-widgets/base",
            "_model_module_version": "1.2.0",
            "_model_name": "LayoutModel",
            "_view_count": null,
            "_view_module": "@jupyter-widgets/base",
            "_view_module_version": "1.2.0",
            "_view_name": "LayoutView",
            "align_content": null,
            "align_items": null,
            "align_self": null,
            "border": null,
            "bottom": null,
            "display": null,
            "flex": null,
            "flex_flow": null,
            "grid_area": null,
            "grid_auto_columns": null,
            "grid_auto_flow": null,
            "grid_auto_rows": null,
            "grid_column": null,
            "grid_gap": null,
            "grid_row": null,
            "grid_template_areas": null,
            "grid_template_columns": null,
            "grid_template_rows": null,
            "height": null,
            "justify_content": null,
            "justify_items": null,
            "left": null,
            "margin": null,
            "max_height": null,
            "max_width": null,
            "min_height": null,
            "min_width": null,
            "object_fit": null,
            "object_position": null,
            "order": null,
            "overflow": null,
            "overflow_x": null,
            "overflow_y": null,
            "padding": null,
            "right": null,
            "top": null,
            "visibility": null,
            "width": null
          }
        },
        "ee6c3174a21a4187ab65a62949c145d2": {
          "model_module": "@jupyter-widgets/controls",
          "model_name": "DescriptionStyleModel",
          "model_module_version": "1.5.0",
          "state": {
            "_model_module": "@jupyter-widgets/controls",
            "_model_module_version": "1.5.0",
            "_model_name": "DescriptionStyleModel",
            "_view_count": null,
            "_view_module": "@jupyter-widgets/base",
            "_view_module_version": "1.2.0",
            "_view_name": "StyleView",
            "description_width": ""
          }
        },
        "ff296a31967e4cc18b3bb639e169c60c": {
          "model_module": "@jupyter-widgets/controls",
          "model_name": "HBoxModel",
          "model_module_version": "1.5.0",
          "state": {
            "_dom_classes": [],
            "_model_module": "@jupyter-widgets/controls",
            "_model_module_version": "1.5.0",
            "_model_name": "HBoxModel",
            "_view_count": null,
            "_view_module": "@jupyter-widgets/controls",
            "_view_module_version": "1.5.0",
            "_view_name": "HBoxView",
            "box_style": "",
            "children": [
              "IPY_MODEL_fd604537506b4c5c9dfb34f19267ead3",
              "IPY_MODEL_69add5bbbf354b8093af5ac723749db6",
              "IPY_MODEL_140eaba5ef1348e0bd7fabedb8032296"
            ],
            "layout": "IPY_MODEL_ee3e70a20413471f9e312256d44dde40"
          }
        },
        "fd604537506b4c5c9dfb34f19267ead3": {
          "model_module": "@jupyter-widgets/controls",
          "model_name": "HTMLModel",
          "model_module_version": "1.5.0",
          "state": {
            "_dom_classes": [],
            "_model_module": "@jupyter-widgets/controls",
            "_model_module_version": "1.5.0",
            "_model_name": "HTMLModel",
            "_view_count": null,
            "_view_module": "@jupyter-widgets/controls",
            "_view_module_version": "1.5.0",
            "_view_name": "HTMLView",
            "description": "",
            "description_tooltip": null,
            "layout": "IPY_MODEL_ccac47ca2a934c8cac1d7f90e103b017",
            "placeholder": "​",
            "style": "IPY_MODEL_0f2d9d47136540baa0cc7d6fe0972871",
            "value": "Downloading (…)ce_transformers.json: 100%"
          }
        },
        "69add5bbbf354b8093af5ac723749db6": {
          "model_module": "@jupyter-widgets/controls",
          "model_name": "FloatProgressModel",
          "model_module_version": "1.5.0",
          "state": {
            "_dom_classes": [],
            "_model_module": "@jupyter-widgets/controls",
            "_model_module_version": "1.5.0",
            "_model_name": "FloatProgressModel",
            "_view_count": null,
            "_view_module": "@jupyter-widgets/controls",
            "_view_module_version": "1.5.0",
            "_view_name": "ProgressView",
            "bar_style": "success",
            "description": "",
            "description_tooltip": null,
            "layout": "IPY_MODEL_fddb47d8d1444f15ae882b83e64947f2",
            "max": 122,
            "min": 0,
            "orientation": "horizontal",
            "style": "IPY_MODEL_050cda536ef14c3087ed821a37f8114b",
            "value": 122
          }
        },
        "140eaba5ef1348e0bd7fabedb8032296": {
          "model_module": "@jupyter-widgets/controls",
          "model_name": "HTMLModel",
          "model_module_version": "1.5.0",
          "state": {
            "_dom_classes": [],
            "_model_module": "@jupyter-widgets/controls",
            "_model_module_version": "1.5.0",
            "_model_name": "HTMLModel",
            "_view_count": null,
            "_view_module": "@jupyter-widgets/controls",
            "_view_module_version": "1.5.0",
            "_view_name": "HTMLView",
            "description": "",
            "description_tooltip": null,
            "layout": "IPY_MODEL_1a4cf25c81d94ef0b697a11db022b8cc",
            "placeholder": "​",
            "style": "IPY_MODEL_4d30bc068a1745099a32c2311af8b09a",
            "value": " 122/122 [00:00&lt;00:00, 1.68kB/s]"
          }
        },
        "ee3e70a20413471f9e312256d44dde40": {
          "model_module": "@jupyter-widgets/base",
          "model_name": "LayoutModel",
          "model_module_version": "1.2.0",
          "state": {
            "_model_module": "@jupyter-widgets/base",
            "_model_module_version": "1.2.0",
            "_model_name": "LayoutModel",
            "_view_count": null,
            "_view_module": "@jupyter-widgets/base",
            "_view_module_version": "1.2.0",
            "_view_name": "LayoutView",
            "align_content": null,
            "align_items": null,
            "align_self": null,
            "border": null,
            "bottom": null,
            "display": null,
            "flex": null,
            "flex_flow": null,
            "grid_area": null,
            "grid_auto_columns": null,
            "grid_auto_flow": null,
            "grid_auto_rows": null,
            "grid_column": null,
            "grid_gap": null,
            "grid_row": null,
            "grid_template_areas": null,
            "grid_template_columns": null,
            "grid_template_rows": null,
            "height": null,
            "justify_content": null,
            "justify_items": null,
            "left": null,
            "margin": null,
            "max_height": null,
            "max_width": null,
            "min_height": null,
            "min_width": null,
            "object_fit": null,
            "object_position": null,
            "order": null,
            "overflow": null,
            "overflow_x": null,
            "overflow_y": null,
            "padding": null,
            "right": null,
            "top": null,
            "visibility": null,
            "width": null
          }
        },
        "ccac47ca2a934c8cac1d7f90e103b017": {
          "model_module": "@jupyter-widgets/base",
          "model_name": "LayoutModel",
          "model_module_version": "1.2.0",
          "state": {
            "_model_module": "@jupyter-widgets/base",
            "_model_module_version": "1.2.0",
            "_model_name": "LayoutModel",
            "_view_count": null,
            "_view_module": "@jupyter-widgets/base",
            "_view_module_version": "1.2.0",
            "_view_name": "LayoutView",
            "align_content": null,
            "align_items": null,
            "align_self": null,
            "border": null,
            "bottom": null,
            "display": null,
            "flex": null,
            "flex_flow": null,
            "grid_area": null,
            "grid_auto_columns": null,
            "grid_auto_flow": null,
            "grid_auto_rows": null,
            "grid_column": null,
            "grid_gap": null,
            "grid_row": null,
            "grid_template_areas": null,
            "grid_template_columns": null,
            "grid_template_rows": null,
            "height": null,
            "justify_content": null,
            "justify_items": null,
            "left": null,
            "margin": null,
            "max_height": null,
            "max_width": null,
            "min_height": null,
            "min_width": null,
            "object_fit": null,
            "object_position": null,
            "order": null,
            "overflow": null,
            "overflow_x": null,
            "overflow_y": null,
            "padding": null,
            "right": null,
            "top": null,
            "visibility": null,
            "width": null
          }
        },
        "0f2d9d47136540baa0cc7d6fe0972871": {
          "model_module": "@jupyter-widgets/controls",
          "model_name": "DescriptionStyleModel",
          "model_module_version": "1.5.0",
          "state": {
            "_model_module": "@jupyter-widgets/controls",
            "_model_module_version": "1.5.0",
            "_model_name": "DescriptionStyleModel",
            "_view_count": null,
            "_view_module": "@jupyter-widgets/base",
            "_view_module_version": "1.2.0",
            "_view_name": "StyleView",
            "description_width": ""
          }
        },
        "fddb47d8d1444f15ae882b83e64947f2": {
          "model_module": "@jupyter-widgets/base",
          "model_name": "LayoutModel",
          "model_module_version": "1.2.0",
          "state": {
            "_model_module": "@jupyter-widgets/base",
            "_model_module_version": "1.2.0",
            "_model_name": "LayoutModel",
            "_view_count": null,
            "_view_module": "@jupyter-widgets/base",
            "_view_module_version": "1.2.0",
            "_view_name": "LayoutView",
            "align_content": null,
            "align_items": null,
            "align_self": null,
            "border": null,
            "bottom": null,
            "display": null,
            "flex": null,
            "flex_flow": null,
            "grid_area": null,
            "grid_auto_columns": null,
            "grid_auto_flow": null,
            "grid_auto_rows": null,
            "grid_column": null,
            "grid_gap": null,
            "grid_row": null,
            "grid_template_areas": null,
            "grid_template_columns": null,
            "grid_template_rows": null,
            "height": null,
            "justify_content": null,
            "justify_items": null,
            "left": null,
            "margin": null,
            "max_height": null,
            "max_width": null,
            "min_height": null,
            "min_width": null,
            "object_fit": null,
            "object_position": null,
            "order": null,
            "overflow": null,
            "overflow_x": null,
            "overflow_y": null,
            "padding": null,
            "right": null,
            "top": null,
            "visibility": null,
            "width": null
          }
        },
        "050cda536ef14c3087ed821a37f8114b": {
          "model_module": "@jupyter-widgets/controls",
          "model_name": "ProgressStyleModel",
          "model_module_version": "1.5.0",
          "state": {
            "_model_module": "@jupyter-widgets/controls",
            "_model_module_version": "1.5.0",
            "_model_name": "ProgressStyleModel",
            "_view_count": null,
            "_view_module": "@jupyter-widgets/base",
            "_view_module_version": "1.2.0",
            "_view_name": "StyleView",
            "bar_color": null,
            "description_width": ""
          }
        },
        "1a4cf25c81d94ef0b697a11db022b8cc": {
          "model_module": "@jupyter-widgets/base",
          "model_name": "LayoutModel",
          "model_module_version": "1.2.0",
          "state": {
            "_model_module": "@jupyter-widgets/base",
            "_model_module_version": "1.2.0",
            "_model_name": "LayoutModel",
            "_view_count": null,
            "_view_module": "@jupyter-widgets/base",
            "_view_module_version": "1.2.0",
            "_view_name": "LayoutView",
            "align_content": null,
            "align_items": null,
            "align_self": null,
            "border": null,
            "bottom": null,
            "display": null,
            "flex": null,
            "flex_flow": null,
            "grid_area": null,
            "grid_auto_columns": null,
            "grid_auto_flow": null,
            "grid_auto_rows": null,
            "grid_column": null,
            "grid_gap": null,
            "grid_row": null,
            "grid_template_areas": null,
            "grid_template_columns": null,
            "grid_template_rows": null,
            "height": null,
            "justify_content": null,
            "justify_items": null,
            "left": null,
            "margin": null,
            "max_height": null,
            "max_width": null,
            "min_height": null,
            "min_width": null,
            "object_fit": null,
            "object_position": null,
            "order": null,
            "overflow": null,
            "overflow_x": null,
            "overflow_y": null,
            "padding": null,
            "right": null,
            "top": null,
            "visibility": null,
            "width": null
          }
        },
        "4d30bc068a1745099a32c2311af8b09a": {
          "model_module": "@jupyter-widgets/controls",
          "model_name": "DescriptionStyleModel",
          "model_module_version": "1.5.0",
          "state": {
            "_model_module": "@jupyter-widgets/controls",
            "_model_module_version": "1.5.0",
            "_model_name": "DescriptionStyleModel",
            "_view_count": null,
            "_view_module": "@jupyter-widgets/base",
            "_view_module_version": "1.2.0",
            "_view_name": "StyleView",
            "description_width": ""
          }
        },
        "ae3f82be102a43d3b632663b711576ba": {
          "model_module": "@jupyter-widgets/controls",
          "model_name": "HBoxModel",
          "model_module_version": "1.5.0",
          "state": {
            "_dom_classes": [],
            "_model_module": "@jupyter-widgets/controls",
            "_model_module_version": "1.5.0",
            "_model_name": "HBoxModel",
            "_view_count": null,
            "_view_module": "@jupyter-widgets/controls",
            "_view_module_version": "1.5.0",
            "_view_name": "HBoxView",
            "box_style": "",
            "children": [
              "IPY_MODEL_aaa0ca68a15a4ea4ae1aa4efdc63f546",
              "IPY_MODEL_7e67e75309604dd69a963acdb5994a9c",
              "IPY_MODEL_808e043a969441baa88cc869631521dc"
            ],
            "layout": "IPY_MODEL_1fdea01097e74f17be5f05267f268de0"
          }
        },
        "aaa0ca68a15a4ea4ae1aa4efdc63f546": {
          "model_module": "@jupyter-widgets/controls",
          "model_name": "HTMLModel",
          "model_module_version": "1.5.0",
          "state": {
            "_dom_classes": [],
            "_model_module": "@jupyter-widgets/controls",
            "_model_module_version": "1.5.0",
            "_model_name": "HTMLModel",
            "_view_count": null,
            "_view_module": "@jupyter-widgets/controls",
            "_view_module_version": "1.5.0",
            "_view_name": "HTMLView",
            "description": "",
            "description_tooltip": null,
            "layout": "IPY_MODEL_0fac278bf4544b0aac2af042a3dc45ea",
            "placeholder": "​",
            "style": "IPY_MODEL_10a602f2eb4b49c1a6616343e7b6b269",
            "value": "Downloading pytorch_model.bin: 100%"
          }
        },
        "7e67e75309604dd69a963acdb5994a9c": {
          "model_module": "@jupyter-widgets/controls",
          "model_name": "FloatProgressModel",
          "model_module_version": "1.5.0",
          "state": {
            "_dom_classes": [],
            "_model_module": "@jupyter-widgets/controls",
            "_model_module_version": "1.5.0",
            "_model_name": "FloatProgressModel",
            "_view_count": null,
            "_view_module": "@jupyter-widgets/controls",
            "_view_module_version": "1.5.0",
            "_view_name": "ProgressView",
            "bar_style": "success",
            "description": "",
            "description_tooltip": null,
            "layout": "IPY_MODEL_6d631f6eed1f4fef8b573b110ed5369d",
            "max": 265486777,
            "min": 0,
            "orientation": "horizontal",
            "style": "IPY_MODEL_8654a087bb634fbba4daecd728310bcb",
            "value": 265486777
          }
        },
        "808e043a969441baa88cc869631521dc": {
          "model_module": "@jupyter-widgets/controls",
          "model_name": "HTMLModel",
          "model_module_version": "1.5.0",
          "state": {
            "_dom_classes": [],
            "_model_module": "@jupyter-widgets/controls",
            "_model_module_version": "1.5.0",
            "_model_name": "HTMLModel",
            "_view_count": null,
            "_view_module": "@jupyter-widgets/controls",
            "_view_module_version": "1.5.0",
            "_view_name": "HTMLView",
            "description": "",
            "description_tooltip": null,
            "layout": "IPY_MODEL_8cd611e6d518414e94da3a8cb04a0a38",
            "placeholder": "​",
            "style": "IPY_MODEL_027dd6aae6864de9bb66946a8b4f7cfa",
            "value": " 265M/265M [00:01&lt;00:00, 141MB/s]"
          }
        },
        "1fdea01097e74f17be5f05267f268de0": {
          "model_module": "@jupyter-widgets/base",
          "model_name": "LayoutModel",
          "model_module_version": "1.2.0",
          "state": {
            "_model_module": "@jupyter-widgets/base",
            "_model_module_version": "1.2.0",
            "_model_name": "LayoutModel",
            "_view_count": null,
            "_view_module": "@jupyter-widgets/base",
            "_view_module_version": "1.2.0",
            "_view_name": "LayoutView",
            "align_content": null,
            "align_items": null,
            "align_self": null,
            "border": null,
            "bottom": null,
            "display": null,
            "flex": null,
            "flex_flow": null,
            "grid_area": null,
            "grid_auto_columns": null,
            "grid_auto_flow": null,
            "grid_auto_rows": null,
            "grid_column": null,
            "grid_gap": null,
            "grid_row": null,
            "grid_template_areas": null,
            "grid_template_columns": null,
            "grid_template_rows": null,
            "height": null,
            "justify_content": null,
            "justify_items": null,
            "left": null,
            "margin": null,
            "max_height": null,
            "max_width": null,
            "min_height": null,
            "min_width": null,
            "object_fit": null,
            "object_position": null,
            "order": null,
            "overflow": null,
            "overflow_x": null,
            "overflow_y": null,
            "padding": null,
            "right": null,
            "top": null,
            "visibility": null,
            "width": null
          }
        },
        "0fac278bf4544b0aac2af042a3dc45ea": {
          "model_module": "@jupyter-widgets/base",
          "model_name": "LayoutModel",
          "model_module_version": "1.2.0",
          "state": {
            "_model_module": "@jupyter-widgets/base",
            "_model_module_version": "1.2.0",
            "_model_name": "LayoutModel",
            "_view_count": null,
            "_view_module": "@jupyter-widgets/base",
            "_view_module_version": "1.2.0",
            "_view_name": "LayoutView",
            "align_content": null,
            "align_items": null,
            "align_self": null,
            "border": null,
            "bottom": null,
            "display": null,
            "flex": null,
            "flex_flow": null,
            "grid_area": null,
            "grid_auto_columns": null,
            "grid_auto_flow": null,
            "grid_auto_rows": null,
            "grid_column": null,
            "grid_gap": null,
            "grid_row": null,
            "grid_template_areas": null,
            "grid_template_columns": null,
            "grid_template_rows": null,
            "height": null,
            "justify_content": null,
            "justify_items": null,
            "left": null,
            "margin": null,
            "max_height": null,
            "max_width": null,
            "min_height": null,
            "min_width": null,
            "object_fit": null,
            "object_position": null,
            "order": null,
            "overflow": null,
            "overflow_x": null,
            "overflow_y": null,
            "padding": null,
            "right": null,
            "top": null,
            "visibility": null,
            "width": null
          }
        },
        "10a602f2eb4b49c1a6616343e7b6b269": {
          "model_module": "@jupyter-widgets/controls",
          "model_name": "DescriptionStyleModel",
          "model_module_version": "1.5.0",
          "state": {
            "_model_module": "@jupyter-widgets/controls",
            "_model_module_version": "1.5.0",
            "_model_name": "DescriptionStyleModel",
            "_view_count": null,
            "_view_module": "@jupyter-widgets/base",
            "_view_module_version": "1.2.0",
            "_view_name": "StyleView",
            "description_width": ""
          }
        },
        "6d631f6eed1f4fef8b573b110ed5369d": {
          "model_module": "@jupyter-widgets/base",
          "model_name": "LayoutModel",
          "model_module_version": "1.2.0",
          "state": {
            "_model_module": "@jupyter-widgets/base",
            "_model_module_version": "1.2.0",
            "_model_name": "LayoutModel",
            "_view_count": null,
            "_view_module": "@jupyter-widgets/base",
            "_view_module_version": "1.2.0",
            "_view_name": "LayoutView",
            "align_content": null,
            "align_items": null,
            "align_self": null,
            "border": null,
            "bottom": null,
            "display": null,
            "flex": null,
            "flex_flow": null,
            "grid_area": null,
            "grid_auto_columns": null,
            "grid_auto_flow": null,
            "grid_auto_rows": null,
            "grid_column": null,
            "grid_gap": null,
            "grid_row": null,
            "grid_template_areas": null,
            "grid_template_columns": null,
            "grid_template_rows": null,
            "height": null,
            "justify_content": null,
            "justify_items": null,
            "left": null,
            "margin": null,
            "max_height": null,
            "max_width": null,
            "min_height": null,
            "min_width": null,
            "object_fit": null,
            "object_position": null,
            "order": null,
            "overflow": null,
            "overflow_x": null,
            "overflow_y": null,
            "padding": null,
            "right": null,
            "top": null,
            "visibility": null,
            "width": null
          }
        },
        "8654a087bb634fbba4daecd728310bcb": {
          "model_module": "@jupyter-widgets/controls",
          "model_name": "ProgressStyleModel",
          "model_module_version": "1.5.0",
          "state": {
            "_model_module": "@jupyter-widgets/controls",
            "_model_module_version": "1.5.0",
            "_model_name": "ProgressStyleModel",
            "_view_count": null,
            "_view_module": "@jupyter-widgets/base",
            "_view_module_version": "1.2.0",
            "_view_name": "StyleView",
            "bar_color": null,
            "description_width": ""
          }
        },
        "8cd611e6d518414e94da3a8cb04a0a38": {
          "model_module": "@jupyter-widgets/base",
          "model_name": "LayoutModel",
          "model_module_version": "1.2.0",
          "state": {
            "_model_module": "@jupyter-widgets/base",
            "_model_module_version": "1.2.0",
            "_model_name": "LayoutModel",
            "_view_count": null,
            "_view_module": "@jupyter-widgets/base",
            "_view_module_version": "1.2.0",
            "_view_name": "LayoutView",
            "align_content": null,
            "align_items": null,
            "align_self": null,
            "border": null,
            "bottom": null,
            "display": null,
            "flex": null,
            "flex_flow": null,
            "grid_area": null,
            "grid_auto_columns": null,
            "grid_auto_flow": null,
            "grid_auto_rows": null,
            "grid_column": null,
            "grid_gap": null,
            "grid_row": null,
            "grid_template_areas": null,
            "grid_template_columns": null,
            "grid_template_rows": null,
            "height": null,
            "justify_content": null,
            "justify_items": null,
            "left": null,
            "margin": null,
            "max_height": null,
            "max_width": null,
            "min_height": null,
            "min_width": null,
            "object_fit": null,
            "object_position": null,
            "order": null,
            "overflow": null,
            "overflow_x": null,
            "overflow_y": null,
            "padding": null,
            "right": null,
            "top": null,
            "visibility": null,
            "width": null
          }
        },
        "027dd6aae6864de9bb66946a8b4f7cfa": {
          "model_module": "@jupyter-widgets/controls",
          "model_name": "DescriptionStyleModel",
          "model_module_version": "1.5.0",
          "state": {
            "_model_module": "@jupyter-widgets/controls",
            "_model_module_version": "1.5.0",
            "_model_name": "DescriptionStyleModel",
            "_view_count": null,
            "_view_module": "@jupyter-widgets/base",
            "_view_module_version": "1.2.0",
            "_view_name": "StyleView",
            "description_width": ""
          }
        },
        "fbb6875b627c4c36accace497d9116a7": {
          "model_module": "@jupyter-widgets/controls",
          "model_name": "HBoxModel",
          "model_module_version": "1.5.0",
          "state": {
            "_dom_classes": [],
            "_model_module": "@jupyter-widgets/controls",
            "_model_module_version": "1.5.0",
            "_model_name": "HBoxModel",
            "_view_count": null,
            "_view_module": "@jupyter-widgets/controls",
            "_view_module_version": "1.5.0",
            "_view_name": "HBoxView",
            "box_style": "",
            "children": [
              "IPY_MODEL_cf2f2ce5e16f4ad1b92d5bdd3181a6e5",
              "IPY_MODEL_0b8f0e869773428984e8cef6e2a2468d",
              "IPY_MODEL_4dbf8201f2304d9bb22f288001060acc"
            ],
            "layout": "IPY_MODEL_31612101d7714662983a88e1b04cba56"
          }
        },
        "cf2f2ce5e16f4ad1b92d5bdd3181a6e5": {
          "model_module": "@jupyter-widgets/controls",
          "model_name": "HTMLModel",
          "model_module_version": "1.5.0",
          "state": {
            "_dom_classes": [],
            "_model_module": "@jupyter-widgets/controls",
            "_model_module_version": "1.5.0",
            "_model_name": "HTMLModel",
            "_view_count": null,
            "_view_module": "@jupyter-widgets/controls",
            "_view_module_version": "1.5.0",
            "_view_name": "HTMLView",
            "description": "",
            "description_tooltip": null,
            "layout": "IPY_MODEL_a2baa8e0171e4a32a23296ac634b35bc",
            "placeholder": "​",
            "style": "IPY_MODEL_949be3c67ab1457285a206fb2ff3dbae",
            "value": "Downloading (…)nce_bert_config.json: 100%"
          }
        },
        "0b8f0e869773428984e8cef6e2a2468d": {
          "model_module": "@jupyter-widgets/controls",
          "model_name": "FloatProgressModel",
          "model_module_version": "1.5.0",
          "state": {
            "_dom_classes": [],
            "_model_module": "@jupyter-widgets/controls",
            "_model_module_version": "1.5.0",
            "_model_name": "FloatProgressModel",
            "_view_count": null,
            "_view_module": "@jupyter-widgets/controls",
            "_view_module_version": "1.5.0",
            "_view_name": "ProgressView",
            "bar_style": "success",
            "description": "",
            "description_tooltip": null,
            "layout": "IPY_MODEL_5972e5f9a56e4189b4940cbc5557e45a",
            "max": 53,
            "min": 0,
            "orientation": "horizontal",
            "style": "IPY_MODEL_a785bc04d3b04ac78266c5c9199bed35",
            "value": 53
          }
        },
        "4dbf8201f2304d9bb22f288001060acc": {
          "model_module": "@jupyter-widgets/controls",
          "model_name": "HTMLModel",
          "model_module_version": "1.5.0",
          "state": {
            "_dom_classes": [],
            "_model_module": "@jupyter-widgets/controls",
            "_model_module_version": "1.5.0",
            "_model_name": "HTMLModel",
            "_view_count": null,
            "_view_module": "@jupyter-widgets/controls",
            "_view_module_version": "1.5.0",
            "_view_name": "HTMLView",
            "description": "",
            "description_tooltip": null,
            "layout": "IPY_MODEL_92c3a4eba137451f965d6b93d62e07c6",
            "placeholder": "​",
            "style": "IPY_MODEL_9ac0151730994d67ab088215da00447f",
            "value": " 53.0/53.0 [00:00&lt;00:00, 910B/s]"
          }
        },
        "31612101d7714662983a88e1b04cba56": {
          "model_module": "@jupyter-widgets/base",
          "model_name": "LayoutModel",
          "model_module_version": "1.2.0",
          "state": {
            "_model_module": "@jupyter-widgets/base",
            "_model_module_version": "1.2.0",
            "_model_name": "LayoutModel",
            "_view_count": null,
            "_view_module": "@jupyter-widgets/base",
            "_view_module_version": "1.2.0",
            "_view_name": "LayoutView",
            "align_content": null,
            "align_items": null,
            "align_self": null,
            "border": null,
            "bottom": null,
            "display": null,
            "flex": null,
            "flex_flow": null,
            "grid_area": null,
            "grid_auto_columns": null,
            "grid_auto_flow": null,
            "grid_auto_rows": null,
            "grid_column": null,
            "grid_gap": null,
            "grid_row": null,
            "grid_template_areas": null,
            "grid_template_columns": null,
            "grid_template_rows": null,
            "height": null,
            "justify_content": null,
            "justify_items": null,
            "left": null,
            "margin": null,
            "max_height": null,
            "max_width": null,
            "min_height": null,
            "min_width": null,
            "object_fit": null,
            "object_position": null,
            "order": null,
            "overflow": null,
            "overflow_x": null,
            "overflow_y": null,
            "padding": null,
            "right": null,
            "top": null,
            "visibility": null,
            "width": null
          }
        },
        "a2baa8e0171e4a32a23296ac634b35bc": {
          "model_module": "@jupyter-widgets/base",
          "model_name": "LayoutModel",
          "model_module_version": "1.2.0",
          "state": {
            "_model_module": "@jupyter-widgets/base",
            "_model_module_version": "1.2.0",
            "_model_name": "LayoutModel",
            "_view_count": null,
            "_view_module": "@jupyter-widgets/base",
            "_view_module_version": "1.2.0",
            "_view_name": "LayoutView",
            "align_content": null,
            "align_items": null,
            "align_self": null,
            "border": null,
            "bottom": null,
            "display": null,
            "flex": null,
            "flex_flow": null,
            "grid_area": null,
            "grid_auto_columns": null,
            "grid_auto_flow": null,
            "grid_auto_rows": null,
            "grid_column": null,
            "grid_gap": null,
            "grid_row": null,
            "grid_template_areas": null,
            "grid_template_columns": null,
            "grid_template_rows": null,
            "height": null,
            "justify_content": null,
            "justify_items": null,
            "left": null,
            "margin": null,
            "max_height": null,
            "max_width": null,
            "min_height": null,
            "min_width": null,
            "object_fit": null,
            "object_position": null,
            "order": null,
            "overflow": null,
            "overflow_x": null,
            "overflow_y": null,
            "padding": null,
            "right": null,
            "top": null,
            "visibility": null,
            "width": null
          }
        },
        "949be3c67ab1457285a206fb2ff3dbae": {
          "model_module": "@jupyter-widgets/controls",
          "model_name": "DescriptionStyleModel",
          "model_module_version": "1.5.0",
          "state": {
            "_model_module": "@jupyter-widgets/controls",
            "_model_module_version": "1.5.0",
            "_model_name": "DescriptionStyleModel",
            "_view_count": null,
            "_view_module": "@jupyter-widgets/base",
            "_view_module_version": "1.2.0",
            "_view_name": "StyleView",
            "description_width": ""
          }
        },
        "5972e5f9a56e4189b4940cbc5557e45a": {
          "model_module": "@jupyter-widgets/base",
          "model_name": "LayoutModel",
          "model_module_version": "1.2.0",
          "state": {
            "_model_module": "@jupyter-widgets/base",
            "_model_module_version": "1.2.0",
            "_model_name": "LayoutModel",
            "_view_count": null,
            "_view_module": "@jupyter-widgets/base",
            "_view_module_version": "1.2.0",
            "_view_name": "LayoutView",
            "align_content": null,
            "align_items": null,
            "align_self": null,
            "border": null,
            "bottom": null,
            "display": null,
            "flex": null,
            "flex_flow": null,
            "grid_area": null,
            "grid_auto_columns": null,
            "grid_auto_flow": null,
            "grid_auto_rows": null,
            "grid_column": null,
            "grid_gap": null,
            "grid_row": null,
            "grid_template_areas": null,
            "grid_template_columns": null,
            "grid_template_rows": null,
            "height": null,
            "justify_content": null,
            "justify_items": null,
            "left": null,
            "margin": null,
            "max_height": null,
            "max_width": null,
            "min_height": null,
            "min_width": null,
            "object_fit": null,
            "object_position": null,
            "order": null,
            "overflow": null,
            "overflow_x": null,
            "overflow_y": null,
            "padding": null,
            "right": null,
            "top": null,
            "visibility": null,
            "width": null
          }
        },
        "a785bc04d3b04ac78266c5c9199bed35": {
          "model_module": "@jupyter-widgets/controls",
          "model_name": "ProgressStyleModel",
          "model_module_version": "1.5.0",
          "state": {
            "_model_module": "@jupyter-widgets/controls",
            "_model_module_version": "1.5.0",
            "_model_name": "ProgressStyleModel",
            "_view_count": null,
            "_view_module": "@jupyter-widgets/base",
            "_view_module_version": "1.2.0",
            "_view_name": "StyleView",
            "bar_color": null,
            "description_width": ""
          }
        },
        "92c3a4eba137451f965d6b93d62e07c6": {
          "model_module": "@jupyter-widgets/base",
          "model_name": "LayoutModel",
          "model_module_version": "1.2.0",
          "state": {
            "_model_module": "@jupyter-widgets/base",
            "_model_module_version": "1.2.0",
            "_model_name": "LayoutModel",
            "_view_count": null,
            "_view_module": "@jupyter-widgets/base",
            "_view_module_version": "1.2.0",
            "_view_name": "LayoutView",
            "align_content": null,
            "align_items": null,
            "align_self": null,
            "border": null,
            "bottom": null,
            "display": null,
            "flex": null,
            "flex_flow": null,
            "grid_area": null,
            "grid_auto_columns": null,
            "grid_auto_flow": null,
            "grid_auto_rows": null,
            "grid_column": null,
            "grid_gap": null,
            "grid_row": null,
            "grid_template_areas": null,
            "grid_template_columns": null,
            "grid_template_rows": null,
            "height": null,
            "justify_content": null,
            "justify_items": null,
            "left": null,
            "margin": null,
            "max_height": null,
            "max_width": null,
            "min_height": null,
            "min_width": null,
            "object_fit": null,
            "object_position": null,
            "order": null,
            "overflow": null,
            "overflow_x": null,
            "overflow_y": null,
            "padding": null,
            "right": null,
            "top": null,
            "visibility": null,
            "width": null
          }
        },
        "9ac0151730994d67ab088215da00447f": {
          "model_module": "@jupyter-widgets/controls",
          "model_name": "DescriptionStyleModel",
          "model_module_version": "1.5.0",
          "state": {
            "_model_module": "@jupyter-widgets/controls",
            "_model_module_version": "1.5.0",
            "_model_name": "DescriptionStyleModel",
            "_view_count": null,
            "_view_module": "@jupyter-widgets/base",
            "_view_module_version": "1.2.0",
            "_view_name": "StyleView",
            "description_width": ""
          }
        },
        "35e285afa82f47cbbb6ab8b6d22f3452": {
          "model_module": "@jupyter-widgets/controls",
          "model_name": "HBoxModel",
          "model_module_version": "1.5.0",
          "state": {
            "_dom_classes": [],
            "_model_module": "@jupyter-widgets/controls",
            "_model_module_version": "1.5.0",
            "_model_name": "HBoxModel",
            "_view_count": null,
            "_view_module": "@jupyter-widgets/controls",
            "_view_module_version": "1.5.0",
            "_view_name": "HBoxView",
            "box_style": "",
            "children": [
              "IPY_MODEL_8ba770fa19904db1a3659941da5b82a8",
              "IPY_MODEL_c645cec404e4401f8c3570912f828975",
              "IPY_MODEL_f949664900764140a2f3c19ba617bc99"
            ],
            "layout": "IPY_MODEL_1d93006807a948d4b9e01ef10eb3d516"
          }
        },
        "8ba770fa19904db1a3659941da5b82a8": {
          "model_module": "@jupyter-widgets/controls",
          "model_name": "HTMLModel",
          "model_module_version": "1.5.0",
          "state": {
            "_dom_classes": [],
            "_model_module": "@jupyter-widgets/controls",
            "_model_module_version": "1.5.0",
            "_model_name": "HTMLModel",
            "_view_count": null,
            "_view_module": "@jupyter-widgets/controls",
            "_view_module_version": "1.5.0",
            "_view_name": "HTMLView",
            "description": "",
            "description_tooltip": null,
            "layout": "IPY_MODEL_01777e3696894fcf8fb768bb3aa5e4c4",
            "placeholder": "​",
            "style": "IPY_MODEL_abc7dced3d5b4341a442196116beb4a0",
            "value": "Downloading (…)cial_tokens_map.json: 100%"
          }
        },
        "c645cec404e4401f8c3570912f828975": {
          "model_module": "@jupyter-widgets/controls",
          "model_name": "FloatProgressModel",
          "model_module_version": "1.5.0",
          "state": {
            "_dom_classes": [],
            "_model_module": "@jupyter-widgets/controls",
            "_model_module_version": "1.5.0",
            "_model_name": "FloatProgressModel",
            "_view_count": null,
            "_view_module": "@jupyter-widgets/controls",
            "_view_module_version": "1.5.0",
            "_view_name": "ProgressView",
            "bar_style": "success",
            "description": "",
            "description_tooltip": null,
            "layout": "IPY_MODEL_f8c6cce6f7944503b9460fdbea873ca0",
            "max": 112,
            "min": 0,
            "orientation": "horizontal",
            "style": "IPY_MODEL_4912d639fac64f35ab341a549bdb4416",
            "value": 112
          }
        },
        "f949664900764140a2f3c19ba617bc99": {
          "model_module": "@jupyter-widgets/controls",
          "model_name": "HTMLModel",
          "model_module_version": "1.5.0",
          "state": {
            "_dom_classes": [],
            "_model_module": "@jupyter-widgets/controls",
            "_model_module_version": "1.5.0",
            "_model_name": "HTMLModel",
            "_view_count": null,
            "_view_module": "@jupyter-widgets/controls",
            "_view_module_version": "1.5.0",
            "_view_name": "HTMLView",
            "description": "",
            "description_tooltip": null,
            "layout": "IPY_MODEL_d951f4d3c6f0410cb75bd236dd9efbce",
            "placeholder": "​",
            "style": "IPY_MODEL_b5bce9ecb7d649fb9581ed7197a43d84",
            "value": " 112/112 [00:00&lt;00:00, 2.03kB/s]"
          }
        },
        "1d93006807a948d4b9e01ef10eb3d516": {
          "model_module": "@jupyter-widgets/base",
          "model_name": "LayoutModel",
          "model_module_version": "1.2.0",
          "state": {
            "_model_module": "@jupyter-widgets/base",
            "_model_module_version": "1.2.0",
            "_model_name": "LayoutModel",
            "_view_count": null,
            "_view_module": "@jupyter-widgets/base",
            "_view_module_version": "1.2.0",
            "_view_name": "LayoutView",
            "align_content": null,
            "align_items": null,
            "align_self": null,
            "border": null,
            "bottom": null,
            "display": null,
            "flex": null,
            "flex_flow": null,
            "grid_area": null,
            "grid_auto_columns": null,
            "grid_auto_flow": null,
            "grid_auto_rows": null,
            "grid_column": null,
            "grid_gap": null,
            "grid_row": null,
            "grid_template_areas": null,
            "grid_template_columns": null,
            "grid_template_rows": null,
            "height": null,
            "justify_content": null,
            "justify_items": null,
            "left": null,
            "margin": null,
            "max_height": null,
            "max_width": null,
            "min_height": null,
            "min_width": null,
            "object_fit": null,
            "object_position": null,
            "order": null,
            "overflow": null,
            "overflow_x": null,
            "overflow_y": null,
            "padding": null,
            "right": null,
            "top": null,
            "visibility": null,
            "width": null
          }
        },
        "01777e3696894fcf8fb768bb3aa5e4c4": {
          "model_module": "@jupyter-widgets/base",
          "model_name": "LayoutModel",
          "model_module_version": "1.2.0",
          "state": {
            "_model_module": "@jupyter-widgets/base",
            "_model_module_version": "1.2.0",
            "_model_name": "LayoutModel",
            "_view_count": null,
            "_view_module": "@jupyter-widgets/base",
            "_view_module_version": "1.2.0",
            "_view_name": "LayoutView",
            "align_content": null,
            "align_items": null,
            "align_self": null,
            "border": null,
            "bottom": null,
            "display": null,
            "flex": null,
            "flex_flow": null,
            "grid_area": null,
            "grid_auto_columns": null,
            "grid_auto_flow": null,
            "grid_auto_rows": null,
            "grid_column": null,
            "grid_gap": null,
            "grid_row": null,
            "grid_template_areas": null,
            "grid_template_columns": null,
            "grid_template_rows": null,
            "height": null,
            "justify_content": null,
            "justify_items": null,
            "left": null,
            "margin": null,
            "max_height": null,
            "max_width": null,
            "min_height": null,
            "min_width": null,
            "object_fit": null,
            "object_position": null,
            "order": null,
            "overflow": null,
            "overflow_x": null,
            "overflow_y": null,
            "padding": null,
            "right": null,
            "top": null,
            "visibility": null,
            "width": null
          }
        },
        "abc7dced3d5b4341a442196116beb4a0": {
          "model_module": "@jupyter-widgets/controls",
          "model_name": "DescriptionStyleModel",
          "model_module_version": "1.5.0",
          "state": {
            "_model_module": "@jupyter-widgets/controls",
            "_model_module_version": "1.5.0",
            "_model_name": "DescriptionStyleModel",
            "_view_count": null,
            "_view_module": "@jupyter-widgets/base",
            "_view_module_version": "1.2.0",
            "_view_name": "StyleView",
            "description_width": ""
          }
        },
        "f8c6cce6f7944503b9460fdbea873ca0": {
          "model_module": "@jupyter-widgets/base",
          "model_name": "LayoutModel",
          "model_module_version": "1.2.0",
          "state": {
            "_model_module": "@jupyter-widgets/base",
            "_model_module_version": "1.2.0",
            "_model_name": "LayoutModel",
            "_view_count": null,
            "_view_module": "@jupyter-widgets/base",
            "_view_module_version": "1.2.0",
            "_view_name": "LayoutView",
            "align_content": null,
            "align_items": null,
            "align_self": null,
            "border": null,
            "bottom": null,
            "display": null,
            "flex": null,
            "flex_flow": null,
            "grid_area": null,
            "grid_auto_columns": null,
            "grid_auto_flow": null,
            "grid_auto_rows": null,
            "grid_column": null,
            "grid_gap": null,
            "grid_row": null,
            "grid_template_areas": null,
            "grid_template_columns": null,
            "grid_template_rows": null,
            "height": null,
            "justify_content": null,
            "justify_items": null,
            "left": null,
            "margin": null,
            "max_height": null,
            "max_width": null,
            "min_height": null,
            "min_width": null,
            "object_fit": null,
            "object_position": null,
            "order": null,
            "overflow": null,
            "overflow_x": null,
            "overflow_y": null,
            "padding": null,
            "right": null,
            "top": null,
            "visibility": null,
            "width": null
          }
        },
        "4912d639fac64f35ab341a549bdb4416": {
          "model_module": "@jupyter-widgets/controls",
          "model_name": "ProgressStyleModel",
          "model_module_version": "1.5.0",
          "state": {
            "_model_module": "@jupyter-widgets/controls",
            "_model_module_version": "1.5.0",
            "_model_name": "ProgressStyleModel",
            "_view_count": null,
            "_view_module": "@jupyter-widgets/base",
            "_view_module_version": "1.2.0",
            "_view_name": "StyleView",
            "bar_color": null,
            "description_width": ""
          }
        },
        "d951f4d3c6f0410cb75bd236dd9efbce": {
          "model_module": "@jupyter-widgets/base",
          "model_name": "LayoutModel",
          "model_module_version": "1.2.0",
          "state": {
            "_model_module": "@jupyter-widgets/base",
            "_model_module_version": "1.2.0",
            "_model_name": "LayoutModel",
            "_view_count": null,
            "_view_module": "@jupyter-widgets/base",
            "_view_module_version": "1.2.0",
            "_view_name": "LayoutView",
            "align_content": null,
            "align_items": null,
            "align_self": null,
            "border": null,
            "bottom": null,
            "display": null,
            "flex": null,
            "flex_flow": null,
            "grid_area": null,
            "grid_auto_columns": null,
            "grid_auto_flow": null,
            "grid_auto_rows": null,
            "grid_column": null,
            "grid_gap": null,
            "grid_row": null,
            "grid_template_areas": null,
            "grid_template_columns": null,
            "grid_template_rows": null,
            "height": null,
            "justify_content": null,
            "justify_items": null,
            "left": null,
            "margin": null,
            "max_height": null,
            "max_width": null,
            "min_height": null,
            "min_width": null,
            "object_fit": null,
            "object_position": null,
            "order": null,
            "overflow": null,
            "overflow_x": null,
            "overflow_y": null,
            "padding": null,
            "right": null,
            "top": null,
            "visibility": null,
            "width": null
          }
        },
        "b5bce9ecb7d649fb9581ed7197a43d84": {
          "model_module": "@jupyter-widgets/controls",
          "model_name": "DescriptionStyleModel",
          "model_module_version": "1.5.0",
          "state": {
            "_model_module": "@jupyter-widgets/controls",
            "_model_module_version": "1.5.0",
            "_model_name": "DescriptionStyleModel",
            "_view_count": null,
            "_view_module": "@jupyter-widgets/base",
            "_view_module_version": "1.2.0",
            "_view_name": "StyleView",
            "description_width": ""
          }
        },
        "103b178098cd4ad5a98af67abb8b0b14": {
          "model_module": "@jupyter-widgets/controls",
          "model_name": "HBoxModel",
          "model_module_version": "1.5.0",
          "state": {
            "_dom_classes": [],
            "_model_module": "@jupyter-widgets/controls",
            "_model_module_version": "1.5.0",
            "_model_name": "HBoxModel",
            "_view_count": null,
            "_view_module": "@jupyter-widgets/controls",
            "_view_module_version": "1.5.0",
            "_view_name": "HBoxView",
            "box_style": "",
            "children": [
              "IPY_MODEL_876084ed9b2240bbbbd8a55265104a2a",
              "IPY_MODEL_a3d4f5c0985a45a6827b53089e44d351",
              "IPY_MODEL_c60b7833f98940208523ccdbdfab4055"
            ],
            "layout": "IPY_MODEL_e486a4a7ac29443e94d4e974e7775576"
          }
        },
        "876084ed9b2240bbbbd8a55265104a2a": {
          "model_module": "@jupyter-widgets/controls",
          "model_name": "HTMLModel",
          "model_module_version": "1.5.0",
          "state": {
            "_dom_classes": [],
            "_model_module": "@jupyter-widgets/controls",
            "_model_module_version": "1.5.0",
            "_model_name": "HTMLModel",
            "_view_count": null,
            "_view_module": "@jupyter-widgets/controls",
            "_view_module_version": "1.5.0",
            "_view_name": "HTMLView",
            "description": "",
            "description_tooltip": null,
            "layout": "IPY_MODEL_f463a0c19bbd42eb81c28c516eeb8aaa",
            "placeholder": "​",
            "style": "IPY_MODEL_386d69edb4ea4cafae9df4c5532e96c0",
            "value": "Downloading (…)b6d67/tokenizer.json: 100%"
          }
        },
        "a3d4f5c0985a45a6827b53089e44d351": {
          "model_module": "@jupyter-widgets/controls",
          "model_name": "FloatProgressModel",
          "model_module_version": "1.5.0",
          "state": {
            "_dom_classes": [],
            "_model_module": "@jupyter-widgets/controls",
            "_model_module_version": "1.5.0",
            "_model_name": "FloatProgressModel",
            "_view_count": null,
            "_view_module": "@jupyter-widgets/controls",
            "_view_module_version": "1.5.0",
            "_view_name": "ProgressView",
            "bar_style": "success",
            "description": "",
            "description_tooltip": null,
            "layout": "IPY_MODEL_cc2107f9d64f46c3937d0801f36c525c",
            "max": 466081,
            "min": 0,
            "orientation": "horizontal",
            "style": "IPY_MODEL_7c2c4721997640fea78cd120fae9af2b",
            "value": 466081
          }
        },
        "c60b7833f98940208523ccdbdfab4055": {
          "model_module": "@jupyter-widgets/controls",
          "model_name": "HTMLModel",
          "model_module_version": "1.5.0",
          "state": {
            "_dom_classes": [],
            "_model_module": "@jupyter-widgets/controls",
            "_model_module_version": "1.5.0",
            "_model_name": "HTMLModel",
            "_view_count": null,
            "_view_module": "@jupyter-widgets/controls",
            "_view_module_version": "1.5.0",
            "_view_name": "HTMLView",
            "description": "",
            "description_tooltip": null,
            "layout": "IPY_MODEL_8060e21faf014340b598ed6d67bff75e",
            "placeholder": "​",
            "style": "IPY_MODEL_a907dfa66d71495b9e8f21c066b854f0",
            "value": " 466k/466k [00:00&lt;00:00, 1.37MB/s]"
          }
        },
        "e486a4a7ac29443e94d4e974e7775576": {
          "model_module": "@jupyter-widgets/base",
          "model_name": "LayoutModel",
          "model_module_version": "1.2.0",
          "state": {
            "_model_module": "@jupyter-widgets/base",
            "_model_module_version": "1.2.0",
            "_model_name": "LayoutModel",
            "_view_count": null,
            "_view_module": "@jupyter-widgets/base",
            "_view_module_version": "1.2.0",
            "_view_name": "LayoutView",
            "align_content": null,
            "align_items": null,
            "align_self": null,
            "border": null,
            "bottom": null,
            "display": null,
            "flex": null,
            "flex_flow": null,
            "grid_area": null,
            "grid_auto_columns": null,
            "grid_auto_flow": null,
            "grid_auto_rows": null,
            "grid_column": null,
            "grid_gap": null,
            "grid_row": null,
            "grid_template_areas": null,
            "grid_template_columns": null,
            "grid_template_rows": null,
            "height": null,
            "justify_content": null,
            "justify_items": null,
            "left": null,
            "margin": null,
            "max_height": null,
            "max_width": null,
            "min_height": null,
            "min_width": null,
            "object_fit": null,
            "object_position": null,
            "order": null,
            "overflow": null,
            "overflow_x": null,
            "overflow_y": null,
            "padding": null,
            "right": null,
            "top": null,
            "visibility": null,
            "width": null
          }
        },
        "f463a0c19bbd42eb81c28c516eeb8aaa": {
          "model_module": "@jupyter-widgets/base",
          "model_name": "LayoutModel",
          "model_module_version": "1.2.0",
          "state": {
            "_model_module": "@jupyter-widgets/base",
            "_model_module_version": "1.2.0",
            "_model_name": "LayoutModel",
            "_view_count": null,
            "_view_module": "@jupyter-widgets/base",
            "_view_module_version": "1.2.0",
            "_view_name": "LayoutView",
            "align_content": null,
            "align_items": null,
            "align_self": null,
            "border": null,
            "bottom": null,
            "display": null,
            "flex": null,
            "flex_flow": null,
            "grid_area": null,
            "grid_auto_columns": null,
            "grid_auto_flow": null,
            "grid_auto_rows": null,
            "grid_column": null,
            "grid_gap": null,
            "grid_row": null,
            "grid_template_areas": null,
            "grid_template_columns": null,
            "grid_template_rows": null,
            "height": null,
            "justify_content": null,
            "justify_items": null,
            "left": null,
            "margin": null,
            "max_height": null,
            "max_width": null,
            "min_height": null,
            "min_width": null,
            "object_fit": null,
            "object_position": null,
            "order": null,
            "overflow": null,
            "overflow_x": null,
            "overflow_y": null,
            "padding": null,
            "right": null,
            "top": null,
            "visibility": null,
            "width": null
          }
        },
        "386d69edb4ea4cafae9df4c5532e96c0": {
          "model_module": "@jupyter-widgets/controls",
          "model_name": "DescriptionStyleModel",
          "model_module_version": "1.5.0",
          "state": {
            "_model_module": "@jupyter-widgets/controls",
            "_model_module_version": "1.5.0",
            "_model_name": "DescriptionStyleModel",
            "_view_count": null,
            "_view_module": "@jupyter-widgets/base",
            "_view_module_version": "1.2.0",
            "_view_name": "StyleView",
            "description_width": ""
          }
        },
        "cc2107f9d64f46c3937d0801f36c525c": {
          "model_module": "@jupyter-widgets/base",
          "model_name": "LayoutModel",
          "model_module_version": "1.2.0",
          "state": {
            "_model_module": "@jupyter-widgets/base",
            "_model_module_version": "1.2.0",
            "_model_name": "LayoutModel",
            "_view_count": null,
            "_view_module": "@jupyter-widgets/base",
            "_view_module_version": "1.2.0",
            "_view_name": "LayoutView",
            "align_content": null,
            "align_items": null,
            "align_self": null,
            "border": null,
            "bottom": null,
            "display": null,
            "flex": null,
            "flex_flow": null,
            "grid_area": null,
            "grid_auto_columns": null,
            "grid_auto_flow": null,
            "grid_auto_rows": null,
            "grid_column": null,
            "grid_gap": null,
            "grid_row": null,
            "grid_template_areas": null,
            "grid_template_columns": null,
            "grid_template_rows": null,
            "height": null,
            "justify_content": null,
            "justify_items": null,
            "left": null,
            "margin": null,
            "max_height": null,
            "max_width": null,
            "min_height": null,
            "min_width": null,
            "object_fit": null,
            "object_position": null,
            "order": null,
            "overflow": null,
            "overflow_x": null,
            "overflow_y": null,
            "padding": null,
            "right": null,
            "top": null,
            "visibility": null,
            "width": null
          }
        },
        "7c2c4721997640fea78cd120fae9af2b": {
          "model_module": "@jupyter-widgets/controls",
          "model_name": "ProgressStyleModel",
          "model_module_version": "1.5.0",
          "state": {
            "_model_module": "@jupyter-widgets/controls",
            "_model_module_version": "1.5.0",
            "_model_name": "ProgressStyleModel",
            "_view_count": null,
            "_view_module": "@jupyter-widgets/base",
            "_view_module_version": "1.2.0",
            "_view_name": "StyleView",
            "bar_color": null,
            "description_width": ""
          }
        },
        "8060e21faf014340b598ed6d67bff75e": {
          "model_module": "@jupyter-widgets/base",
          "model_name": "LayoutModel",
          "model_module_version": "1.2.0",
          "state": {
            "_model_module": "@jupyter-widgets/base",
            "_model_module_version": "1.2.0",
            "_model_name": "LayoutModel",
            "_view_count": null,
            "_view_module": "@jupyter-widgets/base",
            "_view_module_version": "1.2.0",
            "_view_name": "LayoutView",
            "align_content": null,
            "align_items": null,
            "align_self": null,
            "border": null,
            "bottom": null,
            "display": null,
            "flex": null,
            "flex_flow": null,
            "grid_area": null,
            "grid_auto_columns": null,
            "grid_auto_flow": null,
            "grid_auto_rows": null,
            "grid_column": null,
            "grid_gap": null,
            "grid_row": null,
            "grid_template_areas": null,
            "grid_template_columns": null,
            "grid_template_rows": null,
            "height": null,
            "justify_content": null,
            "justify_items": null,
            "left": null,
            "margin": null,
            "max_height": null,
            "max_width": null,
            "min_height": null,
            "min_width": null,
            "object_fit": null,
            "object_position": null,
            "order": null,
            "overflow": null,
            "overflow_x": null,
            "overflow_y": null,
            "padding": null,
            "right": null,
            "top": null,
            "visibility": null,
            "width": null
          }
        },
        "a907dfa66d71495b9e8f21c066b854f0": {
          "model_module": "@jupyter-widgets/controls",
          "model_name": "DescriptionStyleModel",
          "model_module_version": "1.5.0",
          "state": {
            "_model_module": "@jupyter-widgets/controls",
            "_model_module_version": "1.5.0",
            "_model_name": "DescriptionStyleModel",
            "_view_count": null,
            "_view_module": "@jupyter-widgets/base",
            "_view_module_version": "1.2.0",
            "_view_name": "StyleView",
            "description_width": ""
          }
        },
        "ca5e6eb85bea41cf854b3c144e59cc4b": {
          "model_module": "@jupyter-widgets/controls",
          "model_name": "HBoxModel",
          "model_module_version": "1.5.0",
          "state": {
            "_dom_classes": [],
            "_model_module": "@jupyter-widgets/controls",
            "_model_module_version": "1.5.0",
            "_model_name": "HBoxModel",
            "_view_count": null,
            "_view_module": "@jupyter-widgets/controls",
            "_view_module_version": "1.5.0",
            "_view_name": "HBoxView",
            "box_style": "",
            "children": [
              "IPY_MODEL_9197350b3abf40db8c7a30d8209fec76",
              "IPY_MODEL_5eb29f7a671e4347a39570abd73f2beb",
              "IPY_MODEL_e440511802374ab5b0855e730d3c63c3"
            ],
            "layout": "IPY_MODEL_ea82936702d147f2a2ebb2279fb44c2b"
          }
        },
        "9197350b3abf40db8c7a30d8209fec76": {
          "model_module": "@jupyter-widgets/controls",
          "model_name": "HTMLModel",
          "model_module_version": "1.5.0",
          "state": {
            "_dom_classes": [],
            "_model_module": "@jupyter-widgets/controls",
            "_model_module_version": "1.5.0",
            "_model_name": "HTMLModel",
            "_view_count": null,
            "_view_module": "@jupyter-widgets/controls",
            "_view_module_version": "1.5.0",
            "_view_name": "HTMLView",
            "description": "",
            "description_tooltip": null,
            "layout": "IPY_MODEL_a3b745717bd64008b2290348f657bef9",
            "placeholder": "​",
            "style": "IPY_MODEL_09c7e505d3904ee495dd94bb5e90a1c8",
            "value": "Downloading (…)okenizer_config.json: 100%"
          }
        },
        "5eb29f7a671e4347a39570abd73f2beb": {
          "model_module": "@jupyter-widgets/controls",
          "model_name": "FloatProgressModel",
          "model_module_version": "1.5.0",
          "state": {
            "_dom_classes": [],
            "_model_module": "@jupyter-widgets/controls",
            "_model_module_version": "1.5.0",
            "_model_name": "FloatProgressModel",
            "_view_count": null,
            "_view_module": "@jupyter-widgets/controls",
            "_view_module_version": "1.5.0",
            "_view_name": "ProgressView",
            "bar_style": "success",
            "description": "",
            "description_tooltip": null,
            "layout": "IPY_MODEL_11673af956304fc6a447ac85903526bc",
            "max": 376,
            "min": 0,
            "orientation": "horizontal",
            "style": "IPY_MODEL_c02a5db8cec14fdc9f1d140a2958fcd3",
            "value": 376
          }
        },
        "e440511802374ab5b0855e730d3c63c3": {
          "model_module": "@jupyter-widgets/controls",
          "model_name": "HTMLModel",
          "model_module_version": "1.5.0",
          "state": {
            "_dom_classes": [],
            "_model_module": "@jupyter-widgets/controls",
            "_model_module_version": "1.5.0",
            "_model_name": "HTMLModel",
            "_view_count": null,
            "_view_module": "@jupyter-widgets/controls",
            "_view_module_version": "1.5.0",
            "_view_name": "HTMLView",
            "description": "",
            "description_tooltip": null,
            "layout": "IPY_MODEL_de70c51ad8e04f4683fde8d13d78ddaf",
            "placeholder": "​",
            "style": "IPY_MODEL_afe3b11ceb5442c3a181581037cabb6a",
            "value": " 376/376 [00:00&lt;00:00, 15.1kB/s]"
          }
        },
        "ea82936702d147f2a2ebb2279fb44c2b": {
          "model_module": "@jupyter-widgets/base",
          "model_name": "LayoutModel",
          "model_module_version": "1.2.0",
          "state": {
            "_model_module": "@jupyter-widgets/base",
            "_model_module_version": "1.2.0",
            "_model_name": "LayoutModel",
            "_view_count": null,
            "_view_module": "@jupyter-widgets/base",
            "_view_module_version": "1.2.0",
            "_view_name": "LayoutView",
            "align_content": null,
            "align_items": null,
            "align_self": null,
            "border": null,
            "bottom": null,
            "display": null,
            "flex": null,
            "flex_flow": null,
            "grid_area": null,
            "grid_auto_columns": null,
            "grid_auto_flow": null,
            "grid_auto_rows": null,
            "grid_column": null,
            "grid_gap": null,
            "grid_row": null,
            "grid_template_areas": null,
            "grid_template_columns": null,
            "grid_template_rows": null,
            "height": null,
            "justify_content": null,
            "justify_items": null,
            "left": null,
            "margin": null,
            "max_height": null,
            "max_width": null,
            "min_height": null,
            "min_width": null,
            "object_fit": null,
            "object_position": null,
            "order": null,
            "overflow": null,
            "overflow_x": null,
            "overflow_y": null,
            "padding": null,
            "right": null,
            "top": null,
            "visibility": null,
            "width": null
          }
        },
        "a3b745717bd64008b2290348f657bef9": {
          "model_module": "@jupyter-widgets/base",
          "model_name": "LayoutModel",
          "model_module_version": "1.2.0",
          "state": {
            "_model_module": "@jupyter-widgets/base",
            "_model_module_version": "1.2.0",
            "_model_name": "LayoutModel",
            "_view_count": null,
            "_view_module": "@jupyter-widgets/base",
            "_view_module_version": "1.2.0",
            "_view_name": "LayoutView",
            "align_content": null,
            "align_items": null,
            "align_self": null,
            "border": null,
            "bottom": null,
            "display": null,
            "flex": null,
            "flex_flow": null,
            "grid_area": null,
            "grid_auto_columns": null,
            "grid_auto_flow": null,
            "grid_auto_rows": null,
            "grid_column": null,
            "grid_gap": null,
            "grid_row": null,
            "grid_template_areas": null,
            "grid_template_columns": null,
            "grid_template_rows": null,
            "height": null,
            "justify_content": null,
            "justify_items": null,
            "left": null,
            "margin": null,
            "max_height": null,
            "max_width": null,
            "min_height": null,
            "min_width": null,
            "object_fit": null,
            "object_position": null,
            "order": null,
            "overflow": null,
            "overflow_x": null,
            "overflow_y": null,
            "padding": null,
            "right": null,
            "top": null,
            "visibility": null,
            "width": null
          }
        },
        "09c7e505d3904ee495dd94bb5e90a1c8": {
          "model_module": "@jupyter-widgets/controls",
          "model_name": "DescriptionStyleModel",
          "model_module_version": "1.5.0",
          "state": {
            "_model_module": "@jupyter-widgets/controls",
            "_model_module_version": "1.5.0",
            "_model_name": "DescriptionStyleModel",
            "_view_count": null,
            "_view_module": "@jupyter-widgets/base",
            "_view_module_version": "1.2.0",
            "_view_name": "StyleView",
            "description_width": ""
          }
        },
        "11673af956304fc6a447ac85903526bc": {
          "model_module": "@jupyter-widgets/base",
          "model_name": "LayoutModel",
          "model_module_version": "1.2.0",
          "state": {
            "_model_module": "@jupyter-widgets/base",
            "_model_module_version": "1.2.0",
            "_model_name": "LayoutModel",
            "_view_count": null,
            "_view_module": "@jupyter-widgets/base",
            "_view_module_version": "1.2.0",
            "_view_name": "LayoutView",
            "align_content": null,
            "align_items": null,
            "align_self": null,
            "border": null,
            "bottom": null,
            "display": null,
            "flex": null,
            "flex_flow": null,
            "grid_area": null,
            "grid_auto_columns": null,
            "grid_auto_flow": null,
            "grid_auto_rows": null,
            "grid_column": null,
            "grid_gap": null,
            "grid_row": null,
            "grid_template_areas": null,
            "grid_template_columns": null,
            "grid_template_rows": null,
            "height": null,
            "justify_content": null,
            "justify_items": null,
            "left": null,
            "margin": null,
            "max_height": null,
            "max_width": null,
            "min_height": null,
            "min_width": null,
            "object_fit": null,
            "object_position": null,
            "order": null,
            "overflow": null,
            "overflow_x": null,
            "overflow_y": null,
            "padding": null,
            "right": null,
            "top": null,
            "visibility": null,
            "width": null
          }
        },
        "c02a5db8cec14fdc9f1d140a2958fcd3": {
          "model_module": "@jupyter-widgets/controls",
          "model_name": "ProgressStyleModel",
          "model_module_version": "1.5.0",
          "state": {
            "_model_module": "@jupyter-widgets/controls",
            "_model_module_version": "1.5.0",
            "_model_name": "ProgressStyleModel",
            "_view_count": null,
            "_view_module": "@jupyter-widgets/base",
            "_view_module_version": "1.2.0",
            "_view_name": "StyleView",
            "bar_color": null,
            "description_width": ""
          }
        },
        "de70c51ad8e04f4683fde8d13d78ddaf": {
          "model_module": "@jupyter-widgets/base",
          "model_name": "LayoutModel",
          "model_module_version": "1.2.0",
          "state": {
            "_model_module": "@jupyter-widgets/base",
            "_model_module_version": "1.2.0",
            "_model_name": "LayoutModel",
            "_view_count": null,
            "_view_module": "@jupyter-widgets/base",
            "_view_module_version": "1.2.0",
            "_view_name": "LayoutView",
            "align_content": null,
            "align_items": null,
            "align_self": null,
            "border": null,
            "bottom": null,
            "display": null,
            "flex": null,
            "flex_flow": null,
            "grid_area": null,
            "grid_auto_columns": null,
            "grid_auto_flow": null,
            "grid_auto_rows": null,
            "grid_column": null,
            "grid_gap": null,
            "grid_row": null,
            "grid_template_areas": null,
            "grid_template_columns": null,
            "grid_template_rows": null,
            "height": null,
            "justify_content": null,
            "justify_items": null,
            "left": null,
            "margin": null,
            "max_height": null,
            "max_width": null,
            "min_height": null,
            "min_width": null,
            "object_fit": null,
            "object_position": null,
            "order": null,
            "overflow": null,
            "overflow_x": null,
            "overflow_y": null,
            "padding": null,
            "right": null,
            "top": null,
            "visibility": null,
            "width": null
          }
        },
        "afe3b11ceb5442c3a181581037cabb6a": {
          "model_module": "@jupyter-widgets/controls",
          "model_name": "DescriptionStyleModel",
          "model_module_version": "1.5.0",
          "state": {
            "_model_module": "@jupyter-widgets/controls",
            "_model_module_version": "1.5.0",
            "_model_name": "DescriptionStyleModel",
            "_view_count": null,
            "_view_module": "@jupyter-widgets/base",
            "_view_module_version": "1.2.0",
            "_view_name": "StyleView",
            "description_width": ""
          }
        },
        "16cefa3bc0b04f9e8e0ca52dc77c639e": {
          "model_module": "@jupyter-widgets/controls",
          "model_name": "HBoxModel",
          "model_module_version": "1.5.0",
          "state": {
            "_dom_classes": [],
            "_model_module": "@jupyter-widgets/controls",
            "_model_module_version": "1.5.0",
            "_model_name": "HBoxModel",
            "_view_count": null,
            "_view_module": "@jupyter-widgets/controls",
            "_view_module_version": "1.5.0",
            "_view_name": "HBoxView",
            "box_style": "",
            "children": [
              "IPY_MODEL_b74ffd7cc731448086f6e5feea1c6eab",
              "IPY_MODEL_ad58205da39c428ba2a2348901f00469",
              "IPY_MODEL_772e74620c344f62ac7f495bcf7207b4"
            ],
            "layout": "IPY_MODEL_512969b810e74d4dac534340fae293b4"
          }
        },
        "b74ffd7cc731448086f6e5feea1c6eab": {
          "model_module": "@jupyter-widgets/controls",
          "model_name": "HTMLModel",
          "model_module_version": "1.5.0",
          "state": {
            "_dom_classes": [],
            "_model_module": "@jupyter-widgets/controls",
            "_model_module_version": "1.5.0",
            "_model_name": "HTMLModel",
            "_view_count": null,
            "_view_module": "@jupyter-widgets/controls",
            "_view_module_version": "1.5.0",
            "_view_name": "HTMLView",
            "description": "",
            "description_tooltip": null,
            "layout": "IPY_MODEL_f694e3a130b1476da14ddfb04c2657a8",
            "placeholder": "​",
            "style": "IPY_MODEL_b73970ca3e4b4e848700f1be63aa8ea2",
            "value": "Downloading (…)13d78b6d67/vocab.txt: 100%"
          }
        },
        "ad58205da39c428ba2a2348901f00469": {
          "model_module": "@jupyter-widgets/controls",
          "model_name": "FloatProgressModel",
          "model_module_version": "1.5.0",
          "state": {
            "_dom_classes": [],
            "_model_module": "@jupyter-widgets/controls",
            "_model_module_version": "1.5.0",
            "_model_name": "FloatProgressModel",
            "_view_count": null,
            "_view_module": "@jupyter-widgets/controls",
            "_view_module_version": "1.5.0",
            "_view_name": "ProgressView",
            "bar_style": "success",
            "description": "",
            "description_tooltip": null,
            "layout": "IPY_MODEL_1c393925b12f4157b0b028601366c3e8",
            "max": 231508,
            "min": 0,
            "orientation": "horizontal",
            "style": "IPY_MODEL_ad799bf77351446a84e71ca98041d39e",
            "value": 231508
          }
        },
        "772e74620c344f62ac7f495bcf7207b4": {
          "model_module": "@jupyter-widgets/controls",
          "model_name": "HTMLModel",
          "model_module_version": "1.5.0",
          "state": {
            "_dom_classes": [],
            "_model_module": "@jupyter-widgets/controls",
            "_model_module_version": "1.5.0",
            "_model_name": "HTMLModel",
            "_view_count": null,
            "_view_module": "@jupyter-widgets/controls",
            "_view_module_version": "1.5.0",
            "_view_name": "HTMLView",
            "description": "",
            "description_tooltip": null,
            "layout": "IPY_MODEL_3632a36b35864eb0b67f9a04ee66a128",
            "placeholder": "​",
            "style": "IPY_MODEL_b230bbd6dd954cc99b7165ae8b29452c",
            "value": " 232k/232k [00:00&lt;00:00, 776kB/s]"
          }
        },
        "512969b810e74d4dac534340fae293b4": {
          "model_module": "@jupyter-widgets/base",
          "model_name": "LayoutModel",
          "model_module_version": "1.2.0",
          "state": {
            "_model_module": "@jupyter-widgets/base",
            "_model_module_version": "1.2.0",
            "_model_name": "LayoutModel",
            "_view_count": null,
            "_view_module": "@jupyter-widgets/base",
            "_view_module_version": "1.2.0",
            "_view_name": "LayoutView",
            "align_content": null,
            "align_items": null,
            "align_self": null,
            "border": null,
            "bottom": null,
            "display": null,
            "flex": null,
            "flex_flow": null,
            "grid_area": null,
            "grid_auto_columns": null,
            "grid_auto_flow": null,
            "grid_auto_rows": null,
            "grid_column": null,
            "grid_gap": null,
            "grid_row": null,
            "grid_template_areas": null,
            "grid_template_columns": null,
            "grid_template_rows": null,
            "height": null,
            "justify_content": null,
            "justify_items": null,
            "left": null,
            "margin": null,
            "max_height": null,
            "max_width": null,
            "min_height": null,
            "min_width": null,
            "object_fit": null,
            "object_position": null,
            "order": null,
            "overflow": null,
            "overflow_x": null,
            "overflow_y": null,
            "padding": null,
            "right": null,
            "top": null,
            "visibility": null,
            "width": null
          }
        },
        "f694e3a130b1476da14ddfb04c2657a8": {
          "model_module": "@jupyter-widgets/base",
          "model_name": "LayoutModel",
          "model_module_version": "1.2.0",
          "state": {
            "_model_module": "@jupyter-widgets/base",
            "_model_module_version": "1.2.0",
            "_model_name": "LayoutModel",
            "_view_count": null,
            "_view_module": "@jupyter-widgets/base",
            "_view_module_version": "1.2.0",
            "_view_name": "LayoutView",
            "align_content": null,
            "align_items": null,
            "align_self": null,
            "border": null,
            "bottom": null,
            "display": null,
            "flex": null,
            "flex_flow": null,
            "grid_area": null,
            "grid_auto_columns": null,
            "grid_auto_flow": null,
            "grid_auto_rows": null,
            "grid_column": null,
            "grid_gap": null,
            "grid_row": null,
            "grid_template_areas": null,
            "grid_template_columns": null,
            "grid_template_rows": null,
            "height": null,
            "justify_content": null,
            "justify_items": null,
            "left": null,
            "margin": null,
            "max_height": null,
            "max_width": null,
            "min_height": null,
            "min_width": null,
            "object_fit": null,
            "object_position": null,
            "order": null,
            "overflow": null,
            "overflow_x": null,
            "overflow_y": null,
            "padding": null,
            "right": null,
            "top": null,
            "visibility": null,
            "width": null
          }
        },
        "b73970ca3e4b4e848700f1be63aa8ea2": {
          "model_module": "@jupyter-widgets/controls",
          "model_name": "DescriptionStyleModel",
          "model_module_version": "1.5.0",
          "state": {
            "_model_module": "@jupyter-widgets/controls",
            "_model_module_version": "1.5.0",
            "_model_name": "DescriptionStyleModel",
            "_view_count": null,
            "_view_module": "@jupyter-widgets/base",
            "_view_module_version": "1.2.0",
            "_view_name": "StyleView",
            "description_width": ""
          }
        },
        "1c393925b12f4157b0b028601366c3e8": {
          "model_module": "@jupyter-widgets/base",
          "model_name": "LayoutModel",
          "model_module_version": "1.2.0",
          "state": {
            "_model_module": "@jupyter-widgets/base",
            "_model_module_version": "1.2.0",
            "_model_name": "LayoutModel",
            "_view_count": null,
            "_view_module": "@jupyter-widgets/base",
            "_view_module_version": "1.2.0",
            "_view_name": "LayoutView",
            "align_content": null,
            "align_items": null,
            "align_self": null,
            "border": null,
            "bottom": null,
            "display": null,
            "flex": null,
            "flex_flow": null,
            "grid_area": null,
            "grid_auto_columns": null,
            "grid_auto_flow": null,
            "grid_auto_rows": null,
            "grid_column": null,
            "grid_gap": null,
            "grid_row": null,
            "grid_template_areas": null,
            "grid_template_columns": null,
            "grid_template_rows": null,
            "height": null,
            "justify_content": null,
            "justify_items": null,
            "left": null,
            "margin": null,
            "max_height": null,
            "max_width": null,
            "min_height": null,
            "min_width": null,
            "object_fit": null,
            "object_position": null,
            "order": null,
            "overflow": null,
            "overflow_x": null,
            "overflow_y": null,
            "padding": null,
            "right": null,
            "top": null,
            "visibility": null,
            "width": null
          }
        },
        "ad799bf77351446a84e71ca98041d39e": {
          "model_module": "@jupyter-widgets/controls",
          "model_name": "ProgressStyleModel",
          "model_module_version": "1.5.0",
          "state": {
            "_model_module": "@jupyter-widgets/controls",
            "_model_module_version": "1.5.0",
            "_model_name": "ProgressStyleModel",
            "_view_count": null,
            "_view_module": "@jupyter-widgets/base",
            "_view_module_version": "1.2.0",
            "_view_name": "StyleView",
            "bar_color": null,
            "description_width": ""
          }
        },
        "3632a36b35864eb0b67f9a04ee66a128": {
          "model_module": "@jupyter-widgets/base",
          "model_name": "LayoutModel",
          "model_module_version": "1.2.0",
          "state": {
            "_model_module": "@jupyter-widgets/base",
            "_model_module_version": "1.2.0",
            "_model_name": "LayoutModel",
            "_view_count": null,
            "_view_module": "@jupyter-widgets/base",
            "_view_module_version": "1.2.0",
            "_view_name": "LayoutView",
            "align_content": null,
            "align_items": null,
            "align_self": null,
            "border": null,
            "bottom": null,
            "display": null,
            "flex": null,
            "flex_flow": null,
            "grid_area": null,
            "grid_auto_columns": null,
            "grid_auto_flow": null,
            "grid_auto_rows": null,
            "grid_column": null,
            "grid_gap": null,
            "grid_row": null,
            "grid_template_areas": null,
            "grid_template_columns": null,
            "grid_template_rows": null,
            "height": null,
            "justify_content": null,
            "justify_items": null,
            "left": null,
            "margin": null,
            "max_height": null,
            "max_width": null,
            "min_height": null,
            "min_width": null,
            "object_fit": null,
            "object_position": null,
            "order": null,
            "overflow": null,
            "overflow_x": null,
            "overflow_y": null,
            "padding": null,
            "right": null,
            "top": null,
            "visibility": null,
            "width": null
          }
        },
        "b230bbd6dd954cc99b7165ae8b29452c": {
          "model_module": "@jupyter-widgets/controls",
          "model_name": "DescriptionStyleModel",
          "model_module_version": "1.5.0",
          "state": {
            "_model_module": "@jupyter-widgets/controls",
            "_model_module_version": "1.5.0",
            "_model_name": "DescriptionStyleModel",
            "_view_count": null,
            "_view_module": "@jupyter-widgets/base",
            "_view_module_version": "1.2.0",
            "_view_name": "StyleView",
            "description_width": ""
          }
        },
        "87b5b0b5fafd44bb86c97986240f742e": {
          "model_module": "@jupyter-widgets/controls",
          "model_name": "HBoxModel",
          "model_module_version": "1.5.0",
          "state": {
            "_dom_classes": [],
            "_model_module": "@jupyter-widgets/controls",
            "_model_module_version": "1.5.0",
            "_model_name": "HBoxModel",
            "_view_count": null,
            "_view_module": "@jupyter-widgets/controls",
            "_view_module_version": "1.5.0",
            "_view_name": "HBoxView",
            "box_style": "",
            "children": [
              "IPY_MODEL_8eb5378ae0ac4bd48777b5d4ab985414",
              "IPY_MODEL_e11ce6a2307c49dab69af856da217361",
              "IPY_MODEL_1addbcf1b7b94d9eb77c4a54a9567406"
            ],
            "layout": "IPY_MODEL_4d3dd77b904d41cfafa166c87e102669"
          }
        },
        "8eb5378ae0ac4bd48777b5d4ab985414": {
          "model_module": "@jupyter-widgets/controls",
          "model_name": "HTMLModel",
          "model_module_version": "1.5.0",
          "state": {
            "_dom_classes": [],
            "_model_module": "@jupyter-widgets/controls",
            "_model_module_version": "1.5.0",
            "_model_name": "HTMLModel",
            "_view_count": null,
            "_view_module": "@jupyter-widgets/controls",
            "_view_module_version": "1.5.0",
            "_view_name": "HTMLView",
            "description": "",
            "description_tooltip": null,
            "layout": "IPY_MODEL_37a6cfda0d504cfe92b8f7a34b8fdd3d",
            "placeholder": "​",
            "style": "IPY_MODEL_c4fe693daefd47adbb8347f730b9d95b",
            "value": "Downloading (…)78b6d67/modules.json: 100%"
          }
        },
        "e11ce6a2307c49dab69af856da217361": {
          "model_module": "@jupyter-widgets/controls",
          "model_name": "FloatProgressModel",
          "model_module_version": "1.5.0",
          "state": {
            "_dom_classes": [],
            "_model_module": "@jupyter-widgets/controls",
            "_model_module_version": "1.5.0",
            "_model_name": "FloatProgressModel",
            "_view_count": null,
            "_view_module": "@jupyter-widgets/controls",
            "_view_module_version": "1.5.0",
            "_view_name": "ProgressView",
            "bar_style": "success",
            "description": "",
            "description_tooltip": null,
            "layout": "IPY_MODEL_faca7b986ca44e569d6581db6542813e",
            "max": 341,
            "min": 0,
            "orientation": "horizontal",
            "style": "IPY_MODEL_d234c8e95bba45adb78b0a6fb33d7613",
            "value": 341
          }
        },
        "1addbcf1b7b94d9eb77c4a54a9567406": {
          "model_module": "@jupyter-widgets/controls",
          "model_name": "HTMLModel",
          "model_module_version": "1.5.0",
          "state": {
            "_dom_classes": [],
            "_model_module": "@jupyter-widgets/controls",
            "_model_module_version": "1.5.0",
            "_model_name": "HTMLModel",
            "_view_count": null,
            "_view_module": "@jupyter-widgets/controls",
            "_view_module_version": "1.5.0",
            "_view_name": "HTMLView",
            "description": "",
            "description_tooltip": null,
            "layout": "IPY_MODEL_ed78e76c34be4d819064927121d6728c",
            "placeholder": "​",
            "style": "IPY_MODEL_3b27947041184a2db7f4f346c9123612",
            "value": " 341/341 [00:00&lt;00:00, 5.35kB/s]"
          }
        },
        "4d3dd77b904d41cfafa166c87e102669": {
          "model_module": "@jupyter-widgets/base",
          "model_name": "LayoutModel",
          "model_module_version": "1.2.0",
          "state": {
            "_model_module": "@jupyter-widgets/base",
            "_model_module_version": "1.2.0",
            "_model_name": "LayoutModel",
            "_view_count": null,
            "_view_module": "@jupyter-widgets/base",
            "_view_module_version": "1.2.0",
            "_view_name": "LayoutView",
            "align_content": null,
            "align_items": null,
            "align_self": null,
            "border": null,
            "bottom": null,
            "display": null,
            "flex": null,
            "flex_flow": null,
            "grid_area": null,
            "grid_auto_columns": null,
            "grid_auto_flow": null,
            "grid_auto_rows": null,
            "grid_column": null,
            "grid_gap": null,
            "grid_row": null,
            "grid_template_areas": null,
            "grid_template_columns": null,
            "grid_template_rows": null,
            "height": null,
            "justify_content": null,
            "justify_items": null,
            "left": null,
            "margin": null,
            "max_height": null,
            "max_width": null,
            "min_height": null,
            "min_width": null,
            "object_fit": null,
            "object_position": null,
            "order": null,
            "overflow": null,
            "overflow_x": null,
            "overflow_y": null,
            "padding": null,
            "right": null,
            "top": null,
            "visibility": null,
            "width": null
          }
        },
        "37a6cfda0d504cfe92b8f7a34b8fdd3d": {
          "model_module": "@jupyter-widgets/base",
          "model_name": "LayoutModel",
          "model_module_version": "1.2.0",
          "state": {
            "_model_module": "@jupyter-widgets/base",
            "_model_module_version": "1.2.0",
            "_model_name": "LayoutModel",
            "_view_count": null,
            "_view_module": "@jupyter-widgets/base",
            "_view_module_version": "1.2.0",
            "_view_name": "LayoutView",
            "align_content": null,
            "align_items": null,
            "align_self": null,
            "border": null,
            "bottom": null,
            "display": null,
            "flex": null,
            "flex_flow": null,
            "grid_area": null,
            "grid_auto_columns": null,
            "grid_auto_flow": null,
            "grid_auto_rows": null,
            "grid_column": null,
            "grid_gap": null,
            "grid_row": null,
            "grid_template_areas": null,
            "grid_template_columns": null,
            "grid_template_rows": null,
            "height": null,
            "justify_content": null,
            "justify_items": null,
            "left": null,
            "margin": null,
            "max_height": null,
            "max_width": null,
            "min_height": null,
            "min_width": null,
            "object_fit": null,
            "object_position": null,
            "order": null,
            "overflow": null,
            "overflow_x": null,
            "overflow_y": null,
            "padding": null,
            "right": null,
            "top": null,
            "visibility": null,
            "width": null
          }
        },
        "c4fe693daefd47adbb8347f730b9d95b": {
          "model_module": "@jupyter-widgets/controls",
          "model_name": "DescriptionStyleModel",
          "model_module_version": "1.5.0",
          "state": {
            "_model_module": "@jupyter-widgets/controls",
            "_model_module_version": "1.5.0",
            "_model_name": "DescriptionStyleModel",
            "_view_count": null,
            "_view_module": "@jupyter-widgets/base",
            "_view_module_version": "1.2.0",
            "_view_name": "StyleView",
            "description_width": ""
          }
        },
        "faca7b986ca44e569d6581db6542813e": {
          "model_module": "@jupyter-widgets/base",
          "model_name": "LayoutModel",
          "model_module_version": "1.2.0",
          "state": {
            "_model_module": "@jupyter-widgets/base",
            "_model_module_version": "1.2.0",
            "_model_name": "LayoutModel",
            "_view_count": null,
            "_view_module": "@jupyter-widgets/base",
            "_view_module_version": "1.2.0",
            "_view_name": "LayoutView",
            "align_content": null,
            "align_items": null,
            "align_self": null,
            "border": null,
            "bottom": null,
            "display": null,
            "flex": null,
            "flex_flow": null,
            "grid_area": null,
            "grid_auto_columns": null,
            "grid_auto_flow": null,
            "grid_auto_rows": null,
            "grid_column": null,
            "grid_gap": null,
            "grid_row": null,
            "grid_template_areas": null,
            "grid_template_columns": null,
            "grid_template_rows": null,
            "height": null,
            "justify_content": null,
            "justify_items": null,
            "left": null,
            "margin": null,
            "max_height": null,
            "max_width": null,
            "min_height": null,
            "min_width": null,
            "object_fit": null,
            "object_position": null,
            "order": null,
            "overflow": null,
            "overflow_x": null,
            "overflow_y": null,
            "padding": null,
            "right": null,
            "top": null,
            "visibility": null,
            "width": null
          }
        },
        "d234c8e95bba45adb78b0a6fb33d7613": {
          "model_module": "@jupyter-widgets/controls",
          "model_name": "ProgressStyleModel",
          "model_module_version": "1.5.0",
          "state": {
            "_model_module": "@jupyter-widgets/controls",
            "_model_module_version": "1.5.0",
            "_model_name": "ProgressStyleModel",
            "_view_count": null,
            "_view_module": "@jupyter-widgets/base",
            "_view_module_version": "1.2.0",
            "_view_name": "StyleView",
            "bar_color": null,
            "description_width": ""
          }
        },
        "ed78e76c34be4d819064927121d6728c": {
          "model_module": "@jupyter-widgets/base",
          "model_name": "LayoutModel",
          "model_module_version": "1.2.0",
          "state": {
            "_model_module": "@jupyter-widgets/base",
            "_model_module_version": "1.2.0",
            "_model_name": "LayoutModel",
            "_view_count": null,
            "_view_module": "@jupyter-widgets/base",
            "_view_module_version": "1.2.0",
            "_view_name": "LayoutView",
            "align_content": null,
            "align_items": null,
            "align_self": null,
            "border": null,
            "bottom": null,
            "display": null,
            "flex": null,
            "flex_flow": null,
            "grid_area": null,
            "grid_auto_columns": null,
            "grid_auto_flow": null,
            "grid_auto_rows": null,
            "grid_column": null,
            "grid_gap": null,
            "grid_row": null,
            "grid_template_areas": null,
            "grid_template_columns": null,
            "grid_template_rows": null,
            "height": null,
            "justify_content": null,
            "justify_items": null,
            "left": null,
            "margin": null,
            "max_height": null,
            "max_width": null,
            "min_height": null,
            "min_width": null,
            "object_fit": null,
            "object_position": null,
            "order": null,
            "overflow": null,
            "overflow_x": null,
            "overflow_y": null,
            "padding": null,
            "right": null,
            "top": null,
            "visibility": null,
            "width": null
          }
        },
        "3b27947041184a2db7f4f346c9123612": {
          "model_module": "@jupyter-widgets/controls",
          "model_name": "DescriptionStyleModel",
          "model_module_version": "1.5.0",
          "state": {
            "_model_module": "@jupyter-widgets/controls",
            "_model_module_version": "1.5.0",
            "_model_name": "DescriptionStyleModel",
            "_view_count": null,
            "_view_module": "@jupyter-widgets/base",
            "_view_module_version": "1.2.0",
            "_view_name": "StyleView",
            "description_width": ""
          }
        },
        "1fbcafe1a32d4d10b143fb3d4e612426": {
          "model_module": "@jupyter-widgets/controls",
          "model_name": "HBoxModel",
          "model_module_version": "1.5.0",
          "state": {
            "_dom_classes": [],
            "_model_module": "@jupyter-widgets/controls",
            "_model_module_version": "1.5.0",
            "_model_name": "HBoxModel",
            "_view_count": null,
            "_view_module": "@jupyter-widgets/controls",
            "_view_module_version": "1.5.0",
            "_view_name": "HBoxView",
            "box_style": "",
            "children": [
              "IPY_MODEL_0e6a0f9e1f3e4e1fa1809886d640dbfa",
              "IPY_MODEL_f784d47d708b41448610531d4ae010bf",
              "IPY_MODEL_21109877712d4a3a8732b92ea20f8146"
            ],
            "layout": "IPY_MODEL_2958e9636f1c4c74ac9b39fa912e3335"
          }
        },
        "0e6a0f9e1f3e4e1fa1809886d640dbfa": {
          "model_module": "@jupyter-widgets/controls",
          "model_name": "HTMLModel",
          "model_module_version": "1.5.0",
          "state": {
            "_dom_classes": [],
            "_model_module": "@jupyter-widgets/controls",
            "_model_module_version": "1.5.0",
            "_model_name": "HTMLModel",
            "_view_count": null,
            "_view_module": "@jupyter-widgets/controls",
            "_view_module_version": "1.5.0",
            "_view_name": "HTMLView",
            "description": "",
            "description_tooltip": null,
            "layout": "IPY_MODEL_251570cda7294a74b7c83b8a274326ec",
            "placeholder": "​",
            "style": "IPY_MODEL_25e0df2ed4a84872bd501be1c0549223",
            "value": "Batches: 100%"
          }
        },
        "f784d47d708b41448610531d4ae010bf": {
          "model_module": "@jupyter-widgets/controls",
          "model_name": "FloatProgressModel",
          "model_module_version": "1.5.0",
          "state": {
            "_dom_classes": [],
            "_model_module": "@jupyter-widgets/controls",
            "_model_module_version": "1.5.0",
            "_model_name": "FloatProgressModel",
            "_view_count": null,
            "_view_module": "@jupyter-widgets/controls",
            "_view_module_version": "1.5.0",
            "_view_name": "ProgressView",
            "bar_style": "success",
            "description": "",
            "description_tooltip": null,
            "layout": "IPY_MODEL_c767d2f0778e4066956202c0fa38bdee",
            "max": 111,
            "min": 0,
            "orientation": "horizontal",
            "style": "IPY_MODEL_b6cb7c3401be45dcb84d8d616587130c",
            "value": 111
          }
        },
        "21109877712d4a3a8732b92ea20f8146": {
          "model_module": "@jupyter-widgets/controls",
          "model_name": "HTMLModel",
          "model_module_version": "1.5.0",
          "state": {
            "_dom_classes": [],
            "_model_module": "@jupyter-widgets/controls",
            "_model_module_version": "1.5.0",
            "_model_name": "HTMLModel",
            "_view_count": null,
            "_view_module": "@jupyter-widgets/controls",
            "_view_module_version": "1.5.0",
            "_view_name": "HTMLView",
            "description": "",
            "description_tooltip": null,
            "layout": "IPY_MODEL_833962d8ab9849f487e71b6b1c74110c",
            "placeholder": "​",
            "style": "IPY_MODEL_67591e73238043b7b9484031e4859aa3",
            "value": " 111/111 [00:12&lt;00:00, 21.58it/s]"
          }
        },
        "2958e9636f1c4c74ac9b39fa912e3335": {
          "model_module": "@jupyter-widgets/base",
          "model_name": "LayoutModel",
          "model_module_version": "1.2.0",
          "state": {
            "_model_module": "@jupyter-widgets/base",
            "_model_module_version": "1.2.0",
            "_model_name": "LayoutModel",
            "_view_count": null,
            "_view_module": "@jupyter-widgets/base",
            "_view_module_version": "1.2.0",
            "_view_name": "LayoutView",
            "align_content": null,
            "align_items": null,
            "align_self": null,
            "border": null,
            "bottom": null,
            "display": null,
            "flex": null,
            "flex_flow": null,
            "grid_area": null,
            "grid_auto_columns": null,
            "grid_auto_flow": null,
            "grid_auto_rows": null,
            "grid_column": null,
            "grid_gap": null,
            "grid_row": null,
            "grid_template_areas": null,
            "grid_template_columns": null,
            "grid_template_rows": null,
            "height": null,
            "justify_content": null,
            "justify_items": null,
            "left": null,
            "margin": null,
            "max_height": null,
            "max_width": null,
            "min_height": null,
            "min_width": null,
            "object_fit": null,
            "object_position": null,
            "order": null,
            "overflow": null,
            "overflow_x": null,
            "overflow_y": null,
            "padding": null,
            "right": null,
            "top": null,
            "visibility": null,
            "width": null
          }
        },
        "251570cda7294a74b7c83b8a274326ec": {
          "model_module": "@jupyter-widgets/base",
          "model_name": "LayoutModel",
          "model_module_version": "1.2.0",
          "state": {
            "_model_module": "@jupyter-widgets/base",
            "_model_module_version": "1.2.0",
            "_model_name": "LayoutModel",
            "_view_count": null,
            "_view_module": "@jupyter-widgets/base",
            "_view_module_version": "1.2.0",
            "_view_name": "LayoutView",
            "align_content": null,
            "align_items": null,
            "align_self": null,
            "border": null,
            "bottom": null,
            "display": null,
            "flex": null,
            "flex_flow": null,
            "grid_area": null,
            "grid_auto_columns": null,
            "grid_auto_flow": null,
            "grid_auto_rows": null,
            "grid_column": null,
            "grid_gap": null,
            "grid_row": null,
            "grid_template_areas": null,
            "grid_template_columns": null,
            "grid_template_rows": null,
            "height": null,
            "justify_content": null,
            "justify_items": null,
            "left": null,
            "margin": null,
            "max_height": null,
            "max_width": null,
            "min_height": null,
            "min_width": null,
            "object_fit": null,
            "object_position": null,
            "order": null,
            "overflow": null,
            "overflow_x": null,
            "overflow_y": null,
            "padding": null,
            "right": null,
            "top": null,
            "visibility": null,
            "width": null
          }
        },
        "25e0df2ed4a84872bd501be1c0549223": {
          "model_module": "@jupyter-widgets/controls",
          "model_name": "DescriptionStyleModel",
          "model_module_version": "1.5.0",
          "state": {
            "_model_module": "@jupyter-widgets/controls",
            "_model_module_version": "1.5.0",
            "_model_name": "DescriptionStyleModel",
            "_view_count": null,
            "_view_module": "@jupyter-widgets/base",
            "_view_module_version": "1.2.0",
            "_view_name": "StyleView",
            "description_width": ""
          }
        },
        "c767d2f0778e4066956202c0fa38bdee": {
          "model_module": "@jupyter-widgets/base",
          "model_name": "LayoutModel",
          "model_module_version": "1.2.0",
          "state": {
            "_model_module": "@jupyter-widgets/base",
            "_model_module_version": "1.2.0",
            "_model_name": "LayoutModel",
            "_view_count": null,
            "_view_module": "@jupyter-widgets/base",
            "_view_module_version": "1.2.0",
            "_view_name": "LayoutView",
            "align_content": null,
            "align_items": null,
            "align_self": null,
            "border": null,
            "bottom": null,
            "display": null,
            "flex": null,
            "flex_flow": null,
            "grid_area": null,
            "grid_auto_columns": null,
            "grid_auto_flow": null,
            "grid_auto_rows": null,
            "grid_column": null,
            "grid_gap": null,
            "grid_row": null,
            "grid_template_areas": null,
            "grid_template_columns": null,
            "grid_template_rows": null,
            "height": null,
            "justify_content": null,
            "justify_items": null,
            "left": null,
            "margin": null,
            "max_height": null,
            "max_width": null,
            "min_height": null,
            "min_width": null,
            "object_fit": null,
            "object_position": null,
            "order": null,
            "overflow": null,
            "overflow_x": null,
            "overflow_y": null,
            "padding": null,
            "right": null,
            "top": null,
            "visibility": null,
            "width": null
          }
        },
        "b6cb7c3401be45dcb84d8d616587130c": {
          "model_module": "@jupyter-widgets/controls",
          "model_name": "ProgressStyleModel",
          "model_module_version": "1.5.0",
          "state": {
            "_model_module": "@jupyter-widgets/controls",
            "_model_module_version": "1.5.0",
            "_model_name": "ProgressStyleModel",
            "_view_count": null,
            "_view_module": "@jupyter-widgets/base",
            "_view_module_version": "1.2.0",
            "_view_name": "StyleView",
            "bar_color": null,
            "description_width": ""
          }
        },
        "833962d8ab9849f487e71b6b1c74110c": {
          "model_module": "@jupyter-widgets/base",
          "model_name": "LayoutModel",
          "model_module_version": "1.2.0",
          "state": {
            "_model_module": "@jupyter-widgets/base",
            "_model_module_version": "1.2.0",
            "_model_name": "LayoutModel",
            "_view_count": null,
            "_view_module": "@jupyter-widgets/base",
            "_view_module_version": "1.2.0",
            "_view_name": "LayoutView",
            "align_content": null,
            "align_items": null,
            "align_self": null,
            "border": null,
            "bottom": null,
            "display": null,
            "flex": null,
            "flex_flow": null,
            "grid_area": null,
            "grid_auto_columns": null,
            "grid_auto_flow": null,
            "grid_auto_rows": null,
            "grid_column": null,
            "grid_gap": null,
            "grid_row": null,
            "grid_template_areas": null,
            "grid_template_columns": null,
            "grid_template_rows": null,
            "height": null,
            "justify_content": null,
            "justify_items": null,
            "left": null,
            "margin": null,
            "max_height": null,
            "max_width": null,
            "min_height": null,
            "min_width": null,
            "object_fit": null,
            "object_position": null,
            "order": null,
            "overflow": null,
            "overflow_x": null,
            "overflow_y": null,
            "padding": null,
            "right": null,
            "top": null,
            "visibility": null,
            "width": null
          }
        },
        "67591e73238043b7b9484031e4859aa3": {
          "model_module": "@jupyter-widgets/controls",
          "model_name": "DescriptionStyleModel",
          "model_module_version": "1.5.0",
          "state": {
            "_model_module": "@jupyter-widgets/controls",
            "_model_module_version": "1.5.0",
            "_model_name": "DescriptionStyleModel",
            "_view_count": null,
            "_view_module": "@jupyter-widgets/base",
            "_view_module_version": "1.2.0",
            "_view_name": "StyleView",
            "description_width": ""
          }
        },
        "fa4dcf23a7cf4728b26c7a867500c8d4": {
          "model_module": "@jupyter-widgets/controls",
          "model_name": "HBoxModel",
          "model_module_version": "1.5.0",
          "state": {
            "_dom_classes": [],
            "_model_module": "@jupyter-widgets/controls",
            "_model_module_version": "1.5.0",
            "_model_name": "HBoxModel",
            "_view_count": null,
            "_view_module": "@jupyter-widgets/controls",
            "_view_module_version": "1.5.0",
            "_view_name": "HBoxView",
            "box_style": "",
            "children": [
              "IPY_MODEL_c796c450a731434a9039e79cf79046a7",
              "IPY_MODEL_a538fa61807a402bb0ea6775cc3d899c",
              "IPY_MODEL_39057656aede4e4ca907ad596898eabd"
            ],
            "layout": "IPY_MODEL_34bc7a3d136d429bb2b0d0b02f6e4c26"
          }
        },
        "c796c450a731434a9039e79cf79046a7": {
          "model_module": "@jupyter-widgets/controls",
          "model_name": "HTMLModel",
          "model_module_version": "1.5.0",
          "state": {
            "_dom_classes": [],
            "_model_module": "@jupyter-widgets/controls",
            "_model_module_version": "1.5.0",
            "_model_name": "HTMLModel",
            "_view_count": null,
            "_view_module": "@jupyter-widgets/controls",
            "_view_module_version": "1.5.0",
            "_view_name": "HTMLView",
            "description": "",
            "description_tooltip": null,
            "layout": "IPY_MODEL_41282190de794acd9737c7e641b88ab3",
            "placeholder": "​",
            "style": "IPY_MODEL_934a86cd1f944866a034428e9cd6744f",
            "value": "100%"
          }
        },
        "a538fa61807a402bb0ea6775cc3d899c": {
          "model_module": "@jupyter-widgets/controls",
          "model_name": "FloatProgressModel",
          "model_module_version": "1.5.0",
          "state": {
            "_dom_classes": [],
            "_model_module": "@jupyter-widgets/controls",
            "_model_module_version": "1.5.0",
            "_model_name": "FloatProgressModel",
            "_view_count": null,
            "_view_module": "@jupyter-widgets/controls",
            "_view_module_version": "1.5.0",
            "_view_name": "ProgressView",
            "bar_style": "success",
            "description": "",
            "description_tooltip": null,
            "layout": "IPY_MODEL_ffeb98af866945299cd884f361fdce91",
            "max": 100,
            "min": 0,
            "orientation": "horizontal",
            "style": "IPY_MODEL_65df9d1dd0ca4f2f914658895bf518da",
            "value": 100
          }
        },
        "39057656aede4e4ca907ad596898eabd": {
          "model_module": "@jupyter-widgets/controls",
          "model_name": "HTMLModel",
          "model_module_version": "1.5.0",
          "state": {
            "_dom_classes": [],
            "_model_module": "@jupyter-widgets/controls",
            "_model_module_version": "1.5.0",
            "_model_name": "HTMLModel",
            "_view_count": null,
            "_view_module": "@jupyter-widgets/controls",
            "_view_module_version": "1.5.0",
            "_view_name": "HTMLView",
            "description": "",
            "description_tooltip": null,
            "layout": "IPY_MODEL_691ca03300754be09b07d1ac6f29a999",
            "placeholder": "​",
            "style": "IPY_MODEL_687f1cc2011a4edf934cf518e5fab935",
            "value": " 100/100 [00:07&lt;00:00, 12.56it/s, correct=96.85%, skipped=6.11%]"
          }
        },
        "34bc7a3d136d429bb2b0d0b02f6e4c26": {
          "model_module": "@jupyter-widgets/base",
          "model_name": "LayoutModel",
          "model_module_version": "1.2.0",
          "state": {
            "_model_module": "@jupyter-widgets/base",
            "_model_module_version": "1.2.0",
            "_model_name": "LayoutModel",
            "_view_count": null,
            "_view_module": "@jupyter-widgets/base",
            "_view_module_version": "1.2.0",
            "_view_name": "LayoutView",
            "align_content": null,
            "align_items": null,
            "align_self": null,
            "border": null,
            "bottom": null,
            "display": null,
            "flex": null,
            "flex_flow": null,
            "grid_area": null,
            "grid_auto_columns": null,
            "grid_auto_flow": null,
            "grid_auto_rows": null,
            "grid_column": null,
            "grid_gap": null,
            "grid_row": null,
            "grid_template_areas": null,
            "grid_template_columns": null,
            "grid_template_rows": null,
            "height": null,
            "justify_content": null,
            "justify_items": null,
            "left": null,
            "margin": null,
            "max_height": null,
            "max_width": null,
            "min_height": null,
            "min_width": null,
            "object_fit": null,
            "object_position": null,
            "order": null,
            "overflow": null,
            "overflow_x": null,
            "overflow_y": null,
            "padding": null,
            "right": null,
            "top": null,
            "visibility": null,
            "width": null
          }
        },
        "41282190de794acd9737c7e641b88ab3": {
          "model_module": "@jupyter-widgets/base",
          "model_name": "LayoutModel",
          "model_module_version": "1.2.0",
          "state": {
            "_model_module": "@jupyter-widgets/base",
            "_model_module_version": "1.2.0",
            "_model_name": "LayoutModel",
            "_view_count": null,
            "_view_module": "@jupyter-widgets/base",
            "_view_module_version": "1.2.0",
            "_view_name": "LayoutView",
            "align_content": null,
            "align_items": null,
            "align_self": null,
            "border": null,
            "bottom": null,
            "display": null,
            "flex": null,
            "flex_flow": null,
            "grid_area": null,
            "grid_auto_columns": null,
            "grid_auto_flow": null,
            "grid_auto_rows": null,
            "grid_column": null,
            "grid_gap": null,
            "grid_row": null,
            "grid_template_areas": null,
            "grid_template_columns": null,
            "grid_template_rows": null,
            "height": null,
            "justify_content": null,
            "justify_items": null,
            "left": null,
            "margin": null,
            "max_height": null,
            "max_width": null,
            "min_height": null,
            "min_width": null,
            "object_fit": null,
            "object_position": null,
            "order": null,
            "overflow": null,
            "overflow_x": null,
            "overflow_y": null,
            "padding": null,
            "right": null,
            "top": null,
            "visibility": null,
            "width": null
          }
        },
        "934a86cd1f944866a034428e9cd6744f": {
          "model_module": "@jupyter-widgets/controls",
          "model_name": "DescriptionStyleModel",
          "model_module_version": "1.5.0",
          "state": {
            "_model_module": "@jupyter-widgets/controls",
            "_model_module_version": "1.5.0",
            "_model_name": "DescriptionStyleModel",
            "_view_count": null,
            "_view_module": "@jupyter-widgets/base",
            "_view_module_version": "1.2.0",
            "_view_name": "StyleView",
            "description_width": ""
          }
        },
        "ffeb98af866945299cd884f361fdce91": {
          "model_module": "@jupyter-widgets/base",
          "model_name": "LayoutModel",
          "model_module_version": "1.2.0",
          "state": {
            "_model_module": "@jupyter-widgets/base",
            "_model_module_version": "1.2.0",
            "_model_name": "LayoutModel",
            "_view_count": null,
            "_view_module": "@jupyter-widgets/base",
            "_view_module_version": "1.2.0",
            "_view_name": "LayoutView",
            "align_content": null,
            "align_items": null,
            "align_self": null,
            "border": null,
            "bottom": null,
            "display": null,
            "flex": null,
            "flex_flow": null,
            "grid_area": null,
            "grid_auto_columns": null,
            "grid_auto_flow": null,
            "grid_auto_rows": null,
            "grid_column": null,
            "grid_gap": null,
            "grid_row": null,
            "grid_template_areas": null,
            "grid_template_columns": null,
            "grid_template_rows": null,
            "height": null,
            "justify_content": null,
            "justify_items": null,
            "left": null,
            "margin": null,
            "max_height": null,
            "max_width": null,
            "min_height": null,
            "min_width": null,
            "object_fit": null,
            "object_position": null,
            "order": null,
            "overflow": null,
            "overflow_x": null,
            "overflow_y": null,
            "padding": null,
            "right": null,
            "top": null,
            "visibility": null,
            "width": null
          }
        },
        "65df9d1dd0ca4f2f914658895bf518da": {
          "model_module": "@jupyter-widgets/controls",
          "model_name": "ProgressStyleModel",
          "model_module_version": "1.5.0",
          "state": {
            "_model_module": "@jupyter-widgets/controls",
            "_model_module_version": "1.5.0",
            "_model_name": "ProgressStyleModel",
            "_view_count": null,
            "_view_module": "@jupyter-widgets/base",
            "_view_module_version": "1.2.0",
            "_view_name": "StyleView",
            "bar_color": null,
            "description_width": ""
          }
        },
        "691ca03300754be09b07d1ac6f29a999": {
          "model_module": "@jupyter-widgets/base",
          "model_name": "LayoutModel",
          "model_module_version": "1.2.0",
          "state": {
            "_model_module": "@jupyter-widgets/base",
            "_model_module_version": "1.2.0",
            "_model_name": "LayoutModel",
            "_view_count": null,
            "_view_module": "@jupyter-widgets/base",
            "_view_module_version": "1.2.0",
            "_view_name": "LayoutView",
            "align_content": null,
            "align_items": null,
            "align_self": null,
            "border": null,
            "bottom": null,
            "display": null,
            "flex": null,
            "flex_flow": null,
            "grid_area": null,
            "grid_auto_columns": null,
            "grid_auto_flow": null,
            "grid_auto_rows": null,
            "grid_column": null,
            "grid_gap": null,
            "grid_row": null,
            "grid_template_areas": null,
            "grid_template_columns": null,
            "grid_template_rows": null,
            "height": null,
            "justify_content": null,
            "justify_items": null,
            "left": null,
            "margin": null,
            "max_height": null,
            "max_width": null,
            "min_height": null,
            "min_width": null,
            "object_fit": null,
            "object_position": null,
            "order": null,
            "overflow": null,
            "overflow_x": null,
            "overflow_y": null,
            "padding": null,
            "right": null,
            "top": null,
            "visibility": null,
            "width": null
          }
        },
        "687f1cc2011a4edf934cf518e5fab935": {
          "model_module": "@jupyter-widgets/controls",
          "model_name": "DescriptionStyleModel",
          "model_module_version": "1.5.0",
          "state": {
            "_model_module": "@jupyter-widgets/controls",
            "_model_module_version": "1.5.0",
            "_model_name": "DescriptionStyleModel",
            "_view_count": null,
            "_view_module": "@jupyter-widgets/base",
            "_view_module_version": "1.2.0",
            "_view_name": "StyleView",
            "description_width": ""
          }
        },
        "4dcdf68a96414800bffa967a0dc37a58": {
          "model_module": "@jupyter-widgets/controls",
          "model_name": "HBoxModel",
          "model_module_version": "1.5.0",
          "state": {
            "_dom_classes": [],
            "_model_module": "@jupyter-widgets/controls",
            "_model_module_version": "1.5.0",
            "_model_name": "HBoxModel",
            "_view_count": null,
            "_view_module": "@jupyter-widgets/controls",
            "_view_module_version": "1.5.0",
            "_view_name": "HBoxView",
            "box_style": "",
            "children": [
              "IPY_MODEL_a8f51cc5a91940f79936e9a6d86f4606",
              "IPY_MODEL_2037b03f20214c4eb5752a58ef997b32",
              "IPY_MODEL_e60ccb1aff854c4db410dac4d19ce0b5"
            ],
            "layout": "IPY_MODEL_95127ba8edc141f0b7e3bd20a0e853b7"
          }
        },
        "a8f51cc5a91940f79936e9a6d86f4606": {
          "model_module": "@jupyter-widgets/controls",
          "model_name": "HTMLModel",
          "model_module_version": "1.5.0",
          "state": {
            "_dom_classes": [],
            "_model_module": "@jupyter-widgets/controls",
            "_model_module_version": "1.5.0",
            "_model_name": "HTMLModel",
            "_view_count": null,
            "_view_module": "@jupyter-widgets/controls",
            "_view_module_version": "1.5.0",
            "_view_name": "HTMLView",
            "description": "",
            "description_tooltip": null,
            "layout": "IPY_MODEL_4d44d37c32aa41a69367927cdee8bfb5",
            "placeholder": "​",
            "style": "IPY_MODEL_468306b5f1ec4501886ff44d61946600",
            "value": "Downloading (…)lve/main/config.json: 100%"
          }
        },
        "2037b03f20214c4eb5752a58ef997b32": {
          "model_module": "@jupyter-widgets/controls",
          "model_name": "FloatProgressModel",
          "model_module_version": "1.5.0",
          "state": {
            "_dom_classes": [],
            "_model_module": "@jupyter-widgets/controls",
            "_model_module_version": "1.5.0",
            "_model_name": "FloatProgressModel",
            "_view_count": null,
            "_view_module": "@jupyter-widgets/controls",
            "_view_module_version": "1.5.0",
            "_view_name": "ProgressView",
            "bar_style": "success",
            "description": "",
            "description_tooltip": null,
            "layout": "IPY_MODEL_2bba671338d64797aa4a9bd1d200f669",
            "max": 612,
            "min": 0,
            "orientation": "horizontal",
            "style": "IPY_MODEL_38d44198e62d40f09a9a37ef656aae3b",
            "value": 612
          }
        },
        "e60ccb1aff854c4db410dac4d19ce0b5": {
          "model_module": "@jupyter-widgets/controls",
          "model_name": "HTMLModel",
          "model_module_version": "1.5.0",
          "state": {
            "_dom_classes": [],
            "_model_module": "@jupyter-widgets/controls",
            "_model_module_version": "1.5.0",
            "_model_name": "HTMLModel",
            "_view_count": null,
            "_view_module": "@jupyter-widgets/controls",
            "_view_module_version": "1.5.0",
            "_view_name": "HTMLView",
            "description": "",
            "description_tooltip": null,
            "layout": "IPY_MODEL_1d35f2738d264240bd1d84234754724b",
            "placeholder": "​",
            "style": "IPY_MODEL_cb5535056ffc477ebb987db6f8829e09",
            "value": " 612/612 [00:00&lt;00:00, 6.37kB/s]"
          }
        },
        "95127ba8edc141f0b7e3bd20a0e853b7": {
          "model_module": "@jupyter-widgets/base",
          "model_name": "LayoutModel",
          "model_module_version": "1.2.0",
          "state": {
            "_model_module": "@jupyter-widgets/base",
            "_model_module_version": "1.2.0",
            "_model_name": "LayoutModel",
            "_view_count": null,
            "_view_module": "@jupyter-widgets/base",
            "_view_module_version": "1.2.0",
            "_view_name": "LayoutView",
            "align_content": null,
            "align_items": null,
            "align_self": null,
            "border": null,
            "bottom": null,
            "display": null,
            "flex": null,
            "flex_flow": null,
            "grid_area": null,
            "grid_auto_columns": null,
            "grid_auto_flow": null,
            "grid_auto_rows": null,
            "grid_column": null,
            "grid_gap": null,
            "grid_row": null,
            "grid_template_areas": null,
            "grid_template_columns": null,
            "grid_template_rows": null,
            "height": null,
            "justify_content": null,
            "justify_items": null,
            "left": null,
            "margin": null,
            "max_height": null,
            "max_width": null,
            "min_height": null,
            "min_width": null,
            "object_fit": null,
            "object_position": null,
            "order": null,
            "overflow": null,
            "overflow_x": null,
            "overflow_y": null,
            "padding": null,
            "right": null,
            "top": null,
            "visibility": null,
            "width": null
          }
        },
        "4d44d37c32aa41a69367927cdee8bfb5": {
          "model_module": "@jupyter-widgets/base",
          "model_name": "LayoutModel",
          "model_module_version": "1.2.0",
          "state": {
            "_model_module": "@jupyter-widgets/base",
            "_model_module_version": "1.2.0",
            "_model_name": "LayoutModel",
            "_view_count": null,
            "_view_module": "@jupyter-widgets/base",
            "_view_module_version": "1.2.0",
            "_view_name": "LayoutView",
            "align_content": null,
            "align_items": null,
            "align_self": null,
            "border": null,
            "bottom": null,
            "display": null,
            "flex": null,
            "flex_flow": null,
            "grid_area": null,
            "grid_auto_columns": null,
            "grid_auto_flow": null,
            "grid_auto_rows": null,
            "grid_column": null,
            "grid_gap": null,
            "grid_row": null,
            "grid_template_areas": null,
            "grid_template_columns": null,
            "grid_template_rows": null,
            "height": null,
            "justify_content": null,
            "justify_items": null,
            "left": null,
            "margin": null,
            "max_height": null,
            "max_width": null,
            "min_height": null,
            "min_width": null,
            "object_fit": null,
            "object_position": null,
            "order": null,
            "overflow": null,
            "overflow_x": null,
            "overflow_y": null,
            "padding": null,
            "right": null,
            "top": null,
            "visibility": null,
            "width": null
          }
        },
        "468306b5f1ec4501886ff44d61946600": {
          "model_module": "@jupyter-widgets/controls",
          "model_name": "DescriptionStyleModel",
          "model_module_version": "1.5.0",
          "state": {
            "_model_module": "@jupyter-widgets/controls",
            "_model_module_version": "1.5.0",
            "_model_name": "DescriptionStyleModel",
            "_view_count": null,
            "_view_module": "@jupyter-widgets/base",
            "_view_module_version": "1.2.0",
            "_view_name": "StyleView",
            "description_width": ""
          }
        },
        "2bba671338d64797aa4a9bd1d200f669": {
          "model_module": "@jupyter-widgets/base",
          "model_name": "LayoutModel",
          "model_module_version": "1.2.0",
          "state": {
            "_model_module": "@jupyter-widgets/base",
            "_model_module_version": "1.2.0",
            "_model_name": "LayoutModel",
            "_view_count": null,
            "_view_module": "@jupyter-widgets/base",
            "_view_module_version": "1.2.0",
            "_view_name": "LayoutView",
            "align_content": null,
            "align_items": null,
            "align_self": null,
            "border": null,
            "bottom": null,
            "display": null,
            "flex": null,
            "flex_flow": null,
            "grid_area": null,
            "grid_auto_columns": null,
            "grid_auto_flow": null,
            "grid_auto_rows": null,
            "grid_column": null,
            "grid_gap": null,
            "grid_row": null,
            "grid_template_areas": null,
            "grid_template_columns": null,
            "grid_template_rows": null,
            "height": null,
            "justify_content": null,
            "justify_items": null,
            "left": null,
            "margin": null,
            "max_height": null,
            "max_width": null,
            "min_height": null,
            "min_width": null,
            "object_fit": null,
            "object_position": null,
            "order": null,
            "overflow": null,
            "overflow_x": null,
            "overflow_y": null,
            "padding": null,
            "right": null,
            "top": null,
            "visibility": null,
            "width": null
          }
        },
        "38d44198e62d40f09a9a37ef656aae3b": {
          "model_module": "@jupyter-widgets/controls",
          "model_name": "ProgressStyleModel",
          "model_module_version": "1.5.0",
          "state": {
            "_model_module": "@jupyter-widgets/controls",
            "_model_module_version": "1.5.0",
            "_model_name": "ProgressStyleModel",
            "_view_count": null,
            "_view_module": "@jupyter-widgets/base",
            "_view_module_version": "1.2.0",
            "_view_name": "StyleView",
            "bar_color": null,
            "description_width": ""
          }
        },
        "1d35f2738d264240bd1d84234754724b": {
          "model_module": "@jupyter-widgets/base",
          "model_name": "LayoutModel",
          "model_module_version": "1.2.0",
          "state": {
            "_model_module": "@jupyter-widgets/base",
            "_model_module_version": "1.2.0",
            "_model_name": "LayoutModel",
            "_view_count": null,
            "_view_module": "@jupyter-widgets/base",
            "_view_module_version": "1.2.0",
            "_view_name": "LayoutView",
            "align_content": null,
            "align_items": null,
            "align_self": null,
            "border": null,
            "bottom": null,
            "display": null,
            "flex": null,
            "flex_flow": null,
            "grid_area": null,
            "grid_auto_columns": null,
            "grid_auto_flow": null,
            "grid_auto_rows": null,
            "grid_column": null,
            "grid_gap": null,
            "grid_row": null,
            "grid_template_areas": null,
            "grid_template_columns": null,
            "grid_template_rows": null,
            "height": null,
            "justify_content": null,
            "justify_items": null,
            "left": null,
            "margin": null,
            "max_height": null,
            "max_width": null,
            "min_height": null,
            "min_width": null,
            "object_fit": null,
            "object_position": null,
            "order": null,
            "overflow": null,
            "overflow_x": null,
            "overflow_y": null,
            "padding": null,
            "right": null,
            "top": null,
            "visibility": null,
            "width": null
          }
        },
        "cb5535056ffc477ebb987db6f8829e09": {
          "model_module": "@jupyter-widgets/controls",
          "model_name": "DescriptionStyleModel",
          "model_module_version": "1.5.0",
          "state": {
            "_model_module": "@jupyter-widgets/controls",
            "_model_module_version": "1.5.0",
            "_model_name": "DescriptionStyleModel",
            "_view_count": null,
            "_view_module": "@jupyter-widgets/base",
            "_view_module_version": "1.2.0",
            "_view_name": "StyleView",
            "description_width": ""
          }
        },
        "e0635faf3a2b448681b89067b251f26c": {
          "model_module": "@jupyter-widgets/controls",
          "model_name": "HBoxModel",
          "model_module_version": "1.5.0",
          "state": {
            "_dom_classes": [],
            "_model_module": "@jupyter-widgets/controls",
            "_model_module_version": "1.5.0",
            "_model_name": "HBoxModel",
            "_view_count": null,
            "_view_module": "@jupyter-widgets/controls",
            "_view_module_version": "1.5.0",
            "_view_name": "HBoxView",
            "box_style": "",
            "children": [
              "IPY_MODEL_1030647f19884548bf8ce7c350e5fad3",
              "IPY_MODEL_e9c9580a278940c7a67e973a0ebfb04a",
              "IPY_MODEL_f5b129d7cede4a3c8ceb53948df001bb"
            ],
            "layout": "IPY_MODEL_3f0c51a283204936bf5d04b6f942bf98"
          }
        },
        "1030647f19884548bf8ce7c350e5fad3": {
          "model_module": "@jupyter-widgets/controls",
          "model_name": "HTMLModel",
          "model_module_version": "1.5.0",
          "state": {
            "_dom_classes": [],
            "_model_module": "@jupyter-widgets/controls",
            "_model_module_version": "1.5.0",
            "_model_name": "HTMLModel",
            "_view_count": null,
            "_view_module": "@jupyter-widgets/controls",
            "_view_module_version": "1.5.0",
            "_view_name": "HTMLView",
            "description": "",
            "description_tooltip": null,
            "layout": "IPY_MODEL_bdb57c637dd94d91bbdaa66e00b27210",
            "placeholder": "​",
            "style": "IPY_MODEL_c468cc14fa6a49eb8494157a1ce9b89c",
            "value": "Downloading pytorch_model.bin: 100%"
          }
        },
        "e9c9580a278940c7a67e973a0ebfb04a": {
          "model_module": "@jupyter-widgets/controls",
          "model_name": "FloatProgressModel",
          "model_module_version": "1.5.0",
          "state": {
            "_dom_classes": [],
            "_model_module": "@jupyter-widgets/controls",
            "_model_module_version": "1.5.0",
            "_model_name": "FloatProgressModel",
            "_view_count": null,
            "_view_module": "@jupyter-widgets/controls",
            "_view_module_version": "1.5.0",
            "_view_name": "ProgressView",
            "bar_style": "success",
            "description": "",
            "description_tooltip": null,
            "layout": "IPY_MODEL_e59df5e52e114b8aa5b784fb4f9de2f8",
            "max": 267871721,
            "min": 0,
            "orientation": "horizontal",
            "style": "IPY_MODEL_5c07a102a34b42fb9fa7741cdcf5e22c",
            "value": 267871721
          }
        },
        "f5b129d7cede4a3c8ceb53948df001bb": {
          "model_module": "@jupyter-widgets/controls",
          "model_name": "HTMLModel",
          "model_module_version": "1.5.0",
          "state": {
            "_dom_classes": [],
            "_model_module": "@jupyter-widgets/controls",
            "_model_module_version": "1.5.0",
            "_model_name": "HTMLModel",
            "_view_count": null,
            "_view_module": "@jupyter-widgets/controls",
            "_view_module_version": "1.5.0",
            "_view_name": "HTMLView",
            "description": "",
            "description_tooltip": null,
            "layout": "IPY_MODEL_c01628882c574a1788c9980f7f899234",
            "placeholder": "​",
            "style": "IPY_MODEL_1110a82c56934a5b9c45e919b63a7aab",
            "value": " 268M/268M [00:07&lt;00:00, 39.4MB/s]"
          }
        },
        "3f0c51a283204936bf5d04b6f942bf98": {
          "model_module": "@jupyter-widgets/base",
          "model_name": "LayoutModel",
          "model_module_version": "1.2.0",
          "state": {
            "_model_module": "@jupyter-widgets/base",
            "_model_module_version": "1.2.0",
            "_model_name": "LayoutModel",
            "_view_count": null,
            "_view_module": "@jupyter-widgets/base",
            "_view_module_version": "1.2.0",
            "_view_name": "LayoutView",
            "align_content": null,
            "align_items": null,
            "align_self": null,
            "border": null,
            "bottom": null,
            "display": null,
            "flex": null,
            "flex_flow": null,
            "grid_area": null,
            "grid_auto_columns": null,
            "grid_auto_flow": null,
            "grid_auto_rows": null,
            "grid_column": null,
            "grid_gap": null,
            "grid_row": null,
            "grid_template_areas": null,
            "grid_template_columns": null,
            "grid_template_rows": null,
            "height": null,
            "justify_content": null,
            "justify_items": null,
            "left": null,
            "margin": null,
            "max_height": null,
            "max_width": null,
            "min_height": null,
            "min_width": null,
            "object_fit": null,
            "object_position": null,
            "order": null,
            "overflow": null,
            "overflow_x": null,
            "overflow_y": null,
            "padding": null,
            "right": null,
            "top": null,
            "visibility": null,
            "width": null
          }
        },
        "bdb57c637dd94d91bbdaa66e00b27210": {
          "model_module": "@jupyter-widgets/base",
          "model_name": "LayoutModel",
          "model_module_version": "1.2.0",
          "state": {
            "_model_module": "@jupyter-widgets/base",
            "_model_module_version": "1.2.0",
            "_model_name": "LayoutModel",
            "_view_count": null,
            "_view_module": "@jupyter-widgets/base",
            "_view_module_version": "1.2.0",
            "_view_name": "LayoutView",
            "align_content": null,
            "align_items": null,
            "align_self": null,
            "border": null,
            "bottom": null,
            "display": null,
            "flex": null,
            "flex_flow": null,
            "grid_area": null,
            "grid_auto_columns": null,
            "grid_auto_flow": null,
            "grid_auto_rows": null,
            "grid_column": null,
            "grid_gap": null,
            "grid_row": null,
            "grid_template_areas": null,
            "grid_template_columns": null,
            "grid_template_rows": null,
            "height": null,
            "justify_content": null,
            "justify_items": null,
            "left": null,
            "margin": null,
            "max_height": null,
            "max_width": null,
            "min_height": null,
            "min_width": null,
            "object_fit": null,
            "object_position": null,
            "order": null,
            "overflow": null,
            "overflow_x": null,
            "overflow_y": null,
            "padding": null,
            "right": null,
            "top": null,
            "visibility": null,
            "width": null
          }
        },
        "c468cc14fa6a49eb8494157a1ce9b89c": {
          "model_module": "@jupyter-widgets/controls",
          "model_name": "DescriptionStyleModel",
          "model_module_version": "1.5.0",
          "state": {
            "_model_module": "@jupyter-widgets/controls",
            "_model_module_version": "1.5.0",
            "_model_name": "DescriptionStyleModel",
            "_view_count": null,
            "_view_module": "@jupyter-widgets/base",
            "_view_module_version": "1.2.0",
            "_view_name": "StyleView",
            "description_width": ""
          }
        },
        "e59df5e52e114b8aa5b784fb4f9de2f8": {
          "model_module": "@jupyter-widgets/base",
          "model_name": "LayoutModel",
          "model_module_version": "1.2.0",
          "state": {
            "_model_module": "@jupyter-widgets/base",
            "_model_module_version": "1.2.0",
            "_model_name": "LayoutModel",
            "_view_count": null,
            "_view_module": "@jupyter-widgets/base",
            "_view_module_version": "1.2.0",
            "_view_name": "LayoutView",
            "align_content": null,
            "align_items": null,
            "align_self": null,
            "border": null,
            "bottom": null,
            "display": null,
            "flex": null,
            "flex_flow": null,
            "grid_area": null,
            "grid_auto_columns": null,
            "grid_auto_flow": null,
            "grid_auto_rows": null,
            "grid_column": null,
            "grid_gap": null,
            "grid_row": null,
            "grid_template_areas": null,
            "grid_template_columns": null,
            "grid_template_rows": null,
            "height": null,
            "justify_content": null,
            "justify_items": null,
            "left": null,
            "margin": null,
            "max_height": null,
            "max_width": null,
            "min_height": null,
            "min_width": null,
            "object_fit": null,
            "object_position": null,
            "order": null,
            "overflow": null,
            "overflow_x": null,
            "overflow_y": null,
            "padding": null,
            "right": null,
            "top": null,
            "visibility": null,
            "width": null
          }
        },
        "5c07a102a34b42fb9fa7741cdcf5e22c": {
          "model_module": "@jupyter-widgets/controls",
          "model_name": "ProgressStyleModel",
          "model_module_version": "1.5.0",
          "state": {
            "_model_module": "@jupyter-widgets/controls",
            "_model_module_version": "1.5.0",
            "_model_name": "ProgressStyleModel",
            "_view_count": null,
            "_view_module": "@jupyter-widgets/base",
            "_view_module_version": "1.2.0",
            "_view_name": "StyleView",
            "bar_color": null,
            "description_width": ""
          }
        },
        "c01628882c574a1788c9980f7f899234": {
          "model_module": "@jupyter-widgets/base",
          "model_name": "LayoutModel",
          "model_module_version": "1.2.0",
          "state": {
            "_model_module": "@jupyter-widgets/base",
            "_model_module_version": "1.2.0",
            "_model_name": "LayoutModel",
            "_view_count": null,
            "_view_module": "@jupyter-widgets/base",
            "_view_module_version": "1.2.0",
            "_view_name": "LayoutView",
            "align_content": null,
            "align_items": null,
            "align_self": null,
            "border": null,
            "bottom": null,
            "display": null,
            "flex": null,
            "flex_flow": null,
            "grid_area": null,
            "grid_auto_columns": null,
            "grid_auto_flow": null,
            "grid_auto_rows": null,
            "grid_column": null,
            "grid_gap": null,
            "grid_row": null,
            "grid_template_areas": null,
            "grid_template_columns": null,
            "grid_template_rows": null,
            "height": null,
            "justify_content": null,
            "justify_items": null,
            "left": null,
            "margin": null,
            "max_height": null,
            "max_width": null,
            "min_height": null,
            "min_width": null,
            "object_fit": null,
            "object_position": null,
            "order": null,
            "overflow": null,
            "overflow_x": null,
            "overflow_y": null,
            "padding": null,
            "right": null,
            "top": null,
            "visibility": null,
            "width": null
          }
        },
        "1110a82c56934a5b9c45e919b63a7aab": {
          "model_module": "@jupyter-widgets/controls",
          "model_name": "DescriptionStyleModel",
          "model_module_version": "1.5.0",
          "state": {
            "_model_module": "@jupyter-widgets/controls",
            "_model_module_version": "1.5.0",
            "_model_name": "DescriptionStyleModel",
            "_view_count": null,
            "_view_module": "@jupyter-widgets/base",
            "_view_module_version": "1.2.0",
            "_view_name": "StyleView",
            "description_width": ""
          }
        },
        "0610b1dad4cc4464aabfd4aece5bb201": {
          "model_module": "@jupyter-widgets/controls",
          "model_name": "HBoxModel",
          "model_module_version": "1.5.0",
          "state": {
            "_dom_classes": [],
            "_model_module": "@jupyter-widgets/controls",
            "_model_module_version": "1.5.0",
            "_model_name": "HBoxModel",
            "_view_count": null,
            "_view_module": "@jupyter-widgets/controls",
            "_view_module_version": "1.5.0",
            "_view_name": "HBoxView",
            "box_style": "",
            "children": [
              "IPY_MODEL_7624e9de28d54ab4a55c348c6d39c394",
              "IPY_MODEL_dc817769add748a791423171c3723d0a",
              "IPY_MODEL_ee3ebee2939b4a41b0af72570d4214ba"
            ],
            "layout": "IPY_MODEL_2558ce16cb684f32b2cf8ebdcfcbf40a"
          }
        },
        "7624e9de28d54ab4a55c348c6d39c394": {
          "model_module": "@jupyter-widgets/controls",
          "model_name": "HTMLModel",
          "model_module_version": "1.5.0",
          "state": {
            "_dom_classes": [],
            "_model_module": "@jupyter-widgets/controls",
            "_model_module_version": "1.5.0",
            "_model_name": "HTMLModel",
            "_view_count": null,
            "_view_module": "@jupyter-widgets/controls",
            "_view_module_version": "1.5.0",
            "_view_name": "HTMLView",
            "description": "",
            "description_tooltip": null,
            "layout": "IPY_MODEL_3853ea90e6794346b0bfdd2799fb6ee7",
            "placeholder": "​",
            "style": "IPY_MODEL_73278d9f318346a3bd08feead881cc2a",
            "value": "Downloading (…)okenizer_config.json: 100%"
          }
        },
        "dc817769add748a791423171c3723d0a": {
          "model_module": "@jupyter-widgets/controls",
          "model_name": "FloatProgressModel",
          "model_module_version": "1.5.0",
          "state": {
            "_dom_classes": [],
            "_model_module": "@jupyter-widgets/controls",
            "_model_module_version": "1.5.0",
            "_model_name": "FloatProgressModel",
            "_view_count": null,
            "_view_module": "@jupyter-widgets/controls",
            "_view_module_version": "1.5.0",
            "_view_name": "ProgressView",
            "bar_style": "success",
            "description": "",
            "description_tooltip": null,
            "layout": "IPY_MODEL_469ed7e1292c4538a394b414574ca638",
            "max": 541,
            "min": 0,
            "orientation": "horizontal",
            "style": "IPY_MODEL_dcabe2659dee49ecaecc76839629b0c1",
            "value": 541
          }
        },
        "ee3ebee2939b4a41b0af72570d4214ba": {
          "model_module": "@jupyter-widgets/controls",
          "model_name": "HTMLModel",
          "model_module_version": "1.5.0",
          "state": {
            "_dom_classes": [],
            "_model_module": "@jupyter-widgets/controls",
            "_model_module_version": "1.5.0",
            "_model_name": "HTMLModel",
            "_view_count": null,
            "_view_module": "@jupyter-widgets/controls",
            "_view_module_version": "1.5.0",
            "_view_name": "HTMLView",
            "description": "",
            "description_tooltip": null,
            "layout": "IPY_MODEL_a69fbdfc19f94600b8ed0118da3e0e5e",
            "placeholder": "​",
            "style": "IPY_MODEL_74733f8aeb11482387339beae706ebd2",
            "value": " 541/541 [00:00&lt;00:00, 9.80kB/s]"
          }
        },
        "2558ce16cb684f32b2cf8ebdcfcbf40a": {
          "model_module": "@jupyter-widgets/base",
          "model_name": "LayoutModel",
          "model_module_version": "1.2.0",
          "state": {
            "_model_module": "@jupyter-widgets/base",
            "_model_module_version": "1.2.0",
            "_model_name": "LayoutModel",
            "_view_count": null,
            "_view_module": "@jupyter-widgets/base",
            "_view_module_version": "1.2.0",
            "_view_name": "LayoutView",
            "align_content": null,
            "align_items": null,
            "align_self": null,
            "border": null,
            "bottom": null,
            "display": null,
            "flex": null,
            "flex_flow": null,
            "grid_area": null,
            "grid_auto_columns": null,
            "grid_auto_flow": null,
            "grid_auto_rows": null,
            "grid_column": null,
            "grid_gap": null,
            "grid_row": null,
            "grid_template_areas": null,
            "grid_template_columns": null,
            "grid_template_rows": null,
            "height": null,
            "justify_content": null,
            "justify_items": null,
            "left": null,
            "margin": null,
            "max_height": null,
            "max_width": null,
            "min_height": null,
            "min_width": null,
            "object_fit": null,
            "object_position": null,
            "order": null,
            "overflow": null,
            "overflow_x": null,
            "overflow_y": null,
            "padding": null,
            "right": null,
            "top": null,
            "visibility": null,
            "width": null
          }
        },
        "3853ea90e6794346b0bfdd2799fb6ee7": {
          "model_module": "@jupyter-widgets/base",
          "model_name": "LayoutModel",
          "model_module_version": "1.2.0",
          "state": {
            "_model_module": "@jupyter-widgets/base",
            "_model_module_version": "1.2.0",
            "_model_name": "LayoutModel",
            "_view_count": null,
            "_view_module": "@jupyter-widgets/base",
            "_view_module_version": "1.2.0",
            "_view_name": "LayoutView",
            "align_content": null,
            "align_items": null,
            "align_self": null,
            "border": null,
            "bottom": null,
            "display": null,
            "flex": null,
            "flex_flow": null,
            "grid_area": null,
            "grid_auto_columns": null,
            "grid_auto_flow": null,
            "grid_auto_rows": null,
            "grid_column": null,
            "grid_gap": null,
            "grid_row": null,
            "grid_template_areas": null,
            "grid_template_columns": null,
            "grid_template_rows": null,
            "height": null,
            "justify_content": null,
            "justify_items": null,
            "left": null,
            "margin": null,
            "max_height": null,
            "max_width": null,
            "min_height": null,
            "min_width": null,
            "object_fit": null,
            "object_position": null,
            "order": null,
            "overflow": null,
            "overflow_x": null,
            "overflow_y": null,
            "padding": null,
            "right": null,
            "top": null,
            "visibility": null,
            "width": null
          }
        },
        "73278d9f318346a3bd08feead881cc2a": {
          "model_module": "@jupyter-widgets/controls",
          "model_name": "DescriptionStyleModel",
          "model_module_version": "1.5.0",
          "state": {
            "_model_module": "@jupyter-widgets/controls",
            "_model_module_version": "1.5.0",
            "_model_name": "DescriptionStyleModel",
            "_view_count": null,
            "_view_module": "@jupyter-widgets/base",
            "_view_module_version": "1.2.0",
            "_view_name": "StyleView",
            "description_width": ""
          }
        },
        "469ed7e1292c4538a394b414574ca638": {
          "model_module": "@jupyter-widgets/base",
          "model_name": "LayoutModel",
          "model_module_version": "1.2.0",
          "state": {
            "_model_module": "@jupyter-widgets/base",
            "_model_module_version": "1.2.0",
            "_model_name": "LayoutModel",
            "_view_count": null,
            "_view_module": "@jupyter-widgets/base",
            "_view_module_version": "1.2.0",
            "_view_name": "LayoutView",
            "align_content": null,
            "align_items": null,
            "align_self": null,
            "border": null,
            "bottom": null,
            "display": null,
            "flex": null,
            "flex_flow": null,
            "grid_area": null,
            "grid_auto_columns": null,
            "grid_auto_flow": null,
            "grid_auto_rows": null,
            "grid_column": null,
            "grid_gap": null,
            "grid_row": null,
            "grid_template_areas": null,
            "grid_template_columns": null,
            "grid_template_rows": null,
            "height": null,
            "justify_content": null,
            "justify_items": null,
            "left": null,
            "margin": null,
            "max_height": null,
            "max_width": null,
            "min_height": null,
            "min_width": null,
            "object_fit": null,
            "object_position": null,
            "order": null,
            "overflow": null,
            "overflow_x": null,
            "overflow_y": null,
            "padding": null,
            "right": null,
            "top": null,
            "visibility": null,
            "width": null
          }
        },
        "dcabe2659dee49ecaecc76839629b0c1": {
          "model_module": "@jupyter-widgets/controls",
          "model_name": "ProgressStyleModel",
          "model_module_version": "1.5.0",
          "state": {
            "_model_module": "@jupyter-widgets/controls",
            "_model_module_version": "1.5.0",
            "_model_name": "ProgressStyleModel",
            "_view_count": null,
            "_view_module": "@jupyter-widgets/base",
            "_view_module_version": "1.2.0",
            "_view_name": "StyleView",
            "bar_color": null,
            "description_width": ""
          }
        },
        "a69fbdfc19f94600b8ed0118da3e0e5e": {
          "model_module": "@jupyter-widgets/base",
          "model_name": "LayoutModel",
          "model_module_version": "1.2.0",
          "state": {
            "_model_module": "@jupyter-widgets/base",
            "_model_module_version": "1.2.0",
            "_model_name": "LayoutModel",
            "_view_count": null,
            "_view_module": "@jupyter-widgets/base",
            "_view_module_version": "1.2.0",
            "_view_name": "LayoutView",
            "align_content": null,
            "align_items": null,
            "align_self": null,
            "border": null,
            "bottom": null,
            "display": null,
            "flex": null,
            "flex_flow": null,
            "grid_area": null,
            "grid_auto_columns": null,
            "grid_auto_flow": null,
            "grid_auto_rows": null,
            "grid_column": null,
            "grid_gap": null,
            "grid_row": null,
            "grid_template_areas": null,
            "grid_template_columns": null,
            "grid_template_rows": null,
            "height": null,
            "justify_content": null,
            "justify_items": null,
            "left": null,
            "margin": null,
            "max_height": null,
            "max_width": null,
            "min_height": null,
            "min_width": null,
            "object_fit": null,
            "object_position": null,
            "order": null,
            "overflow": null,
            "overflow_x": null,
            "overflow_y": null,
            "padding": null,
            "right": null,
            "top": null,
            "visibility": null,
            "width": null
          }
        },
        "74733f8aeb11482387339beae706ebd2": {
          "model_module": "@jupyter-widgets/controls",
          "model_name": "DescriptionStyleModel",
          "model_module_version": "1.5.0",
          "state": {
            "_model_module": "@jupyter-widgets/controls",
            "_model_module_version": "1.5.0",
            "_model_name": "DescriptionStyleModel",
            "_view_count": null,
            "_view_module": "@jupyter-widgets/base",
            "_view_module_version": "1.2.0",
            "_view_name": "StyleView",
            "description_width": ""
          }
        },
        "0478c3caa3154d50ab1223ea5e1f935d": {
          "model_module": "@jupyter-widgets/controls",
          "model_name": "HBoxModel",
          "model_module_version": "1.5.0",
          "state": {
            "_dom_classes": [],
            "_model_module": "@jupyter-widgets/controls",
            "_model_module_version": "1.5.0",
            "_model_name": "HBoxModel",
            "_view_count": null,
            "_view_module": "@jupyter-widgets/controls",
            "_view_module_version": "1.5.0",
            "_view_name": "HBoxView",
            "box_style": "",
            "children": [
              "IPY_MODEL_d6b529e5563d4adaa6d512b78b2e7d25",
              "IPY_MODEL_144aeee0d5e849b5a0a73e4d1da73269",
              "IPY_MODEL_419e5a5bd55e41e4a0ff68332763f7d3"
            ],
            "layout": "IPY_MODEL_3b622e47b05d4caa8283ab01aaa9ef70"
          }
        },
        "d6b529e5563d4adaa6d512b78b2e7d25": {
          "model_module": "@jupyter-widgets/controls",
          "model_name": "HTMLModel",
          "model_module_version": "1.5.0",
          "state": {
            "_dom_classes": [],
            "_model_module": "@jupyter-widgets/controls",
            "_model_module_version": "1.5.0",
            "_model_name": "HTMLModel",
            "_view_count": null,
            "_view_module": "@jupyter-widgets/controls",
            "_view_module_version": "1.5.0",
            "_view_name": "HTMLView",
            "description": "",
            "description_tooltip": null,
            "layout": "IPY_MODEL_7a891f557bf24c69a4a8d17c297bc111",
            "placeholder": "​",
            "style": "IPY_MODEL_7e61e822b89045749e1a46fcd73958b9",
            "value": "Downloading (…)solve/main/vocab.txt: 100%"
          }
        },
        "144aeee0d5e849b5a0a73e4d1da73269": {
          "model_module": "@jupyter-widgets/controls",
          "model_name": "FloatProgressModel",
          "model_module_version": "1.5.0",
          "state": {
            "_dom_classes": [],
            "_model_module": "@jupyter-widgets/controls",
            "_model_module_version": "1.5.0",
            "_model_name": "FloatProgressModel",
            "_view_count": null,
            "_view_module": "@jupyter-widgets/controls",
            "_view_module_version": "1.5.0",
            "_view_name": "ProgressView",
            "bar_style": "success",
            "description": "",
            "description_tooltip": null,
            "layout": "IPY_MODEL_5960519abe29496cac7dde8d13893d12",
            "max": 231508,
            "min": 0,
            "orientation": "horizontal",
            "style": "IPY_MODEL_2a4d6fc5d81149c9a8eef7d466e1953e",
            "value": 231508
          }
        },
        "419e5a5bd55e41e4a0ff68332763f7d3": {
          "model_module": "@jupyter-widgets/controls",
          "model_name": "HTMLModel",
          "model_module_version": "1.5.0",
          "state": {
            "_dom_classes": [],
            "_model_module": "@jupyter-widgets/controls",
            "_model_module_version": "1.5.0",
            "_model_name": "HTMLModel",
            "_view_count": null,
            "_view_module": "@jupyter-widgets/controls",
            "_view_module_version": "1.5.0",
            "_view_name": "HTMLView",
            "description": "",
            "description_tooltip": null,
            "layout": "IPY_MODEL_14c5667859d34e3ba5f1de603bd59431",
            "placeholder": "​",
            "style": "IPY_MODEL_631a5914679845a08f8e60b2e28f74eb",
            "value": " 232k/232k [00:00&lt;00:00, 883kB/s]"
          }
        },
        "3b622e47b05d4caa8283ab01aaa9ef70": {
          "model_module": "@jupyter-widgets/base",
          "model_name": "LayoutModel",
          "model_module_version": "1.2.0",
          "state": {
            "_model_module": "@jupyter-widgets/base",
            "_model_module_version": "1.2.0",
            "_model_name": "LayoutModel",
            "_view_count": null,
            "_view_module": "@jupyter-widgets/base",
            "_view_module_version": "1.2.0",
            "_view_name": "LayoutView",
            "align_content": null,
            "align_items": null,
            "align_self": null,
            "border": null,
            "bottom": null,
            "display": null,
            "flex": null,
            "flex_flow": null,
            "grid_area": null,
            "grid_auto_columns": null,
            "grid_auto_flow": null,
            "grid_auto_rows": null,
            "grid_column": null,
            "grid_gap": null,
            "grid_row": null,
            "grid_template_areas": null,
            "grid_template_columns": null,
            "grid_template_rows": null,
            "height": null,
            "justify_content": null,
            "justify_items": null,
            "left": null,
            "margin": null,
            "max_height": null,
            "max_width": null,
            "min_height": null,
            "min_width": null,
            "object_fit": null,
            "object_position": null,
            "order": null,
            "overflow": null,
            "overflow_x": null,
            "overflow_y": null,
            "padding": null,
            "right": null,
            "top": null,
            "visibility": null,
            "width": null
          }
        },
        "7a891f557bf24c69a4a8d17c297bc111": {
          "model_module": "@jupyter-widgets/base",
          "model_name": "LayoutModel",
          "model_module_version": "1.2.0",
          "state": {
            "_model_module": "@jupyter-widgets/base",
            "_model_module_version": "1.2.0",
            "_model_name": "LayoutModel",
            "_view_count": null,
            "_view_module": "@jupyter-widgets/base",
            "_view_module_version": "1.2.0",
            "_view_name": "LayoutView",
            "align_content": null,
            "align_items": null,
            "align_self": null,
            "border": null,
            "bottom": null,
            "display": null,
            "flex": null,
            "flex_flow": null,
            "grid_area": null,
            "grid_auto_columns": null,
            "grid_auto_flow": null,
            "grid_auto_rows": null,
            "grid_column": null,
            "grid_gap": null,
            "grid_row": null,
            "grid_template_areas": null,
            "grid_template_columns": null,
            "grid_template_rows": null,
            "height": null,
            "justify_content": null,
            "justify_items": null,
            "left": null,
            "margin": null,
            "max_height": null,
            "max_width": null,
            "min_height": null,
            "min_width": null,
            "object_fit": null,
            "object_position": null,
            "order": null,
            "overflow": null,
            "overflow_x": null,
            "overflow_y": null,
            "padding": null,
            "right": null,
            "top": null,
            "visibility": null,
            "width": null
          }
        },
        "7e61e822b89045749e1a46fcd73958b9": {
          "model_module": "@jupyter-widgets/controls",
          "model_name": "DescriptionStyleModel",
          "model_module_version": "1.5.0",
          "state": {
            "_model_module": "@jupyter-widgets/controls",
            "_model_module_version": "1.5.0",
            "_model_name": "DescriptionStyleModel",
            "_view_count": null,
            "_view_module": "@jupyter-widgets/base",
            "_view_module_version": "1.2.0",
            "_view_name": "StyleView",
            "description_width": ""
          }
        },
        "5960519abe29496cac7dde8d13893d12": {
          "model_module": "@jupyter-widgets/base",
          "model_name": "LayoutModel",
          "model_module_version": "1.2.0",
          "state": {
            "_model_module": "@jupyter-widgets/base",
            "_model_module_version": "1.2.0",
            "_model_name": "LayoutModel",
            "_view_count": null,
            "_view_module": "@jupyter-widgets/base",
            "_view_module_version": "1.2.0",
            "_view_name": "LayoutView",
            "align_content": null,
            "align_items": null,
            "align_self": null,
            "border": null,
            "bottom": null,
            "display": null,
            "flex": null,
            "flex_flow": null,
            "grid_area": null,
            "grid_auto_columns": null,
            "grid_auto_flow": null,
            "grid_auto_rows": null,
            "grid_column": null,
            "grid_gap": null,
            "grid_row": null,
            "grid_template_areas": null,
            "grid_template_columns": null,
            "grid_template_rows": null,
            "height": null,
            "justify_content": null,
            "justify_items": null,
            "left": null,
            "margin": null,
            "max_height": null,
            "max_width": null,
            "min_height": null,
            "min_width": null,
            "object_fit": null,
            "object_position": null,
            "order": null,
            "overflow": null,
            "overflow_x": null,
            "overflow_y": null,
            "padding": null,
            "right": null,
            "top": null,
            "visibility": null,
            "width": null
          }
        },
        "2a4d6fc5d81149c9a8eef7d466e1953e": {
          "model_module": "@jupyter-widgets/controls",
          "model_name": "ProgressStyleModel",
          "model_module_version": "1.5.0",
          "state": {
            "_model_module": "@jupyter-widgets/controls",
            "_model_module_version": "1.5.0",
            "_model_name": "ProgressStyleModel",
            "_view_count": null,
            "_view_module": "@jupyter-widgets/base",
            "_view_module_version": "1.2.0",
            "_view_name": "StyleView",
            "bar_color": null,
            "description_width": ""
          }
        },
        "14c5667859d34e3ba5f1de603bd59431": {
          "model_module": "@jupyter-widgets/base",
          "model_name": "LayoutModel",
          "model_module_version": "1.2.0",
          "state": {
            "_model_module": "@jupyter-widgets/base",
            "_model_module_version": "1.2.0",
            "_model_name": "LayoutModel",
            "_view_count": null,
            "_view_module": "@jupyter-widgets/base",
            "_view_module_version": "1.2.0",
            "_view_name": "LayoutView",
            "align_content": null,
            "align_items": null,
            "align_self": null,
            "border": null,
            "bottom": null,
            "display": null,
            "flex": null,
            "flex_flow": null,
            "grid_area": null,
            "grid_auto_columns": null,
            "grid_auto_flow": null,
            "grid_auto_rows": null,
            "grid_column": null,
            "grid_gap": null,
            "grid_row": null,
            "grid_template_areas": null,
            "grid_template_columns": null,
            "grid_template_rows": null,
            "height": null,
            "justify_content": null,
            "justify_items": null,
            "left": null,
            "margin": null,
            "max_height": null,
            "max_width": null,
            "min_height": null,
            "min_width": null,
            "object_fit": null,
            "object_position": null,
            "order": null,
            "overflow": null,
            "overflow_x": null,
            "overflow_y": null,
            "padding": null,
            "right": null,
            "top": null,
            "visibility": null,
            "width": null
          }
        },
        "631a5914679845a08f8e60b2e28f74eb": {
          "model_module": "@jupyter-widgets/controls",
          "model_name": "DescriptionStyleModel",
          "model_module_version": "1.5.0",
          "state": {
            "_model_module": "@jupyter-widgets/controls",
            "_model_module_version": "1.5.0",
            "_model_name": "DescriptionStyleModel",
            "_view_count": null,
            "_view_module": "@jupyter-widgets/base",
            "_view_module_version": "1.2.0",
            "_view_name": "StyleView",
            "description_width": ""
          }
        },
        "b27c20a5f9104caaac5ad348b1747f3b": {
          "model_module": "@jupyter-widgets/controls",
          "model_name": "HBoxModel",
          "model_module_version": "1.5.0",
          "state": {
            "_dom_classes": [],
            "_model_module": "@jupyter-widgets/controls",
            "_model_module_version": "1.5.0",
            "_model_name": "HBoxModel",
            "_view_count": null,
            "_view_module": "@jupyter-widgets/controls",
            "_view_module_version": "1.5.0",
            "_view_name": "HBoxView",
            "box_style": "",
            "children": [
              "IPY_MODEL_ae6a1423d94a470a8e32b7d5734957f0",
              "IPY_MODEL_6408a18706524563aade8723a963d30c",
              "IPY_MODEL_7fe80351b1e84bf48aa01e5af366e73c"
            ],
            "layout": "IPY_MODEL_7b6f810438884e0fafac34d0b80940b8"
          }
        },
        "ae6a1423d94a470a8e32b7d5734957f0": {
          "model_module": "@jupyter-widgets/controls",
          "model_name": "HTMLModel",
          "model_module_version": "1.5.0",
          "state": {
            "_dom_classes": [],
            "_model_module": "@jupyter-widgets/controls",
            "_model_module_version": "1.5.0",
            "_model_name": "HTMLModel",
            "_view_count": null,
            "_view_module": "@jupyter-widgets/controls",
            "_view_module_version": "1.5.0",
            "_view_name": "HTMLView",
            "description": "",
            "description_tooltip": null,
            "layout": "IPY_MODEL_63ff17acf3814ab9a15759cca2209144",
            "placeholder": "​",
            "style": "IPY_MODEL_faa383f198e04beb902f8519f4e9ca95",
            "value": "Downloading (…)cial_tokens_map.json: 100%"
          }
        },
        "6408a18706524563aade8723a963d30c": {
          "model_module": "@jupyter-widgets/controls",
          "model_name": "FloatProgressModel",
          "model_module_version": "1.5.0",
          "state": {
            "_dom_classes": [],
            "_model_module": "@jupyter-widgets/controls",
            "_model_module_version": "1.5.0",
            "_model_name": "FloatProgressModel",
            "_view_count": null,
            "_view_module": "@jupyter-widgets/controls",
            "_view_module_version": "1.5.0",
            "_view_name": "ProgressView",
            "bar_style": "success",
            "description": "",
            "description_tooltip": null,
            "layout": "IPY_MODEL_8753894643f04b2bac537968cb913ac2",
            "max": 112,
            "min": 0,
            "orientation": "horizontal",
            "style": "IPY_MODEL_7f5b3b89eb3544a29e9460d777c769e6",
            "value": 112
          }
        },
        "7fe80351b1e84bf48aa01e5af366e73c": {
          "model_module": "@jupyter-widgets/controls",
          "model_name": "HTMLModel",
          "model_module_version": "1.5.0",
          "state": {
            "_dom_classes": [],
            "_model_module": "@jupyter-widgets/controls",
            "_model_module_version": "1.5.0",
            "_model_name": "HTMLModel",
            "_view_count": null,
            "_view_module": "@jupyter-widgets/controls",
            "_view_module_version": "1.5.0",
            "_view_name": "HTMLView",
            "description": "",
            "description_tooltip": null,
            "layout": "IPY_MODEL_9c47901d853547f3a6f0c566cb8d5613",
            "placeholder": "​",
            "style": "IPY_MODEL_31edd931c53443bfa4f52c1394c030b6",
            "value": " 112/112 [00:00&lt;00:00, 1.67kB/s]"
          }
        },
        "7b6f810438884e0fafac34d0b80940b8": {
          "model_module": "@jupyter-widgets/base",
          "model_name": "LayoutModel",
          "model_module_version": "1.2.0",
          "state": {
            "_model_module": "@jupyter-widgets/base",
            "_model_module_version": "1.2.0",
            "_model_name": "LayoutModel",
            "_view_count": null,
            "_view_module": "@jupyter-widgets/base",
            "_view_module_version": "1.2.0",
            "_view_name": "LayoutView",
            "align_content": null,
            "align_items": null,
            "align_self": null,
            "border": null,
            "bottom": null,
            "display": null,
            "flex": null,
            "flex_flow": null,
            "grid_area": null,
            "grid_auto_columns": null,
            "grid_auto_flow": null,
            "grid_auto_rows": null,
            "grid_column": null,
            "grid_gap": null,
            "grid_row": null,
            "grid_template_areas": null,
            "grid_template_columns": null,
            "grid_template_rows": null,
            "height": null,
            "justify_content": null,
            "justify_items": null,
            "left": null,
            "margin": null,
            "max_height": null,
            "max_width": null,
            "min_height": null,
            "min_width": null,
            "object_fit": null,
            "object_position": null,
            "order": null,
            "overflow": null,
            "overflow_x": null,
            "overflow_y": null,
            "padding": null,
            "right": null,
            "top": null,
            "visibility": null,
            "width": null
          }
        },
        "63ff17acf3814ab9a15759cca2209144": {
          "model_module": "@jupyter-widgets/base",
          "model_name": "LayoutModel",
          "model_module_version": "1.2.0",
          "state": {
            "_model_module": "@jupyter-widgets/base",
            "_model_module_version": "1.2.0",
            "_model_name": "LayoutModel",
            "_view_count": null,
            "_view_module": "@jupyter-widgets/base",
            "_view_module_version": "1.2.0",
            "_view_name": "LayoutView",
            "align_content": null,
            "align_items": null,
            "align_self": null,
            "border": null,
            "bottom": null,
            "display": null,
            "flex": null,
            "flex_flow": null,
            "grid_area": null,
            "grid_auto_columns": null,
            "grid_auto_flow": null,
            "grid_auto_rows": null,
            "grid_column": null,
            "grid_gap": null,
            "grid_row": null,
            "grid_template_areas": null,
            "grid_template_columns": null,
            "grid_template_rows": null,
            "height": null,
            "justify_content": null,
            "justify_items": null,
            "left": null,
            "margin": null,
            "max_height": null,
            "max_width": null,
            "min_height": null,
            "min_width": null,
            "object_fit": null,
            "object_position": null,
            "order": null,
            "overflow": null,
            "overflow_x": null,
            "overflow_y": null,
            "padding": null,
            "right": null,
            "top": null,
            "visibility": null,
            "width": null
          }
        },
        "faa383f198e04beb902f8519f4e9ca95": {
          "model_module": "@jupyter-widgets/controls",
          "model_name": "DescriptionStyleModel",
          "model_module_version": "1.5.0",
          "state": {
            "_model_module": "@jupyter-widgets/controls",
            "_model_module_version": "1.5.0",
            "_model_name": "DescriptionStyleModel",
            "_view_count": null,
            "_view_module": "@jupyter-widgets/base",
            "_view_module_version": "1.2.0",
            "_view_name": "StyleView",
            "description_width": ""
          }
        },
        "8753894643f04b2bac537968cb913ac2": {
          "model_module": "@jupyter-widgets/base",
          "model_name": "LayoutModel",
          "model_module_version": "1.2.0",
          "state": {
            "_model_module": "@jupyter-widgets/base",
            "_model_module_version": "1.2.0",
            "_model_name": "LayoutModel",
            "_view_count": null,
            "_view_module": "@jupyter-widgets/base",
            "_view_module_version": "1.2.0",
            "_view_name": "LayoutView",
            "align_content": null,
            "align_items": null,
            "align_self": null,
            "border": null,
            "bottom": null,
            "display": null,
            "flex": null,
            "flex_flow": null,
            "grid_area": null,
            "grid_auto_columns": null,
            "grid_auto_flow": null,
            "grid_auto_rows": null,
            "grid_column": null,
            "grid_gap": null,
            "grid_row": null,
            "grid_template_areas": null,
            "grid_template_columns": null,
            "grid_template_rows": null,
            "height": null,
            "justify_content": null,
            "justify_items": null,
            "left": null,
            "margin": null,
            "max_height": null,
            "max_width": null,
            "min_height": null,
            "min_width": null,
            "object_fit": null,
            "object_position": null,
            "order": null,
            "overflow": null,
            "overflow_x": null,
            "overflow_y": null,
            "padding": null,
            "right": null,
            "top": null,
            "visibility": null,
            "width": null
          }
        },
        "7f5b3b89eb3544a29e9460d777c769e6": {
          "model_module": "@jupyter-widgets/controls",
          "model_name": "ProgressStyleModel",
          "model_module_version": "1.5.0",
          "state": {
            "_model_module": "@jupyter-widgets/controls",
            "_model_module_version": "1.5.0",
            "_model_name": "ProgressStyleModel",
            "_view_count": null,
            "_view_module": "@jupyter-widgets/base",
            "_view_module_version": "1.2.0",
            "_view_name": "StyleView",
            "bar_color": null,
            "description_width": ""
          }
        },
        "9c47901d853547f3a6f0c566cb8d5613": {
          "model_module": "@jupyter-widgets/base",
          "model_name": "LayoutModel",
          "model_module_version": "1.2.0",
          "state": {
            "_model_module": "@jupyter-widgets/base",
            "_model_module_version": "1.2.0",
            "_model_name": "LayoutModel",
            "_view_count": null,
            "_view_module": "@jupyter-widgets/base",
            "_view_module_version": "1.2.0",
            "_view_name": "LayoutView",
            "align_content": null,
            "align_items": null,
            "align_self": null,
            "border": null,
            "bottom": null,
            "display": null,
            "flex": null,
            "flex_flow": null,
            "grid_area": null,
            "grid_auto_columns": null,
            "grid_auto_flow": null,
            "grid_auto_rows": null,
            "grid_column": null,
            "grid_gap": null,
            "grid_row": null,
            "grid_template_areas": null,
            "grid_template_columns": null,
            "grid_template_rows": null,
            "height": null,
            "justify_content": null,
            "justify_items": null,
            "left": null,
            "margin": null,
            "max_height": null,
            "max_width": null,
            "min_height": null,
            "min_width": null,
            "object_fit": null,
            "object_position": null,
            "order": null,
            "overflow": null,
            "overflow_x": null,
            "overflow_y": null,
            "padding": null,
            "right": null,
            "top": null,
            "visibility": null,
            "width": null
          }
        },
        "31edd931c53443bfa4f52c1394c030b6": {
          "model_module": "@jupyter-widgets/controls",
          "model_name": "DescriptionStyleModel",
          "model_module_version": "1.5.0",
          "state": {
            "_model_module": "@jupyter-widgets/controls",
            "_model_module_version": "1.5.0",
            "_model_name": "DescriptionStyleModel",
            "_view_count": null,
            "_view_module": "@jupyter-widgets/base",
            "_view_module_version": "1.2.0",
            "_view_name": "StyleView",
            "description_width": ""
          }
        }
      }
    }
  },
  "nbformat": 4,
  "nbformat_minor": 0
}