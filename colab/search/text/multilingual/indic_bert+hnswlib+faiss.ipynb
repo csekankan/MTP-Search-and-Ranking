{
  "nbformat": 4,
  "nbformat_minor": 0,
  "metadata": {
    "colab": {
      "provenance": [],
      "machine_shape": "hm"
    },
    "kernelspec": {
      "name": "python3",
      "display_name": "Python 3"
    },
    "language_info": {
      "name": "python"
    },
    "accelerator": "GPU",
    "gpuClass": "standard",
    "widgets": {
      "application/vnd.jupyter.widget-state+json": {
        "8787f023822245288b59c9c9c8b1f539": {
          "model_module": "@jupyter-widgets/controls",
          "model_name": "HBoxModel",
          "model_module_version": "1.5.0",
          "state": {
            "_dom_classes": [],
            "_model_module": "@jupyter-widgets/controls",
            "_model_module_version": "1.5.0",
            "_model_name": "HBoxModel",
            "_view_count": null,
            "_view_module": "@jupyter-widgets/controls",
            "_view_module_version": "1.5.0",
            "_view_name": "HBoxView",
            "box_style": "",
            "children": [
              "IPY_MODEL_387d44a796f64e8bae88830048904e9f",
              "IPY_MODEL_2814b1b09c594fe99cc943f12de8629c",
              "IPY_MODEL_f4518df9d1d44f22b998e8b4f7b8fab0"
            ],
            "layout": "IPY_MODEL_b3a16c85a9ce488885f5e4fac6ef935b"
          }
        },
        "387d44a796f64e8bae88830048904e9f": {
          "model_module": "@jupyter-widgets/controls",
          "model_name": "HTMLModel",
          "model_module_version": "1.5.0",
          "state": {
            "_dom_classes": [],
            "_model_module": "@jupyter-widgets/controls",
            "_model_module_version": "1.5.0",
            "_model_name": "HTMLModel",
            "_view_count": null,
            "_view_module": "@jupyter-widgets/controls",
            "_view_module_version": "1.5.0",
            "_view_name": "HTMLView",
            "description": "",
            "description_tooltip": null,
            "layout": "IPY_MODEL_57ecea9b1fae4cdaa432686adc06647f",
            "placeholder": "​",
            "style": "IPY_MODEL_d0e21532a326448983233e89092463b3",
            "value": "Batches: 100%"
          }
        },
        "2814b1b09c594fe99cc943f12de8629c": {
          "model_module": "@jupyter-widgets/controls",
          "model_name": "FloatProgressModel",
          "model_module_version": "1.5.0",
          "state": {
            "_dom_classes": [],
            "_model_module": "@jupyter-widgets/controls",
            "_model_module_version": "1.5.0",
            "_model_name": "FloatProgressModel",
            "_view_count": null,
            "_view_module": "@jupyter-widgets/controls",
            "_view_module_version": "1.5.0",
            "_view_name": "ProgressView",
            "bar_style": "success",
            "description": "",
            "description_tooltip": null,
            "layout": "IPY_MODEL_32bf0948acd142fd97bd9a654fc3f9f0",
            "max": 354,
            "min": 0,
            "orientation": "horizontal",
            "style": "IPY_MODEL_259f173cf4f7432bb7ac53cab148367f",
            "value": 354
          }
        },
        "f4518df9d1d44f22b998e8b4f7b8fab0": {
          "model_module": "@jupyter-widgets/controls",
          "model_name": "HTMLModel",
          "model_module_version": "1.5.0",
          "state": {
            "_dom_classes": [],
            "_model_module": "@jupyter-widgets/controls",
            "_model_module_version": "1.5.0",
            "_model_name": "HTMLModel",
            "_view_count": null,
            "_view_module": "@jupyter-widgets/controls",
            "_view_module_version": "1.5.0",
            "_view_name": "HTMLView",
            "description": "",
            "description_tooltip": null,
            "layout": "IPY_MODEL_602cffe1731d49b697e0512ecea8adbe",
            "placeholder": "​",
            "style": "IPY_MODEL_5743598d7f194408a5605c71f1805f78",
            "value": " 354/354 [03:10&lt;00:00,  3.58it/s]"
          }
        },
        "b3a16c85a9ce488885f5e4fac6ef935b": {
          "model_module": "@jupyter-widgets/base",
          "model_name": "LayoutModel",
          "model_module_version": "1.2.0",
          "state": {
            "_model_module": "@jupyter-widgets/base",
            "_model_module_version": "1.2.0",
            "_model_name": "LayoutModel",
            "_view_count": null,
            "_view_module": "@jupyter-widgets/base",
            "_view_module_version": "1.2.0",
            "_view_name": "LayoutView",
            "align_content": null,
            "align_items": null,
            "align_self": null,
            "border": null,
            "bottom": null,
            "display": null,
            "flex": null,
            "flex_flow": null,
            "grid_area": null,
            "grid_auto_columns": null,
            "grid_auto_flow": null,
            "grid_auto_rows": null,
            "grid_column": null,
            "grid_gap": null,
            "grid_row": null,
            "grid_template_areas": null,
            "grid_template_columns": null,
            "grid_template_rows": null,
            "height": null,
            "justify_content": null,
            "justify_items": null,
            "left": null,
            "margin": null,
            "max_height": null,
            "max_width": null,
            "min_height": null,
            "min_width": null,
            "object_fit": null,
            "object_position": null,
            "order": null,
            "overflow": null,
            "overflow_x": null,
            "overflow_y": null,
            "padding": null,
            "right": null,
            "top": null,
            "visibility": null,
            "width": null
          }
        },
        "57ecea9b1fae4cdaa432686adc06647f": {
          "model_module": "@jupyter-widgets/base",
          "model_name": "LayoutModel",
          "model_module_version": "1.2.0",
          "state": {
            "_model_module": "@jupyter-widgets/base",
            "_model_module_version": "1.2.0",
            "_model_name": "LayoutModel",
            "_view_count": null,
            "_view_module": "@jupyter-widgets/base",
            "_view_module_version": "1.2.0",
            "_view_name": "LayoutView",
            "align_content": null,
            "align_items": null,
            "align_self": null,
            "border": null,
            "bottom": null,
            "display": null,
            "flex": null,
            "flex_flow": null,
            "grid_area": null,
            "grid_auto_columns": null,
            "grid_auto_flow": null,
            "grid_auto_rows": null,
            "grid_column": null,
            "grid_gap": null,
            "grid_row": null,
            "grid_template_areas": null,
            "grid_template_columns": null,
            "grid_template_rows": null,
            "height": null,
            "justify_content": null,
            "justify_items": null,
            "left": null,
            "margin": null,
            "max_height": null,
            "max_width": null,
            "min_height": null,
            "min_width": null,
            "object_fit": null,
            "object_position": null,
            "order": null,
            "overflow": null,
            "overflow_x": null,
            "overflow_y": null,
            "padding": null,
            "right": null,
            "top": null,
            "visibility": null,
            "width": null
          }
        },
        "d0e21532a326448983233e89092463b3": {
          "model_module": "@jupyter-widgets/controls",
          "model_name": "DescriptionStyleModel",
          "model_module_version": "1.5.0",
          "state": {
            "_model_module": "@jupyter-widgets/controls",
            "_model_module_version": "1.5.0",
            "_model_name": "DescriptionStyleModel",
            "_view_count": null,
            "_view_module": "@jupyter-widgets/base",
            "_view_module_version": "1.2.0",
            "_view_name": "StyleView",
            "description_width": ""
          }
        },
        "32bf0948acd142fd97bd9a654fc3f9f0": {
          "model_module": "@jupyter-widgets/base",
          "model_name": "LayoutModel",
          "model_module_version": "1.2.0",
          "state": {
            "_model_module": "@jupyter-widgets/base",
            "_model_module_version": "1.2.0",
            "_model_name": "LayoutModel",
            "_view_count": null,
            "_view_module": "@jupyter-widgets/base",
            "_view_module_version": "1.2.0",
            "_view_name": "LayoutView",
            "align_content": null,
            "align_items": null,
            "align_self": null,
            "border": null,
            "bottom": null,
            "display": null,
            "flex": null,
            "flex_flow": null,
            "grid_area": null,
            "grid_auto_columns": null,
            "grid_auto_flow": null,
            "grid_auto_rows": null,
            "grid_column": null,
            "grid_gap": null,
            "grid_row": null,
            "grid_template_areas": null,
            "grid_template_columns": null,
            "grid_template_rows": null,
            "height": null,
            "justify_content": null,
            "justify_items": null,
            "left": null,
            "margin": null,
            "max_height": null,
            "max_width": null,
            "min_height": null,
            "min_width": null,
            "object_fit": null,
            "object_position": null,
            "order": null,
            "overflow": null,
            "overflow_x": null,
            "overflow_y": null,
            "padding": null,
            "right": null,
            "top": null,
            "visibility": null,
            "width": null
          }
        },
        "259f173cf4f7432bb7ac53cab148367f": {
          "model_module": "@jupyter-widgets/controls",
          "model_name": "ProgressStyleModel",
          "model_module_version": "1.5.0",
          "state": {
            "_model_module": "@jupyter-widgets/controls",
            "_model_module_version": "1.5.0",
            "_model_name": "ProgressStyleModel",
            "_view_count": null,
            "_view_module": "@jupyter-widgets/base",
            "_view_module_version": "1.2.0",
            "_view_name": "StyleView",
            "bar_color": null,
            "description_width": ""
          }
        },
        "602cffe1731d49b697e0512ecea8adbe": {
          "model_module": "@jupyter-widgets/base",
          "model_name": "LayoutModel",
          "model_module_version": "1.2.0",
          "state": {
            "_model_module": "@jupyter-widgets/base",
            "_model_module_version": "1.2.0",
            "_model_name": "LayoutModel",
            "_view_count": null,
            "_view_module": "@jupyter-widgets/base",
            "_view_module_version": "1.2.0",
            "_view_name": "LayoutView",
            "align_content": null,
            "align_items": null,
            "align_self": null,
            "border": null,
            "bottom": null,
            "display": null,
            "flex": null,
            "flex_flow": null,
            "grid_area": null,
            "grid_auto_columns": null,
            "grid_auto_flow": null,
            "grid_auto_rows": null,
            "grid_column": null,
            "grid_gap": null,
            "grid_row": null,
            "grid_template_areas": null,
            "grid_template_columns": null,
            "grid_template_rows": null,
            "height": null,
            "justify_content": null,
            "justify_items": null,
            "left": null,
            "margin": null,
            "max_height": null,
            "max_width": null,
            "min_height": null,
            "min_width": null,
            "object_fit": null,
            "object_position": null,
            "order": null,
            "overflow": null,
            "overflow_x": null,
            "overflow_y": null,
            "padding": null,
            "right": null,
            "top": null,
            "visibility": null,
            "width": null
          }
        },
        "5743598d7f194408a5605c71f1805f78": {
          "model_module": "@jupyter-widgets/controls",
          "model_name": "DescriptionStyleModel",
          "model_module_version": "1.5.0",
          "state": {
            "_model_module": "@jupyter-widgets/controls",
            "_model_module_version": "1.5.0",
            "_model_name": "DescriptionStyleModel",
            "_view_count": null,
            "_view_module": "@jupyter-widgets/base",
            "_view_module_version": "1.2.0",
            "_view_name": "StyleView",
            "description_width": ""
          }
        }
      }
    }
  },
  "cells": [
    {
      "cell_type": "markdown",
      "metadata": {
        "id": "uGRD8a9sKacB"
      },
      "source": [
        "# Setup and Load dataset\n",
        "\n"
      ]
    },
    {
      "cell_type": "code",
      "source": [
        "!pip install --upgrade --no-cache-dir gdown"
      ],
      "metadata": {
        "colab": {
          "base_uri": "https://localhost:8080/"
        },
        "id": "C1r8Sraf7rPj",
        "outputId": "5e52421c-3a05-4c5d-aa58-35160b11251c"
      },
      "execution_count": null,
      "outputs": [
        {
          "output_type": "stream",
          "name": "stdout",
          "text": [
            "Looking in indexes: https://pypi.org/simple, https://us-python.pkg.dev/colab-wheels/public/simple/\n",
            "Requirement already satisfied: gdown in /usr/local/lib/python3.8/dist-packages (4.4.0)\n",
            "Collecting gdown\n",
            "  Downloading gdown-4.6.3-py3-none-any.whl (14 kB)\n",
            "Requirement already satisfied: filelock in /usr/local/lib/python3.8/dist-packages (from gdown) (3.9.0)\n",
            "Requirement already satisfied: six in /usr/local/lib/python3.8/dist-packages (from gdown) (1.15.0)\n",
            "Requirement already satisfied: beautifulsoup4 in /usr/local/lib/python3.8/dist-packages (from gdown) (4.6.3)\n",
            "Requirement already satisfied: requests[socks] in /usr/local/lib/python3.8/dist-packages (from gdown) (2.25.1)\n",
            "Requirement already satisfied: tqdm in /usr/local/lib/python3.8/dist-packages (from gdown) (4.64.1)\n",
            "Requirement already satisfied: certifi>=2017.4.17 in /usr/local/lib/python3.8/dist-packages (from requests[socks]->gdown) (2022.12.7)\n",
            "Requirement already satisfied: idna<3,>=2.5 in /usr/local/lib/python3.8/dist-packages (from requests[socks]->gdown) (2.10)\n",
            "Requirement already satisfied: chardet<5,>=3.0.2 in /usr/local/lib/python3.8/dist-packages (from requests[socks]->gdown) (4.0.0)\n",
            "Requirement already satisfied: urllib3<1.27,>=1.21.1 in /usr/local/lib/python3.8/dist-packages (from requests[socks]->gdown) (1.24.3)\n",
            "Requirement already satisfied: PySocks!=1.5.7,>=1.5.6 in /usr/local/lib/python3.8/dist-packages (from requests[socks]->gdown) (1.7.1)\n",
            "Installing collected packages: gdown\n",
            "  Attempting uninstall: gdown\n",
            "    Found existing installation: gdown 4.4.0\n",
            "    Uninstalling gdown-4.4.0:\n",
            "      Successfully uninstalled gdown-4.4.0\n",
            "Successfully installed gdown-4.6.3\n"
          ]
        }
      ]
    },
    {
      "cell_type": "code",
      "source": [
        "!gdown --id 1EvuYBN9lIK8llpbUciP5jIOYgh0dpFHB"
      ],
      "metadata": {
        "id": "JN6L-XVUpDB3",
        "colab": {
          "base_uri": "https://localhost:8080/"
        },
        "outputId": "6f77fcda-f986-477b-bbad-be8815dcb783"
      },
      "execution_count": null,
      "outputs": [
        {
          "output_type": "stream",
          "name": "stdout",
          "text": [
            "/usr/local/lib/python3.8/dist-packages/gdown/cli.py:121: FutureWarning: Option `--id` was deprecated in version 4.3.1 and will be removed in 5.0. You don't need to pass it anymore to use a file ID.\n",
            "  warnings.warn(\n",
            "Downloading...\n",
            "From: https://drive.google.com/uc?id=1EvuYBN9lIK8llpbUciP5jIOYgh0dpFHB\n",
            "To: /content/bengali.zip\n",
            "100% 13.5M/13.5M [00:00<00:00, 82.1MB/s]\n"
          ]
        }
      ]
    },
    {
      "cell_type": "code",
      "source": [
        "!unzip -o \"bengali.zip\"  -d  \"/content\""
      ],
      "metadata": {
        "id": "TtZEDi2_JS0Z",
        "colab": {
          "base_uri": "https://localhost:8080/"
        },
        "outputId": "26486f80-8565-4154-94cd-1bd173b51a4e"
      },
      "execution_count": null,
      "outputs": [
        {
          "output_type": "stream",
          "name": "stdout",
          "text": [
            "Archive:  bengali.zip\n",
            "  inflating: /content/train.csv      \n",
            "  inflating: /content/valid.csv      \n"
          ]
        }
      ]
    },
    {
      "cell_type": "markdown",
      "source": [
        "## Data Loading"
      ],
      "metadata": {
        "id": "HDz_Qe5KHFho"
      }
    },
    {
      "cell_type": "code",
      "execution_count": null,
      "metadata": {
        "id": "84eddad3"
      },
      "outputs": [],
      "source": [
        "from datetime import datetime\n",
        "import os\n",
        "import matplotlib\n",
        "import pandas as pd\n",
        "import numpy as np\n",
        "import matplotlib.pyplot as plt\n",
        "import seaborn as sns\n",
        "sns.set_style('whitegrid')\n",
        "\n",
        "from scipy import sparse\n",
        "from scipy.sparse import csc_matrix\n",
        "from sklearn.decomposition import TruncatedSVD\n",
        "\n",
        "np.random.seed(0)"
      ]
    },
    {
      "cell_type": "markdown",
      "source": [
        "#### Name of the file which contain all the item properties"
      ],
      "metadata": {
        "id": "lHG3Yw4EHJbO"
      }
    },
    {
      "cell_type": "code",
      "source": [
        "file=\"train.csv\""
      ],
      "metadata": {
        "id": "4zX5cx_NHQNv"
      },
      "execution_count": null,
      "outputs": []
    },
    {
      "cell_type": "markdown",
      "source": [
        "###### Run below cell"
      ],
      "metadata": {
        "id": "r2ef3FxJHYkQ"
      }
    },
    {
      "cell_type": "code",
      "execution_count": null,
      "metadata": {
        "id": "7e7fee79"
      },
      "outputs": [],
      "source": [
        "content_df  = pd.read_csv( file)"
      ]
    },
    {
      "cell_type": "code",
      "execution_count": null,
      "metadata": {
        "id": "af507f93",
        "colab": {
          "base_uri": "https://localhost:8080/",
          "height": 580
        },
        "outputId": "4eb09288-2788-4b24-9f7d-ca0897169264"
      },
      "outputs": [
        {
          "output_type": "execute_result",
          "data": {
            "text/plain": [
              "                                               title  \\\n",
              "0  এই অভিনেতার ‘প্রস্তাব’ মানলে ভারতীয় সিনেমার খো...   \n",
              "1      সচিন সাংসদ হয়েছেন, তাই চিন্তা কম জেটলির। কেন?   \n",
              "2  ক্রিকেটার থেকে গাইড! জাতীয় দলের ক্রিকেটারের অব...   \n",
              "3  দুষ্কৃতীদের নজরে এটিএম, হাল হকিকত্ ঘুরে দেখলেন...   \n",
              "4    সৌজন্যের বালাই নেই, দিনভর আকচা আকচি কং-বিজেপি’র   \n",
              "5              নোট বদলের ধাক্কায় কেমন হল বিয়ে? জানুন   \n",
              "6                                    সিপিএমের মুখিয়া   \n",
              "7  গড়িয়ায় দফায় দফায় গণধর্ষণের শিকার অষ্টম শ্রেণির...   \n",
              "8  বামেদের ধর্মঘটকে সমর্থন! নবান্ন অভিযানে বামেরা...   \n",
              "9                                 আকাশবাড়ির হাতছানি   \n",
              "\n",
              "                                             article          label  \\\n",
              "0   স্রেফ দু’টি টুইটেই সোশ্যাল মিডিয়ায় তোলপাড় ফে...  entertainment   \n",
              "1   একবার রেল বাজেট। একবার সাধারণ বাজেট। খবরের শি...       national   \n",
              "2   কিছুদিন আগেই রাজ্যের গাইড বনে গিয়েছিলেন চেতেশ...         sports   \n",
              "3  কলকাতায় দুষ্কৃতীদের নজরে এখন বিভিন্ন ব্যাঙ্কের...        kolkata   \n",
              "4  সারা দিন আকচা আকচিতেই কাটিয়ে দিল দেশের দুই বৃহ...       national   \n",
              "5   বিরিয়নিটা আর হোল না। ইচ্ছে ছিল বিয়েতে বিরায়ান...        kolkata   \n",
              "6   এস কে এম কি আছেন?\\nএ খোঁজ যে রাজ্য সিপিএমের ম...          state   \n",
              "7   মহানগরের বুকে এবার  দফায় দফায় গণধর্ষণের শিকার...        kolkata   \n",
              "8   আগামী বুধবার, ২ সেপ্টেম্বর বামেদের ডাকা বনধকে...        kolkata   \n",
              "9   পেরুতে গিয়ে যদি হোটেলের ঘরে বসে সময় কাটান, তা...  international   \n",
              "\n",
              "                                              NewTag  \\\n",
              "0   এই অভিনেতার ‘প্রস্তাব’ মানলে ভারতীয় সিনেমার খ...   \n",
              "1   সচিন সাংসদ হয়েছেন, তাই চিন্তা কম জেটলির। কেন?...   \n",
              "2   ক্রিকেটার থেকে গাইড! জাতীয় দলের ক্রিকেটারের অ...   \n",
              "3   দুষ্কৃতীদের নজরে এটিএম, হাল হকিকত্ ঘুরে দেখলে...   \n",
              "4   সৌজন্যের বালাই নেই, দিনভর আকচা আকচি কং-বিজেপি...   \n",
              "5   নোট বদলের ধাক্কায় কেমন হল বিয়ে? জানুন  বিরিয়ন...   \n",
              "6   সিপিএমের মুখিয়া  এস কে এম কি আছেন?\\nএ খোঁজ যে...   \n",
              "7   গড়িয়ায় দফায় দফায় গণধর্ষণের শিকার অষ্টম শ্রেণি...   \n",
              "8   বামেদের ধর্মঘটকে সমর্থন! নবান্ন অভিযানে বামের...   \n",
              "9   আকাশবাড়ির হাতছানি  পেরুতে গিয়ে যদি হোটেলের ঘ...   \n",
              "\n",
              "                                               clean  \n",
              "0   এই অভিনেতার ‘প্রস্তাব’ মানলে ভারতীয় সিনেমার খ...  \n",
              "1   সচিন সাংসদ হয়েছেন, তাই চিন্তা কম জেটলির। কেন?...  \n",
              "2   ক্রিকেটার থেকে গাইড! জাতীয় দলের ক্রিকেটারের অ...  \n",
              "3   দুষ্কৃতীদের নজরে এটিএম, হাল হকিকত্ ঘুরে দেখলে...  \n",
              "4   সৌজন্যের বালাই নেই, দিনভর আকচা আকচি কং-বিজেপি...  \n",
              "5   নোট বদলের ধাক্কায় কেমন হল বিয়ে? জানুন  বিরিয়ন...  \n",
              "6   সিপিএমের মুখিয়া  এস কে এম কি আছেন?\\nএ খোঁজ যে...  \n",
              "7   গড়িয়ায় দফায় দফায় গণধর্ষণের শিকার অষ্টম শ্রেণি...  \n",
              "8   বামেদের ধর্মঘটকে সমর্থন! নবান্ন অভিযানে বামের...  \n",
              "9   আকাশবাড়ির হাতছানি  পেরুতে গিয়ে যদি হোটেলের ঘ...  "
            ],
            "text/html": [
              "\n",
              "  <div id=\"df-5fc03d37-daf1-4950-8c79-4ae7a47f853b\">\n",
              "    <div class=\"colab-df-container\">\n",
              "      <div>\n",
              "<style scoped>\n",
              "    .dataframe tbody tr th:only-of-type {\n",
              "        vertical-align: middle;\n",
              "    }\n",
              "\n",
              "    .dataframe tbody tr th {\n",
              "        vertical-align: top;\n",
              "    }\n",
              "\n",
              "    .dataframe thead th {\n",
              "        text-align: right;\n",
              "    }\n",
              "</style>\n",
              "<table border=\"1\" class=\"dataframe\">\n",
              "  <thead>\n",
              "    <tr style=\"text-align: right;\">\n",
              "      <th></th>\n",
              "      <th>title</th>\n",
              "      <th>article</th>\n",
              "      <th>label</th>\n",
              "      <th>NewTag</th>\n",
              "      <th>clean</th>\n",
              "    </tr>\n",
              "  </thead>\n",
              "  <tbody>\n",
              "    <tr>\n",
              "      <th>0</th>\n",
              "      <td>এই অভিনেতার ‘প্রস্তাব’ মানলে ভারতীয় সিনেমার খো...</td>\n",
              "      <td>স্রেফ দু’টি টুইটেই সোশ্যাল মিডিয়ায় তোলপাড় ফে...</td>\n",
              "      <td>entertainment</td>\n",
              "      <td>এই অভিনেতার ‘প্রস্তাব’ মানলে ভারতীয় সিনেমার খ...</td>\n",
              "      <td>এই অভিনেতার ‘প্রস্তাব’ মানলে ভারতীয় সিনেমার খ...</td>\n",
              "    </tr>\n",
              "    <tr>\n",
              "      <th>1</th>\n",
              "      <td>সচিন সাংসদ হয়েছেন, তাই চিন্তা কম জেটলির। কেন?</td>\n",
              "      <td>একবার রেল বাজেট। একবার সাধারণ বাজেট। খবরের শি...</td>\n",
              "      <td>national</td>\n",
              "      <td>সচিন সাংসদ হয়েছেন, তাই চিন্তা কম জেটলির। কেন?...</td>\n",
              "      <td>সচিন সাংসদ হয়েছেন, তাই চিন্তা কম জেটলির। কেন?...</td>\n",
              "    </tr>\n",
              "    <tr>\n",
              "      <th>2</th>\n",
              "      <td>ক্রিকেটার থেকে গাইড! জাতীয় দলের ক্রিকেটারের অব...</td>\n",
              "      <td>কিছুদিন আগেই রাজ্যের গাইড বনে গিয়েছিলেন চেতেশ...</td>\n",
              "      <td>sports</td>\n",
              "      <td>ক্রিকেটার থেকে গাইড! জাতীয় দলের ক্রিকেটারের অ...</td>\n",
              "      <td>ক্রিকেটার থেকে গাইড! জাতীয় দলের ক্রিকেটারের অ...</td>\n",
              "    </tr>\n",
              "    <tr>\n",
              "      <th>3</th>\n",
              "      <td>দুষ্কৃতীদের নজরে এটিএম, হাল হকিকত্ ঘুরে দেখলেন...</td>\n",
              "      <td>কলকাতায় দুষ্কৃতীদের নজরে এখন বিভিন্ন ব্যাঙ্কের...</td>\n",
              "      <td>kolkata</td>\n",
              "      <td>দুষ্কৃতীদের নজরে এটিএম, হাল হকিকত্ ঘুরে দেখলে...</td>\n",
              "      <td>দুষ্কৃতীদের নজরে এটিএম, হাল হকিকত্ ঘুরে দেখলে...</td>\n",
              "    </tr>\n",
              "    <tr>\n",
              "      <th>4</th>\n",
              "      <td>সৌজন্যের বালাই নেই, দিনভর আকচা আকচি কং-বিজেপি’র</td>\n",
              "      <td>সারা দিন আকচা আকচিতেই কাটিয়ে দিল দেশের দুই বৃহ...</td>\n",
              "      <td>national</td>\n",
              "      <td>সৌজন্যের বালাই নেই, দিনভর আকচা আকচি কং-বিজেপি...</td>\n",
              "      <td>সৌজন্যের বালাই নেই, দিনভর আকচা আকচি কং-বিজেপি...</td>\n",
              "    </tr>\n",
              "    <tr>\n",
              "      <th>5</th>\n",
              "      <td>নোট বদলের ধাক্কায় কেমন হল বিয়ে? জানুন</td>\n",
              "      <td>বিরিয়নিটা আর হোল না। ইচ্ছে ছিল বিয়েতে বিরায়ান...</td>\n",
              "      <td>kolkata</td>\n",
              "      <td>নোট বদলের ধাক্কায় কেমন হল বিয়ে? জানুন  বিরিয়ন...</td>\n",
              "      <td>নোট বদলের ধাক্কায় কেমন হল বিয়ে? জানুন  বিরিয়ন...</td>\n",
              "    </tr>\n",
              "    <tr>\n",
              "      <th>6</th>\n",
              "      <td>সিপিএমের মুখিয়া</td>\n",
              "      <td>এস কে এম কি আছেন?\\nএ খোঁজ যে রাজ্য সিপিএমের ম...</td>\n",
              "      <td>state</td>\n",
              "      <td>সিপিএমের মুখিয়া  এস কে এম কি আছেন?\\nএ খোঁজ যে...</td>\n",
              "      <td>সিপিএমের মুখিয়া  এস কে এম কি আছেন?\\nএ খোঁজ যে...</td>\n",
              "    </tr>\n",
              "    <tr>\n",
              "      <th>7</th>\n",
              "      <td>গড়িয়ায় দফায় দফায় গণধর্ষণের শিকার অষ্টম শ্রেণির...</td>\n",
              "      <td>মহানগরের বুকে এবার  দফায় দফায় গণধর্ষণের শিকার...</td>\n",
              "      <td>kolkata</td>\n",
              "      <td>গড়িয়ায় দফায় দফায় গণধর্ষণের শিকার অষ্টম শ্রেণি...</td>\n",
              "      <td>গড়িয়ায় দফায় দফায় গণধর্ষণের শিকার অষ্টম শ্রেণি...</td>\n",
              "    </tr>\n",
              "    <tr>\n",
              "      <th>8</th>\n",
              "      <td>বামেদের ধর্মঘটকে সমর্থন! নবান্ন অভিযানে বামেরা...</td>\n",
              "      <td>আগামী বুধবার, ২ সেপ্টেম্বর বামেদের ডাকা বনধকে...</td>\n",
              "      <td>kolkata</td>\n",
              "      <td>বামেদের ধর্মঘটকে সমর্থন! নবান্ন অভিযানে বামের...</td>\n",
              "      <td>বামেদের ধর্মঘটকে সমর্থন! নবান্ন অভিযানে বামের...</td>\n",
              "    </tr>\n",
              "    <tr>\n",
              "      <th>9</th>\n",
              "      <td>আকাশবাড়ির হাতছানি</td>\n",
              "      <td>পেরুতে গিয়ে যদি হোটেলের ঘরে বসে সময় কাটান, তা...</td>\n",
              "      <td>international</td>\n",
              "      <td>আকাশবাড়ির হাতছানি  পেরুতে গিয়ে যদি হোটেলের ঘ...</td>\n",
              "      <td>আকাশবাড়ির হাতছানি  পেরুতে গিয়ে যদি হোটেলের ঘ...</td>\n",
              "    </tr>\n",
              "  </tbody>\n",
              "</table>\n",
              "</div>\n",
              "      <button class=\"colab-df-convert\" onclick=\"convertToInteractive('df-5fc03d37-daf1-4950-8c79-4ae7a47f853b')\"\n",
              "              title=\"Convert this dataframe to an interactive table.\"\n",
              "              style=\"display:none;\">\n",
              "        \n",
              "  <svg xmlns=\"http://www.w3.org/2000/svg\" height=\"24px\"viewBox=\"0 0 24 24\"\n",
              "       width=\"24px\">\n",
              "    <path d=\"M0 0h24v24H0V0z\" fill=\"none\"/>\n",
              "    <path d=\"M18.56 5.44l.94 2.06.94-2.06 2.06-.94-2.06-.94-.94-2.06-.94 2.06-2.06.94zm-11 1L8.5 8.5l.94-2.06 2.06-.94-2.06-.94L8.5 2.5l-.94 2.06-2.06.94zm10 10l.94 2.06.94-2.06 2.06-.94-2.06-.94-.94-2.06-.94 2.06-2.06.94z\"/><path d=\"M17.41 7.96l-1.37-1.37c-.4-.4-.92-.59-1.43-.59-.52 0-1.04.2-1.43.59L10.3 9.45l-7.72 7.72c-.78.78-.78 2.05 0 2.83L4 21.41c.39.39.9.59 1.41.59.51 0 1.02-.2 1.41-.59l7.78-7.78 2.81-2.81c.8-.78.8-2.07 0-2.86zM5.41 20L4 18.59l7.72-7.72 1.47 1.35L5.41 20z\"/>\n",
              "  </svg>\n",
              "      </button>\n",
              "      \n",
              "  <style>\n",
              "    .colab-df-container {\n",
              "      display:flex;\n",
              "      flex-wrap:wrap;\n",
              "      gap: 12px;\n",
              "    }\n",
              "\n",
              "    .colab-df-convert {\n",
              "      background-color: #E8F0FE;\n",
              "      border: none;\n",
              "      border-radius: 50%;\n",
              "      cursor: pointer;\n",
              "      display: none;\n",
              "      fill: #1967D2;\n",
              "      height: 32px;\n",
              "      padding: 0 0 0 0;\n",
              "      width: 32px;\n",
              "    }\n",
              "\n",
              "    .colab-df-convert:hover {\n",
              "      background-color: #E2EBFA;\n",
              "      box-shadow: 0px 1px 2px rgba(60, 64, 67, 0.3), 0px 1px 3px 1px rgba(60, 64, 67, 0.15);\n",
              "      fill: #174EA6;\n",
              "    }\n",
              "\n",
              "    [theme=dark] .colab-df-convert {\n",
              "      background-color: #3B4455;\n",
              "      fill: #D2E3FC;\n",
              "    }\n",
              "\n",
              "    [theme=dark] .colab-df-convert:hover {\n",
              "      background-color: #434B5C;\n",
              "      box-shadow: 0px 1px 3px 1px rgba(0, 0, 0, 0.15);\n",
              "      filter: drop-shadow(0px 1px 2px rgba(0, 0, 0, 0.3));\n",
              "      fill: #FFFFFF;\n",
              "    }\n",
              "  </style>\n",
              "\n",
              "      <script>\n",
              "        const buttonEl =\n",
              "          document.querySelector('#df-5fc03d37-daf1-4950-8c79-4ae7a47f853b button.colab-df-convert');\n",
              "        buttonEl.style.display =\n",
              "          google.colab.kernel.accessAllowed ? 'block' : 'none';\n",
              "\n",
              "        async function convertToInteractive(key) {\n",
              "          const element = document.querySelector('#df-5fc03d37-daf1-4950-8c79-4ae7a47f853b');\n",
              "          const dataTable =\n",
              "            await google.colab.kernel.invokeFunction('convertToInteractive',\n",
              "                                                     [key], {});\n",
              "          if (!dataTable) return;\n",
              "\n",
              "          const docLinkHtml = 'Like what you see? Visit the ' +\n",
              "            '<a target=\"_blank\" href=https://colab.research.google.com/notebooks/data_table.ipynb>data table notebook</a>'\n",
              "            + ' to learn more about interactive tables.';\n",
              "          element.innerHTML = '';\n",
              "          dataTable['output_type'] = 'display_data';\n",
              "          await google.colab.output.renderOutput(dataTable, element);\n",
              "          const docLink = document.createElement('div');\n",
              "          docLink.innerHTML = docLinkHtml;\n",
              "          element.appendChild(docLink);\n",
              "        }\n",
              "      </script>\n",
              "    </div>\n",
              "  </div>\n",
              "  "
            ]
          },
          "metadata": {},
          "execution_count": 41
        }
      ],
      "source": [
        "content_df.head(10)"
      ]
    },
    {
      "cell_type": "markdown",
      "metadata": {
        "id": "sjJpU6lTGK51"
      },
      "source": [
        "## Details about dataset"
      ]
    },
    {
      "cell_type": "code",
      "source": [
        "itemid=\"title\""
      ],
      "metadata": {
        "id": "4u2f4NWQa14z"
      },
      "execution_count": null,
      "outputs": []
    },
    {
      "cell_type": "code",
      "execution_count": null,
      "metadata": {
        "id": "LpnvsLU_U-7O"
      },
      "outputs": [],
      "source": [
        "features=['title','article']"
      ]
    },
    {
      "cell_type": "code",
      "source": [
        "allcols=[itemid]\n",
        "for i in features:\n",
        "  allcols.append(i)"
      ],
      "metadata": {
        "id": "eyCiKMqygxVk"
      },
      "execution_count": null,
      "outputs": []
    },
    {
      "cell_type": "markdown",
      "metadata": {
        "id": "D_UJlmcgZNBc"
      },
      "source": [
        "# Setup"
      ]
    },
    {
      "cell_type": "code",
      "source": [
        "from nltk.stem import WordNetLemmatizer\n",
        "from nltk.corpus import stopwords\n",
        "from nltk.tokenize import word_tokenize\n",
        "import re"
      ],
      "metadata": {
        "id": "VAXhYHfLuugD"
      },
      "execution_count": null,
      "outputs": []
    },
    {
      "cell_type": "code",
      "source": [
        "content_df['NewTag']=\"\"\n",
        "for i in features:\n",
        "  content_df[i] = content_df[i].fillna(' ')\n",
        "for i in features:\n",
        "  content_df['NewTag']+=(\" \"+content_df[i])\n",
        "content_df['NewTag']=content_df['NewTag'].astype(str)"
      ],
      "metadata": {
        "id": "QxJnf-lrLdm2"
      },
      "execution_count": null,
      "outputs": []
    },
    {
      "cell_type": "code",
      "source": [
        "content_df['clean'] = content_df['NewTag']\n"
      ],
      "metadata": {
        "id": "HDh1rTXeuKzi"
      },
      "execution_count": null,
      "outputs": []
    },
    {
      "cell_type": "code",
      "source": [
        "content_df['clean'] =content_df['clean'].astype(str)"
      ],
      "metadata": {
        "id": "da8aXKUppnZe"
      },
      "execution_count": null,
      "outputs": []
    },
    {
      "cell_type": "markdown",
      "source": [
        "# Model train"
      ],
      "metadata": {
        "id": "AVh1HLczdMRT"
      }
    },
    {
      "cell_type": "code",
      "source": [
        "!pip install sentence_transformers"
      ],
      "metadata": {
        "colab": {
          "base_uri": "https://localhost:8080/"
        },
        "id": "52O4UuJQdPXe",
        "outputId": "f34c4fb4-bf86-4d4a-9fe0-1f1411860d90"
      },
      "execution_count": null,
      "outputs": [
        {
          "output_type": "stream",
          "name": "stdout",
          "text": [
            "Looking in indexes: https://pypi.org/simple, https://us-python.pkg.dev/colab-wheels/public/simple/\n",
            "Collecting sentence_transformers\n",
            "  Downloading sentence-transformers-2.2.2.tar.gz (85 kB)\n",
            "\u001b[2K     \u001b[90m━━━━━━━━━━━━━━━━━━━━━━━━━━━━━━━━━━━━━━━━\u001b[0m \u001b[32m86.0/86.0 KB\u001b[0m \u001b[31m3.8 MB/s\u001b[0m eta \u001b[36m0:00:00\u001b[0m\n",
            "\u001b[?25h  Preparing metadata (setup.py) ... \u001b[?25l\u001b[?25hdone\n",
            "Requirement already satisfied: transformers<5.0.0,>=4.6.0 in /usr/local/lib/python3.8/dist-packages (from sentence_transformers) (4.26.1)\n",
            "Requirement already satisfied: tqdm in /usr/local/lib/python3.8/dist-packages (from sentence_transformers) (4.64.1)\n",
            "Requirement already satisfied: torch>=1.6.0 in /usr/local/lib/python3.8/dist-packages (from sentence_transformers) (1.13.1+cu116)\n",
            "Requirement already satisfied: torchvision in /usr/local/lib/python3.8/dist-packages (from sentence_transformers) (0.14.1+cu116)\n",
            "Requirement already satisfied: numpy in /usr/local/lib/python3.8/dist-packages (from sentence_transformers) (1.21.6)\n",
            "Requirement already satisfied: scikit-learn in /usr/local/lib/python3.8/dist-packages (from sentence_transformers) (1.0.2)\n",
            "Requirement already satisfied: scipy in /usr/local/lib/python3.8/dist-packages (from sentence_transformers) (1.7.3)\n",
            "Requirement already satisfied: nltk in /usr/local/lib/python3.8/dist-packages (from sentence_transformers) (3.7)\n",
            "Collecting sentencepiece\n",
            "  Downloading sentencepiece-0.1.97-cp38-cp38-manylinux_2_17_x86_64.manylinux2014_x86_64.whl (1.3 MB)\n",
            "\u001b[2K     \u001b[90m━━━━━━━━━━━━━━━━━━━━━━━━━━━━━━━━━━━━━━━━\u001b[0m \u001b[32m1.3/1.3 MB\u001b[0m \u001b[31m24.3 MB/s\u001b[0m eta \u001b[36m0:00:00\u001b[0m\n",
            "\u001b[?25hRequirement already satisfied: huggingface-hub>=0.4.0 in /usr/local/lib/python3.8/dist-packages (from sentence_transformers) (0.12.0)\n",
            "Requirement already satisfied: typing-extensions>=3.7.4.3 in /usr/local/lib/python3.8/dist-packages (from huggingface-hub>=0.4.0->sentence_transformers) (4.4.0)\n",
            "Requirement already satisfied: packaging>=20.9 in /usr/local/lib/python3.8/dist-packages (from huggingface-hub>=0.4.0->sentence_transformers) (23.0)\n",
            "Requirement already satisfied: requests in /usr/local/lib/python3.8/dist-packages (from huggingface-hub>=0.4.0->sentence_transformers) (2.25.1)\n",
            "Requirement already satisfied: pyyaml>=5.1 in /usr/local/lib/python3.8/dist-packages (from huggingface-hub>=0.4.0->sentence_transformers) (6.0)\n",
            "Requirement already satisfied: filelock in /usr/local/lib/python3.8/dist-packages (from huggingface-hub>=0.4.0->sentence_transformers) (3.9.0)\n",
            "Requirement already satisfied: regex!=2019.12.17 in /usr/local/lib/python3.8/dist-packages (from transformers<5.0.0,>=4.6.0->sentence_transformers) (2022.6.2)\n",
            "Requirement already satisfied: tokenizers!=0.11.3,<0.14,>=0.11.1 in /usr/local/lib/python3.8/dist-packages (from transformers<5.0.0,>=4.6.0->sentence_transformers) (0.13.2)\n",
            "Requirement already satisfied: click in /usr/local/lib/python3.8/dist-packages (from nltk->sentence_transformers) (7.1.2)\n",
            "Requirement already satisfied: joblib in /usr/local/lib/python3.8/dist-packages (from nltk->sentence_transformers) (1.2.0)\n",
            "Requirement already satisfied: threadpoolctl>=2.0.0 in /usr/local/lib/python3.8/dist-packages (from scikit-learn->sentence_transformers) (3.1.0)\n",
            "Requirement already satisfied: pillow!=8.3.*,>=5.3.0 in /usr/local/lib/python3.8/dist-packages (from torchvision->sentence_transformers) (7.1.2)\n",
            "Requirement already satisfied: certifi>=2017.4.17 in /usr/local/lib/python3.8/dist-packages (from requests->huggingface-hub>=0.4.0->sentence_transformers) (2022.12.7)\n",
            "Requirement already satisfied: chardet<5,>=3.0.2 in /usr/local/lib/python3.8/dist-packages (from requests->huggingface-hub>=0.4.0->sentence_transformers) (4.0.0)\n",
            "Requirement already satisfied: urllib3<1.27,>=1.21.1 in /usr/local/lib/python3.8/dist-packages (from requests->huggingface-hub>=0.4.0->sentence_transformers) (1.24.3)\n",
            "Requirement already satisfied: idna<3,>=2.5 in /usr/local/lib/python3.8/dist-packages (from requests->huggingface-hub>=0.4.0->sentence_transformers) (2.10)\n",
            "Building wheels for collected packages: sentence_transformers\n",
            "  Building wheel for sentence_transformers (setup.py) ... \u001b[?25l\u001b[?25hdone\n",
            "  Created wheel for sentence_transformers: filename=sentence_transformers-2.2.2-py3-none-any.whl size=125938 sha256=78240c160b28ca4359ad828532f8213d72fd98681741a7dc8b0288f6b3bdc271\n",
            "  Stored in directory: /root/.cache/pip/wheels/5e/6f/8c/d88aec621f3f542d26fac0342bef5e693335d125f4e54aeffe\n",
            "Successfully built sentence_transformers\n",
            "Installing collected packages: sentencepiece, sentence_transformers\n",
            "Successfully installed sentence_transformers-2.2.2 sentencepiece-0.1.97\n"
          ]
        }
      ]
    },
    {
      "cell_type": "code",
      "source": [
        "from sentence_transformers import SentenceTransformer\n",
        "\n"
      ],
      "metadata": {
        "id": "N_xyayhgXqPV"
      },
      "execution_count": null,
      "outputs": []
    },
    {
      "cell_type": "code",
      "source": [
        "\n",
        "model = SentenceTransformer('sentence-transformers/LaBSE')"
      ],
      "metadata": {
        "id": "d8R6tRpmdNuv"
      },
      "execution_count": null,
      "outputs": []
    },
    {
      "cell_type": "code",
      "source": [
        "corpus_embeddings = model.encode(content_df.clean.values,show_progress_bar=True, convert_to_numpy=True)"
      ],
      "metadata": {
        "id": "ah0zdLnPXx4d",
        "colab": {
          "base_uri": "https://localhost:8080/",
          "height": 49,
          "referenced_widgets": [
            "8787f023822245288b59c9c9c8b1f539",
            "387d44a796f64e8bae88830048904e9f",
            "2814b1b09c594fe99cc943f12de8629c",
            "f4518df9d1d44f22b998e8b4f7b8fab0",
            "b3a16c85a9ce488885f5e4fac6ef935b",
            "57ecea9b1fae4cdaa432686adc06647f",
            "d0e21532a326448983233e89092463b3",
            "32bf0948acd142fd97bd9a654fc3f9f0",
            "259f173cf4f7432bb7ac53cab148367f",
            "602cffe1731d49b697e0512ecea8adbe",
            "5743598d7f194408a5605c71f1805f78"
          ]
        },
        "outputId": "b44ae2b1-662e-4cb7-85b1-5fe8194be360"
      },
      "execution_count": null,
      "outputs": [
        {
          "output_type": "display_data",
          "data": {
            "text/plain": [
              "Batches:   0%|          | 0/354 [00:00<?, ?it/s]"
            ],
            "application/vnd.jupyter.widget-view+json": {
              "version_major": 2,
              "version_minor": 0,
              "model_id": "8787f023822245288b59c9c9c8b1f539"
            }
          },
          "metadata": {}
        }
      ]
    },
    {
      "cell_type": "markdown",
      "source": [
        "# hnswlib"
      ],
      "metadata": {
        "id": "iDM5l6BQhKNj"
      }
    },
    {
      "cell_type": "code",
      "source": [
        "query=\"ক্রিকেটার থেকে গাইড!\"\n",
        "query_embedding = model.encode(query)\n",
        "#get top queries\n",
        "TOP_K=10"
      ],
      "metadata": {
        "id": "s2lbH5OexG0c"
      },
      "execution_count": null,
      "outputs": []
    },
    {
      "cell_type": "code",
      "source": [
        "!pip install hnswlib"
      ],
      "metadata": {
        "colab": {
          "base_uri": "https://localhost:8080/"
        },
        "id": "I1iqQ5ElhzrL",
        "outputId": "f53524f2-92f6-4891-fc52-e2d556d8bcd0"
      },
      "execution_count": null,
      "outputs": [
        {
          "output_type": "stream",
          "name": "stdout",
          "text": [
            "Looking in indexes: https://pypi.org/simple, https://us-python.pkg.dev/colab-wheels/public/simple/\n",
            "Collecting hnswlib\n",
            "  Downloading hnswlib-0.7.0.tar.gz (33 kB)\n",
            "  Installing build dependencies ... \u001b[?25l\u001b[?25hdone\n",
            "  Getting requirements to build wheel ... \u001b[?25l\u001b[?25hdone\n",
            "  Preparing metadata (pyproject.toml) ... \u001b[?25l\u001b[?25hdone\n",
            "Requirement already satisfied: numpy in /usr/local/lib/python3.8/dist-packages (from hnswlib) (1.21.6)\n",
            "Building wheels for collected packages: hnswlib\n",
            "  Building wheel for hnswlib (pyproject.toml) ... \u001b[?25l\u001b[?25hdone\n",
            "  Created wheel for hnswlib: filename=hnswlib-0.7.0-cp38-cp38-linux_x86_64.whl size=2122734 sha256=d031a807206cd2091b8a208b7cadf81aadc705cd911f77a15cec98213a728877\n",
            "  Stored in directory: /root/.cache/pip/wheels/93/0d/13/bbdc55499ef621f8f722fad91050fbb1380709f0c62fa7719a\n",
            "Successfully built hnswlib\n",
            "Installing collected packages: hnswlib\n",
            "Successfully installed hnswlib-0.7.0\n"
          ]
        }
      ]
    },
    {
      "cell_type": "code",
      "source": [
        "import hnswlib\n",
        "import torch"
      ],
      "metadata": {
        "id": "9PpwRFlwqTwC"
      },
      "execution_count": null,
      "outputs": []
    },
    {
      "cell_type": "code",
      "source": [
        "\n",
        "embedding_size=corpus_embeddings.shape[1]\n",
        "index_path='hnswlib'\n",
        "index = hnswlib.Index(space = 'cosine', dim = embedding_size)\n",
        "index.init_index(max_elements = len(corpus_embeddings), ef_construction = 400, M = 64)\n",
        "index.add_items(corpus_embeddings, list(range(len(corpus_embeddings))))\n",
        "index.save_index(index_path)"
      ],
      "metadata": {
        "id": "smmvS9L5y7vU"
      },
      "execution_count": null,
      "outputs": []
    },
    {
      "cell_type": "code",
      "source": [
        "\n",
        "corpus_ids, distances = index.knn_query(query_embedding, k=TOP_K)\n",
        "hits = [{'corpus_id': id, 'score': 1-score} for id, score in zip(corpus_ids[0], distances[0])]\n",
        "hits = sorted(hits, key=lambda x: x['score'], reverse=True)"
      ],
      "metadata": {
        "id": "n3C6qkyGJ3vA"
      },
      "execution_count": null,
      "outputs": []
    },
    {
      "cell_type": "code",
      "source": [],
      "metadata": {
        "id": "EseEfNG3KFla"
      },
      "execution_count": null,
      "outputs": []
    },
    {
      "cell_type": "code",
      "source": [
        "hnswlib_hit_corpus=[]\n",
        "print(\"Results:\")\n",
        "for hit in hits[0:TOP_K]:\n",
        "        #print(\"\\t\\t{}\".format( content_df.clean.values[hit['corpus_id']]))\n",
        "        hnswlib_hit_corpus.append(hit['corpus_id'])\n",
        "\n"
      ],
      "metadata": {
        "id": "_GW1cI08w2H1"
      },
      "execution_count": null,
      "outputs": []
    },
    {
      "cell_type": "code",
      "source": [
        "itemids=[]\n",
        "for i in hnswlib_hit_corpus:\n",
        "  itemids.append(content_df.iloc[i][itemid])\n",
        "content_df[content_df[itemid].isin(itemids)][allcols]"
      ],
      "metadata": {
        "colab": {
          "base_uri": "https://localhost:8080/",
          "height": 362
        },
        "id": "rgha6G-VMGXH",
        "outputId": "e28ec4fe-8568-4bda-a5f2-8fa1d898f7be"
      },
      "execution_count": null,
      "outputs": [
        {
          "output_type": "execute_result",
          "data": {
            "text/plain": [
              "                                                  title  \\\n",
              "2     ক্রিকেটার থেকে গাইড! জাতীয় দলের ক্রিকেটারের অব...   \n",
              "85    মহাতারকা ক্রিকেটার কি শ্রীলঙ্কা সফরের পরেই অবস...   \n",
              "524   কোচের কাছ থেকে কী টিপস পেয়েছিলেন কোহলি? জানতে ...   \n",
              "615   নেতা বাছাইয়ে অভিনব পন্থা নিচ্ছে কেকেআর! বাইশ গ...   \n",
              "708   কোহলি বোলারদের ত্রাস, সাত বছর আগে এক ক্যারিবিয়...   \n",
              "1203  ক্রিকেট মাঠে এবার চালু হচ্ছে লাল কার্ড! কবে থেকে?   \n",
              "2257  আইপিএল-এর পরেই বড় চমক! ভারতকে বিশ্বচ্যাম্পিয়ন...   \n",
              "7651  ঋদ্ধিকে নিয়ে জোর টানাটানি! নিলামে পর পর দুই চম...   \n",
              "7847  কেমন দেখতে ছিলেন এই ক্রিকেটাররা? বাজি রইল, অনে...   \n",
              "8393  শাহরুখের কেকেআর-এ এবার নতুন বোলিং কোচ! চমক কোচ...   \n",
              "\n",
              "                                                  title  \\\n",
              "2     ক্রিকেটার থেকে গাইড! জাতীয় দলের ক্রিকেটারের অব...   \n",
              "85    মহাতারকা ক্রিকেটার কি শ্রীলঙ্কা সফরের পরেই অবস...   \n",
              "524   কোচের কাছ থেকে কী টিপস পেয়েছিলেন কোহলি? জানতে ...   \n",
              "615   নেতা বাছাইয়ে অভিনব পন্থা নিচ্ছে কেকেআর! বাইশ গ...   \n",
              "708   কোহলি বোলারদের ত্রাস, সাত বছর আগে এক ক্যারিবিয়...   \n",
              "1203  ক্রিকেট মাঠে এবার চালু হচ্ছে লাল কার্ড! কবে থেকে?   \n",
              "2257  আইপিএল-এর পরেই বড় চমক! ভারতকে বিশ্বচ্যাম্পিয়ন...   \n",
              "7651  ঋদ্ধিকে নিয়ে জোর টানাটানি! নিলামে পর পর দুই চম...   \n",
              "7847  কেমন দেখতে ছিলেন এই ক্রিকেটাররা? বাজি রইল, অনে...   \n",
              "8393  শাহরুখের কেকেআর-এ এবার নতুন বোলিং কোচ! চমক কোচ...   \n",
              "\n",
              "                                                article  \n",
              "2      কিছুদিন আগেই রাজ্যের গাইড বনে গিয়েছিলেন চেতেশ...  \n",
              "85     ২০১৯-এর বিশ্বকাপের প্রস্তুতি এখন থেকেই শুরু ক...  \n",
              "524    কোচ রাজকুমার শর্মার কাছ থেকে সবথেকে দামি পরাম...  \n",
              "615    আইপিএল-এ নিলামের পর সমস্ত দলের চেহারাই কার্যত...  \n",
              "708    বিরাট কোহলি এখন বিশ্বসেরা ব্যাটসম্যানদের মধ্য...  \n",
              "1203   ফুটবলে প্রচলিত লাল বা হলুদ কার্ডের কথা সবাই জ...  \n",
              "2257   তাঁর হাত ধরেই ভারত বিশ্বকাপ চ্যাম্পিয়ন হয়েছিল...  \n",
              "7651   বাংলার ঋদ্ধিমানকে নিয়ে জোর টানাটানি চলল আইপিএ...  \n",
              "7847   এগোচ্ছে ক্রিকেট। খেলার বিবর্তনের সঙ্গে মাঠের ...  \n",
              "8393   আইপিএল-এর পারদ চড়ছে। ঊর্ধ্বমুখী উত্তেজনা। এর...  "
            ],
            "text/html": [
              "\n",
              "  <div id=\"df-f28a6a40-a674-4fe1-bef3-2b70d8fb1d86\">\n",
              "    <div class=\"colab-df-container\">\n",
              "      <div>\n",
              "<style scoped>\n",
              "    .dataframe tbody tr th:only-of-type {\n",
              "        vertical-align: middle;\n",
              "    }\n",
              "\n",
              "    .dataframe tbody tr th {\n",
              "        vertical-align: top;\n",
              "    }\n",
              "\n",
              "    .dataframe thead th {\n",
              "        text-align: right;\n",
              "    }\n",
              "</style>\n",
              "<table border=\"1\" class=\"dataframe\">\n",
              "  <thead>\n",
              "    <tr style=\"text-align: right;\">\n",
              "      <th></th>\n",
              "      <th>title</th>\n",
              "      <th>title</th>\n",
              "      <th>article</th>\n",
              "    </tr>\n",
              "  </thead>\n",
              "  <tbody>\n",
              "    <tr>\n",
              "      <th>2</th>\n",
              "      <td>ক্রিকেটার থেকে গাইড! জাতীয় দলের ক্রিকেটারের অব...</td>\n",
              "      <td>ক্রিকেটার থেকে গাইড! জাতীয় দলের ক্রিকেটারের অব...</td>\n",
              "      <td>কিছুদিন আগেই রাজ্যের গাইড বনে গিয়েছিলেন চেতেশ...</td>\n",
              "    </tr>\n",
              "    <tr>\n",
              "      <th>85</th>\n",
              "      <td>মহাতারকা ক্রিকেটার কি শ্রীলঙ্কা সফরের পরেই অবস...</td>\n",
              "      <td>মহাতারকা ক্রিকেটার কি শ্রীলঙ্কা সফরের পরেই অবস...</td>\n",
              "      <td>২০১৯-এর বিশ্বকাপের প্রস্তুতি এখন থেকেই শুরু ক...</td>\n",
              "    </tr>\n",
              "    <tr>\n",
              "      <th>524</th>\n",
              "      <td>কোচের কাছ থেকে কী টিপস পেয়েছিলেন কোহলি? জানতে ...</td>\n",
              "      <td>কোচের কাছ থেকে কী টিপস পেয়েছিলেন কোহলি? জানতে ...</td>\n",
              "      <td>কোচ রাজকুমার শর্মার কাছ থেকে সবথেকে দামি পরাম...</td>\n",
              "    </tr>\n",
              "    <tr>\n",
              "      <th>615</th>\n",
              "      <td>নেতা বাছাইয়ে অভিনব পন্থা নিচ্ছে কেকেআর! বাইশ গ...</td>\n",
              "      <td>নেতা বাছাইয়ে অভিনব পন্থা নিচ্ছে কেকেআর! বাইশ গ...</td>\n",
              "      <td>আইপিএল-এ নিলামের পর সমস্ত দলের চেহারাই কার্যত...</td>\n",
              "    </tr>\n",
              "    <tr>\n",
              "      <th>708</th>\n",
              "      <td>কোহলি বোলারদের ত্রাস, সাত বছর আগে এক ক্যারিবিয়...</td>\n",
              "      <td>কোহলি বোলারদের ত্রাস, সাত বছর আগে এক ক্যারিবিয়...</td>\n",
              "      <td>বিরাট কোহলি এখন বিশ্বসেরা ব্যাটসম্যানদের মধ্য...</td>\n",
              "    </tr>\n",
              "    <tr>\n",
              "      <th>1203</th>\n",
              "      <td>ক্রিকেট মাঠে এবার চালু হচ্ছে লাল কার্ড! কবে থেকে?</td>\n",
              "      <td>ক্রিকেট মাঠে এবার চালু হচ্ছে লাল কার্ড! কবে থেকে?</td>\n",
              "      <td>ফুটবলে প্রচলিত লাল বা হলুদ কার্ডের কথা সবাই জ...</td>\n",
              "    </tr>\n",
              "    <tr>\n",
              "      <th>2257</th>\n",
              "      <td>আইপিএল-এর পরেই বড় চমক! ভারতকে বিশ্বচ্যাম্পিয়ন...</td>\n",
              "      <td>আইপিএল-এর পরেই বড় চমক! ভারতকে বিশ্বচ্যাম্পিয়ন...</td>\n",
              "      <td>তাঁর হাত ধরেই ভারত বিশ্বকাপ চ্যাম্পিয়ন হয়েছিল...</td>\n",
              "    </tr>\n",
              "    <tr>\n",
              "      <th>7651</th>\n",
              "      <td>ঋদ্ধিকে নিয়ে জোর টানাটানি! নিলামে পর পর দুই চম...</td>\n",
              "      <td>ঋদ্ধিকে নিয়ে জোর টানাটানি! নিলামে পর পর দুই চম...</td>\n",
              "      <td>বাংলার ঋদ্ধিমানকে নিয়ে জোর টানাটানি চলল আইপিএ...</td>\n",
              "    </tr>\n",
              "    <tr>\n",
              "      <th>7847</th>\n",
              "      <td>কেমন দেখতে ছিলেন এই ক্রিকেটাররা? বাজি রইল, অনে...</td>\n",
              "      <td>কেমন দেখতে ছিলেন এই ক্রিকেটাররা? বাজি রইল, অনে...</td>\n",
              "      <td>এগোচ্ছে ক্রিকেট। খেলার বিবর্তনের সঙ্গে মাঠের ...</td>\n",
              "    </tr>\n",
              "    <tr>\n",
              "      <th>8393</th>\n",
              "      <td>শাহরুখের কেকেআর-এ এবার নতুন বোলিং কোচ! চমক কোচ...</td>\n",
              "      <td>শাহরুখের কেকেআর-এ এবার নতুন বোলিং কোচ! চমক কোচ...</td>\n",
              "      <td>আইপিএল-এর পারদ চড়ছে। ঊর্ধ্বমুখী উত্তেজনা। এর...</td>\n",
              "    </tr>\n",
              "  </tbody>\n",
              "</table>\n",
              "</div>\n",
              "      <button class=\"colab-df-convert\" onclick=\"convertToInteractive('df-f28a6a40-a674-4fe1-bef3-2b70d8fb1d86')\"\n",
              "              title=\"Convert this dataframe to an interactive table.\"\n",
              "              style=\"display:none;\">\n",
              "        \n",
              "  <svg xmlns=\"http://www.w3.org/2000/svg\" height=\"24px\"viewBox=\"0 0 24 24\"\n",
              "       width=\"24px\">\n",
              "    <path d=\"M0 0h24v24H0V0z\" fill=\"none\"/>\n",
              "    <path d=\"M18.56 5.44l.94 2.06.94-2.06 2.06-.94-2.06-.94-.94-2.06-.94 2.06-2.06.94zm-11 1L8.5 8.5l.94-2.06 2.06-.94-2.06-.94L8.5 2.5l-.94 2.06-2.06.94zm10 10l.94 2.06.94-2.06 2.06-.94-2.06-.94-.94-2.06-.94 2.06-2.06.94z\"/><path d=\"M17.41 7.96l-1.37-1.37c-.4-.4-.92-.59-1.43-.59-.52 0-1.04.2-1.43.59L10.3 9.45l-7.72 7.72c-.78.78-.78 2.05 0 2.83L4 21.41c.39.39.9.59 1.41.59.51 0 1.02-.2 1.41-.59l7.78-7.78 2.81-2.81c.8-.78.8-2.07 0-2.86zM5.41 20L4 18.59l7.72-7.72 1.47 1.35L5.41 20z\"/>\n",
              "  </svg>\n",
              "      </button>\n",
              "      \n",
              "  <style>\n",
              "    .colab-df-container {\n",
              "      display:flex;\n",
              "      flex-wrap:wrap;\n",
              "      gap: 12px;\n",
              "    }\n",
              "\n",
              "    .colab-df-convert {\n",
              "      background-color: #E8F0FE;\n",
              "      border: none;\n",
              "      border-radius: 50%;\n",
              "      cursor: pointer;\n",
              "      display: none;\n",
              "      fill: #1967D2;\n",
              "      height: 32px;\n",
              "      padding: 0 0 0 0;\n",
              "      width: 32px;\n",
              "    }\n",
              "\n",
              "    .colab-df-convert:hover {\n",
              "      background-color: #E2EBFA;\n",
              "      box-shadow: 0px 1px 2px rgba(60, 64, 67, 0.3), 0px 1px 3px 1px rgba(60, 64, 67, 0.15);\n",
              "      fill: #174EA6;\n",
              "    }\n",
              "\n",
              "    [theme=dark] .colab-df-convert {\n",
              "      background-color: #3B4455;\n",
              "      fill: #D2E3FC;\n",
              "    }\n",
              "\n",
              "    [theme=dark] .colab-df-convert:hover {\n",
              "      background-color: #434B5C;\n",
              "      box-shadow: 0px 1px 3px 1px rgba(0, 0, 0, 0.15);\n",
              "      filter: drop-shadow(0px 1px 2px rgba(0, 0, 0, 0.3));\n",
              "      fill: #FFFFFF;\n",
              "    }\n",
              "  </style>\n",
              "\n",
              "      <script>\n",
              "        const buttonEl =\n",
              "          document.querySelector('#df-f28a6a40-a674-4fe1-bef3-2b70d8fb1d86 button.colab-df-convert');\n",
              "        buttonEl.style.display =\n",
              "          google.colab.kernel.accessAllowed ? 'block' : 'none';\n",
              "\n",
              "        async function convertToInteractive(key) {\n",
              "          const element = document.querySelector('#df-f28a6a40-a674-4fe1-bef3-2b70d8fb1d86');\n",
              "          const dataTable =\n",
              "            await google.colab.kernel.invokeFunction('convertToInteractive',\n",
              "                                                     [key], {});\n",
              "          if (!dataTable) return;\n",
              "\n",
              "          const docLinkHtml = 'Like what you see? Visit the ' +\n",
              "            '<a target=\"_blank\" href=https://colab.research.google.com/notebooks/data_table.ipynb>data table notebook</a>'\n",
              "            + ' to learn more about interactive tables.';\n",
              "          element.innerHTML = '';\n",
              "          dataTable['output_type'] = 'display_data';\n",
              "          await google.colab.output.renderOutput(dataTable, element);\n",
              "          const docLink = document.createElement('div');\n",
              "          docLink.innerHTML = docLinkHtml;\n",
              "          element.appendChild(docLink);\n",
              "        }\n",
              "      </script>\n",
              "    </div>\n",
              "  </div>\n",
              "  "
            ]
          },
          "metadata": {},
          "execution_count": 55
        }
      ]
    },
    {
      "cell_type": "markdown",
      "source": [
        "# Compare hnswlib results with Cosine similarity\n",
        "- Approximate Nearest Neighbor (ANN) is not exact, it might miss entries with high cosine similarity"
      ],
      "metadata": {
        "id": "vFutAZJn0gvs"
      }
    },
    {
      "cell_type": "code",
      "source": [
        "from sentence_transformers import  util\n",
        "# Here, we compute the recall of ANN compared to the exact results\n",
        "correct_hits = util.semantic_search(query_embedding, corpus_embeddings, top_k=TOP_K)[0]\n",
        "correct_hits_ids = set([hit['corpus_id'] for hit in correct_hits])"
      ],
      "metadata": {
        "id": "pPEGv0Fl0eCj"
      },
      "execution_count": null,
      "outputs": []
    },
    {
      "cell_type": "code",
      "source": [
        "correct_hits_ids"
      ],
      "metadata": {
        "colab": {
          "base_uri": "https://localhost:8080/"
        },
        "id": "woG4Zlid16-8",
        "outputId": "bc417de9-7d34-4837-afba-a9c32a460b63"
      },
      "execution_count": null,
      "outputs": [
        {
          "output_type": "execute_result",
          "data": {
            "text/plain": [
              "{2, 374, 524, 615, 708, 1203, 4622, 7651, 7847, 8393}"
            ]
          },
          "metadata": {},
          "execution_count": 46
        }
      ]
    },
    {
      "cell_type": "code",
      "source": [
        "corect_hit_corpus=[]\n",
        "for hit in correct_hits[0:TOP_K]:\n",
        "              corect_hit_corpus.append(hit['corpus_id'])\n",
        "itemids=[]\n",
        "for i in corect_hit_corpus:\n",
        "  itemids.append(content_df.iloc[i][itemid])\n",
        "content_df[content_df[itemid].isin(itemids)][allcols]\n"
      ],
      "metadata": {
        "colab": {
          "base_uri": "https://localhost:8080/",
          "height": 362
        },
        "id": "X70tJr2sMyqS",
        "outputId": "048ccd7a-d0a3-45ba-e971-dd5845bc8135"
      },
      "execution_count": null,
      "outputs": [
        {
          "output_type": "execute_result",
          "data": {
            "text/plain": [
              "                                                  title  \\\n",
              "2     ক্রিকেটার থেকে গাইড! জাতীয় দলের ক্রিকেটারের অব...   \n",
              "374   বিরাটের নেতৃত্বে থেকেও ধোনির জয়জয়কার ঋদ্ধিমানে...   \n",
              "524   কোচের কাছ থেকে কী টিপস পেয়েছিলেন কোহলি? জানতে ...   \n",
              "615   নেতা বাছাইয়ে অভিনব পন্থা নিচ্ছে কেকেআর! বাইশ গ...   \n",
              "708   কোহলি বোলারদের ত্রাস, সাত বছর আগে এক ক্যারিবিয়...   \n",
              "1203  ক্রিকেট মাঠে এবার চালু হচ্ছে লাল কার্ড! কবে থেকে?   \n",
              "4622          আফ্রিদিদের নিয়ে পাল্টা তোপ এবার ওয়াকারের    \n",
              "7651  ঋদ্ধিকে নিয়ে জোর টানাটানি! নিলামে পর পর দুই চম...   \n",
              "7847  কেমন দেখতে ছিলেন এই ক্রিকেটাররা? বাজি রইল, অনে...   \n",
              "8393  শাহরুখের কেকেআর-এ এবার নতুন বোলিং কোচ! চমক কোচ...   \n",
              "\n",
              "                                                  title  \\\n",
              "2     ক্রিকেটার থেকে গাইড! জাতীয় দলের ক্রিকেটারের অব...   \n",
              "374   বিরাটের নেতৃত্বে থেকেও ধোনির জয়জয়কার ঋদ্ধিমানে...   \n",
              "524   কোচের কাছ থেকে কী টিপস পেয়েছিলেন কোহলি? জানতে ...   \n",
              "615   নেতা বাছাইয়ে অভিনব পন্থা নিচ্ছে কেকেআর! বাইশ গ...   \n",
              "708   কোহলি বোলারদের ত্রাস, সাত বছর আগে এক ক্যারিবিয়...   \n",
              "1203  ক্রিকেট মাঠে এবার চালু হচ্ছে লাল কার্ড! কবে থেকে?   \n",
              "4622          আফ্রিদিদের নিয়ে পাল্টা তোপ এবার ওয়াকারের    \n",
              "7651  ঋদ্ধিকে নিয়ে জোর টানাটানি! নিলামে পর পর দুই চম...   \n",
              "7847  কেমন দেখতে ছিলেন এই ক্রিকেটাররা? বাজি রইল, অনে...   \n",
              "8393  শাহরুখের কেকেআর-এ এবার নতুন বোলিং কোচ! চমক কোচ...   \n",
              "\n",
              "                                                article  \n",
              "2      কিছুদিন আগেই রাজ্যের গাইড বনে গিয়েছিলেন চেতেশ...  \n",
              "374    বিরাট কোহলিদের ম্যানেজার রবি শাস্ত্রীও তাঁর প...  \n",
              "524    কোচ রাজকুমার শর্মার কাছ থেকে সবথেকে দামি পরাম...  \n",
              "615    আইপিএল-এ নিলামের পর সমস্ত দলের চেহারাই কার্যত...  \n",
              "708    বিরাট কোহলি এখন বিশ্বসেরা ব্যাটসম্যানদের মধ্য...  \n",
              "1203   ফুটবলে প্রচলিত লাল বা হলুদ কার্ডের কথা সবাই জ...  \n",
              "4622   তাঁকে কোচের পদ থেকে ছেঁটে ফেলার আনুষ্ঠানিক ঘো...  \n",
              "7651   বাংলার ঋদ্ধিমানকে নিয়ে জোর টানাটানি চলল আইপিএ...  \n",
              "7847   এগোচ্ছে ক্রিকেট। খেলার বিবর্তনের সঙ্গে মাঠের ...  \n",
              "8393   আইপিএল-এর পারদ চড়ছে। ঊর্ধ্বমুখী উত্তেজনা। এর...  "
            ],
            "text/html": [
              "\n",
              "  <div id=\"df-ac64421a-4d5a-48fc-ab9b-9c637a125a23\">\n",
              "    <div class=\"colab-df-container\">\n",
              "      <div>\n",
              "<style scoped>\n",
              "    .dataframe tbody tr th:only-of-type {\n",
              "        vertical-align: middle;\n",
              "    }\n",
              "\n",
              "    .dataframe tbody tr th {\n",
              "        vertical-align: top;\n",
              "    }\n",
              "\n",
              "    .dataframe thead th {\n",
              "        text-align: right;\n",
              "    }\n",
              "</style>\n",
              "<table border=\"1\" class=\"dataframe\">\n",
              "  <thead>\n",
              "    <tr style=\"text-align: right;\">\n",
              "      <th></th>\n",
              "      <th>title</th>\n",
              "      <th>title</th>\n",
              "      <th>article</th>\n",
              "    </tr>\n",
              "  </thead>\n",
              "  <tbody>\n",
              "    <tr>\n",
              "      <th>2</th>\n",
              "      <td>ক্রিকেটার থেকে গাইড! জাতীয় দলের ক্রিকেটারের অব...</td>\n",
              "      <td>ক্রিকেটার থেকে গাইড! জাতীয় দলের ক্রিকেটারের অব...</td>\n",
              "      <td>কিছুদিন আগেই রাজ্যের গাইড বনে গিয়েছিলেন চেতেশ...</td>\n",
              "    </tr>\n",
              "    <tr>\n",
              "      <th>374</th>\n",
              "      <td>বিরাটের নেতৃত্বে থেকেও ধোনির জয়জয়কার ঋদ্ধিমানে...</td>\n",
              "      <td>বিরাটের নেতৃত্বে থেকেও ধোনির জয়জয়কার ঋদ্ধিমানে...</td>\n",
              "      <td>বিরাট কোহলিদের ম্যানেজার রবি শাস্ত্রীও তাঁর প...</td>\n",
              "    </tr>\n",
              "    <tr>\n",
              "      <th>524</th>\n",
              "      <td>কোচের কাছ থেকে কী টিপস পেয়েছিলেন কোহলি? জানতে ...</td>\n",
              "      <td>কোচের কাছ থেকে কী টিপস পেয়েছিলেন কোহলি? জানতে ...</td>\n",
              "      <td>কোচ রাজকুমার শর্মার কাছ থেকে সবথেকে দামি পরাম...</td>\n",
              "    </tr>\n",
              "    <tr>\n",
              "      <th>615</th>\n",
              "      <td>নেতা বাছাইয়ে অভিনব পন্থা নিচ্ছে কেকেআর! বাইশ গ...</td>\n",
              "      <td>নেতা বাছাইয়ে অভিনব পন্থা নিচ্ছে কেকেআর! বাইশ গ...</td>\n",
              "      <td>আইপিএল-এ নিলামের পর সমস্ত দলের চেহারাই কার্যত...</td>\n",
              "    </tr>\n",
              "    <tr>\n",
              "      <th>708</th>\n",
              "      <td>কোহলি বোলারদের ত্রাস, সাত বছর আগে এক ক্যারিবিয়...</td>\n",
              "      <td>কোহলি বোলারদের ত্রাস, সাত বছর আগে এক ক্যারিবিয়...</td>\n",
              "      <td>বিরাট কোহলি এখন বিশ্বসেরা ব্যাটসম্যানদের মধ্য...</td>\n",
              "    </tr>\n",
              "    <tr>\n",
              "      <th>1203</th>\n",
              "      <td>ক্রিকেট মাঠে এবার চালু হচ্ছে লাল কার্ড! কবে থেকে?</td>\n",
              "      <td>ক্রিকেট মাঠে এবার চালু হচ্ছে লাল কার্ড! কবে থেকে?</td>\n",
              "      <td>ফুটবলে প্রচলিত লাল বা হলুদ কার্ডের কথা সবাই জ...</td>\n",
              "    </tr>\n",
              "    <tr>\n",
              "      <th>4622</th>\n",
              "      <td>আফ্রিদিদের নিয়ে পাল্টা তোপ এবার ওয়াকারের</td>\n",
              "      <td>আফ্রিদিদের নিয়ে পাল্টা তোপ এবার ওয়াকারের</td>\n",
              "      <td>তাঁকে কোচের পদ থেকে ছেঁটে ফেলার আনুষ্ঠানিক ঘো...</td>\n",
              "    </tr>\n",
              "    <tr>\n",
              "      <th>7651</th>\n",
              "      <td>ঋদ্ধিকে নিয়ে জোর টানাটানি! নিলামে পর পর দুই চম...</td>\n",
              "      <td>ঋদ্ধিকে নিয়ে জোর টানাটানি! নিলামে পর পর দুই চম...</td>\n",
              "      <td>বাংলার ঋদ্ধিমানকে নিয়ে জোর টানাটানি চলল আইপিএ...</td>\n",
              "    </tr>\n",
              "    <tr>\n",
              "      <th>7847</th>\n",
              "      <td>কেমন দেখতে ছিলেন এই ক্রিকেটাররা? বাজি রইল, অনে...</td>\n",
              "      <td>কেমন দেখতে ছিলেন এই ক্রিকেটাররা? বাজি রইল, অনে...</td>\n",
              "      <td>এগোচ্ছে ক্রিকেট। খেলার বিবর্তনের সঙ্গে মাঠের ...</td>\n",
              "    </tr>\n",
              "    <tr>\n",
              "      <th>8393</th>\n",
              "      <td>শাহরুখের কেকেআর-এ এবার নতুন বোলিং কোচ! চমক কোচ...</td>\n",
              "      <td>শাহরুখের কেকেআর-এ এবার নতুন বোলিং কোচ! চমক কোচ...</td>\n",
              "      <td>আইপিএল-এর পারদ চড়ছে। ঊর্ধ্বমুখী উত্তেজনা। এর...</td>\n",
              "    </tr>\n",
              "  </tbody>\n",
              "</table>\n",
              "</div>\n",
              "      <button class=\"colab-df-convert\" onclick=\"convertToInteractive('df-ac64421a-4d5a-48fc-ab9b-9c637a125a23')\"\n",
              "              title=\"Convert this dataframe to an interactive table.\"\n",
              "              style=\"display:none;\">\n",
              "        \n",
              "  <svg xmlns=\"http://www.w3.org/2000/svg\" height=\"24px\"viewBox=\"0 0 24 24\"\n",
              "       width=\"24px\">\n",
              "    <path d=\"M0 0h24v24H0V0z\" fill=\"none\"/>\n",
              "    <path d=\"M18.56 5.44l.94 2.06.94-2.06 2.06-.94-2.06-.94-.94-2.06-.94 2.06-2.06.94zm-11 1L8.5 8.5l.94-2.06 2.06-.94-2.06-.94L8.5 2.5l-.94 2.06-2.06.94zm10 10l.94 2.06.94-2.06 2.06-.94-2.06-.94-.94-2.06-.94 2.06-2.06.94z\"/><path d=\"M17.41 7.96l-1.37-1.37c-.4-.4-.92-.59-1.43-.59-.52 0-1.04.2-1.43.59L10.3 9.45l-7.72 7.72c-.78.78-.78 2.05 0 2.83L4 21.41c.39.39.9.59 1.41.59.51 0 1.02-.2 1.41-.59l7.78-7.78 2.81-2.81c.8-.78.8-2.07 0-2.86zM5.41 20L4 18.59l7.72-7.72 1.47 1.35L5.41 20z\"/>\n",
              "  </svg>\n",
              "      </button>\n",
              "      \n",
              "  <style>\n",
              "    .colab-df-container {\n",
              "      display:flex;\n",
              "      flex-wrap:wrap;\n",
              "      gap: 12px;\n",
              "    }\n",
              "\n",
              "    .colab-df-convert {\n",
              "      background-color: #E8F0FE;\n",
              "      border: none;\n",
              "      border-radius: 50%;\n",
              "      cursor: pointer;\n",
              "      display: none;\n",
              "      fill: #1967D2;\n",
              "      height: 32px;\n",
              "      padding: 0 0 0 0;\n",
              "      width: 32px;\n",
              "    }\n",
              "\n",
              "    .colab-df-convert:hover {\n",
              "      background-color: #E2EBFA;\n",
              "      box-shadow: 0px 1px 2px rgba(60, 64, 67, 0.3), 0px 1px 3px 1px rgba(60, 64, 67, 0.15);\n",
              "      fill: #174EA6;\n",
              "    }\n",
              "\n",
              "    [theme=dark] .colab-df-convert {\n",
              "      background-color: #3B4455;\n",
              "      fill: #D2E3FC;\n",
              "    }\n",
              "\n",
              "    [theme=dark] .colab-df-convert:hover {\n",
              "      background-color: #434B5C;\n",
              "      box-shadow: 0px 1px 3px 1px rgba(0, 0, 0, 0.15);\n",
              "      filter: drop-shadow(0px 1px 2px rgba(0, 0, 0, 0.3));\n",
              "      fill: #FFFFFF;\n",
              "    }\n",
              "  </style>\n",
              "\n",
              "      <script>\n",
              "        const buttonEl =\n",
              "          document.querySelector('#df-ac64421a-4d5a-48fc-ab9b-9c637a125a23 button.colab-df-convert');\n",
              "        buttonEl.style.display =\n",
              "          google.colab.kernel.accessAllowed ? 'block' : 'none';\n",
              "\n",
              "        async function convertToInteractive(key) {\n",
              "          const element = document.querySelector('#df-ac64421a-4d5a-48fc-ab9b-9c637a125a23');\n",
              "          const dataTable =\n",
              "            await google.colab.kernel.invokeFunction('convertToInteractive',\n",
              "                                                     [key], {});\n",
              "          if (!dataTable) return;\n",
              "\n",
              "          const docLinkHtml = 'Like what you see? Visit the ' +\n",
              "            '<a target=\"_blank\" href=https://colab.research.google.com/notebooks/data_table.ipynb>data table notebook</a>'\n",
              "            + ' to learn more about interactive tables.';\n",
              "          element.innerHTML = '';\n",
              "          dataTable['output_type'] = 'display_data';\n",
              "          await google.colab.output.renderOutput(dataTable, element);\n",
              "          const docLink = document.createElement('div');\n",
              "          docLink.innerHTML = docLinkHtml;\n",
              "          element.appendChild(docLink);\n",
              "        }\n",
              "      </script>\n",
              "    </div>\n",
              "  </div>\n",
              "  "
            ]
          },
          "metadata": {},
          "execution_count": 47
        }
      ]
    },
    {
      "cell_type": "code",
      "source": [
        "hnswlib_hit_corpus=set(hnswlib_hit_corpus)\n",
        "hnswlib_hit_corpus"
      ],
      "metadata": {
        "colab": {
          "base_uri": "https://localhost:8080/"
        },
        "id": "0FEQvCqU2aS0",
        "outputId": "60599a07-3850-4588-d39b-049df3223102"
      },
      "execution_count": null,
      "outputs": [
        {
          "output_type": "execute_result",
          "data": {
            "text/plain": [
              "{2, 85, 524, 615, 708, 1203, 2257, 7651, 7847, 8393}"
            ]
          },
          "metadata": {},
          "execution_count": 56
        }
      ]
    },
    {
      "cell_type": "code",
      "source": [
        "\n",
        "recall = len(hnswlib_hit_corpus.intersection(correct_hits_ids)) / len(correct_hits_ids)\n",
        "print(\"recall: \"+str(recall))"
      ],
      "metadata": {
        "colab": {
          "base_uri": "https://localhost:8080/"
        },
        "id": "PBo4A3qn1PSN",
        "outputId": "50b3804d-6a92-4109-9dc3-9b12662ca62a"
      },
      "execution_count": null,
      "outputs": [
        {
          "output_type": "stream",
          "name": "stdout",
          "text": [
            "recall: 0.8\n"
          ]
        }
      ]
    },
    {
      "cell_type": "code",
      "source": [],
      "metadata": {
        "id": "G0L5r3co2vhU"
      },
      "execution_count": null,
      "outputs": []
    },
    {
      "cell_type": "markdown",
      "source": [
        "# Search with FAISS"
      ],
      "metadata": {
        "id": "0e7sdUDTbCSM"
      }
    },
    {
      "cell_type": "code",
      "source": [
        "!pip install faiss-gpu"
      ],
      "metadata": {
        "colab": {
          "base_uri": "https://localhost:8080/"
        },
        "id": "hWITQccFd3d8",
        "outputId": "7568c181-3210-45b1-af9f-16e355d03c11"
      },
      "execution_count": null,
      "outputs": [
        {
          "output_type": "stream",
          "name": "stdout",
          "text": [
            "Found existing installation: faiss-cpu 1.7.3\n",
            "Uninstalling faiss-cpu-1.7.3:\n",
            "  Would remove:\n",
            "    /usr/local/lib/python3.8/dist-packages/faiss/*\n",
            "    /usr/local/lib/python3.8/dist-packages/faiss_cpu-1.7.3.dist-info/*\n",
            "    /usr/local/lib/python3.8/dist-packages/faiss_cpu.libs/libgfortran-040039e1.so.5.0.0\n",
            "    /usr/local/lib/python3.8/dist-packages/faiss_cpu.libs/libgomp-a34b3233.so.1.0.0\n",
            "    /usr/local/lib/python3.8/dist-packages/faiss_cpu.libs/libquadmath-96973f99.so.0.0.0\n",
            "Proceed (Y/n)? y\n",
            "  Successfully uninstalled faiss-cpu-1.7.3\n",
            "Looking in indexes: https://pypi.org/simple, https://us-python.pkg.dev/colab-wheels/public/simple/\n",
            "Requirement already satisfied: faiss-gpu in /usr/local/lib/python3.8/dist-packages (1.7.2)\n"
          ]
        }
      ]
    },
    {
      "cell_type": "code",
      "source": [
        "iscuda=torch.cuda.is_available()"
      ],
      "metadata": {
        "id": "k5D8PzlUhP-w"
      },
      "execution_count": null,
      "outputs": []
    },
    {
      "cell_type": "code",
      "source": [],
      "metadata": {
        "colab": {
          "base_uri": "https://localhost:8080/"
        },
        "id": "ahxhjLZ7hYDO",
        "outputId": "3b5c35d1-dc17-4814-e95f-60d6abb6f043"
      },
      "execution_count": null,
      "outputs": [
        {
          "output_type": "execute_result",
          "data": {
            "text/plain": [
              "768"
            ]
          },
          "metadata": {},
          "execution_count": 62
        }
      ]
    },
    {
      "cell_type": "code",
      "source": [
        "import faiss\n",
        "from sentence_transformers import SentenceTransformer\n",
        "#encoded_data = model.encode(content_df.clean.tolist())\n",
        "encoded_data = np.asarray(corpus_embeddings.astype('float32'))\n",
        "index = faiss.IndexIDMap(faiss.IndexFlatIP(corpus_embeddings.shape[1]))\n"
      ],
      "metadata": {
        "id": "ns09zArkd5-E"
      },
      "execution_count": null,
      "outputs": []
    },
    {
      "cell_type": "code",
      "source": [
        "# #use GPU\n",
        "# if iscuda:\n",
        "#   index = faiss.index_cpu_to_gpu(res, 0, index_flat)\n",
        "index.add_with_ids(encoded_data, np.array(range(0, len(content_df))))\n",
        "faiss.write_index(index, 'item.index')"
      ],
      "metadata": {
        "id": "XnY9pJTZiQTK"
      },
      "execution_count": null,
      "outputs": []
    },
    {
      "cell_type": "markdown",
      "source": [
        "### fetch details of the document"
      ],
      "metadata": {
        "id": "g9Z0s8oefDjN"
      }
    },
    {
      "cell_type": "code",
      "source": [
        "\n",
        "def search(query, k, index, model):\n",
        "    qv = model.encode([query])\n",
        "    top_k = index.search(qv, k)\n",
        "    top_k_ids = top_k[1].tolist()[0]\n",
        "    top_k_ids = list(np.unique(top_k_ids))\n",
        "    results =  [content_df.iloc[idx][itemid] for idx in top_k_ids]\n",
        "    return results"
      ],
      "metadata": {
        "id": "V5FxwUtve8cT"
      },
      "execution_count": null,
      "outputs": []
    },
    {
      "cell_type": "markdown",
      "source": [
        "### search"
      ],
      "metadata": {
        "id": "92-pH1Zyfi58"
      }
    },
    {
      "cell_type": "code",
      "source": [
        "from pprint import pprint\n",
        "query=\"ক্রিকেটার থেকে গাইড!\"\n",
        "results=search(query, k=10, index=index, model=model)\n",
        "content_df[content_df[itemid].isin(results)][allcols]"
      ],
      "metadata": {
        "colab": {
          "base_uri": "https://localhost:8080/",
          "height": 362
        },
        "id": "w_aCL-kcfiS0",
        "outputId": "f8d23cfc-df85-455e-9e67-d15689aec5b7"
      },
      "execution_count": null,
      "outputs": [
        {
          "output_type": "execute_result",
          "data": {
            "text/plain": [
              "                                                  title  \\\n",
              "2     ক্রিকেটার থেকে গাইড! জাতীয় দলের ক্রিকেটারের অব...   \n",
              "374   বিরাটের নেতৃত্বে থেকেও ধোনির জয়জয়কার ঋদ্ধিমানে...   \n",
              "524   কোচের কাছ থেকে কী টিপস পেয়েছিলেন কোহলি? জানতে ...   \n",
              "615   নেতা বাছাইয়ে অভিনব পন্থা নিচ্ছে কেকেআর! বাইশ গ...   \n",
              "708   কোহলি বোলারদের ত্রাস, সাত বছর আগে এক ক্যারিবিয়...   \n",
              "1203  ক্রিকেট মাঠে এবার চালু হচ্ছে লাল কার্ড! কবে থেকে?   \n",
              "4622          আফ্রিদিদের নিয়ে পাল্টা তোপ এবার ওয়াকারের    \n",
              "7651  ঋদ্ধিকে নিয়ে জোর টানাটানি! নিলামে পর পর দুই চম...   \n",
              "7847  কেমন দেখতে ছিলেন এই ক্রিকেটাররা? বাজি রইল, অনে...   \n",
              "8393  শাহরুখের কেকেআর-এ এবার নতুন বোলিং কোচ! চমক কোচ...   \n",
              "\n",
              "                                                  title  \\\n",
              "2     ক্রিকেটার থেকে গাইড! জাতীয় দলের ক্রিকেটারের অব...   \n",
              "374   বিরাটের নেতৃত্বে থেকেও ধোনির জয়জয়কার ঋদ্ধিমানে...   \n",
              "524   কোচের কাছ থেকে কী টিপস পেয়েছিলেন কোহলি? জানতে ...   \n",
              "615   নেতা বাছাইয়ে অভিনব পন্থা নিচ্ছে কেকেআর! বাইশ গ...   \n",
              "708   কোহলি বোলারদের ত্রাস, সাত বছর আগে এক ক্যারিবিয়...   \n",
              "1203  ক্রিকেট মাঠে এবার চালু হচ্ছে লাল কার্ড! কবে থেকে?   \n",
              "4622          আফ্রিদিদের নিয়ে পাল্টা তোপ এবার ওয়াকারের    \n",
              "7651  ঋদ্ধিকে নিয়ে জোর টানাটানি! নিলামে পর পর দুই চম...   \n",
              "7847  কেমন দেখতে ছিলেন এই ক্রিকেটাররা? বাজি রইল, অনে...   \n",
              "8393  শাহরুখের কেকেআর-এ এবার নতুন বোলিং কোচ! চমক কোচ...   \n",
              "\n",
              "                                                article  \n",
              "2      কিছুদিন আগেই রাজ্যের গাইড বনে গিয়েছিলেন চেতেশ...  \n",
              "374    বিরাট কোহলিদের ম্যানেজার রবি শাস্ত্রীও তাঁর প...  \n",
              "524    কোচ রাজকুমার শর্মার কাছ থেকে সবথেকে দামি পরাম...  \n",
              "615    আইপিএল-এ নিলামের পর সমস্ত দলের চেহারাই কার্যত...  \n",
              "708    বিরাট কোহলি এখন বিশ্বসেরা ব্যাটসম্যানদের মধ্য...  \n",
              "1203   ফুটবলে প্রচলিত লাল বা হলুদ কার্ডের কথা সবাই জ...  \n",
              "4622   তাঁকে কোচের পদ থেকে ছেঁটে ফেলার আনুষ্ঠানিক ঘো...  \n",
              "7651   বাংলার ঋদ্ধিমানকে নিয়ে জোর টানাটানি চলল আইপিএ...  \n",
              "7847   এগোচ্ছে ক্রিকেট। খেলার বিবর্তনের সঙ্গে মাঠের ...  \n",
              "8393   আইপিএল-এর পারদ চড়ছে। ঊর্ধ্বমুখী উত্তেজনা। এর...  "
            ],
            "text/html": [
              "\n",
              "  <div id=\"df-be846570-bddb-4fea-828b-8b11c210557e\">\n",
              "    <div class=\"colab-df-container\">\n",
              "      <div>\n",
              "<style scoped>\n",
              "    .dataframe tbody tr th:only-of-type {\n",
              "        vertical-align: middle;\n",
              "    }\n",
              "\n",
              "    .dataframe tbody tr th {\n",
              "        vertical-align: top;\n",
              "    }\n",
              "\n",
              "    .dataframe thead th {\n",
              "        text-align: right;\n",
              "    }\n",
              "</style>\n",
              "<table border=\"1\" class=\"dataframe\">\n",
              "  <thead>\n",
              "    <tr style=\"text-align: right;\">\n",
              "      <th></th>\n",
              "      <th>title</th>\n",
              "      <th>title</th>\n",
              "      <th>article</th>\n",
              "    </tr>\n",
              "  </thead>\n",
              "  <tbody>\n",
              "    <tr>\n",
              "      <th>2</th>\n",
              "      <td>ক্রিকেটার থেকে গাইড! জাতীয় দলের ক্রিকেটারের অব...</td>\n",
              "      <td>ক্রিকেটার থেকে গাইড! জাতীয় দলের ক্রিকেটারের অব...</td>\n",
              "      <td>কিছুদিন আগেই রাজ্যের গাইড বনে গিয়েছিলেন চেতেশ...</td>\n",
              "    </tr>\n",
              "    <tr>\n",
              "      <th>374</th>\n",
              "      <td>বিরাটের নেতৃত্বে থেকেও ধোনির জয়জয়কার ঋদ্ধিমানে...</td>\n",
              "      <td>বিরাটের নেতৃত্বে থেকেও ধোনির জয়জয়কার ঋদ্ধিমানে...</td>\n",
              "      <td>বিরাট কোহলিদের ম্যানেজার রবি শাস্ত্রীও তাঁর প...</td>\n",
              "    </tr>\n",
              "    <tr>\n",
              "      <th>524</th>\n",
              "      <td>কোচের কাছ থেকে কী টিপস পেয়েছিলেন কোহলি? জানতে ...</td>\n",
              "      <td>কোচের কাছ থেকে কী টিপস পেয়েছিলেন কোহলি? জানতে ...</td>\n",
              "      <td>কোচ রাজকুমার শর্মার কাছ থেকে সবথেকে দামি পরাম...</td>\n",
              "    </tr>\n",
              "    <tr>\n",
              "      <th>615</th>\n",
              "      <td>নেতা বাছাইয়ে অভিনব পন্থা নিচ্ছে কেকেআর! বাইশ গ...</td>\n",
              "      <td>নেতা বাছাইয়ে অভিনব পন্থা নিচ্ছে কেকেআর! বাইশ গ...</td>\n",
              "      <td>আইপিএল-এ নিলামের পর সমস্ত দলের চেহারাই কার্যত...</td>\n",
              "    </tr>\n",
              "    <tr>\n",
              "      <th>708</th>\n",
              "      <td>কোহলি বোলারদের ত্রাস, সাত বছর আগে এক ক্যারিবিয়...</td>\n",
              "      <td>কোহলি বোলারদের ত্রাস, সাত বছর আগে এক ক্যারিবিয়...</td>\n",
              "      <td>বিরাট কোহলি এখন বিশ্বসেরা ব্যাটসম্যানদের মধ্য...</td>\n",
              "    </tr>\n",
              "    <tr>\n",
              "      <th>1203</th>\n",
              "      <td>ক্রিকেট মাঠে এবার চালু হচ্ছে লাল কার্ড! কবে থেকে?</td>\n",
              "      <td>ক্রিকেট মাঠে এবার চালু হচ্ছে লাল কার্ড! কবে থেকে?</td>\n",
              "      <td>ফুটবলে প্রচলিত লাল বা হলুদ কার্ডের কথা সবাই জ...</td>\n",
              "    </tr>\n",
              "    <tr>\n",
              "      <th>4622</th>\n",
              "      <td>আফ্রিদিদের নিয়ে পাল্টা তোপ এবার ওয়াকারের</td>\n",
              "      <td>আফ্রিদিদের নিয়ে পাল্টা তোপ এবার ওয়াকারের</td>\n",
              "      <td>তাঁকে কোচের পদ থেকে ছেঁটে ফেলার আনুষ্ঠানিক ঘো...</td>\n",
              "    </tr>\n",
              "    <tr>\n",
              "      <th>7651</th>\n",
              "      <td>ঋদ্ধিকে নিয়ে জোর টানাটানি! নিলামে পর পর দুই চম...</td>\n",
              "      <td>ঋদ্ধিকে নিয়ে জোর টানাটানি! নিলামে পর পর দুই চম...</td>\n",
              "      <td>বাংলার ঋদ্ধিমানকে নিয়ে জোর টানাটানি চলল আইপিএ...</td>\n",
              "    </tr>\n",
              "    <tr>\n",
              "      <th>7847</th>\n",
              "      <td>কেমন দেখতে ছিলেন এই ক্রিকেটাররা? বাজি রইল, অনে...</td>\n",
              "      <td>কেমন দেখতে ছিলেন এই ক্রিকেটাররা? বাজি রইল, অনে...</td>\n",
              "      <td>এগোচ্ছে ক্রিকেট। খেলার বিবর্তনের সঙ্গে মাঠের ...</td>\n",
              "    </tr>\n",
              "    <tr>\n",
              "      <th>8393</th>\n",
              "      <td>শাহরুখের কেকেআর-এ এবার নতুন বোলিং কোচ! চমক কোচ...</td>\n",
              "      <td>শাহরুখের কেকেআর-এ এবার নতুন বোলিং কোচ! চমক কোচ...</td>\n",
              "      <td>আইপিএল-এর পারদ চড়ছে। ঊর্ধ্বমুখী উত্তেজনা। এর...</td>\n",
              "    </tr>\n",
              "  </tbody>\n",
              "</table>\n",
              "</div>\n",
              "      <button class=\"colab-df-convert\" onclick=\"convertToInteractive('df-be846570-bddb-4fea-828b-8b11c210557e')\"\n",
              "              title=\"Convert this dataframe to an interactive table.\"\n",
              "              style=\"display:none;\">\n",
              "        \n",
              "  <svg xmlns=\"http://www.w3.org/2000/svg\" height=\"24px\"viewBox=\"0 0 24 24\"\n",
              "       width=\"24px\">\n",
              "    <path d=\"M0 0h24v24H0V0z\" fill=\"none\"/>\n",
              "    <path d=\"M18.56 5.44l.94 2.06.94-2.06 2.06-.94-2.06-.94-.94-2.06-.94 2.06-2.06.94zm-11 1L8.5 8.5l.94-2.06 2.06-.94-2.06-.94L8.5 2.5l-.94 2.06-2.06.94zm10 10l.94 2.06.94-2.06 2.06-.94-2.06-.94-.94-2.06-.94 2.06-2.06.94z\"/><path d=\"M17.41 7.96l-1.37-1.37c-.4-.4-.92-.59-1.43-.59-.52 0-1.04.2-1.43.59L10.3 9.45l-7.72 7.72c-.78.78-.78 2.05 0 2.83L4 21.41c.39.39.9.59 1.41.59.51 0 1.02-.2 1.41-.59l7.78-7.78 2.81-2.81c.8-.78.8-2.07 0-2.86zM5.41 20L4 18.59l7.72-7.72 1.47 1.35L5.41 20z\"/>\n",
              "  </svg>\n",
              "      </button>\n",
              "      \n",
              "  <style>\n",
              "    .colab-df-container {\n",
              "      display:flex;\n",
              "      flex-wrap:wrap;\n",
              "      gap: 12px;\n",
              "    }\n",
              "\n",
              "    .colab-df-convert {\n",
              "      background-color: #E8F0FE;\n",
              "      border: none;\n",
              "      border-radius: 50%;\n",
              "      cursor: pointer;\n",
              "      display: none;\n",
              "      fill: #1967D2;\n",
              "      height: 32px;\n",
              "      padding: 0 0 0 0;\n",
              "      width: 32px;\n",
              "    }\n",
              "\n",
              "    .colab-df-convert:hover {\n",
              "      background-color: #E2EBFA;\n",
              "      box-shadow: 0px 1px 2px rgba(60, 64, 67, 0.3), 0px 1px 3px 1px rgba(60, 64, 67, 0.15);\n",
              "      fill: #174EA6;\n",
              "    }\n",
              "\n",
              "    [theme=dark] .colab-df-convert {\n",
              "      background-color: #3B4455;\n",
              "      fill: #D2E3FC;\n",
              "    }\n",
              "\n",
              "    [theme=dark] .colab-df-convert:hover {\n",
              "      background-color: #434B5C;\n",
              "      box-shadow: 0px 1px 3px 1px rgba(0, 0, 0, 0.15);\n",
              "      filter: drop-shadow(0px 1px 2px rgba(0, 0, 0, 0.3));\n",
              "      fill: #FFFFFF;\n",
              "    }\n",
              "  </style>\n",
              "\n",
              "      <script>\n",
              "        const buttonEl =\n",
              "          document.querySelector('#df-be846570-bddb-4fea-828b-8b11c210557e button.colab-df-convert');\n",
              "        buttonEl.style.display =\n",
              "          google.colab.kernel.accessAllowed ? 'block' : 'none';\n",
              "\n",
              "        async function convertToInteractive(key) {\n",
              "          const element = document.querySelector('#df-be846570-bddb-4fea-828b-8b11c210557e');\n",
              "          const dataTable =\n",
              "            await google.colab.kernel.invokeFunction('convertToInteractive',\n",
              "                                                     [key], {});\n",
              "          if (!dataTable) return;\n",
              "\n",
              "          const docLinkHtml = 'Like what you see? Visit the ' +\n",
              "            '<a target=\"_blank\" href=https://colab.research.google.com/notebooks/data_table.ipynb>data table notebook</a>'\n",
              "            + ' to learn more about interactive tables.';\n",
              "          element.innerHTML = '';\n",
              "          dataTable['output_type'] = 'display_data';\n",
              "          await google.colab.output.renderOutput(dataTable, element);\n",
              "          const docLink = document.createElement('div');\n",
              "          docLink.innerHTML = docLinkHtml;\n",
              "          element.appendChild(docLink);\n",
              "        }\n",
              "      </script>\n",
              "    </div>\n",
              "  </div>\n",
              "  "
            ]
          },
          "metadata": {},
          "execution_count": 74
        }
      ]
    }
  ]
}