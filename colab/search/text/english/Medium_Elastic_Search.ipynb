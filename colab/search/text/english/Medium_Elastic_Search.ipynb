{
  "nbformat": 4,
  "nbformat_minor": 0,
  "metadata": {
    "colab": {
      "provenance": [],
      "collapsed_sections": [
        "HDz_Qe5KHFho",
        "sjJpU6lTGK51",
        "BqcS7-RMBY3k"
      ]
    },
    "kernelspec": {
      "name": "python3",
      "display_name": "Python 3"
    },
    "language_info": {
      "name": "python"
    },
    "accelerator": "GPU",
    "gpuClass": "standard"
  },
  "cells": [
    {
      "cell_type": "markdown",
      "metadata": {
        "id": "uGRD8a9sKacB"
      },
      "source": [
        "# Setup and Load dataset\n",
        "\n"
      ]
    },
    {
      "cell_type": "code",
      "execution_count": null,
      "metadata": {
        "id": "IsDqz0tsLwZc"
      },
      "outputs": [],
      "source": [
        "%%capture\n",
        "!pip install elasticsearch==7.14.0\n",
        "!apt install default-jdk > /dev/null"
      ]
    },
    {
      "cell_type": "code",
      "execution_count": null,
      "metadata": {
        "colab": {
          "base_uri": "https://localhost:8080/"
        },
        "id": "uf9jKYMaWHRW",
        "outputId": "e9db01c5-d9d5-4ae9-bbba-aaa4472ab21a"
      },
      "outputs": [
        {
          "output_type": "stream",
          "name": "stdout",
          "text": [
            "Looking in indexes: https://pypi.org/simple, https://us-python.pkg.dev/colab-wheels/public/simple/\n",
            "Collecting sentence_transformers\n",
            "  Downloading sentence-transformers-2.2.2.tar.gz (85 kB)\n",
            "\u001b[2K     \u001b[90m━━━━━━━━━━━━━━━━━━━━━━━━━━━━━━━━━━━━━━━━\u001b[0m \u001b[32m86.0/86.0 KB\u001b[0m \u001b[31m5.1 MB/s\u001b[0m eta \u001b[36m0:00:00\u001b[0m\n",
            "\u001b[?25h  Preparing metadata (setup.py) ... \u001b[?25l\u001b[?25hdone\n",
            "Collecting transformers<5.0.0,>=4.6.0\n",
            "  Downloading transformers-4.26.1-py3-none-any.whl (6.3 MB)\n",
            "\u001b[2K     \u001b[90m━━━━━━━━━━━━━━━━━━━━━━━━━━━━━━━━━━━━━━━━\u001b[0m \u001b[32m6.3/6.3 MB\u001b[0m \u001b[31m65.0 MB/s\u001b[0m eta \u001b[36m0:00:00\u001b[0m\n",
            "\u001b[?25hRequirement already satisfied: tqdm in /usr/local/lib/python3.8/dist-packages (from sentence_transformers) (4.64.1)\n",
            "Requirement already satisfied: torch>=1.6.0 in /usr/local/lib/python3.8/dist-packages (from sentence_transformers) (1.13.1+cu116)\n",
            "Requirement already satisfied: torchvision in /usr/local/lib/python3.8/dist-packages (from sentence_transformers) (0.14.1+cu116)\n",
            "Requirement already satisfied: numpy in /usr/local/lib/python3.8/dist-packages (from sentence_transformers) (1.21.6)\n",
            "Requirement already satisfied: scikit-learn in /usr/local/lib/python3.8/dist-packages (from sentence_transformers) (1.0.2)\n",
            "Requirement already satisfied: scipy in /usr/local/lib/python3.8/dist-packages (from sentence_transformers) (1.7.3)\n",
            "Requirement already satisfied: nltk in /usr/local/lib/python3.8/dist-packages (from sentence_transformers) (3.7)\n",
            "Collecting sentencepiece\n",
            "  Downloading sentencepiece-0.1.97-cp38-cp38-manylinux_2_17_x86_64.manylinux2014_x86_64.whl (1.3 MB)\n",
            "\u001b[2K     \u001b[90m━━━━━━━━━━━━━━━━━━━━━━━━━━━━━━━━━━━━━━━━\u001b[0m \u001b[32m1.3/1.3 MB\u001b[0m \u001b[31m38.7 MB/s\u001b[0m eta \u001b[36m0:00:00\u001b[0m\n",
            "\u001b[?25hCollecting huggingface-hub>=0.4.0\n",
            "  Downloading huggingface_hub-0.12.0-py3-none-any.whl (190 kB)\n",
            "\u001b[2K     \u001b[90m━━━━━━━━━━━━━━━━━━━━━━━━━━━━━━━━━━━━━━\u001b[0m \u001b[32m190.3/190.3 KB\u001b[0m \u001b[31m11.4 MB/s\u001b[0m eta \u001b[36m0:00:00\u001b[0m\n",
            "\u001b[?25hRequirement already satisfied: pyyaml>=5.1 in /usr/local/lib/python3.8/dist-packages (from huggingface-hub>=0.4.0->sentence_transformers) (6.0)\n",
            "Requirement already satisfied: typing-extensions>=3.7.4.3 in /usr/local/lib/python3.8/dist-packages (from huggingface-hub>=0.4.0->sentence_transformers) (4.4.0)\n",
            "Requirement already satisfied: packaging>=20.9 in /usr/local/lib/python3.8/dist-packages (from huggingface-hub>=0.4.0->sentence_transformers) (23.0)\n",
            "Requirement already satisfied: filelock in /usr/local/lib/python3.8/dist-packages (from huggingface-hub>=0.4.0->sentence_transformers) (3.9.0)\n",
            "Requirement already satisfied: requests in /usr/local/lib/python3.8/dist-packages (from huggingface-hub>=0.4.0->sentence_transformers) (2.25.1)\n",
            "Collecting tokenizers!=0.11.3,<0.14,>=0.11.1\n",
            "  Downloading tokenizers-0.13.2-cp38-cp38-manylinux_2_17_x86_64.manylinux2014_x86_64.whl (7.6 MB)\n",
            "\u001b[2K     \u001b[90m━━━━━━━━━━━━━━━━━━━━━━━━━━━━━━━━━━━━━━━━\u001b[0m \u001b[32m7.6/7.6 MB\u001b[0m \u001b[31m65.7 MB/s\u001b[0m eta \u001b[36m0:00:00\u001b[0m\n",
            "\u001b[?25hRequirement already satisfied: regex!=2019.12.17 in /usr/local/lib/python3.8/dist-packages (from transformers<5.0.0,>=4.6.0->sentence_transformers) (2022.6.2)\n",
            "Requirement already satisfied: click in /usr/local/lib/python3.8/dist-packages (from nltk->sentence_transformers) (7.1.2)\n",
            "Requirement already satisfied: joblib in /usr/local/lib/python3.8/dist-packages (from nltk->sentence_transformers) (1.2.0)\n",
            "Requirement already satisfied: threadpoolctl>=2.0.0 in /usr/local/lib/python3.8/dist-packages (from scikit-learn->sentence_transformers) (3.1.0)\n",
            "Requirement already satisfied: pillow!=8.3.*,>=5.3.0 in /usr/local/lib/python3.8/dist-packages (from torchvision->sentence_transformers) (7.1.2)\n",
            "Requirement already satisfied: urllib3<1.27,>=1.21.1 in /usr/local/lib/python3.8/dist-packages (from requests->huggingface-hub>=0.4.0->sentence_transformers) (1.26.14)\n",
            "Requirement already satisfied: chardet<5,>=3.0.2 in /usr/local/lib/python3.8/dist-packages (from requests->huggingface-hub>=0.4.0->sentence_transformers) (4.0.0)\n",
            "Requirement already satisfied: idna<3,>=2.5 in /usr/local/lib/python3.8/dist-packages (from requests->huggingface-hub>=0.4.0->sentence_transformers) (2.10)\n",
            "Requirement already satisfied: certifi>=2017.4.17 in /usr/local/lib/python3.8/dist-packages (from requests->huggingface-hub>=0.4.0->sentence_transformers) (2022.12.7)\n",
            "Building wheels for collected packages: sentence_transformers\n",
            "  Building wheel for sentence_transformers (setup.py) ... \u001b[?25l\u001b[?25hdone\n",
            "  Created wheel for sentence_transformers: filename=sentence_transformers-2.2.2-py3-none-any.whl size=125938 sha256=b40624a7b7b7eff6d30a98d2c5d3d6abae0972340959adbd22fdef1d13406adf\n",
            "  Stored in directory: /root/.cache/pip/wheels/5e/6f/8c/d88aec621f3f542d26fac0342bef5e693335d125f4e54aeffe\n",
            "Successfully built sentence_transformers\n",
            "Installing collected packages: tokenizers, sentencepiece, huggingface-hub, transformers, sentence_transformers\n",
            "Successfully installed huggingface-hub-0.12.0 sentence_transformers-2.2.2 sentencepiece-0.1.97 tokenizers-0.13.2 transformers-4.26.1\n"
          ]
        }
      ],
      "source": [
        "!pip install sentence_transformers "
      ]
    },
    {
      "cell_type": "code",
      "source": [
        "!pip install --upgrade --no-cache-dir gdown"
      ],
      "metadata": {
        "colab": {
          "base_uri": "https://localhost:8080/"
        },
        "id": "C1r8Sraf7rPj",
        "outputId": "7806f24b-77c5-471a-9248-2489e6d0e532"
      },
      "execution_count": null,
      "outputs": [
        {
          "output_type": "stream",
          "name": "stdout",
          "text": [
            "Looking in indexes: https://pypi.org/simple, https://us-python.pkg.dev/colab-wheels/public/simple/\n",
            "Requirement already satisfied: gdown in /usr/local/lib/python3.8/dist-packages (4.4.0)\n",
            "Collecting gdown\n",
            "  Downloading gdown-4.6.2-py3-none-any.whl (14 kB)\n",
            "Requirement already satisfied: tqdm in /usr/local/lib/python3.8/dist-packages (from gdown) (4.64.1)\n",
            "Requirement already satisfied: beautifulsoup4 in /usr/local/lib/python3.8/dist-packages (from gdown) (4.6.3)\n",
            "Requirement already satisfied: six in /usr/local/lib/python3.8/dist-packages (from gdown) (1.15.0)\n",
            "Requirement already satisfied: requests[socks] in /usr/local/lib/python3.8/dist-packages (from gdown) (2.25.1)\n",
            "Requirement already satisfied: filelock in /usr/local/lib/python3.8/dist-packages (from gdown) (3.9.0)\n",
            "Requirement already satisfied: certifi>=2017.4.17 in /usr/local/lib/python3.8/dist-packages (from requests[socks]->gdown) (2022.12.7)\n",
            "Requirement already satisfied: idna<3,>=2.5 in /usr/local/lib/python3.8/dist-packages (from requests[socks]->gdown) (2.10)\n",
            "Requirement already satisfied: chardet<5,>=3.0.2 in /usr/local/lib/python3.8/dist-packages (from requests[socks]->gdown) (4.0.0)\n",
            "Requirement already satisfied: urllib3<1.27,>=1.21.1 in /usr/local/lib/python3.8/dist-packages (from requests[socks]->gdown) (1.26.14)\n",
            "Requirement already satisfied: PySocks!=1.5.7,>=1.5.6 in /usr/local/lib/python3.8/dist-packages (from requests[socks]->gdown) (1.7.1)\n",
            "Installing collected packages: gdown\n",
            "  Attempting uninstall: gdown\n",
            "    Found existing installation: gdown 4.4.0\n",
            "    Uninstalling gdown-4.4.0:\n",
            "      Successfully uninstalled gdown-4.4.0\n",
            "Successfully installed gdown-4.6.2\n"
          ]
        }
      ]
    },
    {
      "cell_type": "code",
      "source": [],
      "metadata": {
        "id": "zt4FRopChfTY"
      },
      "execution_count": null,
      "outputs": []
    },
    {
      "cell_type": "code",
      "source": [
        "!gdown --id 1pxg131HVz6t1lGPDiT70SIf8LnVJlVy4"
      ],
      "metadata": {
        "id": "JN6L-XVUpDB3",
        "colab": {
          "base_uri": "https://localhost:8080/"
        },
        "outputId": "07289f85-5471-4901-8944-b2574722a287"
      },
      "execution_count": null,
      "outputs": [
        {
          "output_type": "stream",
          "name": "stdout",
          "text": [
            "/usr/local/lib/python3.8/dist-packages/gdown/cli.py:121: FutureWarning: Option `--id` was deprecated in version 4.3.1 and will be removed in 5.0. You don't need to pass it anymore to use a file ID.\n",
            "  warnings.warn(\n",
            "Downloading...\n",
            "From: https://drive.google.com/uc?id=1pxg131HVz6t1lGPDiT70SIf8LnVJlVy4\n",
            "To: /content/medium_data.zip\n",
            "100% 520k/520k [00:00<00:00, 159MB/s]\n"
          ]
        }
      ]
    },
    {
      "cell_type": "code",
      "source": [
        "!unzip -o \"medium_data.zip\"  -d  \"/content\""
      ],
      "metadata": {
        "id": "TtZEDi2_JS0Z",
        "colab": {
          "base_uri": "https://localhost:8080/"
        },
        "outputId": "6de1b06c-35f9-403a-ed07-61a77e4367cd"
      },
      "execution_count": null,
      "outputs": [
        {
          "output_type": "stream",
          "name": "stdout",
          "text": [
            "Archive:  medium_data.zip\n",
            "  inflating: /content/medium_data.csv  \n"
          ]
        }
      ]
    },
    {
      "cell_type": "code",
      "execution_count": null,
      "metadata": {
        "id": "bhIJ0xYh2YXz"
      },
      "outputs": [],
      "source": [
        "import os\n",
        "os.kill(os.getpid(), 9)"
      ]
    },
    {
      "cell_type": "markdown",
      "source": [
        "## Data Loading"
      ],
      "metadata": {
        "id": "HDz_Qe5KHFho"
      }
    },
    {
      "cell_type": "code",
      "execution_count": null,
      "metadata": {
        "id": "84eddad3"
      },
      "outputs": [],
      "source": [
        "from datetime import datetime\n",
        "import os\n",
        "import matplotlib\n",
        "import pandas as pd\n",
        "import numpy as np\n",
        "import matplotlib.pyplot as plt\n",
        "import seaborn as sns\n",
        "sns.set_style('whitegrid')\n",
        "\n",
        "from scipy import sparse\n",
        "from scipy.sparse import csc_matrix\n",
        "from sklearn.decomposition import TruncatedSVD\n",
        "\n",
        "np.random.seed(0)"
      ]
    },
    {
      "cell_type": "markdown",
      "source": [
        "#### Name of the file which contain all the item properties"
      ],
      "metadata": {
        "id": "lHG3Yw4EHJbO"
      }
    },
    {
      "cell_type": "code",
      "source": [
        "file=\"medium_data.csv\""
      ],
      "metadata": {
        "id": "4zX5cx_NHQNv"
      },
      "execution_count": null,
      "outputs": []
    },
    {
      "cell_type": "markdown",
      "source": [
        "###### Run below cell"
      ],
      "metadata": {
        "id": "r2ef3FxJHYkQ"
      }
    },
    {
      "cell_type": "code",
      "execution_count": null,
      "metadata": {
        "id": "7e7fee79"
      },
      "outputs": [],
      "source": [
        "content_df  = pd.read_table( file,delimiter=',')"
      ]
    },
    {
      "cell_type": "code",
      "execution_count": null,
      "metadata": {
        "id": "af507f93",
        "colab": {
          "base_uri": "https://localhost:8080/"
        },
        "outputId": "0c565d7f-394e-4c32-c97b-c81de4f6d95e"
      },
      "outputs": [
        {
          "output_type": "execute_result",
          "data": {
            "text/plain": [
              "   id                                                url  \\\n",
              "0   1  https://towardsdatascience.com/a-beginners-gui...   \n",
              "\n",
              "                                               title subtitle  image  claps  \\\n",
              "0  A Beginner’s Guide to Word Embedding with Gens...      NaN  1.png    850   \n",
              "\n",
              "  responses  reading_time           publication        date  \n",
              "0         8             8  Towards Data Science  2019-05-30  "
            ],
            "text/html": [
              "\n",
              "  <div id=\"df-9b7c1b9c-88d3-431c-97eb-e107579ce5df\">\n",
              "    <div class=\"colab-df-container\">\n",
              "      <div>\n",
              "<style scoped>\n",
              "    .dataframe tbody tr th:only-of-type {\n",
              "        vertical-align: middle;\n",
              "    }\n",
              "\n",
              "    .dataframe tbody tr th {\n",
              "        vertical-align: top;\n",
              "    }\n",
              "\n",
              "    .dataframe thead th {\n",
              "        text-align: right;\n",
              "    }\n",
              "</style>\n",
              "<table border=\"1\" class=\"dataframe\">\n",
              "  <thead>\n",
              "    <tr style=\"text-align: right;\">\n",
              "      <th></th>\n",
              "      <th>id</th>\n",
              "      <th>url</th>\n",
              "      <th>title</th>\n",
              "      <th>subtitle</th>\n",
              "      <th>image</th>\n",
              "      <th>claps</th>\n",
              "      <th>responses</th>\n",
              "      <th>reading_time</th>\n",
              "      <th>publication</th>\n",
              "      <th>date</th>\n",
              "    </tr>\n",
              "  </thead>\n",
              "  <tbody>\n",
              "    <tr>\n",
              "      <th>0</th>\n",
              "      <td>1</td>\n",
              "      <td>https://towardsdatascience.com/a-beginners-gui...</td>\n",
              "      <td>A Beginner’s Guide to Word Embedding with Gens...</td>\n",
              "      <td>NaN</td>\n",
              "      <td>1.png</td>\n",
              "      <td>850</td>\n",
              "      <td>8</td>\n",
              "      <td>8</td>\n",
              "      <td>Towards Data Science</td>\n",
              "      <td>2019-05-30</td>\n",
              "    </tr>\n",
              "  </tbody>\n",
              "</table>\n",
              "</div>\n",
              "      <button class=\"colab-df-convert\" onclick=\"convertToInteractive('df-9b7c1b9c-88d3-431c-97eb-e107579ce5df')\"\n",
              "              title=\"Convert this dataframe to an interactive table.\"\n",
              "              style=\"display:none;\">\n",
              "        \n",
              "  <svg xmlns=\"http://www.w3.org/2000/svg\" height=\"24px\"viewBox=\"0 0 24 24\"\n",
              "       width=\"24px\">\n",
              "    <path d=\"M0 0h24v24H0V0z\" fill=\"none\"/>\n",
              "    <path d=\"M18.56 5.44l.94 2.06.94-2.06 2.06-.94-2.06-.94-.94-2.06-.94 2.06-2.06.94zm-11 1L8.5 8.5l.94-2.06 2.06-.94-2.06-.94L8.5 2.5l-.94 2.06-2.06.94zm10 10l.94 2.06.94-2.06 2.06-.94-2.06-.94-.94-2.06-.94 2.06-2.06.94z\"/><path d=\"M17.41 7.96l-1.37-1.37c-.4-.4-.92-.59-1.43-.59-.52 0-1.04.2-1.43.59L10.3 9.45l-7.72 7.72c-.78.78-.78 2.05 0 2.83L4 21.41c.39.39.9.59 1.41.59.51 0 1.02-.2 1.41-.59l7.78-7.78 2.81-2.81c.8-.78.8-2.07 0-2.86zM5.41 20L4 18.59l7.72-7.72 1.47 1.35L5.41 20z\"/>\n",
              "  </svg>\n",
              "      </button>\n",
              "      \n",
              "  <style>\n",
              "    .colab-df-container {\n",
              "      display:flex;\n",
              "      flex-wrap:wrap;\n",
              "      gap: 12px;\n",
              "    }\n",
              "\n",
              "    .colab-df-convert {\n",
              "      background-color: #E8F0FE;\n",
              "      border: none;\n",
              "      border-radius: 50%;\n",
              "      cursor: pointer;\n",
              "      display: none;\n",
              "      fill: #1967D2;\n",
              "      height: 32px;\n",
              "      padding: 0 0 0 0;\n",
              "      width: 32px;\n",
              "    }\n",
              "\n",
              "    .colab-df-convert:hover {\n",
              "      background-color: #E2EBFA;\n",
              "      box-shadow: 0px 1px 2px rgba(60, 64, 67, 0.3), 0px 1px 3px 1px rgba(60, 64, 67, 0.15);\n",
              "      fill: #174EA6;\n",
              "    }\n",
              "\n",
              "    [theme=dark] .colab-df-convert {\n",
              "      background-color: #3B4455;\n",
              "      fill: #D2E3FC;\n",
              "    }\n",
              "\n",
              "    [theme=dark] .colab-df-convert:hover {\n",
              "      background-color: #434B5C;\n",
              "      box-shadow: 0px 1px 3px 1px rgba(0, 0, 0, 0.15);\n",
              "      filter: drop-shadow(0px 1px 2px rgba(0, 0, 0, 0.3));\n",
              "      fill: #FFFFFF;\n",
              "    }\n",
              "  </style>\n",
              "\n",
              "      <script>\n",
              "        const buttonEl =\n",
              "          document.querySelector('#df-9b7c1b9c-88d3-431c-97eb-e107579ce5df button.colab-df-convert');\n",
              "        buttonEl.style.display =\n",
              "          google.colab.kernel.accessAllowed ? 'block' : 'none';\n",
              "\n",
              "        async function convertToInteractive(key) {\n",
              "          const element = document.querySelector('#df-9b7c1b9c-88d3-431c-97eb-e107579ce5df');\n",
              "          const dataTable =\n",
              "            await google.colab.kernel.invokeFunction('convertToInteractive',\n",
              "                                                     [key], {});\n",
              "          if (!dataTable) return;\n",
              "\n",
              "          const docLinkHtml = 'Like what you see? Visit the ' +\n",
              "            '<a target=\"_blank\" href=https://colab.research.google.com/notebooks/data_table.ipynb>data table notebook</a>'\n",
              "            + ' to learn more about interactive tables.';\n",
              "          element.innerHTML = '';\n",
              "          dataTable['output_type'] = 'display_data';\n",
              "          await google.colab.output.renderOutput(dataTable, element);\n",
              "          const docLink = document.createElement('div');\n",
              "          docLink.innerHTML = docLinkHtml;\n",
              "          element.appendChild(docLink);\n",
              "        }\n",
              "      </script>\n",
              "    </div>\n",
              "  </div>\n",
              "  "
            ]
          },
          "metadata": {},
          "execution_count": 4
        }
      ],
      "source": [
        "content_df.head(1)"
      ]
    },
    {
      "cell_type": "markdown",
      "metadata": {
        "id": "sjJpU6lTGK51"
      },
      "source": [
        "## Details about dataset"
      ]
    },
    {
      "cell_type": "code",
      "source": [
        "itemid=\"id\""
      ],
      "metadata": {
        "id": "4u2f4NWQa14z"
      },
      "execution_count": null,
      "outputs": []
    },
    {
      "cell_type": "code",
      "execution_count": null,
      "metadata": {
        "id": "LpnvsLU_U-7O"
      },
      "outputs": [],
      "source": [
        "features=['title','subtitle'\t]"
      ]
    },
    {
      "cell_type": "code",
      "source": [
        "allcols=[itemid]\n",
        "for i in features:\n",
        "  allcols.append(i)"
      ],
      "metadata": {
        "id": "eyCiKMqygxVk"
      },
      "execution_count": null,
      "outputs": []
    },
    {
      "cell_type": "markdown",
      "metadata": {
        "id": "D_UJlmcgZNBc"
      },
      "source": [
        "# Setup"
      ]
    },
    {
      "cell_type": "code",
      "source": [
        "content_df['NewTag']=\"\"\n",
        "for i in features:\n",
        "  content_df[i] = content_df[i].fillna(' ')\n",
        "for i in features:\n",
        "  content_df[i] = content_df[i].fillna(' ')\n",
        "for i in features:\n",
        "  content_df['NewTag']+=(' '+content_df[i])\n",
        "content_df['NewTag']=content_df['NewTag'].astype(str)"
      ],
      "metadata": {
        "id": "QxJnf-lrLdm2"
      },
      "execution_count": null,
      "outputs": []
    },
    {
      "cell_type": "code",
      "source": [
        "import nltk\n",
        "nltk.download('stopwords')\n",
        "nltk.download('punkt')\n",
        "nltk.download('wordnet')\n",
        "nltk.download('omw-1.4')"
      ],
      "metadata": {
        "colab": {
          "base_uri": "https://localhost:8080/"
        },
        "id": "DJ5l6HbYvKHi",
        "outputId": "77be2a51-1169-4560-ee6e-1c9ffc2c9ed0"
      },
      "execution_count": null,
      "outputs": [
        {
          "output_type": "stream",
          "name": "stderr",
          "text": [
            "[nltk_data] Downloading package stopwords to /root/nltk_data...\n",
            "[nltk_data]   Package stopwords is already up-to-date!\n",
            "[nltk_data] Downloading package punkt to /root/nltk_data...\n",
            "[nltk_data]   Package punkt is already up-to-date!\n",
            "[nltk_data] Downloading package wordnet to /root/nltk_data...\n",
            "[nltk_data]   Package wordnet is already up-to-date!\n",
            "[nltk_data] Downloading package omw-1.4 to /root/nltk_data...\n",
            "[nltk_data]   Package omw-1.4 is already up-to-date!\n"
          ]
        },
        {
          "output_type": "execute_result",
          "data": {
            "text/plain": [
              "True"
            ]
          },
          "metadata": {},
          "execution_count": 9
        }
      ]
    },
    {
      "cell_type": "code",
      "source": [
        "from nltk.stem import WordNetLemmatizer\n",
        "from nltk.corpus import stopwords\n",
        "from nltk.tokenize import word_tokenize\n",
        "import re"
      ],
      "metadata": {
        "id": "VAXhYHfLuugD"
      },
      "execution_count": null,
      "outputs": []
    },
    {
      "cell_type": "code",
      "source": [
        "def clean_text(text):\n",
        "    \n",
        "    text = text.lower()  # lowercase text\n",
        "    # replace the matched string with ' '\n",
        "    text = re.sub( re.compile(\"\\'s\"), ' ', text)\n",
        "    text = re.sub(re.compile(\"\\\\r\\\\n\"), ' ', text)\n",
        "    text = re.sub(re.compile(r\"[^\\w\\s]\"), ' ', text)\n",
        "    return text"
      ],
      "metadata": {
        "id": "hZ8HmiLbukp6"
      },
      "execution_count": null,
      "outputs": []
    },
    {
      "cell_type": "code",
      "source": [
        "stopwords=set(stopwords.words('english'))"
      ],
      "metadata": {
        "id": "SZqqCS7ZvF1a"
      },
      "execution_count": null,
      "outputs": []
    },
    {
      "cell_type": "code",
      "source": [
        "def tokenizer(sentence, min_words=4, max_words=200, stopwords=stopwords, lemmatize=True):\n",
        "    \n",
        "    if lemmatize:\n",
        "        stemmer = WordNetLemmatizer()\n",
        "        tokens = [stemmer.lemmatize(w) for w in word_tokenize(sentence)]\n",
        "    else:\n",
        "        tokens = [w for w in word_tokenize(sentence)]\n",
        "    token = [w for w in tokens if (len(w) > min_words and len(w) < max_words\n",
        "                                                        and w not in stopwords)]\n",
        "    return tokens    "
      ],
      "metadata": {
        "id": "pZnlWqy4u_2U"
      },
      "execution_count": null,
      "outputs": []
    },
    {
      "cell_type": "code",
      "source": [
        "content_df['clean'] = content_df['NewTag'].apply(clean_text)\n",
        "# content_df['token_lem_sentence'] = content_df['clean'].apply(\n",
        "#         lambda x: tokenizer(x))"
      ],
      "metadata": {
        "id": "HDh1rTXeuKzi"
      },
      "execution_count": null,
      "outputs": []
    },
    {
      "cell_type": "code",
      "source": [],
      "metadata": {
        "id": "wWbr8DHsD1wE"
      },
      "execution_count": null,
      "outputs": []
    },
    {
      "cell_type": "markdown",
      "source": [
        "# Elastic search set up"
      ],
      "metadata": {
        "id": "BqcS7-RMBY3k"
      }
    },
    {
      "cell_type": "code",
      "source": [
        "import elasticsearch\n",
        "from elasticsearch import Elasticsearch\n",
        "from elasticsearch import helpers\n"
      ],
      "metadata": {
        "id": "EudM56AgBeLr"
      },
      "execution_count": null,
      "outputs": []
    },
    {
      "cell_type": "code",
      "execution_count": null,
      "metadata": {
        "id": "k4idJB7WEjY5"
      },
      "outputs": [],
      "source": [
        "# Download & extract Elasticsearch 7.0.0\n",
        "\n",
        "!wget https://artifacts.elastic.co/downloads/elasticsearch/elasticsearch-7.0.0-linux-x86_64.tar.gz -q\n",
        "!tar -xzf elasticsearch-7.0.0-linux-x86_64.tar.gz\n",
        "!chown -R daemon:daemon elasticsearch-7.0.0"
      ]
    },
    {
      "cell_type": "code",
      "execution_count": null,
      "metadata": {
        "id": "dTFy3CkDKk2j"
      },
      "outputs": [],
      "source": [
        "# Creating daemon instance of elasticsearch\n",
        "import os\n",
        "from subprocess import Popen, PIPE, STDOUT\n",
        "es_server = Popen(['elasticsearch-7.0.0/bin/elasticsearch'], \n",
        "                  stdout=PIPE, stderr=STDOUT,\n",
        "                  preexec_fn=lambda: os.setuid(1)  # as daemon\n",
        "                 )"
      ]
    },
    {
      "cell_type": "code",
      "execution_count": null,
      "metadata": {
        "id": "r0ye1uYoLC4b"
      },
      "outputs": [],
      "source": [
        "# This part is important, since it takes a little amount of time for instance to load\n",
        "import time\n",
        "time.sleep(20)"
      ]
    },
    {
      "cell_type": "code",
      "execution_count": null,
      "metadata": {
        "colab": {
          "base_uri": "https://localhost:8080/"
        },
        "id": "_M4c4HNvLOvy",
        "outputId": "4e85e16d-488b-4ec9-e8d5-80a11bca5891"
      },
      "outputs": [
        {
          "output_type": "stream",
          "name": "stdout",
          "text": [
            "daemon      1867    1677 99 04:29 ?        00:00:21 /content/elasticsearch-7.0.0/jdk/bin/java -Xms1g -Xmx1g -XX:+UseConcMarkSweepGC -XX:CMSInitiatingOccupancyFraction=75 -XX:+UseCMSInitiatingOccupancyOnly -Des.networkaddress.cache.ttl=60 -Des.networkaddress.cache.negative.ttl=10 -XX:+AlwaysPreTouch -Xss1m -Djava.awt.headless=true -Dfile.encoding=UTF-8 -Djna.nosys=true -XX:-OmitStackTraceInFastThrow -Dio.netty.noUnsafe=true -Dio.netty.noKeySetOptimization=true -Dio.netty.recycler.maxCapacityPerThread=0 -Dlog4j.shutdownHookEnabled=false -Dlog4j2.disable.jmx=true -Djava.io.tmpdir=/tmp/elasticsearch-11574500148561208233 -XX:+HeapDumpOnOutOfMemoryError -XX:HeapDumpPath=data -XX:ErrorFile=logs/hs_err_pid%p.log -Xlog:gc*,gc+age=trace,safepoint:file=logs/gc.log:utctime,pid,tags:filecount=32,filesize=64m -Djava.locale.providers=COMPAT -Dio.netty.allocator.type=unpooled -Des.path.home=/content/elasticsearch-7.0.0 -Des.path.conf=/content/elasticsearch-7.0.0/config -Des.distribution.flavor=default -Des.distribution.type=tar -Des.bundled_jdk=true -cp /content/elasticsearch-7.0.0/lib/* org.elasticsearch.bootstrap.Elasticsearch\n",
            "daemon      1957    1867  0 04:29 ?        00:00:00 /content/elasticsearch-7.0.0/modules/x-pack-ml/platform/linux-x86_64/bin/controller\n",
            "root        2039    2037  0 04:29 ?        00:00:00 grep elasticsearch\n"
          ]
        }
      ],
      "source": [
        "%%bash\n",
        "# If you get 1 root & 2 daemon process then Elasticsearch instance has started successfully\n",
        "ps -ef | grep elasticsearch"
      ]
    },
    {
      "cell_type": "code",
      "execution_count": null,
      "metadata": {
        "id": "z-q-WRLiLSqR"
      },
      "outputs": [],
      "source": [
        "# Check if elasticsearch is running\n",
        "!curl -sX GET \"localhost:9200/\""
      ]
    },
    {
      "cell_type": "code",
      "source": [
        "es = Elasticsearch(hosts = [{\"host\":\"localhost\", \"port\":9200}])\n",
        "# Check if python is connected to elasticsearch\n",
        "es.ping()"
      ],
      "metadata": {
        "colab": {
          "base_uri": "https://localhost:8080/"
        },
        "id": "UFjSmLBYgQuY",
        "outputId": "bc0c7ae8-50e6-4c8e-a951-490832e11b10"
      },
      "execution_count": null,
      "outputs": [
        {
          "output_type": "execute_result",
          "data": {
            "text/plain": [
              "True"
            ]
          },
          "metadata": {},
          "execution_count": 22
        }
      ]
    },
    {
      "cell_type": "markdown",
      "source": [
        "# Search BM25"
      ],
      "metadata": {
        "id": "m8ubKUBhEHkL"
      }
    },
    {
      "cell_type": "code",
      "source": [
        "# Define settings & mappings of Elasticsearch index\n",
        "Settings = {\n",
        "    \"settings\":{\n",
        "        \"number_of_shards\":1,\n",
        "        \"number_of_replicas\":0\n",
        "    },\n",
        "    \"mappings\":{\n",
        "        \"properties\":{\n",
        "            \"id\":{\n",
        "                \"type\":\"text\"\n",
        "            },\n",
        "            \"longtext\":{\n",
        "                \"type\":\"text\"\n",
        "            }\n",
        "        }\n",
        "    }\n",
        "}"
      ],
      "metadata": {
        "id": "76uJha6vCcLP"
      },
      "execution_count": null,
      "outputs": []
    },
    {
      "cell_type": "code",
      "source": [
        "indexname='new_index1'\n",
        "index_type='_doc'"
      ],
      "metadata": {
        "id": "P7U8LHFJDk4c"
      },
      "execution_count": null,
      "outputs": []
    },
    {
      "cell_type": "code",
      "source": [
        "\n",
        "index = es.indices.create(index=indexname, ignore=[400,404], body=Settings)\n"
      ],
      "metadata": {
        "id": "EkyI1TKjDIiU"
      },
      "execution_count": null,
      "outputs": []
    },
    {
      "cell_type": "code",
      "source": [
        "json_list = []\n",
        "\n",
        "for idx, row in content_df.iterrows():\n",
        "            dic = {}\n",
        "            dic['_index'] = indexname\n",
        "            dic['_type'] = index_type\n",
        "            source = {}\n",
        "            source[itemid] = row[itemid]\n",
        "            source['longtext'] = row['clean']\n",
        "            dic['_source'] = source\n",
        "            json_list.append(dic)"
      ],
      "metadata": {
        "id": "qUcSBlM0CuI2"
      },
      "execution_count": null,
      "outputs": []
    },
    {
      "cell_type": "code",
      "source": [
        "# For importing Data to elasticsearch we use elasticsearch's bulk API from elasticsearch.helpers\n",
        "try:\n",
        "    res = helpers.bulk(es, json_list)\n",
        "    print(\"successfully imported to elasticsearch.\")\n",
        "except Exception as e:\n",
        "    print(f\"error: {e}\")"
      ],
      "metadata": {
        "colab": {
          "base_uri": "https://localhost:8080/"
        },
        "id": "N0icW1PuD4uD",
        "outputId": "f227cf82-b53c-41f8-e885-61dab3ded2a4"
      },
      "execution_count": null,
      "outputs": [
        {
          "output_type": "stream",
          "name": "stderr",
          "text": [
            "/usr/local/lib/python3.8/dist-packages/elasticsearch/connection/base.py:208: ElasticsearchWarning: [types removal] Specifying types in bulk requests is deprecated.\n",
            "  warnings.warn(message, category=ElasticsearchWarning)\n"
          ]
        },
        {
          "output_type": "stream",
          "name": "stdout",
          "text": [
            "successfully imported to elasticsearch.\n"
          ]
        }
      ]
    },
    {
      "cell_type": "code",
      "source": [
        "search_query=\"graph neural network\""
      ],
      "metadata": {
        "id": "OdFHEzrcESSU"
      },
      "execution_count": null,
      "outputs": []
    },
    {
      "cell_type": "code",
      "source": [
        "# Complicated query\n",
        "query = es.search(\n",
        "    index=indexname,\n",
        "    body={\n",
        "        \"size\":20,\n",
        "        \"query\":{\n",
        "            \"bool\":{\n",
        "                \"must\":[\n",
        "                        {\"match\":{\"longtext\":search_query}}\n",
        "                ],\n",
        "                # \"should\":[\n",
        "                #         {\"match\":{\"\":\"\"}}\n",
        "                # ]\n",
        "            }\n",
        "        }\n",
        "    }\n",
        ")\n",
        "\n",
        "output = pd.json_normalize((query['hits']['hits']))\n",
        "output"
      ],
      "metadata": {
        "colab": {
          "base_uri": "https://localhost:8080/",
          "height": 531
        },
        "id": "SGJ6gxy2EJOE",
        "outputId": "a55464d4-f907-4a22-dbf9-2d688fa78626"
      },
      "execution_count": null,
      "outputs": [
        {
          "output_type": "execute_result",
          "data": {
            "text/plain": [
              "        _index _type                   _id     _score  _source.id  \\\n",
              "0   new_index1  _doc  JbUWSYYBHhi0keru38uW  11.091132        5860   \n",
              "1   new_index1  _doc  rbUWSYYBHhi0keru2775  10.660841        2668   \n",
              "2   new_index1  _doc  IbUWSYYBHhi0keru2ree  10.546149         736   \n",
              "3   new_index1  _doc  FrUWSYYBHhi0keru2ree   9.416538         725   \n",
              "4   new_index1  _doc  hbUWSYYBHhi0keru3cbZ   9.359104        4676   \n",
              "5   new_index1  _doc  UrUWSYYBHhi0keru4Mwo   9.144320        6161   \n",
              "6   new_index1  _doc  ZrUWSYYBHhi0keru27oa   8.816080        1573   \n",
              "7   new_index1  _doc  KrUWSYYBHhi0keru38uW   8.816080        5865   \n",
              "8   new_index1  _doc  JrUWSYYBHhi0keru3cfZ   8.771564        4837   \n",
              "9   new_index1  _doc  zrUWSYYBHhi0keru2rjY   8.510588        1165   \n",
              "10  new_index1  _doc  VrUWSYYBHhi0keru4Mwo   8.510588        6165   \n",
              "11  new_index1  _doc  QLUWSYYBHhi0keru2720   7.959001        2303   \n",
              "12  new_index1  _doc  e7UWSYYBHhi0keru3MS_   7.959001        4154   \n",
              "13  new_index1  _doc  k7UWSYYBHhi0keru3cfZ   7.959001        4946   \n",
              "14  new_index1  _doc  m7UWSYYBHhi0keru3cfZ   7.959001        4954   \n",
              "15  new_index1  _doc  dLUWSYYBHhi0keru3MEx   7.709178        3379   \n",
              "16  new_index1  _doc  jLUWSYYBHhi0keru3MJo   7.709178        3659   \n",
              "17  new_index1  _doc  LLUWSYYBHhi0keru38uW   7.709178        5867   \n",
              "18  new_index1  _doc  tLUWSYYBHhi0keru2rjY   7.474562        1139   \n",
              "19  new_index1  _doc  5bUWSYYBHhi0keru27yz   7.474562        2212   \n",
              "\n",
              "                                     _source.longtext  \n",
              "0    sep how to build a simple neural network from...  \n",
              "1    sep an introduction to convolutional neural n...  \n",
              "2    sep neural networks training with approximate...  \n",
              "3    sep exploring how neural networks work and ma...  \n",
              "4    sep practical graph neural networks for molec...  \n",
              "5    sep neural network optimization sep covering ...  \n",
              "6    sep kohonen self organizing maps sep a specia...  \n",
              "7    sep finding the right architecture for neural...  \n",
              "8    sep evolution of graph neural networks for re...  \n",
              "9    sep is relu reluvant  sep questioning very ba...  \n",
              "10   sep feature importance with neural network se...  \n",
              "11   sep language translation with rnns sep build ...  \n",
              "12   sep colorizing images with a convolutional ne...  \n",
              "13   sep transformers sep transformers are a type ...  \n",
              "14   sep rosenblatt s perceptron  the very first n...  \n",
              "15   sep inference on the edge sep building a deep...  \n",
              "16   sep understanding backpropagation algorithm s...  \n",
              "17   sep the complete tensorflow tutorial for newb...  \n",
              "18   sep neural network for satellite data classif...  \n",
              "19   sep are deep learning models always the best ...  "
            ],
            "text/html": [
              "\n",
              "  <div id=\"df-2d93c568-bcf1-4743-b76a-eee922357a11\">\n",
              "    <div class=\"colab-df-container\">\n",
              "      <div>\n",
              "<style scoped>\n",
              "    .dataframe tbody tr th:only-of-type {\n",
              "        vertical-align: middle;\n",
              "    }\n",
              "\n",
              "    .dataframe tbody tr th {\n",
              "        vertical-align: top;\n",
              "    }\n",
              "\n",
              "    .dataframe thead th {\n",
              "        text-align: right;\n",
              "    }\n",
              "</style>\n",
              "<table border=\"1\" class=\"dataframe\">\n",
              "  <thead>\n",
              "    <tr style=\"text-align: right;\">\n",
              "      <th></th>\n",
              "      <th>_index</th>\n",
              "      <th>_type</th>\n",
              "      <th>_id</th>\n",
              "      <th>_score</th>\n",
              "      <th>_source.id</th>\n",
              "      <th>_source.longtext</th>\n",
              "    </tr>\n",
              "  </thead>\n",
              "  <tbody>\n",
              "    <tr>\n",
              "      <th>0</th>\n",
              "      <td>new_index1</td>\n",
              "      <td>_doc</td>\n",
              "      <td>JbUWSYYBHhi0keru38uW</td>\n",
              "      <td>11.091132</td>\n",
              "      <td>5860</td>\n",
              "      <td>sep how to build a simple neural network from...</td>\n",
              "    </tr>\n",
              "    <tr>\n",
              "      <th>1</th>\n",
              "      <td>new_index1</td>\n",
              "      <td>_doc</td>\n",
              "      <td>rbUWSYYBHhi0keru2775</td>\n",
              "      <td>10.660841</td>\n",
              "      <td>2668</td>\n",
              "      <td>sep an introduction to convolutional neural n...</td>\n",
              "    </tr>\n",
              "    <tr>\n",
              "      <th>2</th>\n",
              "      <td>new_index1</td>\n",
              "      <td>_doc</td>\n",
              "      <td>IbUWSYYBHhi0keru2ree</td>\n",
              "      <td>10.546149</td>\n",
              "      <td>736</td>\n",
              "      <td>sep neural networks training with approximate...</td>\n",
              "    </tr>\n",
              "    <tr>\n",
              "      <th>3</th>\n",
              "      <td>new_index1</td>\n",
              "      <td>_doc</td>\n",
              "      <td>FrUWSYYBHhi0keru2ree</td>\n",
              "      <td>9.416538</td>\n",
              "      <td>725</td>\n",
              "      <td>sep exploring how neural networks work and ma...</td>\n",
              "    </tr>\n",
              "    <tr>\n",
              "      <th>4</th>\n",
              "      <td>new_index1</td>\n",
              "      <td>_doc</td>\n",
              "      <td>hbUWSYYBHhi0keru3cbZ</td>\n",
              "      <td>9.359104</td>\n",
              "      <td>4676</td>\n",
              "      <td>sep practical graph neural networks for molec...</td>\n",
              "    </tr>\n",
              "    <tr>\n",
              "      <th>5</th>\n",
              "      <td>new_index1</td>\n",
              "      <td>_doc</td>\n",
              "      <td>UrUWSYYBHhi0keru4Mwo</td>\n",
              "      <td>9.144320</td>\n",
              "      <td>6161</td>\n",
              "      <td>sep neural network optimization sep covering ...</td>\n",
              "    </tr>\n",
              "    <tr>\n",
              "      <th>6</th>\n",
              "      <td>new_index1</td>\n",
              "      <td>_doc</td>\n",
              "      <td>ZrUWSYYBHhi0keru27oa</td>\n",
              "      <td>8.816080</td>\n",
              "      <td>1573</td>\n",
              "      <td>sep kohonen self organizing maps sep a specia...</td>\n",
              "    </tr>\n",
              "    <tr>\n",
              "      <th>7</th>\n",
              "      <td>new_index1</td>\n",
              "      <td>_doc</td>\n",
              "      <td>KrUWSYYBHhi0keru38uW</td>\n",
              "      <td>8.816080</td>\n",
              "      <td>5865</td>\n",
              "      <td>sep finding the right architecture for neural...</td>\n",
              "    </tr>\n",
              "    <tr>\n",
              "      <th>8</th>\n",
              "      <td>new_index1</td>\n",
              "      <td>_doc</td>\n",
              "      <td>JrUWSYYBHhi0keru3cfZ</td>\n",
              "      <td>8.771564</td>\n",
              "      <td>4837</td>\n",
              "      <td>sep evolution of graph neural networks for re...</td>\n",
              "    </tr>\n",
              "    <tr>\n",
              "      <th>9</th>\n",
              "      <td>new_index1</td>\n",
              "      <td>_doc</td>\n",
              "      <td>zrUWSYYBHhi0keru2rjY</td>\n",
              "      <td>8.510588</td>\n",
              "      <td>1165</td>\n",
              "      <td>sep is relu reluvant  sep questioning very ba...</td>\n",
              "    </tr>\n",
              "    <tr>\n",
              "      <th>10</th>\n",
              "      <td>new_index1</td>\n",
              "      <td>_doc</td>\n",
              "      <td>VrUWSYYBHhi0keru4Mwo</td>\n",
              "      <td>8.510588</td>\n",
              "      <td>6165</td>\n",
              "      <td>sep feature importance with neural network se...</td>\n",
              "    </tr>\n",
              "    <tr>\n",
              "      <th>11</th>\n",
              "      <td>new_index1</td>\n",
              "      <td>_doc</td>\n",
              "      <td>QLUWSYYBHhi0keru2720</td>\n",
              "      <td>7.959001</td>\n",
              "      <td>2303</td>\n",
              "      <td>sep language translation with rnns sep build ...</td>\n",
              "    </tr>\n",
              "    <tr>\n",
              "      <th>12</th>\n",
              "      <td>new_index1</td>\n",
              "      <td>_doc</td>\n",
              "      <td>e7UWSYYBHhi0keru3MS_</td>\n",
              "      <td>7.959001</td>\n",
              "      <td>4154</td>\n",
              "      <td>sep colorizing images with a convolutional ne...</td>\n",
              "    </tr>\n",
              "    <tr>\n",
              "      <th>13</th>\n",
              "      <td>new_index1</td>\n",
              "      <td>_doc</td>\n",
              "      <td>k7UWSYYBHhi0keru3cfZ</td>\n",
              "      <td>7.959001</td>\n",
              "      <td>4946</td>\n",
              "      <td>sep transformers sep transformers are a type ...</td>\n",
              "    </tr>\n",
              "    <tr>\n",
              "      <th>14</th>\n",
              "      <td>new_index1</td>\n",
              "      <td>_doc</td>\n",
              "      <td>m7UWSYYBHhi0keru3cfZ</td>\n",
              "      <td>7.959001</td>\n",
              "      <td>4954</td>\n",
              "      <td>sep rosenblatt s perceptron  the very first n...</td>\n",
              "    </tr>\n",
              "    <tr>\n",
              "      <th>15</th>\n",
              "      <td>new_index1</td>\n",
              "      <td>_doc</td>\n",
              "      <td>dLUWSYYBHhi0keru3MEx</td>\n",
              "      <td>7.709178</td>\n",
              "      <td>3379</td>\n",
              "      <td>sep inference on the edge sep building a deep...</td>\n",
              "    </tr>\n",
              "    <tr>\n",
              "      <th>16</th>\n",
              "      <td>new_index1</td>\n",
              "      <td>_doc</td>\n",
              "      <td>jLUWSYYBHhi0keru3MJo</td>\n",
              "      <td>7.709178</td>\n",
              "      <td>3659</td>\n",
              "      <td>sep understanding backpropagation algorithm s...</td>\n",
              "    </tr>\n",
              "    <tr>\n",
              "      <th>17</th>\n",
              "      <td>new_index1</td>\n",
              "      <td>_doc</td>\n",
              "      <td>LLUWSYYBHhi0keru38uW</td>\n",
              "      <td>7.709178</td>\n",
              "      <td>5867</td>\n",
              "      <td>sep the complete tensorflow tutorial for newb...</td>\n",
              "    </tr>\n",
              "    <tr>\n",
              "      <th>18</th>\n",
              "      <td>new_index1</td>\n",
              "      <td>_doc</td>\n",
              "      <td>tLUWSYYBHhi0keru2rjY</td>\n",
              "      <td>7.474562</td>\n",
              "      <td>1139</td>\n",
              "      <td>sep neural network for satellite data classif...</td>\n",
              "    </tr>\n",
              "    <tr>\n",
              "      <th>19</th>\n",
              "      <td>new_index1</td>\n",
              "      <td>_doc</td>\n",
              "      <td>5bUWSYYBHhi0keru27yz</td>\n",
              "      <td>7.474562</td>\n",
              "      <td>2212</td>\n",
              "      <td>sep are deep learning models always the best ...</td>\n",
              "    </tr>\n",
              "  </tbody>\n",
              "</table>\n",
              "</div>\n",
              "      <button class=\"colab-df-convert\" onclick=\"convertToInteractive('df-2d93c568-bcf1-4743-b76a-eee922357a11')\"\n",
              "              title=\"Convert this dataframe to an interactive table.\"\n",
              "              style=\"display:none;\">\n",
              "        \n",
              "  <svg xmlns=\"http://www.w3.org/2000/svg\" height=\"24px\"viewBox=\"0 0 24 24\"\n",
              "       width=\"24px\">\n",
              "    <path d=\"M0 0h24v24H0V0z\" fill=\"none\"/>\n",
              "    <path d=\"M18.56 5.44l.94 2.06.94-2.06 2.06-.94-2.06-.94-.94-2.06-.94 2.06-2.06.94zm-11 1L8.5 8.5l.94-2.06 2.06-.94-2.06-.94L8.5 2.5l-.94 2.06-2.06.94zm10 10l.94 2.06.94-2.06 2.06-.94-2.06-.94-.94-2.06-.94 2.06-2.06.94z\"/><path d=\"M17.41 7.96l-1.37-1.37c-.4-.4-.92-.59-1.43-.59-.52 0-1.04.2-1.43.59L10.3 9.45l-7.72 7.72c-.78.78-.78 2.05 0 2.83L4 21.41c.39.39.9.59 1.41.59.51 0 1.02-.2 1.41-.59l7.78-7.78 2.81-2.81c.8-.78.8-2.07 0-2.86zM5.41 20L4 18.59l7.72-7.72 1.47 1.35L5.41 20z\"/>\n",
              "  </svg>\n",
              "      </button>\n",
              "      \n",
              "  <style>\n",
              "    .colab-df-container {\n",
              "      display:flex;\n",
              "      flex-wrap:wrap;\n",
              "      gap: 12px;\n",
              "    }\n",
              "\n",
              "    .colab-df-convert {\n",
              "      background-color: #E8F0FE;\n",
              "      border: none;\n",
              "      border-radius: 50%;\n",
              "      cursor: pointer;\n",
              "      display: none;\n",
              "      fill: #1967D2;\n",
              "      height: 32px;\n",
              "      padding: 0 0 0 0;\n",
              "      width: 32px;\n",
              "    }\n",
              "\n",
              "    .colab-df-convert:hover {\n",
              "      background-color: #E2EBFA;\n",
              "      box-shadow: 0px 1px 2px rgba(60, 64, 67, 0.3), 0px 1px 3px 1px rgba(60, 64, 67, 0.15);\n",
              "      fill: #174EA6;\n",
              "    }\n",
              "\n",
              "    [theme=dark] .colab-df-convert {\n",
              "      background-color: #3B4455;\n",
              "      fill: #D2E3FC;\n",
              "    }\n",
              "\n",
              "    [theme=dark] .colab-df-convert:hover {\n",
              "      background-color: #434B5C;\n",
              "      box-shadow: 0px 1px 3px 1px rgba(0, 0, 0, 0.15);\n",
              "      filter: drop-shadow(0px 1px 2px rgba(0, 0, 0, 0.3));\n",
              "      fill: #FFFFFF;\n",
              "    }\n",
              "  </style>\n",
              "\n",
              "      <script>\n",
              "        const buttonEl =\n",
              "          document.querySelector('#df-2d93c568-bcf1-4743-b76a-eee922357a11 button.colab-df-convert');\n",
              "        buttonEl.style.display =\n",
              "          google.colab.kernel.accessAllowed ? 'block' : 'none';\n",
              "\n",
              "        async function convertToInteractive(key) {\n",
              "          const element = document.querySelector('#df-2d93c568-bcf1-4743-b76a-eee922357a11');\n",
              "          const dataTable =\n",
              "            await google.colab.kernel.invokeFunction('convertToInteractive',\n",
              "                                                     [key], {});\n",
              "          if (!dataTable) return;\n",
              "\n",
              "          const docLinkHtml = 'Like what you see? Visit the ' +\n",
              "            '<a target=\"_blank\" href=https://colab.research.google.com/notebooks/data_table.ipynb>data table notebook</a>'\n",
              "            + ' to learn more about interactive tables.';\n",
              "          element.innerHTML = '';\n",
              "          dataTable['output_type'] = 'display_data';\n",
              "          await google.colab.output.renderOutput(dataTable, element);\n",
              "          const docLink = document.createElement('div');\n",
              "          docLink.innerHTML = docLinkHtml;\n",
              "          element.appendChild(docLink);\n",
              "        }\n",
              "      </script>\n",
              "    </div>\n",
              "  </div>\n",
              "  "
            ]
          },
          "metadata": {},
          "execution_count": 48
        }
      ]
    },
    {
      "cell_type": "code",
      "source": [],
      "metadata": {
        "id": "4x--wS5PF018"
      },
      "execution_count": null,
      "outputs": []
    }
  ]
}