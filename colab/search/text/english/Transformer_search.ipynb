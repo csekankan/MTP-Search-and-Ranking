{
  "cells": [
    {
      "cell_type": "markdown",
      "metadata": {
        "id": "uGRD8a9sKacB"
      },
      "source": [
        "### Setup and Load dataset\n",
        "\n"
      ],
      "id": "uGRD8a9sKacB"
    },
    {
      "cell_type": "code",
      "source": [
        "!pip install --upgrade --no-cache-dir gdown"
      ],
      "metadata": {
        "colab": {
          "base_uri": "https://localhost:8080/"
        },
        "id": "C1r8Sraf7rPj",
        "outputId": "824edca7-2f2d-479f-f9c4-4c017fe99508"
      },
      "id": "C1r8Sraf7rPj",
      "execution_count": null,
      "outputs": [
        {
          "output_type": "stream",
          "name": "stdout",
          "text": [
            "Looking in indexes: https://pypi.org/simple, https://us-python.pkg.dev/colab-wheels/public/simple/\n",
            "Requirement already satisfied: gdown in /usr/local/lib/python3.8/dist-packages (4.6.0)\n",
            "Requirement already satisfied: beautifulsoup4 in /usr/local/lib/python3.8/dist-packages (from gdown) (4.6.3)\n",
            "Requirement already satisfied: six in /usr/local/lib/python3.8/dist-packages (from gdown) (1.15.0)\n",
            "Requirement already satisfied: filelock in /usr/local/lib/python3.8/dist-packages (from gdown) (3.9.0)\n",
            "Requirement already satisfied: tqdm in /usr/local/lib/python3.8/dist-packages (from gdown) (4.64.1)\n",
            "Requirement already satisfied: requests[socks] in /usr/local/lib/python3.8/dist-packages (from gdown) (2.25.1)\n",
            "Requirement already satisfied: idna<3,>=2.5 in /usr/local/lib/python3.8/dist-packages (from requests[socks]->gdown) (2.10)\n",
            "Requirement already satisfied: certifi>=2017.4.17 in /usr/local/lib/python3.8/dist-packages (from requests[socks]->gdown) (2022.12.7)\n",
            "Requirement already satisfied: chardet<5,>=3.0.2 in /usr/local/lib/python3.8/dist-packages (from requests[socks]->gdown) (4.0.0)\n",
            "Requirement already satisfied: urllib3<1.27,>=1.21.1 in /usr/local/lib/python3.8/dist-packages (from requests[socks]->gdown) (1.24.3)\n",
            "Requirement already satisfied: PySocks!=1.5.7,>=1.5.6 in /usr/local/lib/python3.8/dist-packages (from requests[socks]->gdown) (1.7.1)\n"
          ]
        }
      ]
    },
    {
      "cell_type": "code",
      "source": [
        "!gdown --id 15hmSSQBP0hPCJHrQRBjyfqd_bPU29Rwr"
      ],
      "metadata": {
        "id": "JN6L-XVUpDB3",
        "colab": {
          "base_uri": "https://localhost:8080/"
        },
        "outputId": "af7ba47e-6063-4eb1-8d33-1840d558d1f4"
      },
      "execution_count": null,
      "outputs": [
        {
          "output_type": "stream",
          "name": "stdout",
          "text": [
            "/usr/local/lib/python3.8/dist-packages/gdown/cli.py:121: FutureWarning: Option `--id` was deprecated in version 4.3.1 and will be removed in 5.0. You don't need to pass it anymore to use a file ID.\n",
            "  warnings.warn(\n",
            "Downloading...\n",
            "From: https://drive.google.com/uc?id=15hmSSQBP0hPCJHrQRBjyfqd_bPU29Rwr\n",
            "To: /content/MIND.zip\n",
            "100% 44.4M/44.4M [00:00<00:00, 50.7MB/s]\n"
          ]
        }
      ],
      "id": "JN6L-XVUpDB3"
    },
    {
      "cell_type": "code",
      "source": [
        "!unzip -o \"MIND.zip\"  -d  \"/content\""
      ],
      "metadata": {
        "id": "TtZEDi2_JS0Z",
        "colab": {
          "base_uri": "https://localhost:8080/"
        },
        "outputId": "8737ab47-25ac-4e52-a855-6ced9f1b4ff2"
      },
      "execution_count": null,
      "outputs": [
        {
          "output_type": "stream",
          "name": "stdout",
          "text": [
            "Archive:  MIND.zip\n",
            "  inflating: /content/MIND/behaviors.tsv  \n",
            "  inflating: /content/MIND/news.tsv  \n"
          ]
        }
      ],
      "id": "TtZEDi2_JS0Z"
    },
    {
      "cell_type": "markdown",
      "source": [
        "## Data Loading"
      ],
      "metadata": {
        "id": "HDz_Qe5KHFho"
      },
      "id": "HDz_Qe5KHFho"
    },
    {
      "cell_type": "code",
      "execution_count": null,
      "id": "84eddad3",
      "metadata": {
        "id": "84eddad3"
      },
      "outputs": [],
      "source": [
        "from datetime import datetime\n",
        "import os\n",
        "import matplotlib\n",
        "import pandas as pd\n",
        "import numpy as np\n",
        "import matplotlib.pyplot as plt\n",
        "import seaborn as sns\n",
        "sns.set_style('whitegrid')\n",
        "\n",
        "from scipy import sparse\n",
        "from scipy.sparse import csc_matrix\n",
        "from sklearn.decomposition import TruncatedSVD\n",
        "\n",
        "np.random.seed(0)"
      ]
    },
    {
      "cell_type": "markdown",
      "source": [
        "#### Name of the file which contain all the item properties"
      ],
      "metadata": {
        "id": "lHG3Yw4EHJbO"
      },
      "id": "lHG3Yw4EHJbO"
    },
    {
      "cell_type": "code",
      "source": [
        "file=\"MIND/news.tsv\""
      ],
      "metadata": {
        "id": "4zX5cx_NHQNv"
      },
      "id": "4zX5cx_NHQNv",
      "execution_count": null,
      "outputs": []
    },
    {
      "cell_type": "markdown",
      "source": [
        "###### Run below cell"
      ],
      "metadata": {
        "id": "r2ef3FxJHYkQ"
      },
      "id": "r2ef3FxJHYkQ"
    },
    {
      "cell_type": "code",
      "execution_count": null,
      "metadata": {
        "id": "7e7fee79"
      },
      "outputs": [],
      "source": [
        "content_df  = pd.read_table( 'MIND/news.tsv',\n",
        "            names=['newid', 'vertical', 'subvertical', 'title',\n",
        "                            'abstract', 'url', 'entities in title', 'entities in abstract'],\n",
        "                     usecols = ['newid','vertical', 'subvertical', 'title', 'abstract'])"
      ],
      "id": "7e7fee79"
    },
    {
      "cell_type": "code",
      "execution_count": null,
      "metadata": {
        "id": "af507f93"
      },
      "outputs": [],
      "source": [
        "content_df=content_df"
      ],
      "id": "af507f93"
    },
    {
      "cell_type": "markdown",
      "metadata": {
        "id": "sjJpU6lTGK51"
      },
      "source": [
        "## Details about dataset"
      ],
      "id": "sjJpU6lTGK51"
    },
    {
      "cell_type": "code",
      "source": [
        "itemid=\"newid\""
      ],
      "metadata": {
        "id": "4u2f4NWQa14z"
      },
      "id": "4u2f4NWQa14z",
      "execution_count": null,
      "outputs": []
    },
    {
      "cell_type": "code",
      "execution_count": null,
      "metadata": {
        "id": "LpnvsLU_U-7O"
      },
      "outputs": [],
      "source": [
        "features=['abstract']"
      ],
      "id": "LpnvsLU_U-7O"
    },
    {
      "cell_type": "markdown",
      "metadata": {
        "id": "D_UJlmcgZNBc"
      },
      "source": [
        "# Setup"
      ],
      "id": "D_UJlmcgZNBc"
    },
    {
      "cell_type": "code",
      "source": [
        "!pip install sentence_transformers "
      ],
      "metadata": {
        "id": "Nsg4OkCqt80K",
        "colab": {
          "base_uri": "https://localhost:8080/"
        },
        "outputId": "b7685ebb-e474-4e1a-cb7f-e57e936d87be"
      },
      "id": "Nsg4OkCqt80K",
      "execution_count": null,
      "outputs": [
        {
          "output_type": "stream",
          "name": "stdout",
          "text": [
            "Looking in indexes: https://pypi.org/simple, https://us-python.pkg.dev/colab-wheels/public/simple/\n",
            "Requirement already satisfied: sentence_transformers in /usr/local/lib/python3.8/dist-packages (2.2.2)\n",
            "Requirement already satisfied: numpy in /usr/local/lib/python3.8/dist-packages (from sentence_transformers) (1.21.6)\n",
            "Requirement already satisfied: transformers<5.0.0,>=4.6.0 in /usr/local/lib/python3.8/dist-packages (from sentence_transformers) (4.26.0)\n",
            "Requirement already satisfied: torchvision in /usr/local/lib/python3.8/dist-packages (from sentence_transformers) (0.14.1+cu116)\n",
            "Requirement already satisfied: sentencepiece in /usr/local/lib/python3.8/dist-packages (from sentence_transformers) (0.1.97)\n",
            "Requirement already satisfied: tqdm in /usr/local/lib/python3.8/dist-packages (from sentence_transformers) (4.64.1)\n",
            "Requirement already satisfied: nltk in /usr/local/lib/python3.8/dist-packages (from sentence_transformers) (3.7)\n",
            "Requirement already satisfied: scikit-learn in /usr/local/lib/python3.8/dist-packages (from sentence_transformers) (1.0.2)\n",
            "Requirement already satisfied: scipy in /usr/local/lib/python3.8/dist-packages (from sentence_transformers) (1.7.3)\n",
            "Requirement already satisfied: huggingface-hub>=0.4.0 in /usr/local/lib/python3.8/dist-packages (from sentence_transformers) (0.12.0)\n",
            "Requirement already satisfied: torch>=1.6.0 in /usr/local/lib/python3.8/dist-packages (from sentence_transformers) (1.13.1+cu116)\n",
            "Requirement already satisfied: filelock in /usr/local/lib/python3.8/dist-packages (from huggingface-hub>=0.4.0->sentence_transformers) (3.9.0)\n",
            "Requirement already satisfied: pyyaml>=5.1 in /usr/local/lib/python3.8/dist-packages (from huggingface-hub>=0.4.0->sentence_transformers) (6.0)\n",
            "Requirement already satisfied: requests in /usr/local/lib/python3.8/dist-packages (from huggingface-hub>=0.4.0->sentence_transformers) (2.25.1)\n",
            "Requirement already satisfied: typing-extensions>=3.7.4.3 in /usr/local/lib/python3.8/dist-packages (from huggingface-hub>=0.4.0->sentence_transformers) (4.4.0)\n",
            "Requirement already satisfied: packaging>=20.9 in /usr/local/lib/python3.8/dist-packages (from huggingface-hub>=0.4.0->sentence_transformers) (23.0)\n",
            "Requirement already satisfied: regex!=2019.12.17 in /usr/local/lib/python3.8/dist-packages (from transformers<5.0.0,>=4.6.0->sentence_transformers) (2022.6.2)\n",
            "Requirement already satisfied: tokenizers!=0.11.3,<0.14,>=0.11.1 in /usr/local/lib/python3.8/dist-packages (from transformers<5.0.0,>=4.6.0->sentence_transformers) (0.13.2)\n",
            "Requirement already satisfied: click in /usr/local/lib/python3.8/dist-packages (from nltk->sentence_transformers) (7.1.2)\n",
            "Requirement already satisfied: joblib in /usr/local/lib/python3.8/dist-packages (from nltk->sentence_transformers) (1.2.0)\n",
            "Requirement already satisfied: threadpoolctl>=2.0.0 in /usr/local/lib/python3.8/dist-packages (from scikit-learn->sentence_transformers) (3.1.0)\n",
            "Requirement already satisfied: pillow!=8.3.*,>=5.3.0 in /usr/local/lib/python3.8/dist-packages (from torchvision->sentence_transformers) (7.1.2)\n",
            "Requirement already satisfied: certifi>=2017.4.17 in /usr/local/lib/python3.8/dist-packages (from requests->huggingface-hub>=0.4.0->sentence_transformers) (2022.12.7)\n",
            "Requirement already satisfied: urllib3<1.27,>=1.21.1 in /usr/local/lib/python3.8/dist-packages (from requests->huggingface-hub>=0.4.0->sentence_transformers) (1.24.3)\n",
            "Requirement already satisfied: chardet<5,>=3.0.2 in /usr/local/lib/python3.8/dist-packages (from requests->huggingface-hub>=0.4.0->sentence_transformers) (4.0.0)\n",
            "Requirement already satisfied: idna<3,>=2.5 in /usr/local/lib/python3.8/dist-packages (from requests->huggingface-hub>=0.4.0->sentence_transformers) (2.10)\n"
          ]
        }
      ]
    },
    {
      "cell_type": "code",
      "source": [
        "content_df['NewTag']=\"\"\n",
        "for i in features:\n",
        "  content_df['NewTag']+=(\" \"+content_df[i])\n",
        "content_df['NewTag']=content_df['NewTag'].astype(str)"
      ],
      "metadata": {
        "id": "QxJnf-lrLdm2"
      },
      "id": "QxJnf-lrLdm2",
      "execution_count": null,
      "outputs": []
    },
    {
      "cell_type": "code",
      "source": [
        "import nltk\n",
        "nltk.download('stopwords')\n",
        "nltk.download('punkt')\n",
        "nltk.download('wordnet')\n",
        "nltk.download('omw-1.4')"
      ],
      "metadata": {
        "colab": {
          "base_uri": "https://localhost:8080/"
        },
        "id": "DJ5l6HbYvKHi",
        "outputId": "4c80a76b-522c-4c81-907e-a000d474fc01"
      },
      "id": "DJ5l6HbYvKHi",
      "execution_count": null,
      "outputs": [
        {
          "output_type": "stream",
          "name": "stderr",
          "text": [
            "[nltk_data] Downloading package stopwords to /root/nltk_data...\n",
            "[nltk_data]   Package stopwords is already up-to-date!\n",
            "[nltk_data] Downloading package punkt to /root/nltk_data...\n",
            "[nltk_data]   Package punkt is already up-to-date!\n",
            "[nltk_data] Downloading package wordnet to /root/nltk_data...\n",
            "[nltk_data]   Package wordnet is already up-to-date!\n",
            "[nltk_data] Downloading package omw-1.4 to /root/nltk_data...\n",
            "[nltk_data]   Package omw-1.4 is already up-to-date!\n"
          ]
        },
        {
          "output_type": "execute_result",
          "data": {
            "text/plain": [
              "True"
            ]
          },
          "metadata": {},
          "execution_count": 106
        }
      ]
    },
    {
      "cell_type": "code",
      "source": [
        "from nltk.stem import WordNetLemmatizer\n",
        "from nltk.corpus import stopwords\n",
        "from nltk.tokenize import word_tokenize\n",
        "import re"
      ],
      "metadata": {
        "id": "VAXhYHfLuugD"
      },
      "id": "VAXhYHfLuugD",
      "execution_count": null,
      "outputs": []
    },
    {
      "cell_type": "code",
      "source": [
        "def clean_text(text):\n",
        "    \n",
        "    text = text.lower()  # lowercase text\n",
        "    # replace the matched string with ' '\n",
        "    text = re.sub( re.compile(\"\\'s\"), ' ', text)\n",
        "    text = re.sub(re.compile(\"\\\\r\\\\n\"), ' ', text)\n",
        "    text = re.sub(re.compile(r\"[^\\w\\s]\"), ' ', text)\n",
        "    return text"
      ],
      "metadata": {
        "id": "hZ8HmiLbukp6"
      },
      "id": "hZ8HmiLbukp6",
      "execution_count": null,
      "outputs": []
    },
    {
      "cell_type": "code",
      "source": [
        "stopwords=set(stopwords.words('english'))"
      ],
      "metadata": {
        "id": "SZqqCS7ZvF1a"
      },
      "id": "SZqqCS7ZvF1a",
      "execution_count": null,
      "outputs": []
    },
    {
      "cell_type": "code",
      "source": [
        "def tokenizer(sentence, min_words=4, max_words=200, stopwords=stopwords, lemmatize=True):\n",
        "    \n",
        "    if lemmatize:\n",
        "        stemmer = WordNetLemmatizer()\n",
        "        tokens = [stemmer.lemmatize(w) for w in word_tokenize(sentence)]\n",
        "    else:\n",
        "        tokens = [w for w in word_tokenize(sentence)]\n",
        "    token = [w for w in tokens if (len(w) > min_words and len(w) < max_words\n",
        "                                                        and w not in stopwords)]\n",
        "    return tokens    "
      ],
      "metadata": {
        "id": "pZnlWqy4u_2U"
      },
      "id": "pZnlWqy4u_2U",
      "execution_count": null,
      "outputs": []
    },
    {
      "cell_type": "code",
      "source": [
        "content_df['clean'] = content_df['NewTag'].apply(clean_text)\n",
        "content_df['token_lem_sentence'] = content_df['clean'].apply(\n",
        "        lambda x: tokenizer(x))"
      ],
      "metadata": {
        "id": "HDh1rTXeuKzi"
      },
      "id": "HDh1rTXeuKzi",
      "execution_count": null,
      "outputs": []
    },
    {
      "cell_type": "markdown",
      "source": [
        "# Transformer"
      ],
      "metadata": {
        "id": "hU28x83Sv_OC"
      },
      "id": "hU28x83Sv_OC"
    },
    {
      "cell_type": "code",
      "source": [
        "from sentence_transformers import SentenceTransformer, util\n",
        "import torch\n"
      ],
      "metadata": {
        "id": "i_kKA8LOwEHJ"
      },
      "id": "i_kKA8LOwEHJ",
      "execution_count": null,
      "outputs": []
    },
    {
      "cell_type": "code",
      "source": [
        "model = SentenceTransformer('paraphrase-MiniLM-L6-v2')\n",
        "corpus_embeddings = model.encode(content_df.clean.values, convert_to_tensor=True)\n"
      ],
      "metadata": {
        "id": "jrcVFrA3wAtI"
      },
      "id": "jrcVFrA3wAtI",
      "execution_count": null,
      "outputs": []
    },
    {
      "cell_type": "markdown",
      "source": [
        "# Search"
      ],
      "metadata": {
        "id": "K0X5La0ccsUW"
      },
      "id": "K0X5La0ccsUW"
    },
    {
      "cell_type": "code",
      "source": [
        "query=\"Shop the notebooks, jackets\""
      ],
      "metadata": {
        "id": "dL24DWoPwaM5"
      },
      "id": "dL24DWoPwaM5",
      "execution_count": null,
      "outputs": []
    },
    {
      "cell_type": "code",
      "source": [
        "query_embedding = model.encode(query, convert_to_tensor=True)\n",
        "\n",
        "# We use cosine-similarity and torch.topk to find the highest 3 scores\n",
        "cos_scores = util.pytorch_cos_sim(query_embedding, corpus_embeddings)[0]\n",
        "top_results = torch.topk(cos_scores, k=10)"
      ],
      "metadata": {
        "id": "ZXMnmRwmwIya"
      },
      "id": "ZXMnmRwmwIya",
      "execution_count": null,
      "outputs": []
    },
    {
      "cell_type": "code",
      "execution_count": null,
      "metadata": {
        "id": "54a7e34c"
      },
      "outputs": [],
      "source": [
        "recommedations_list=[]\n",
        "for score, idx in zip(top_results[0], top_results[1]):\n",
        "    score = score.cpu().data.numpy() \n",
        "    idx = idx.cpu().data.numpy()\n",
        "    recommedations_list.append(content_df[[itemid]].iloc[idx][0])"
      ],
      "id": "54a7e34c"
    },
    {
      "cell_type": "code",
      "source": [
        "content_df[content_df[itemid].isin(recommedations_list)]"
      ],
      "metadata": {
        "id": "72El_cf3crMr",
        "colab": {
          "base_uri": "https://localhost:8080/",
          "height": 1000
        },
        "outputId": "46e1ac6c-f370-439d-bd5f-0704bcd65635"
      },
      "execution_count": null,
      "outputs": [
        {
          "output_type": "execute_result",
          "data": {
            "text/plain": [
              "        newid      vertical             subvertical  \\\n",
              "0      N55528     lifestyle         lifestyleroyals   \n",
              "535    N44067     lifestyle           shop-holidays   \n",
              "3236   N65016     lifestyle      lifestylehoroscope   \n",
              "4873    N5954        sports            football_nfl   \n",
              "5274   N54857         autos        autosenthusiasts   \n",
              "5319   N34234     lifestyle        lifestylefashion   \n",
              "5671    N1578     lifestyle           shop-holidays   \n",
              "7594   N44785  foodanddrink              newstrends   \n",
              "19685  N24061     lifestyle  lifestylehomeandgarden   \n",
              "46764  N43016       finance       finance-savemoney   \n",
              "\n",
              "                                                                                           title  \\\n",
              "0                         The Brands Queen Elizabeth, Prince Charles, and Prince Philip Swear By   \n",
              "535                                                     Shop 40 Creative Gifts for Mom on Amazon   \n",
              "3236                                                           What's In Each Zodiac Sign's Bag?   \n",
              "4873                                    Worthington, Minn., schools a test of immigration policy   \n",
              "5274                                                    Exclusive Access: Hut Garage of Thailand   \n",
              "5319               6 things you should never buy secondhand, according to a professional stylist   \n",
              "5671                            You Can Actually Shop Walmart's Pre-Black Friday Sales Right Now   \n",
              "7594   Everything You Need For Holiday Baking Is In This Line And It's All Less Than $30 A Piece   \n",
              "19685                                           25 Beautiful Bookcases You'll Want in Your House   \n",
              "46764                                   Online Shopping Secrets Retailers Don't Want You To Know   \n",
              "\n",
              "                                                                                                                                                                                                                                                                                                                                                                                                         abstract  \\\n",
              "0                                                                                                                                                                                                                                                                                                                                       Shop the notebooks, jackets, and more that the royals can't live without.   \n",
              "535                                                                                                                                                                                                                                                                                                                   Shop these self-care friendly finds, plus info on how to hide your tracks after you browse.   \n",
              "3236                                                                                                                                                                                                                                                                                                                                                What are the belongings that can be found in your sign's bag?   \n",
              "4873   Worthington, Minn.   As students grab their bags and stream out of the science classroom at Worthington High School, Ellen Baker-Merrigan packs up, too. She gathers notes, student papers, pens and markers, and loads them onto a two-shelf cart. Then she trundles down the hall to her desk in the old storage room she shares with two other teachers. Boxes of books line the wall under a metal ...   \n",
              "5274                                                                                                                                                                                                                                                                                                          Let's make one thing abundantly clear: This is one man's personal collection and not a tuning shop.   \n",
              "5319                                                                                                                                                                                                                                                                   From fake designer pieces to clothes that need major alterations, leave these things on the rack during your next thrift store expedition.   \n",
              "5671                                                                                                                                                                                                                                                                                                                                                   Right now you can save on clothing, electronics, and more.   \n",
              "7594                                                                                                                                                                                                                                                                                                                                                                                Shop Delish Essentials today!   \n",
              "19685                                                                                                                                                                                                                                                                                                                                    Add storage and style with one of these amazing bookcases for your home.   \n",
              "46764                                                                                                                                                                                                                                                                                                                                                         Use these hacks to save every time you shop online.   \n",
              "\n",
              "                                                                                                                                                                                                                                                                                                                                                                                                            NewTag  \\\n",
              "0                                                                                                                                                                                                                                                                                                                                        Shop the notebooks, jackets, and more that the royals can't live without.   \n",
              "535                                                                                                                                                                                                                                                                                                                    Shop these self-care friendly finds, plus info on how to hide your tracks after you browse.   \n",
              "3236                                                                                                                                                                                                                                                                                                                                                 What are the belongings that can be found in your sign's bag?   \n",
              "4873    Worthington, Minn.   As students grab their bags and stream out of the science classroom at Worthington High School, Ellen Baker-Merrigan packs up, too. She gathers notes, student papers, pens and markers, and loads them onto a two-shelf cart. Then she trundles down the hall to her desk in the old storage room she shares with two other teachers. Boxes of books line the wall under a metal ...   \n",
              "5274                                                                                                                                                                                                                                                                                                           Let's make one thing abundantly clear: This is one man's personal collection and not a tuning shop.   \n",
              "5319                                                                                                                                                                                                                                                                    From fake designer pieces to clothes that need major alterations, leave these things on the rack during your next thrift store expedition.   \n",
              "5671                                                                                                                                                                                                                                                                                                                                                    Right now you can save on clothing, electronics, and more.   \n",
              "7594                                                                                                                                                                                                                                                                                                                                                                                 Shop Delish Essentials today!   \n",
              "19685                                                                                                                                                                                                                                                                                                                                     Add storage and style with one of these amazing bookcases for your home.   \n",
              "46764                                                                                                                                                                                                                                                                                                                                                          Use these hacks to save every time you shop online.   \n",
              "\n",
              "                                                                                                                                                                                                                                                                                                                                                                                                             clean  \\\n",
              "0                                                                                                                                                                                                                                                                                                                                        shop the notebooks  jackets  and more that the royals can t live without    \n",
              "535                                                                                                                                                                                                                                                                                                                    shop these self care friendly finds  plus info on how to hide your tracks after you browse    \n",
              "3236                                                                                                                                                                                                                                                                                                                                                  what are the belongings that can be found in your sign  bag    \n",
              "4873    worthington  minn    as students grab their bags and stream out of the science classroom at worthington high school  ellen baker merrigan packs up  too  she gathers notes  student papers  pens and markers  and loads them onto a two shelf cart  then she trundles down the hall to her desk in the old storage room she shares with two other teachers  boxes of books line the wall under a metal       \n",
              "5274                                                                                                                                                                                                                                                                                                             let  make one thing abundantly clear  this is one man  personal collection and not a tuning shop    \n",
              "5319                                                                                                                                                                                                                                                                    from fake designer pieces to clothes that need major alterations  leave these things on the rack during your next thrift store expedition    \n",
              "5671                                                                                                                                                                                                                                                                                                                                                    right now you can save on clothing  electronics  and more    \n",
              "7594                                                                                                                                                                                                                                                                                                                                                                                 shop delish essentials today    \n",
              "19685                                                                                                                                                                                                                                                                                                                                     add storage and style with one of these amazing bookcases for your home    \n",
              "46764                                                                                                                                                                                                                                                                                                                                                          use these hacks to save every time you shop online    \n",
              "\n",
              "                                                                                                                                                                                                                                                                                                                                                                                                                                     token_lem_sentence  \n",
              "0                                                                                                                                                                                                                                                                                                                                                                     [shop, the, notebook, jacket, and, more, that, the, royal, can, t, live, without]  \n",
              "535                                                                                                                                                                                                                                                                                                                                           [shop, these, self, care, friendly, find, plus, info, on, how, to, hide, your, track, after, you, browse]  \n",
              "3236                                                                                                                                                                                                                                                                                                                                                                             [what, are, the, belonging, that, can, be, found, in, your, sign, bag]  \n",
              "4873   [worthington, minn, a, student, grab, their, bag, and, stream, out, of, the, science, classroom, at, worthington, high, school, ellen, baker, merrigan, pack, up, too, she, gather, note, student, paper, pen, and, marker, and, load, them, onto, a, two, shelf, cart, then, she, trundle, down, the, hall, to, her, desk, in, the, old, storage, room, she, share, with, two, other, teacher, box, of, book, line, the, wall, under, a, metal]  \n",
              "5274                                                                                                                                                                                                                                                                                                                                    [let, make, one, thing, abundantly, clear, this, is, one, man, personal, collection, and, not, a, tuning, shop]  \n",
              "5319                                                                                                                                                                                                                                                                                       [from, fake, designer, piece, to, clothes, that, need, major, alteration, leave, these, thing, on, the, rack, during, your, next, thrift, store, expedition]  \n",
              "5671                                                                                                                                                                                                                                                                                                                                                                                 [right, now, you, can, save, on, clothing, electronics, and, more]  \n",
              "7594                                                                                                                                                                                                                                                                                                                                                                                                                   [shop, delish, essential, today]  \n",
              "19685                                                                                                                                                                                                                                                                                                                                                              [add, storage, and, style, with, one, of, these, amazing, bookcase, for, your, home]  \n",
              "46764                                                                                                                                                                                                                                                                                                                                                                                      [use, these, hack, to, save, every, time, you, shop, online]  "
            ],
            "text/html": [
              "\n",
              "  <div id=\"df-9b003321-55a3-435c-881b-2af11cc91af6\">\n",
              "    <div class=\"colab-df-container\">\n",
              "      <div>\n",
              "<style scoped>\n",
              "    .dataframe tbody tr th:only-of-type {\n",
              "        vertical-align: middle;\n",
              "    }\n",
              "\n",
              "    .dataframe tbody tr th {\n",
              "        vertical-align: top;\n",
              "    }\n",
              "\n",
              "    .dataframe thead th {\n",
              "        text-align: right;\n",
              "    }\n",
              "</style>\n",
              "<table border=\"1\" class=\"dataframe\">\n",
              "  <thead>\n",
              "    <tr style=\"text-align: right;\">\n",
              "      <th></th>\n",
              "      <th>newid</th>\n",
              "      <th>vertical</th>\n",
              "      <th>subvertical</th>\n",
              "      <th>title</th>\n",
              "      <th>abstract</th>\n",
              "      <th>NewTag</th>\n",
              "      <th>clean</th>\n",
              "      <th>token_lem_sentence</th>\n",
              "    </tr>\n",
              "  </thead>\n",
              "  <tbody>\n",
              "    <tr>\n",
              "      <th>0</th>\n",
              "      <td>N55528</td>\n",
              "      <td>lifestyle</td>\n",
              "      <td>lifestyleroyals</td>\n",
              "      <td>The Brands Queen Elizabeth, Prince Charles, and Prince Philip Swear By</td>\n",
              "      <td>Shop the notebooks, jackets, and more that the royals can't live without.</td>\n",
              "      <td>Shop the notebooks, jackets, and more that the royals can't live without.</td>\n",
              "      <td>shop the notebooks  jackets  and more that the royals can t live without</td>\n",
              "      <td>[shop, the, notebook, jacket, and, more, that, the, royal, can, t, live, without]</td>\n",
              "    </tr>\n",
              "    <tr>\n",
              "      <th>535</th>\n",
              "      <td>N44067</td>\n",
              "      <td>lifestyle</td>\n",
              "      <td>shop-holidays</td>\n",
              "      <td>Shop 40 Creative Gifts for Mom on Amazon</td>\n",
              "      <td>Shop these self-care friendly finds, plus info on how to hide your tracks after you browse.</td>\n",
              "      <td>Shop these self-care friendly finds, plus info on how to hide your tracks after you browse.</td>\n",
              "      <td>shop these self care friendly finds  plus info on how to hide your tracks after you browse</td>\n",
              "      <td>[shop, these, self, care, friendly, find, plus, info, on, how, to, hide, your, track, after, you, browse]</td>\n",
              "    </tr>\n",
              "    <tr>\n",
              "      <th>3236</th>\n",
              "      <td>N65016</td>\n",
              "      <td>lifestyle</td>\n",
              "      <td>lifestylehoroscope</td>\n",
              "      <td>What's In Each Zodiac Sign's Bag?</td>\n",
              "      <td>What are the belongings that can be found in your sign's bag?</td>\n",
              "      <td>What are the belongings that can be found in your sign's bag?</td>\n",
              "      <td>what are the belongings that can be found in your sign  bag</td>\n",
              "      <td>[what, are, the, belonging, that, can, be, found, in, your, sign, bag]</td>\n",
              "    </tr>\n",
              "    <tr>\n",
              "      <th>4873</th>\n",
              "      <td>N5954</td>\n",
              "      <td>sports</td>\n",
              "      <td>football_nfl</td>\n",
              "      <td>Worthington, Minn., schools a test of immigration policy</td>\n",
              "      <td>Worthington, Minn.   As students grab their bags and stream out of the science classroom at Worthington High School, Ellen Baker-Merrigan packs up, too. She gathers notes, student papers, pens and markers, and loads them onto a two-shelf cart. Then she trundles down the hall to her desk in the old storage room she shares with two other teachers. Boxes of books line the wall under a metal ...</td>\n",
              "      <td>Worthington, Minn.   As students grab their bags and stream out of the science classroom at Worthington High School, Ellen Baker-Merrigan packs up, too. She gathers notes, student papers, pens and markers, and loads them onto a two-shelf cart. Then she trundles down the hall to her desk in the old storage room she shares with two other teachers. Boxes of books line the wall under a metal ...</td>\n",
              "      <td>worthington  minn    as students grab their bags and stream out of the science classroom at worthington high school  ellen baker merrigan packs up  too  she gathers notes  student papers  pens and markers  and loads them onto a two shelf cart  then she trundles down the hall to her desk in the old storage room she shares with two other teachers  boxes of books line the wall under a metal</td>\n",
              "      <td>[worthington, minn, a, student, grab, their, bag, and, stream, out, of, the, science, classroom, at, worthington, high, school, ellen, baker, merrigan, pack, up, too, she, gather, note, student, paper, pen, and, marker, and, load, them, onto, a, two, shelf, cart, then, she, trundle, down, the, hall, to, her, desk, in, the, old, storage, room, she, share, with, two, other, teacher, box, of, book, line, the, wall, under, a, metal]</td>\n",
              "    </tr>\n",
              "    <tr>\n",
              "      <th>5274</th>\n",
              "      <td>N54857</td>\n",
              "      <td>autos</td>\n",
              "      <td>autosenthusiasts</td>\n",
              "      <td>Exclusive Access: Hut Garage of Thailand</td>\n",
              "      <td>Let's make one thing abundantly clear: This is one man's personal collection and not a tuning shop.</td>\n",
              "      <td>Let's make one thing abundantly clear: This is one man's personal collection and not a tuning shop.</td>\n",
              "      <td>let  make one thing abundantly clear  this is one man  personal collection and not a tuning shop</td>\n",
              "      <td>[let, make, one, thing, abundantly, clear, this, is, one, man, personal, collection, and, not, a, tuning, shop]</td>\n",
              "    </tr>\n",
              "    <tr>\n",
              "      <th>5319</th>\n",
              "      <td>N34234</td>\n",
              "      <td>lifestyle</td>\n",
              "      <td>lifestylefashion</td>\n",
              "      <td>6 things you should never buy secondhand, according to a professional stylist</td>\n",
              "      <td>From fake designer pieces to clothes that need major alterations, leave these things on the rack during your next thrift store expedition.</td>\n",
              "      <td>From fake designer pieces to clothes that need major alterations, leave these things on the rack during your next thrift store expedition.</td>\n",
              "      <td>from fake designer pieces to clothes that need major alterations  leave these things on the rack during your next thrift store expedition</td>\n",
              "      <td>[from, fake, designer, piece, to, clothes, that, need, major, alteration, leave, these, thing, on, the, rack, during, your, next, thrift, store, expedition]</td>\n",
              "    </tr>\n",
              "    <tr>\n",
              "      <th>5671</th>\n",
              "      <td>N1578</td>\n",
              "      <td>lifestyle</td>\n",
              "      <td>shop-holidays</td>\n",
              "      <td>You Can Actually Shop Walmart's Pre-Black Friday Sales Right Now</td>\n",
              "      <td>Right now you can save on clothing, electronics, and more.</td>\n",
              "      <td>Right now you can save on clothing, electronics, and more.</td>\n",
              "      <td>right now you can save on clothing  electronics  and more</td>\n",
              "      <td>[right, now, you, can, save, on, clothing, electronics, and, more]</td>\n",
              "    </tr>\n",
              "    <tr>\n",
              "      <th>7594</th>\n",
              "      <td>N44785</td>\n",
              "      <td>foodanddrink</td>\n",
              "      <td>newstrends</td>\n",
              "      <td>Everything You Need For Holiday Baking Is In This Line And It's All Less Than $30 A Piece</td>\n",
              "      <td>Shop Delish Essentials today!</td>\n",
              "      <td>Shop Delish Essentials today!</td>\n",
              "      <td>shop delish essentials today</td>\n",
              "      <td>[shop, delish, essential, today]</td>\n",
              "    </tr>\n",
              "    <tr>\n",
              "      <th>19685</th>\n",
              "      <td>N24061</td>\n",
              "      <td>lifestyle</td>\n",
              "      <td>lifestylehomeandgarden</td>\n",
              "      <td>25 Beautiful Bookcases You'll Want in Your House</td>\n",
              "      <td>Add storage and style with one of these amazing bookcases for your home.</td>\n",
              "      <td>Add storage and style with one of these amazing bookcases for your home.</td>\n",
              "      <td>add storage and style with one of these amazing bookcases for your home</td>\n",
              "      <td>[add, storage, and, style, with, one, of, these, amazing, bookcase, for, your, home]</td>\n",
              "    </tr>\n",
              "    <tr>\n",
              "      <th>46764</th>\n",
              "      <td>N43016</td>\n",
              "      <td>finance</td>\n",
              "      <td>finance-savemoney</td>\n",
              "      <td>Online Shopping Secrets Retailers Don't Want You To Know</td>\n",
              "      <td>Use these hacks to save every time you shop online.</td>\n",
              "      <td>Use these hacks to save every time you shop online.</td>\n",
              "      <td>use these hacks to save every time you shop online</td>\n",
              "      <td>[use, these, hack, to, save, every, time, you, shop, online]</td>\n",
              "    </tr>\n",
              "  </tbody>\n",
              "</table>\n",
              "</div>\n",
              "      <button class=\"colab-df-convert\" onclick=\"convertToInteractive('df-9b003321-55a3-435c-881b-2af11cc91af6')\"\n",
              "              title=\"Convert this dataframe to an interactive table.\"\n",
              "              style=\"display:none;\">\n",
              "        \n",
              "  <svg xmlns=\"http://www.w3.org/2000/svg\" height=\"24px\"viewBox=\"0 0 24 24\"\n",
              "       width=\"24px\">\n",
              "    <path d=\"M0 0h24v24H0V0z\" fill=\"none\"/>\n",
              "    <path d=\"M18.56 5.44l.94 2.06.94-2.06 2.06-.94-2.06-.94-.94-2.06-.94 2.06-2.06.94zm-11 1L8.5 8.5l.94-2.06 2.06-.94-2.06-.94L8.5 2.5l-.94 2.06-2.06.94zm10 10l.94 2.06.94-2.06 2.06-.94-2.06-.94-.94-2.06-.94 2.06-2.06.94z\"/><path d=\"M17.41 7.96l-1.37-1.37c-.4-.4-.92-.59-1.43-.59-.52 0-1.04.2-1.43.59L10.3 9.45l-7.72 7.72c-.78.78-.78 2.05 0 2.83L4 21.41c.39.39.9.59 1.41.59.51 0 1.02-.2 1.41-.59l7.78-7.78 2.81-2.81c.8-.78.8-2.07 0-2.86zM5.41 20L4 18.59l7.72-7.72 1.47 1.35L5.41 20z\"/>\n",
              "  </svg>\n",
              "      </button>\n",
              "      \n",
              "  <style>\n",
              "    .colab-df-container {\n",
              "      display:flex;\n",
              "      flex-wrap:wrap;\n",
              "      gap: 12px;\n",
              "    }\n",
              "\n",
              "    .colab-df-convert {\n",
              "      background-color: #E8F0FE;\n",
              "      border: none;\n",
              "      border-radius: 50%;\n",
              "      cursor: pointer;\n",
              "      display: none;\n",
              "      fill: #1967D2;\n",
              "      height: 32px;\n",
              "      padding: 0 0 0 0;\n",
              "      width: 32px;\n",
              "    }\n",
              "\n",
              "    .colab-df-convert:hover {\n",
              "      background-color: #E2EBFA;\n",
              "      box-shadow: 0px 1px 2px rgba(60, 64, 67, 0.3), 0px 1px 3px 1px rgba(60, 64, 67, 0.15);\n",
              "      fill: #174EA6;\n",
              "    }\n",
              "\n",
              "    [theme=dark] .colab-df-convert {\n",
              "      background-color: #3B4455;\n",
              "      fill: #D2E3FC;\n",
              "    }\n",
              "\n",
              "    [theme=dark] .colab-df-convert:hover {\n",
              "      background-color: #434B5C;\n",
              "      box-shadow: 0px 1px 3px 1px rgba(0, 0, 0, 0.15);\n",
              "      filter: drop-shadow(0px 1px 2px rgba(0, 0, 0, 0.3));\n",
              "      fill: #FFFFFF;\n",
              "    }\n",
              "  </style>\n",
              "\n",
              "      <script>\n",
              "        const buttonEl =\n",
              "          document.querySelector('#df-9b003321-55a3-435c-881b-2af11cc91af6 button.colab-df-convert');\n",
              "        buttonEl.style.display =\n",
              "          google.colab.kernel.accessAllowed ? 'block' : 'none';\n",
              "\n",
              "        async function convertToInteractive(key) {\n",
              "          const element = document.querySelector('#df-9b003321-55a3-435c-881b-2af11cc91af6');\n",
              "          const dataTable =\n",
              "            await google.colab.kernel.invokeFunction('convertToInteractive',\n",
              "                                                     [key], {});\n",
              "          if (!dataTable) return;\n",
              "\n",
              "          const docLinkHtml = 'Like what you see? Visit the ' +\n",
              "            '<a target=\"_blank\" href=https://colab.research.google.com/notebooks/data_table.ipynb>data table notebook</a>'\n",
              "            + ' to learn more about interactive tables.';\n",
              "          element.innerHTML = '';\n",
              "          dataTable['output_type'] = 'display_data';\n",
              "          await google.colab.output.renderOutput(dataTable, element);\n",
              "          const docLink = document.createElement('div');\n",
              "          docLink.innerHTML = docLinkHtml;\n",
              "          element.appendChild(docLink);\n",
              "        }\n",
              "      </script>\n",
              "    </div>\n",
              "  </div>\n",
              "  "
            ]
          },
          "metadata": {},
          "execution_count": 117
        }
      ],
      "id": "72El_cf3crMr"
    },
    {
      "cell_type": "code",
      "source": [
        "pd.set_option('display.max_colwidth', None)\n",
        "content_df[content_df[itemid].isin(['N42317'])]"
      ],
      "metadata": {
        "colab": {
          "base_uri": "https://localhost:8080/",
          "height": 80
        },
        "id": "-q72FXG5FOM-",
        "outputId": "aa6e3fba-e4f7-4382-8274-4bddab2dec35"
      },
      "id": "-q72FXG5FOM-",
      "execution_count": null,
      "outputs": [
        {
          "output_type": "execute_result",
          "data": {
            "text/plain": [
              "      newid      vertical subvertical  \\\n",
              "993  N42317  foodanddrink    foodnews   \n",
              "\n",
              "                                                        title  \\\n",
              "993  All the Snacks Bon Appétit Staffers Stash at Their Desks   \n",
              "\n",
              "                  abstract                  NewTag                   clean  \\\n",
              "993  Will work for snacks.   Will work for snacks.   will work for snacks    \n",
              "\n",
              "           token_lem_sentence  \n",
              "993  [will, work, for, snack]  "
            ],
            "text/html": [
              "\n",
              "  <div id=\"df-9131212c-e254-44be-998f-fcc41293488b\">\n",
              "    <div class=\"colab-df-container\">\n",
              "      <div>\n",
              "<style scoped>\n",
              "    .dataframe tbody tr th:only-of-type {\n",
              "        vertical-align: middle;\n",
              "    }\n",
              "\n",
              "    .dataframe tbody tr th {\n",
              "        vertical-align: top;\n",
              "    }\n",
              "\n",
              "    .dataframe thead th {\n",
              "        text-align: right;\n",
              "    }\n",
              "</style>\n",
              "<table border=\"1\" class=\"dataframe\">\n",
              "  <thead>\n",
              "    <tr style=\"text-align: right;\">\n",
              "      <th></th>\n",
              "      <th>newid</th>\n",
              "      <th>vertical</th>\n",
              "      <th>subvertical</th>\n",
              "      <th>title</th>\n",
              "      <th>abstract</th>\n",
              "      <th>NewTag</th>\n",
              "      <th>clean</th>\n",
              "      <th>token_lem_sentence</th>\n",
              "    </tr>\n",
              "  </thead>\n",
              "  <tbody>\n",
              "    <tr>\n",
              "      <th>993</th>\n",
              "      <td>N42317</td>\n",
              "      <td>foodanddrink</td>\n",
              "      <td>foodnews</td>\n",
              "      <td>All the Snacks Bon Appétit Staffers Stash at Their Desks</td>\n",
              "      <td>Will work for snacks.</td>\n",
              "      <td>Will work for snacks.</td>\n",
              "      <td>will work for snacks</td>\n",
              "      <td>[will, work, for, snack]</td>\n",
              "    </tr>\n",
              "  </tbody>\n",
              "</table>\n",
              "</div>\n",
              "      <button class=\"colab-df-convert\" onclick=\"convertToInteractive('df-9131212c-e254-44be-998f-fcc41293488b')\"\n",
              "              title=\"Convert this dataframe to an interactive table.\"\n",
              "              style=\"display:none;\">\n",
              "        \n",
              "  <svg xmlns=\"http://www.w3.org/2000/svg\" height=\"24px\"viewBox=\"0 0 24 24\"\n",
              "       width=\"24px\">\n",
              "    <path d=\"M0 0h24v24H0V0z\" fill=\"none\"/>\n",
              "    <path d=\"M18.56 5.44l.94 2.06.94-2.06 2.06-.94-2.06-.94-.94-2.06-.94 2.06-2.06.94zm-11 1L8.5 8.5l.94-2.06 2.06-.94-2.06-.94L8.5 2.5l-.94 2.06-2.06.94zm10 10l.94 2.06.94-2.06 2.06-.94-2.06-.94-.94-2.06-.94 2.06-2.06.94z\"/><path d=\"M17.41 7.96l-1.37-1.37c-.4-.4-.92-.59-1.43-.59-.52 0-1.04.2-1.43.59L10.3 9.45l-7.72 7.72c-.78.78-.78 2.05 0 2.83L4 21.41c.39.39.9.59 1.41.59.51 0 1.02-.2 1.41-.59l7.78-7.78 2.81-2.81c.8-.78.8-2.07 0-2.86zM5.41 20L4 18.59l7.72-7.72 1.47 1.35L5.41 20z\"/>\n",
              "  </svg>\n",
              "      </button>\n",
              "      \n",
              "  <style>\n",
              "    .colab-df-container {\n",
              "      display:flex;\n",
              "      flex-wrap:wrap;\n",
              "      gap: 12px;\n",
              "    }\n",
              "\n",
              "    .colab-df-convert {\n",
              "      background-color: #E8F0FE;\n",
              "      border: none;\n",
              "      border-radius: 50%;\n",
              "      cursor: pointer;\n",
              "      display: none;\n",
              "      fill: #1967D2;\n",
              "      height: 32px;\n",
              "      padding: 0 0 0 0;\n",
              "      width: 32px;\n",
              "    }\n",
              "\n",
              "    .colab-df-convert:hover {\n",
              "      background-color: #E2EBFA;\n",
              "      box-shadow: 0px 1px 2px rgba(60, 64, 67, 0.3), 0px 1px 3px 1px rgba(60, 64, 67, 0.15);\n",
              "      fill: #174EA6;\n",
              "    }\n",
              "\n",
              "    [theme=dark] .colab-df-convert {\n",
              "      background-color: #3B4455;\n",
              "      fill: #D2E3FC;\n",
              "    }\n",
              "\n",
              "    [theme=dark] .colab-df-convert:hover {\n",
              "      background-color: #434B5C;\n",
              "      box-shadow: 0px 1px 3px 1px rgba(0, 0, 0, 0.15);\n",
              "      filter: drop-shadow(0px 1px 2px rgba(0, 0, 0, 0.3));\n",
              "      fill: #FFFFFF;\n",
              "    }\n",
              "  </style>\n",
              "\n",
              "      <script>\n",
              "        const buttonEl =\n",
              "          document.querySelector('#df-9131212c-e254-44be-998f-fcc41293488b button.colab-df-convert');\n",
              "        buttonEl.style.display =\n",
              "          google.colab.kernel.accessAllowed ? 'block' : 'none';\n",
              "\n",
              "        async function convertToInteractive(key) {\n",
              "          const element = document.querySelector('#df-9131212c-e254-44be-998f-fcc41293488b');\n",
              "          const dataTable =\n",
              "            await google.colab.kernel.invokeFunction('convertToInteractive',\n",
              "                                                     [key], {});\n",
              "          if (!dataTable) return;\n",
              "\n",
              "          const docLinkHtml = 'Like what you see? Visit the ' +\n",
              "            '<a target=\"_blank\" href=https://colab.research.google.com/notebooks/data_table.ipynb>data table notebook</a>'\n",
              "            + ' to learn more about interactive tables.';\n",
              "          element.innerHTML = '';\n",
              "          dataTable['output_type'] = 'display_data';\n",
              "          await google.colab.output.renderOutput(dataTable, element);\n",
              "          const docLink = document.createElement('div');\n",
              "          docLink.innerHTML = docLinkHtml;\n",
              "          element.appendChild(docLink);\n",
              "        }\n",
              "      </script>\n",
              "    </div>\n",
              "  </div>\n",
              "  "
            ]
          },
          "metadata": {},
          "execution_count": 119
        }
      ]
    }
  ],
  "metadata": {
    "kernelspec": {
      "display_name": "Python 3",
      "language": "python",
      "name": "python3"
    },
    "language_info": {
      "codemirror_mode": {
        "name": "ipython",
        "version": 3
      },
      "file_extension": ".py",
      "mimetype": "text/x-python",
      "name": "python",
      "nbconvert_exporter": "python",
      "pygments_lexer": "ipython3",
      "version": "3.6.5"
    },
    "colab": {
      "provenance": [],
      "machine_shape": "hm"
    },
    "gpuClass": "standard",
    "accelerator": "GPU"
  },
  "nbformat": 4,
  "nbformat_minor": 5
}